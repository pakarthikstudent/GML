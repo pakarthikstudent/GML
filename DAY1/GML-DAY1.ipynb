{
 "cells": [
  {
   "cell_type": "code",
   "execution_count": null,
   "id": "6e5fb01b-ca7b-4cfe-b269-97ce89b09ee9",
   "metadata": {},
   "outputs": [],
   "source": [
    "Python \n",
    "---------\n",
    "ML Libs - numpy pandas matplotlib scipy skitlean torch ...\n",
    "-------\n",
    "anaconda install - ML + DA Libs + GIL disabled \n",
    "----------------- ====================\n",
    "\n",
    "download python from python.org => cpython - we can do python program ...\n",
    "                                             pip install numpy\n",
    "                                             pip install pandas \n",
    "                                             ...\n",
    "                                             Multithreading - GIL enabled \n",
    "\n",
    "ipython\n",
    "jython\n",
    ".."
   ]
  },
  {
   "cell_type": "code",
   "execution_count": null,
   "id": "ffe237b2-7431-4cac-8845-64da77b1edaa",
   "metadata": {},
   "outputs": [],
   "source": [
    "python - class <--> object //design style\n",
    "           |        |_ real entity \n",
    "          Type\n",
    "int float str bool bytes NoneType list tuple dict set //native types \n",
    "\n",
    "    10 - class int\n",
    "    10.0 - class float\n",
    "    '10.0' - class str"
   ]
  },
  {
   "cell_type": "code",
   "execution_count": 1,
   "id": "36fc4d3c-28f7-4424-8821-ec6150d93cad",
   "metadata": {},
   "outputs": [
    {
     "name": "stdout",
     "output_type": "stream",
     "text": [
      "0x7ffe24845ad8 0x7ffe24845ad8 0x7ffe24845ad8 0x7ffe24845ad8 0x7ffe24845ad8\n"
     ]
    }
   ],
   "source": [
    "a = 10\n",
    "b = 3+7\n",
    "c = 4+6\n",
    "d = 2+8\n",
    "print(hex(id(a)),hex(id(b)),hex(id(c)),hex(id(d)),hex(id(10)))"
   ]
  },
  {
   "cell_type": "code",
   "execution_count": null,
   "id": "0e98d1d2-6166-4738-a085-47b1db0b8970",
   "metadata": {},
   "outputs": [],
   "source": [
    "Python programming\n",
    "- procedure style - direct approach style\n",
    "                    ------------------------\n",
    "                        var = 10\n",
    "                        def fx():\n",
    "                             ....\n",
    "                        fx() <== direct function call\n",
    "                        print(var) \n",
    "\n",
    "\n",
    "- object oriented style \n",
    "                        class className:\n",
    "                             ...\n",
    "                             def fx(self):\n",
    "                                  .....\n",
    "                        obj1 = className()\n",
    "                        obj1.var = 10  # object based initialization\n",
    "                        obj2.var = 10\n",
    "                        obj1.fx() # method call \n",
    "\n",
    "- Functional style  - Single line Code - this is not block style Code\n",
    "                    list(map(lambda <operation>,collection))"
   ]
  },
  {
   "cell_type": "code",
   "execution_count": 3,
   "id": "2f4369d4-32e3-494f-9009-2b6644c64b36",
   "metadata": {},
   "outputs": [
    {
     "data": {
      "text/plain": [
       "[101, 102, 103, 104, 105, 106, 107, 108, 109]"
      ]
     },
     "execution_count": 3,
     "metadata": {},
     "output_type": "execute_result"
    }
   ],
   "source": [
    "L = []\n",
    "\n",
    "def f1(a):\n",
    "    return a + 100\n",
    "\n",
    "for var in range(1,10):\n",
    "    r = f1(var)\n",
    "    L.append(r)\n",
    "\n",
    "L"
   ]
  },
  {
   "cell_type": "code",
   "execution_count": 5,
   "id": "4cff187c-cf62-4f84-8528-85cbee63c111",
   "metadata": {},
   "outputs": [
    {
     "data": {
      "text/plain": [
       "[101, 102, 103, 104, 105, 106, 107, 108, 109]"
      ]
     },
     "execution_count": 5,
     "metadata": {},
     "output_type": "execute_result"
    }
   ],
   "source": [
    "list(map(lambda a:a+100,range(1,10)))"
   ]
  },
  {
   "cell_type": "code",
   "execution_count": 7,
   "id": "f39d8364-0b08-44d6-8bd8-3900462a8e0a",
   "metadata": {},
   "outputs": [
    {
     "data": {
      "text/plain": [
       "{'K1': [101, 102, 103, 104, 105, 106, 107, 108, 109],\n",
       " 'K2': {'Kx': [101, 102, 103, 104, 105, 106, 107, 108, 109]}}"
      ]
     },
     "execution_count": 7,
     "metadata": {},
     "output_type": "execute_result"
    }
   ],
   "source": [
    "d={}\n",
    "d['K1']=list(map(lambda a:a+100,range(1,10)))\n",
    "d['K2']={'Kx':list(map(lambda a:a+100,range(1,10)))}\n",
    "d"
   ]
  },
  {
   "cell_type": "code",
   "execution_count": null,
   "id": "f80dce35-af42-4a09-891e-01a40d112d3f",
   "metadata": {},
   "outputs": [],
   "source": [
    "Python native types\n",
    "int float complex - numberbased \n",
    "          -------\n",
    "True False - bool \n",
    "None - NoneType\n",
    "\n",
    "Arithmetic - inputTypes (int,float) ->int,float\n",
    "String - inputType(int,str) -> str\n",
    "Relational - inputTypes( int,float,str) ->bool\n",
    "Logical  - inputTypes(int,float,str) ->bool\n",
    "Membership - inputTypes(str,bytes,list,tuple,dict,set) ->bool\n",
    " (in non in) \n",
    "identity  - class,object  ->bool\n",
    "is isnot  "
   ]
  },
  {
   "cell_type": "code",
   "execution_count": 19,
   "id": "a63aa851-17bd-4b0d-9ea0-66be8776fc80",
   "metadata": {},
   "outputs": [
    {
     "data": {
      "text/plain": [
       "True"
      ]
     },
     "execution_count": 19,
     "metadata": {},
     "output_type": "execute_result"
    }
   ],
   "source": [
    "a = 10\n",
    "type(a) is int"
   ]
  },
  {
   "cell_type": "code",
   "execution_count": 21,
   "id": "a58bd339-c261-49ed-b65d-e1c5b01dd7f0",
   "metadata": {},
   "outputs": [
    {
     "data": {
      "text/plain": [
       "True"
      ]
     },
     "execution_count": 21,
     "metadata": {},
     "output_type": "execute_result"
    }
   ],
   "source": [
    "type(10) is int"
   ]
  },
  {
   "cell_type": "code",
   "execution_count": 23,
   "id": "3262235c-585d-4654-96e1-4029c8aa8a0c",
   "metadata": {},
   "outputs": [
    {
     "data": {
      "text/plain": [
       "False"
      ]
     },
     "execution_count": 23,
     "metadata": {},
     "output_type": "execute_result"
    }
   ],
   "source": [
    "type(10.0) is int"
   ]
  },
  {
   "cell_type": "code",
   "execution_count": null,
   "id": "fc51698e-2874-424a-9529-6fbbc91034e2",
   "metadata": {},
   "outputs": [],
   "source": [
    "conditional statement - Code validation \n",
    "if statement \n",
    "Looping statement \n",
    "collection style - str bytes list tuples dict set - for keyword \n",
    "condition style  - based on bool ->True ->ok       - while keyword\n",
    "                                 ->False ->block won't execute\n",
    "\n",
    "Object oriented programming\n",
    "class \n",
    "object\n",
    "method\n",
    "   |->special methods \n",
    "   |->decorator \n",
    "inheritance \n",
    "\n",
    "Functional programming\n",
    "------------------------\n",
    "lambda \n",
    "comprehension\n",
    "generator \n",
    "map,filter,enumerate \n",
    "-----------------------------------------------------------\n",
    "networkx\n",
    "numpy ->pandas ->matplotlib -> pytorch ... \n",
    "nlp ->nlptk - embedding ...\n",
    "------------------------------------------------------------"
   ]
  },
  {
   "cell_type": "code",
   "execution_count": null,
   "id": "3c367060-6fff-431d-b5a1-51e1448cbee6",
   "metadata": {},
   "outputs": [],
   "source": [
    "class - type\n",
    "      - attributes\n",
    "      - mutable type - we can add new attribute; modifiy; delete \n",
    "Syntax:-\n",
    "---------\n",
    "class className:\n",
    "    <attribute>\n",
    "className.<attribute>    => AttributeError \n",
    "className.<existingAttribute>=updateValue\n",
    "del(className.<attribute>)\n",
    "\n",
    "     +-------------------------------+\n",
    "     |  [ ]   []         |   |       |   <== blueprint sheet  - class \n",
    "     |              (white)          |\n",
    "     +-------------------------------+\n",
    "\n",
    "className() # constructor - object creation\n",
    "+-----------------+    +--------------+\n",
    "|[] []      |   | |    |[][]     |   ||\n",
    "|   (white)       |    | (white)      |\n",
    "+-----------------+    +--------------+\n",
    "   Building-B1            Building-B2  - object\n",
    "    1st main                2nd main \n",
    "    0x1234                  0x3231"
   ]
  },
  {
   "cell_type": "code",
   "execution_count": 25,
   "id": "35a246b7-5009-4e94-801a-f93b269f59b5",
   "metadata": {},
   "outputs": [],
   "source": [
    "class enrollment:\n",
    "    name = ''\n",
    "    dob = ''\n",
    "    place = ''"
   ]
  },
  {
   "cell_type": "code",
   "execution_count": 27,
   "id": "779afcb0-6001-438d-8a0e-0e295d9576d6",
   "metadata": {},
   "outputs": [
    {
     "name": "stdout",
     "output_type": "stream",
     "text": [
      "<class 'type'>\n"
     ]
    }
   ],
   "source": [
    "print(type(enrollment))"
   ]
  },
  {
   "cell_type": "code",
   "execution_count": 31,
   "id": "6e3581d9-8431-4451-909b-9a05245199c6",
   "metadata": {},
   "outputs": [
    {
     "name": "stdout",
     "output_type": "stream",
     "text": [
      "<class 'type'> <class 'type'> <class 'type'> <class 'type'> <class 'type'>\n"
     ]
    }
   ],
   "source": [
    "print(type(int),type(float),type(list),type(bool),type(enrollment))"
   ]
  },
  {
   "cell_type": "code",
   "execution_count": 33,
   "id": "9cd5c58a-d21b-4377-9622-550515a764ac",
   "metadata": {},
   "outputs": [],
   "source": [
    "obj1 = enrollment()\n",
    "obj1.name = 'arun'\n",
    "obj1.dob = '1st Jan'\n",
    "obj1.place = 'City-1'\n",
    "\n",
    "obj2 = enrollment()\n",
    "obj2.name = 'anu'\n",
    "obj2.dob = '2nd Feb'\n",
    "obj2.place = 'City-2'"
   ]
  },
  {
   "cell_type": "code",
   "execution_count": 35,
   "id": "5b493c21-d3c2-43b7-97f3-c171f1ca8495",
   "metadata": {},
   "outputs": [
    {
     "name": "stdout",
     "output_type": "stream",
     "text": [
      "Emp name is:arun, DOB:1st Jan, City:City-1\n",
      "\n",
      "Emp name is:anu, DOB:2nd Feb, City:City-2\n"
     ]
    }
   ],
   "source": [
    "print(f'Emp name is:{obj1.name}, DOB:{obj1.dob}, City:{obj1.place}')\n",
    "print('')\n",
    "print(f'Emp name is:{obj2.name}, DOB:{obj2.dob}, City:{obj2.place}')"
   ]
  },
  {
   "cell_type": "code",
   "execution_count": 37,
   "id": "9d4718a0-ffb8-4b6d-935b-7392c175c8d5",
   "metadata": {},
   "outputs": [],
   "source": [
    "obj2.place='City-3' # we can update to specific attribute"
   ]
  },
  {
   "cell_type": "code",
   "execution_count": 39,
   "id": "4d3bafd4-0157-46fb-98e3-a0670786ad43",
   "metadata": {},
   "outputs": [
    {
     "name": "stdout",
     "output_type": "stream",
     "text": [
      "Emp name is:arun, DOB:1st Jan, City:City-1\n",
      "\n",
      "Emp name is:anu, DOB:2nd Feb, City:City-3\n"
     ]
    }
   ],
   "source": [
    "print(f'Emp name is:{obj1.name}, DOB:{obj1.dob}, City:{obj1.place}')\n",
    "print('')\n",
    "print(f'Emp name is:{obj2.name}, DOB:{obj2.dob}, City:{obj2.place}')"
   ]
  },
  {
   "cell_type": "code",
   "execution_count": 43,
   "id": "c23157b1-69e7-4123-be62-30edba4ff371",
   "metadata": {},
   "outputs": [
    {
     "name": "stdout",
     "output_type": "stream",
     "text": [
      "prodX\n",
      "pX\n"
     ]
    }
   ],
   "source": [
    "class product:\n",
    "    pname = 'prodX'\n",
    "\n",
    "print(product.pname)\n",
    "product.pname = 'pX' # overwrite \n",
    "print(product.pname)"
   ]
  },
  {
   "cell_type": "code",
   "execution_count": 45,
   "id": "57f584db-d056-43b0-8610-b6b35cade2eb",
   "metadata": {},
   "outputs": [
    {
     "data": {
      "text/plain": [
       "'pX'"
      ]
     },
     "execution_count": 45,
     "metadata": {},
     "output_type": "execute_result"
    }
   ],
   "source": [
    "obj1 = product()\n",
    "obj1.pname"
   ]
  },
  {
   "cell_type": "code",
   "execution_count": 47,
   "id": "9eff653a-80ae-474c-8ebe-8a511d913f8a",
   "metadata": {},
   "outputs": [
    {
     "name": "stdout",
     "output_type": "stream",
     "text": [
      "B1\n"
     ]
    }
   ],
   "source": [
    "obj1.pname = 'B1' # object based - initialization\n",
    "print(obj1.pname)"
   ]
  },
  {
   "cell_type": "code",
   "execution_count": 49,
   "id": "4d1a2b67-9ed9-473c-851d-636ff4f6e95b",
   "metadata": {},
   "outputs": [
    {
     "data": {
      "text/plain": [
       "'pX'"
      ]
     },
     "execution_count": 49,
     "metadata": {},
     "output_type": "execute_result"
    }
   ],
   "source": [
    "obj2 = product()\n",
    "obj2.pname"
   ]
  },
  {
   "cell_type": "code",
   "execution_count": 55,
   "id": "8f690451-32c9-4a5b-9fa3-5903badcfd8a",
   "metadata": {},
   "outputs": [],
   "source": [
    "def f1():\n",
    "    print(\"Hello\")\n",
    "\n",
    "# f1() # Hello\n",
    "# f1(10) TypeError: f1() takes 0 positional arguments but 1 was given"
   ]
  },
  {
   "cell_type": "code",
   "execution_count": 59,
   "id": "d28b6712-6481-4c4e-b74f-1152c011d58d",
   "metadata": {},
   "outputs": [
    {
     "name": "stdout",
     "output_type": "stream",
     "text": [
      "101\n"
     ]
    },
    {
     "ename": "TypeError",
     "evalue": "product.f2() takes 0 positional arguments but 1 was given",
     "output_type": "error",
     "traceback": [
      "\u001b[1;31m---------------------------------------------------------------------------\u001b[0m",
      "\u001b[1;31mTypeError\u001b[0m                                 Traceback (most recent call last)",
      "Cell \u001b[1;32mIn[59], line 10\u001b[0m\n\u001b[0;32m      8\u001b[0m obj \u001b[38;5;241m=\u001b[39m product()\n\u001b[0;32m      9\u001b[0m \u001b[38;5;28mprint\u001b[39m(obj\u001b[38;5;241m.\u001b[39mpid)\n\u001b[1;32m---> 10\u001b[0m obj\u001b[38;5;241m.\u001b[39mf2()\n",
      "\u001b[1;31mTypeError\u001b[0m: product.f2() takes 0 positional arguments but 1 was given"
     ]
    }
   ],
   "source": [
    "class product:\n",
    "    pid = 101\n",
    "    def f2():\n",
    "        print('display product details')\n",
    "\n",
    "# pid  - class attribute\n",
    "# f2   - class attribute\n",
    "obj = product()\n",
    "print(obj.pid)\n",
    "# obj.f2() //methodCall -> f2(obj)"
   ]
  },
  {
   "cell_type": "code",
   "execution_count": null,
   "id": "f3b93a05-b987-4f3b-afbf-37cd2f28cd0b",
   "metadata": {},
   "outputs": [],
   "source": []
  },
  {
   "cell_type": "code",
   "execution_count": 63,
   "id": "3820066b-31f4-419e-99af-98641f9a3bb2",
   "metadata": {},
   "outputs": [
    {
     "name": "stdout",
     "output_type": "stream",
     "text": [
      "obj1= <__main__.product object at 0x00000257B4781F10>\n",
      "self= <__main__.product object at 0x00000257B4781F10>\n",
      "\n",
      "obj2= <__main__.product object at 0x00000257B47830B0>\n",
      "self= <__main__.product object at 0x00000257B47830B0>\n"
     ]
    }
   ],
   "source": [
    "class product:\n",
    "    def f2(self):\n",
    "        print(\"self=\",self)\n",
    "\n",
    "obj1=product()\n",
    "print(\"obj1=\",obj1)\n",
    "obj1.f2() # f2(obj1)\n",
    "print('')\n",
    "obj2 = product()\n",
    "print(\"obj2=\",obj2)\n",
    "obj2.f2() # f2(obj2)"
   ]
  },
  {
   "cell_type": "code",
   "execution_count": null,
   "id": "eb3edc80-d99c-4bb9-8e5f-20cfc24cdafe",
   "metadata": {},
   "outputs": [],
   "source": [
    "#obj2.f2(\"D1\",\"D2\") => f2(obj2,\"D1\",\"D2\") -> def f2(self,a1,a2):"
   ]
  },
  {
   "cell_type": "code",
   "execution_count": 65,
   "id": "c8eb7c9f-8be4-4e5b-8b6d-66324f0befc4",
   "metadata": {},
   "outputs": [],
   "source": [
    "class enrollment:\n",
    "    name = ''\n",
    "    dob = ''\n",
    "    place = ''\n",
    "    def f1(self,n,d,p):\n",
    "        '''initialization'''\n",
    "        self.name = n\n",
    "        self.dob = d\n",
    "        self.place = p\n",
    "        print('Enrollment is done')\n",
    "    def f2(self):\n",
    "        '''display emp details'''\n",
    "        print(f'Emp name:{self.name} DOB:{self.dob} Place:{self.place}')\n",
    "    def f3(self,p):\n",
    "        '''update emp working city'''\n",
    "        self.place = p\n",
    "        print(f'{self.name} updated city details is:')\n",
    "        self.f2() # nested method Call"
   ]
  },
  {
   "cell_type": "code",
   "execution_count": 67,
   "id": "2010112b-66c9-4b82-8f5f-3e55176562f5",
   "metadata": {},
   "outputs": [
    {
     "name": "stdout",
     "output_type": "stream",
     "text": [
      "Enrollment is done\n"
     ]
    }
   ],
   "source": [
    "obj1 = enrollment()\n",
    "obj1.f1('arun','1st jan','City1')"
   ]
  },
  {
   "cell_type": "code",
   "execution_count": 69,
   "id": "d0bb056c-6124-405c-afa8-4579f319229f",
   "metadata": {},
   "outputs": [
    {
     "name": "stdout",
     "output_type": "stream",
     "text": [
      "Enrollment is done\n"
     ]
    }
   ],
   "source": [
    "obj2 = enrollment()\n",
    "obj2.f1('Anu','2nd Feb','City2')"
   ]
  },
  {
   "cell_type": "code",
   "execution_count": 71,
   "id": "5666a925-dcf7-45c9-a915-a4c09b2afe9a",
   "metadata": {},
   "outputs": [
    {
     "name": "stdout",
     "output_type": "stream",
     "text": [
      "Emp name:arun DOB:1st jan Place:City1\n"
     ]
    }
   ],
   "source": [
    "obj1.f2()"
   ]
  },
  {
   "cell_type": "code",
   "execution_count": 73,
   "id": "a0a2d570-852f-4b8b-b345-139afde915ad",
   "metadata": {},
   "outputs": [
    {
     "name": "stdout",
     "output_type": "stream",
     "text": [
      "Emp name:Anu DOB:2nd Feb Place:City2\n"
     ]
    }
   ],
   "source": [
    "obj2.f2()"
   ]
  },
  {
   "cell_type": "code",
   "execution_count": 75,
   "id": "8937e7b6-f48f-459b-86cc-625b446660ae",
   "metadata": {},
   "outputs": [
    {
     "name": "stdout",
     "output_type": "stream",
     "text": [
      "Anu updated city details is:\n",
      "Emp name:Anu DOB:2nd Feb Place:Pune\n"
     ]
    }
   ],
   "source": [
    "obj2.f3('Pune')"
   ]
  },
  {
   "cell_type": "code",
   "execution_count": 77,
   "id": "49119502-05e9-460b-b240-5313e980ade4",
   "metadata": {},
   "outputs": [
    {
     "name": "stdout",
     "output_type": "stream",
     "text": [
      "Emp name:Anu DOB:2nd Feb Place:Pune\n"
     ]
    }
   ],
   "source": [
    "obj2.f2()"
   ]
  },
  {
   "cell_type": "code",
   "execution_count": 79,
   "id": "23853d0b-de1c-4579-b1ee-d133a3d5ad59",
   "metadata": {},
   "outputs": [
    {
     "name": "stdout",
     "output_type": "stream",
     "text": [
      "Emp name: DOB: Place:\n"
     ]
    }
   ],
   "source": [
    "obj3 = enrollment()\n",
    "obj3.f2()"
   ]
  },
  {
   "cell_type": "code",
   "execution_count": 81,
   "id": "e75afe48-0784-476b-91dd-86b34dd64b6c",
   "metadata": {},
   "outputs": [
    {
     "name": "stdout",
     "output_type": "stream",
     "text": [
      "Enrollment is done\n"
     ]
    }
   ],
   "source": [
    "obj3.f1('vijay','3rd March','City-3')"
   ]
  },
  {
   "cell_type": "code",
   "execution_count": 83,
   "id": "256b612d-2402-4516-9bdc-763bd996d0ad",
   "metadata": {},
   "outputs": [
    {
     "name": "stdout",
     "output_type": "stream",
     "text": [
      "Emp name:vijay DOB:3rd March Place:City-3\n"
     ]
    }
   ],
   "source": [
    "obj3.f2()"
   ]
  },
  {
   "cell_type": "markdown",
   "id": "3f44104a-52d6-404a-87b8-49cba4ca5dd0",
   "metadata": {},
   "source": [
    "#DataBase - establish db connection ->do query1 query2 ...queryN\n",
    "\n",
    "class DBI:\n",
    "    def connect(self,....):\n",
    "        ....\n",
    "    def method1(self):\n",
    "        '''Query1'''\n",
    "    def method2(self):\n",
    "        '''Query2'''\n",
    "\n",
    "obj = DBI()\n",
    "obj.method2() # in OOPs - OK;  DB-Appln -DB Error \n",
    "In python any variable name <or> method name starts with __<label>__ <== pre-defined attribute\n",
    "__init__()\n",
    "\n",
    ">>> class product:\r\n",
    "...     def f1(self):\r\n",
    "...         print(\"product details\")\r\n",
    "...\r\n",
    ">>> product()\r\n",
    "<__main__.product object at 0x000001B9F7A441A0>\r\n",
    ">>> obj = product()\r\n",
    ">>> obj.f1()\r\n",
    "product details\r\n",
    ">>>\r\n",
    ">>> class product:\r\n",
    "...     def __init__(self):\r\n",
    "...         print(\"product details\")\r\n",
    "...\r\n",
    ">>> product()\r\n",
    "product details\r\n",
    "<__main__.product object at 0x000001B9F7A446E0>\r\n",
    ">>>\r\n",
    ">>> obj=product()\r\n",
    "product details\r\n",
    ">>\n",
    "\n",
    ">>> class myclass:\r\n",
    "...     def __init__(self):\r\n",
    "...         print(\"initialization\")\r\n",
    "...     def __del__(self):\r\n",
    "...         print(\"Thank you\")\r\n",
    "...\r\n",
    ">>> obj = myclass()\r\n",
    "initialization\r\n",
    ">>> del(obj)\r\n",
    "Thank you\r\n",
    ">>>\r\n",
    ">>> obj = myclass()\r\n",
    "initialization\r\n",
    ">>> exit\n",
    "\n",
    "\n",
    "()\r\n",
    "Thank you\r\n"
   ]
  },
  {
   "cell_type": "code",
   "execution_count": 85,
   "id": "bdc0b733-4498-46b2-83fd-0b6dc12668df",
   "metadata": {},
   "outputs": [],
   "source": [
    "class enrollment:\n",
    "    def __init__(self,n,d,p):\n",
    "        '''initialization'''\n",
    "        self.name = n\n",
    "        self.dob = d\n",
    "        self.place = p\n",
    "        print('Enrollment is done')\n",
    "    def f2(self):\n",
    "        '''display emp details'''\n",
    "        print(f'Emp name:{self.name} DOB:{self.dob} Place:{self.place}')\n",
    "    def f3(self,p):\n",
    "        '''update emp working city'''\n",
    "        self.place = p\n",
    "        print(f'{self.name} updated city details is:')\n",
    "        self.f2() # nested method Call"
   ]
  },
  {
   "cell_type": "code",
   "execution_count": 87,
   "id": "ddd370a2-7e44-49cf-94c6-42894fb1de3d",
   "metadata": {},
   "outputs": [
    {
     "name": "stdout",
     "output_type": "stream",
     "text": [
      "Enrollment is done\n",
      "Enrollment is done\n"
     ]
    }
   ],
   "source": [
    "obj1 = enrollment('Arun','1st Jan','City-1')\n",
    "obj2 = enrollment('Anu','2nd Feb','City-2')"
   ]
  },
  {
   "cell_type": "code",
   "execution_count": 89,
   "id": "3945ce5e-f01a-453b-a14a-89817326866b",
   "metadata": {},
   "outputs": [
    {
     "name": "stdout",
     "output_type": "stream",
     "text": [
      "Emp name:Arun DOB:1st Jan Place:City-1\n"
     ]
    }
   ],
   "source": [
    "obj1.f2()"
   ]
  },
  {
   "cell_type": "code",
   "execution_count": 91,
   "id": "345dd658-a62d-4a13-844c-6ca9a1c3da9b",
   "metadata": {},
   "outputs": [
    {
     "name": "stdout",
     "output_type": "stream",
     "text": [
      "Emp name:Anu DOB:2nd Feb Place:City-2\n"
     ]
    }
   ],
   "source": [
    "obj2.f2()"
   ]
  },
  {
   "cell_type": "code",
   "execution_count": 93,
   "id": "2ff09d44-96c0-4359-a6dd-fb3940944c6b",
   "metadata": {},
   "outputs": [
    {
     "ename": "TypeError",
     "evalue": "enrollment.__init__() missing 3 required positional arguments: 'n', 'd', and 'p'",
     "output_type": "error",
     "traceback": [
      "\u001b[1;31m---------------------------------------------------------------------------\u001b[0m",
      "\u001b[1;31mTypeError\u001b[0m                                 Traceback (most recent call last)",
      "Cell \u001b[1;32mIn[93], line 1\u001b[0m\n\u001b[1;32m----> 1\u001b[0m objX \u001b[38;5;241m=\u001b[39m enrollment()\n",
      "\u001b[1;31mTypeError\u001b[0m: enrollment.__init__() missing 3 required positional arguments: 'n', 'd', and 'p'"
     ]
    }
   ],
   "source": [
    "objX = enrollment()"
   ]
  },
  {
   "cell_type": "code",
   "execution_count": 95,
   "id": "5830d4f1-3c79-4989-b06d-626447e8505c",
   "metadata": {},
   "outputs": [
    {
     "ename": "NameError",
     "evalue": "name 'objX' is not defined",
     "output_type": "error",
     "traceback": [
      "\u001b[1;31m---------------------------------------------------------------------------\u001b[0m",
      "\u001b[1;31mNameError\u001b[0m                                 Traceback (most recent call last)",
      "Cell \u001b[1;32mIn[95], line 1\u001b[0m\n\u001b[1;32m----> 1\u001b[0m objX\n",
      "\u001b[1;31mNameError\u001b[0m: name 'objX' is not defined"
     ]
    }
   ],
   "source": [
    "objX"
   ]
  },
  {
   "cell_type": "code",
   "execution_count": 99,
   "id": "8d11136c-ea45-483d-9f3d-532d4a0acecc",
   "metadata": {},
   "outputs": [
    {
     "data": {
      "text/plain": [
       "['__abs__',\n",
       " '__add__',\n",
       " '__and__',\n",
       " '__bool__',\n",
       " '__ceil__',\n",
       " '__class__',\n",
       " '__delattr__',\n",
       " '__dir__',\n",
       " '__divmod__',\n",
       " '__doc__',\n",
       " '__eq__',\n",
       " '__float__',\n",
       " '__floor__',\n",
       " '__floordiv__',\n",
       " '__format__',\n",
       " '__ge__',\n",
       " '__getattribute__',\n",
       " '__getnewargs__',\n",
       " '__getstate__',\n",
       " '__gt__',\n",
       " '__hash__',\n",
       " '__index__',\n",
       " '__init__',\n",
       " '__init_subclass__',\n",
       " '__int__',\n",
       " '__invert__',\n",
       " '__le__',\n",
       " '__lshift__',\n",
       " '__lt__',\n",
       " '__mod__',\n",
       " '__mul__',\n",
       " '__ne__',\n",
       " '__neg__',\n",
       " '__new__',\n",
       " '__or__',\n",
       " '__pos__',\n",
       " '__pow__',\n",
       " '__radd__',\n",
       " '__rand__',\n",
       " '__rdivmod__',\n",
       " '__reduce__',\n",
       " '__reduce_ex__',\n",
       " '__repr__',\n",
       " '__rfloordiv__',\n",
       " '__rlshift__',\n",
       " '__rmod__',\n",
       " '__rmul__',\n",
       " '__ror__',\n",
       " '__round__',\n",
       " '__rpow__',\n",
       " '__rrshift__',\n",
       " '__rshift__',\n",
       " '__rsub__',\n",
       " '__rtruediv__',\n",
       " '__rxor__',\n",
       " '__setattr__',\n",
       " '__sizeof__',\n",
       " '__str__',\n",
       " '__sub__',\n",
       " '__subclasshook__',\n",
       " '__truediv__',\n",
       " '__trunc__',\n",
       " '__xor__',\n",
       " 'as_integer_ratio',\n",
       " 'bit_count',\n",
       " 'bit_length',\n",
       " 'conjugate',\n",
       " 'denominator',\n",
       " 'from_bytes',\n",
       " 'imag',\n",
       " 'is_integer',\n",
       " 'numerator',\n",
       " 'real',\n",
       " 'to_bytes']"
      ]
     },
     "execution_count": 99,
     "metadata": {},
     "output_type": "execute_result"
    }
   ],
   "source": [
    "# help(int)        \n",
    "dir(int)"
   ]
  },
  {
   "cell_type": "code",
   "execution_count": 101,
   "id": "18fabe1c-2d07-4a33-92e4-3af0f593747a",
   "metadata": {},
   "outputs": [
    {
     "data": {
      "text/plain": [
       "['__class__',\n",
       " '__delattr__',\n",
       " '__dict__',\n",
       " '__dir__',\n",
       " '__doc__',\n",
       " '__eq__',\n",
       " '__format__',\n",
       " '__ge__',\n",
       " '__getattribute__',\n",
       " '__getstate__',\n",
       " '__gt__',\n",
       " '__hash__',\n",
       " '__init__',\n",
       " '__init_subclass__',\n",
       " '__le__',\n",
       " '__lt__',\n",
       " '__module__',\n",
       " '__ne__',\n",
       " '__new__',\n",
       " '__reduce__',\n",
       " '__reduce_ex__',\n",
       " '__repr__',\n",
       " '__setattr__',\n",
       " '__sizeof__',\n",
       " '__str__',\n",
       " '__subclasshook__',\n",
       " '__weakref__',\n",
       " 'f2',\n",
       " 'f3']"
      ]
     },
     "execution_count": 101,
     "metadata": {},
     "output_type": "execute_result"
    }
   ],
   "source": [
    "dir(enrollment)"
   ]
  },
  {
   "cell_type": "code",
   "execution_count": 103,
   "id": "56898cd6-3bf5-4a24-a868-42834fb6b78b",
   "metadata": {},
   "outputs": [],
   "source": [
    "class myclass:\n",
    "    def __init__(self,a=0):\n",
    "        self.a = a\n",
    "    def __str__(self):\n",
    "        return str(self.a+100)\n",
    "    def __len__(self):\n",
    "        return 10\n",
    "    def __del__(self):\n",
    "        del(self.a)"
   ]
  },
  {
   "cell_type": "code",
   "execution_count": 105,
   "id": "aab8db03-4d0d-4dab-b436-0a9f49290a49",
   "metadata": {},
   "outputs": [],
   "source": [
    "obj = myclass(15)"
   ]
  },
  {
   "cell_type": "code",
   "execution_count": 107,
   "id": "56474058-65a6-4e3a-8895-c808b8dfad1f",
   "metadata": {},
   "outputs": [
    {
     "data": {
      "text/plain": [
       "'115'"
      ]
     },
     "execution_count": 107,
     "metadata": {},
     "output_type": "execute_result"
    }
   ],
   "source": [
    "str(obj)"
   ]
  },
  {
   "cell_type": "code",
   "execution_count": 109,
   "id": "e8ed8a49-6c72-4d8a-8fb5-298d2af9a5d0",
   "metadata": {},
   "outputs": [
    {
     "data": {
      "text/plain": [
       "10"
      ]
     },
     "execution_count": 109,
     "metadata": {},
     "output_type": "execute_result"
    }
   ],
   "source": [
    "len(obj)"
   ]
  },
  {
   "cell_type": "code",
   "execution_count": 111,
   "id": "5294cca4-2491-4544-852a-fc205c2cd44e",
   "metadata": {},
   "outputs": [],
   "source": [
    "del(obj)"
   ]
  },
  {
   "cell_type": "code",
   "execution_count": 113,
   "id": "4e3e6725-c764-40b4-b135-fae234e87231",
   "metadata": {},
   "outputs": [
    {
     "name": "stdout",
     "output_type": "stream",
     "text": [
      "<class 'pandas.core.frame.DataFrame'>\n"
     ]
    }
   ],
   "source": [
    "import pandas\n",
    "print(pandas.DataFrame)"
   ]
  },
  {
   "cell_type": "code",
   "execution_count": null,
   "id": "c7b9236f-e978-4bf2-a92c-d33f66498f4a",
   "metadata": {},
   "outputs": [],
   "source": [
    "pandas/\n",
    "   |___core/\n",
    "        |____frame.py\n",
    "                |_________class DataFrame:\n",
    "                                   ...."
   ]
  },
  {
   "cell_type": "code",
   "execution_count": 117,
   "id": "ae72a766-dfd8-4fa1-ba4b-5e84b7f88319",
   "metadata": {},
   "outputs": [
    {
     "name": "stdout",
     "output_type": "stream",
     "text": [
      "437\n"
     ]
    }
   ],
   "source": [
    "# To get list of all the class attributes\n",
    "dir(pandas.DataFrame)\n",
    "print(len(dir(pandas.DataFrame)))"
   ]
  },
  {
   "cell_type": "code",
   "execution_count": 119,
   "id": "8508a7cc-4c1c-4b59-97c3-c8c76549f2b8",
   "metadata": {},
   "outputs": [],
   "source": [
    "class product:\n",
    "    '''about product details'''"
   ]
  },
  {
   "cell_type": "code",
   "execution_count": 121,
   "id": "8ac428bf-3844-434c-8273-a8f26a05d464",
   "metadata": {},
   "outputs": [
    {
     "data": {
      "text/plain": [
       "'about product details'"
      ]
     },
     "execution_count": 121,
     "metadata": {},
     "output_type": "execute_result"
    }
   ],
   "source": [
    "product.__doc__"
   ]
  },
  {
   "cell_type": "code",
   "execution_count": 123,
   "id": "82b0b055-e684-445a-9139-8a9a0b58a290",
   "metadata": {},
   "outputs": [
    {
     "name": "stdout",
     "output_type": "stream",
     "text": [
      "\n",
      "    Two-dimensional, size-mutable, potentially heterogeneous tabular data.\n",
      "\n",
      "    Data structure also contains labeled axes (rows and columns).\n",
      "    Arithmetic operations align on both row and column labels. Can be\n",
      "    thought of as a dict-like container for Series objects. The primary\n",
      "    pandas data structure.\n",
      "\n",
      "    Parameters\n",
      "    ----------\n",
      "    data : ndarray (structured or homogeneous), Iterable, dict, or DataFrame\n",
      "        Dict can contain Series, arrays, constants, dataclass or list-like objects. If\n",
      "        data is a dict, column order follows insertion-order. If a dict contains Series\n",
      "        which have an index defined, it is aligned by its index. This alignment also\n",
      "        occurs if data is a Series or a DataFrame itself. Alignment is done on\n",
      "        Series/DataFrame inputs.\n",
      "\n",
      "        If data is a list of dicts, column order follows insertion-order.\n",
      "\n",
      "    index : Index or array-like\n",
      "        Index to use for resulting frame. Will default to RangeIndex if\n",
      "        no indexing information part of input data and no index provided.\n",
      "    columns : Index or array-like\n",
      "        Column labels to use for resulting frame when data does not have them,\n",
      "        defaulting to RangeIndex(0, 1, 2, ..., n). If data contains column labels,\n",
      "        will perform column selection instead.\n",
      "    dtype : dtype, default None\n",
      "        Data type to force. Only a single dtype is allowed. If None, infer.\n",
      "    copy : bool or None, default None\n",
      "        Copy data from inputs.\n",
      "        For dict data, the default of None behaves like ``copy=True``.  For DataFrame\n",
      "        or 2d ndarray input, the default of None behaves like ``copy=False``.\n",
      "        If data is a dict containing one or more Series (possibly of different dtypes),\n",
      "        ``copy=False`` will ensure that these inputs are not copied.\n",
      "\n",
      "        .. versionchanged:: 1.3.0\n",
      "\n",
      "    See Also\n",
      "    --------\n",
      "    DataFrame.from_records : Constructor from tuples, also record arrays.\n",
      "    DataFrame.from_dict : From dicts of Series, arrays, or dicts.\n",
      "    read_csv : Read a comma-separated values (csv) file into DataFrame.\n",
      "    read_table : Read general delimited file into DataFrame.\n",
      "    read_clipboard : Read text from clipboard into DataFrame.\n",
      "\n",
      "    Notes\n",
      "    -----\n",
      "    Please reference the :ref:`User Guide <basics.dataframe>` for more information.\n",
      "\n",
      "    Examples\n",
      "    --------\n",
      "    Constructing DataFrame from a dictionary.\n",
      "\n",
      "    >>> d = {'col1': [1, 2], 'col2': [3, 4]}\n",
      "    >>> df = pd.DataFrame(data=d)\n",
      "    >>> df\n",
      "       col1  col2\n",
      "    0     1     3\n",
      "    1     2     4\n",
      "\n",
      "    Notice that the inferred dtype is int64.\n",
      "\n",
      "    >>> df.dtypes\n",
      "    col1    int64\n",
      "    col2    int64\n",
      "    dtype: object\n",
      "\n",
      "    To enforce a single dtype:\n",
      "\n",
      "    >>> df = pd.DataFrame(data=d, dtype=np.int8)\n",
      "    >>> df.dtypes\n",
      "    col1    int8\n",
      "    col2    int8\n",
      "    dtype: object\n",
      "\n",
      "    Constructing DataFrame from a dictionary including Series:\n",
      "\n",
      "    >>> d = {'col1': [0, 1, 2, 3], 'col2': pd.Series([2, 3], index=[2, 3])}\n",
      "    >>> pd.DataFrame(data=d, index=[0, 1, 2, 3])\n",
      "       col1  col2\n",
      "    0     0   NaN\n",
      "    1     1   NaN\n",
      "    2     2   2.0\n",
      "    3     3   3.0\n",
      "\n",
      "    Constructing DataFrame from numpy ndarray:\n",
      "\n",
      "    >>> df2 = pd.DataFrame(np.array([[1, 2, 3], [4, 5, 6], [7, 8, 9]]),\n",
      "    ...                    columns=['a', 'b', 'c'])\n",
      "    >>> df2\n",
      "       a  b  c\n",
      "    0  1  2  3\n",
      "    1  4  5  6\n",
      "    2  7  8  9\n",
      "\n",
      "    Constructing DataFrame from a numpy ndarray that has labeled columns:\n",
      "\n",
      "    >>> data = np.array([(1, 2, 3), (4, 5, 6), (7, 8, 9)],\n",
      "    ...                 dtype=[(\"a\", \"i4\"), (\"b\", \"i4\"), (\"c\", \"i4\")])\n",
      "    >>> df3 = pd.DataFrame(data, columns=['c', 'a'])\n",
      "    ...\n",
      "    >>> df3\n",
      "       c  a\n",
      "    0  3  1\n",
      "    1  6  4\n",
      "    2  9  7\n",
      "\n",
      "    Constructing DataFrame from dataclass:\n",
      "\n",
      "    >>> from dataclasses import make_dataclass\n",
      "    >>> Point = make_dataclass(\"Point\", [(\"x\", int), (\"y\", int)])\n",
      "    >>> pd.DataFrame([Point(0, 0), Point(0, 3), Point(2, 3)])\n",
      "       x  y\n",
      "    0  0  0\n",
      "    1  0  3\n",
      "    2  2  3\n",
      "\n",
      "    Constructing DataFrame from Series/DataFrame:\n",
      "\n",
      "    >>> ser = pd.Series([1, 2, 3], index=[\"a\", \"b\", \"c\"])\n",
      "    >>> df = pd.DataFrame(data=ser, index=[\"a\", \"c\"])\n",
      "    >>> df\n",
      "       0\n",
      "    a  1\n",
      "    c  3\n",
      "\n",
      "    >>> df1 = pd.DataFrame([1, 2, 3], index=[\"a\", \"b\", \"c\"], columns=[\"x\"])\n",
      "    >>> df2 = pd.DataFrame(data=df1, index=[\"a\", \"c\"])\n",
      "    >>> df2\n",
      "       x\n",
      "    a  1\n",
      "    c  3\n",
      "    \n"
     ]
    }
   ],
   "source": [
    "print(pandas.DataFrame.__doc__)"
   ]
  },
  {
   "cell_type": "code",
   "execution_count": 129,
   "id": "23591d0f-de4a-45fe-b141-66f81e58742a",
   "metadata": {},
   "outputs": [],
   "source": [
    "class product:\n",
    "    '''about product px class details'''\n",
    "    pid = 101\n",
    "    pname = 'pX'\n",
    "    def f1(self):\n",
    "        pass\n",
    "    def f2(self):\n",
    "        pass\n",
    "    results = ['D1','D2']"
   ]
  },
  {
   "cell_type": "code",
   "execution_count": 131,
   "id": "95a5c73c-ad3e-4b19-91b5-a015c61844df",
   "metadata": {
    "scrolled": true
   },
   "outputs": [
    {
     "data": {
      "text/plain": [
       "mappingproxy({'__module__': '__main__',\n",
       "              '__doc__': 'about product px class details',\n",
       "              'pid': 101,\n",
       "              'pname': 'pX',\n",
       "              'f1': <function __main__.product.f1(self)>,\n",
       "              'f2': <function __main__.product.f2(self)>,\n",
       "              'results': ['D1', 'D2'],\n",
       "              '__dict__': <attribute '__dict__' of 'product' objects>,\n",
       "              '__weakref__': <attribute '__weakref__' of 'product' objects>})"
      ]
     },
     "execution_count": 131,
     "metadata": {},
     "output_type": "execute_result"
    }
   ],
   "source": [
    "product.__dict__ "
   ]
  },
  {
   "cell_type": "code",
   "execution_count": 133,
   "id": "aa967fb3-2956-4e50-ba25-f82248aca71f",
   "metadata": {},
   "outputs": [
    {
     "name": "stdout",
     "output_type": "stream",
     "text": [
      "{'__module__': 'pandas.core.frame', '__annotations__': {'_accessors': 'set[str]', '_hidden_attrs': 'frozenset[str]', '_mgr': 'BlockManager | ArrayManager', '_constructor_sliced': 'Callable[..., Series]', '_AXIS_ORDERS': \"list[Literal['index', 'columns']]\", '_AXIS_TO_AXIS_NUMBER': 'dict[Axis, int]', '_info_axis_number': 'Literal[1]', '_info_axis_name': \"Literal['columns']\"}, '__doc__': '\\n    Two-dimensional, size-mutable, potentially heterogeneous tabular data.\\n\\n    Data structure also contains labeled axes (rows and columns).\\n    Arithmetic operations align on both row and column labels. Can be\\n    thought of as a dict-like container for Series objects. The primary\\n    pandas data structure.\\n\\n    Parameters\\n    ----------\\n    data : ndarray (structured or homogeneous), Iterable, dict, or DataFrame\\n        Dict can contain Series, arrays, constants, dataclass or list-like objects. If\\n        data is a dict, column order follows insertion-order. If a dict contains Series\\n        which have an index defined, it is aligned by its index. This alignment also\\n        occurs if data is a Series or a DataFrame itself. Alignment is done on\\n        Series/DataFrame inputs.\\n\\n        If data is a list of dicts, column order follows insertion-order.\\n\\n    index : Index or array-like\\n        Index to use for resulting frame. Will default to RangeIndex if\\n        no indexing information part of input data and no index provided.\\n    columns : Index or array-like\\n        Column labels to use for resulting frame when data does not have them,\\n        defaulting to RangeIndex(0, 1, 2, ..., n). If data contains column labels,\\n        will perform column selection instead.\\n    dtype : dtype, default None\\n        Data type to force. Only a single dtype is allowed. If None, infer.\\n    copy : bool or None, default None\\n        Copy data from inputs.\\n        For dict data, the default of None behaves like ``copy=True``.  For DataFrame\\n        or 2d ndarray input, the default of None behaves like ``copy=False``.\\n        If data is a dict containing one or more Series (possibly of different dtypes),\\n        ``copy=False`` will ensure that these inputs are not copied.\\n\\n        .. versionchanged:: 1.3.0\\n\\n    See Also\\n    --------\\n    DataFrame.from_records : Constructor from tuples, also record arrays.\\n    DataFrame.from_dict : From dicts of Series, arrays, or dicts.\\n    read_csv : Read a comma-separated values (csv) file into DataFrame.\\n    read_table : Read general delimited file into DataFrame.\\n    read_clipboard : Read text from clipboard into DataFrame.\\n\\n    Notes\\n    -----\\n    Please reference the :ref:`User Guide <basics.dataframe>` for more information.\\n\\n    Examples\\n    --------\\n    Constructing DataFrame from a dictionary.\\n\\n    >>> d = {\\'col1\\': [1, 2], \\'col2\\': [3, 4]}\\n    >>> df = pd.DataFrame(data=d)\\n    >>> df\\n       col1  col2\\n    0     1     3\\n    1     2     4\\n\\n    Notice that the inferred dtype is int64.\\n\\n    >>> df.dtypes\\n    col1    int64\\n    col2    int64\\n    dtype: object\\n\\n    To enforce a single dtype:\\n\\n    >>> df = pd.DataFrame(data=d, dtype=np.int8)\\n    >>> df.dtypes\\n    col1    int8\\n    col2    int8\\n    dtype: object\\n\\n    Constructing DataFrame from a dictionary including Series:\\n\\n    >>> d = {\\'col1\\': [0, 1, 2, 3], \\'col2\\': pd.Series([2, 3], index=[2, 3])}\\n    >>> pd.DataFrame(data=d, index=[0, 1, 2, 3])\\n       col1  col2\\n    0     0   NaN\\n    1     1   NaN\\n    2     2   2.0\\n    3     3   3.0\\n\\n    Constructing DataFrame from numpy ndarray:\\n\\n    >>> df2 = pd.DataFrame(np.array([[1, 2, 3], [4, 5, 6], [7, 8, 9]]),\\n    ...                    columns=[\\'a\\', \\'b\\', \\'c\\'])\\n    >>> df2\\n       a  b  c\\n    0  1  2  3\\n    1  4  5  6\\n    2  7  8  9\\n\\n    Constructing DataFrame from a numpy ndarray that has labeled columns:\\n\\n    >>> data = np.array([(1, 2, 3), (4, 5, 6), (7, 8, 9)],\\n    ...                 dtype=[(\"a\", \"i4\"), (\"b\", \"i4\"), (\"c\", \"i4\")])\\n    >>> df3 = pd.DataFrame(data, columns=[\\'c\\', \\'a\\'])\\n    ...\\n    >>> df3\\n       c  a\\n    0  3  1\\n    1  6  4\\n    2  9  7\\n\\n    Constructing DataFrame from dataclass:\\n\\n    >>> from dataclasses import make_dataclass\\n    >>> Point = make_dataclass(\"Point\", [(\"x\", int), (\"y\", int)])\\n    >>> pd.DataFrame([Point(0, 0), Point(0, 3), Point(2, 3)])\\n       x  y\\n    0  0  0\\n    1  0  3\\n    2  2  3\\n\\n    Constructing DataFrame from Series/DataFrame:\\n\\n    >>> ser = pd.Series([1, 2, 3], index=[\"a\", \"b\", \"c\"])\\n    >>> df = pd.DataFrame(data=ser, index=[\"a\", \"c\"])\\n    >>> df\\n       0\\n    a  1\\n    c  3\\n\\n    >>> df1 = pd.DataFrame([1, 2, 3], index=[\"a\", \"b\", \"c\"], columns=[\"x\"])\\n    >>> df2 = pd.DataFrame(data=df1, index=[\"a\", \"c\"])\\n    >>> df2\\n       x\\n    a  1\\n    c  3\\n    ', '_internal_names_set': {'_mgr', '_item_cache', '_flags', '_cache', '_cacher', 'index', '_name', '_metadata', 'columns', '_is_copy'}, '_typ': 'dataframe', '_HANDLED_TYPES': (<class 'pandas.core.series.Series'>, <class 'pandas.core.indexes.base.Index'>, <class 'pandas.core.arrays.base.ExtensionArray'>, <class 'numpy.ndarray'>), '_accessors': {'sparse'}, '_hidden_attrs': frozenset(), '__pandas_priority__': 4000, '_constructor': <property object at 0x00000257B5850770>, '_constructor_from_mgr': <function DataFrame._constructor_from_mgr at 0x00000257B5AD20C0>, '_constructor_sliced': <class 'pandas.core.series.Series'>, '_constructor_sliced_from_mgr': <function DataFrame._constructor_sliced_from_mgr at 0x00000257B5B59E40>, '__init__': <function DataFrame.__init__ at 0x00000257B5B59EE0>, '__dataframe__': <function DataFrame.__dataframe__ at 0x00000257B5B59F80>, '__dataframe_consortium_standard__': <function DataFrame.__dataframe_consortium_standard__ at 0x00000257B5B5A020>, '__arrow_c_stream__': <function DataFrame.__arrow_c_stream__ at 0x00000257B5B5A0C0>, 'axes': <property object at 0x00000257B5AA9C60>, 'shape': <property object at 0x00000257B5AA9940>, '_is_homogeneous_type': <property object at 0x00000257B5B33560>, '_can_fast_transpose': <property object at 0x00000257B5B335B0>, '_values': <property object at 0x00000257B5B33600>, '_repr_fits_vertical_': <function DataFrame._repr_fits_vertical_ at 0x00000257B5B5A480>, '_repr_fits_horizontal_': <function DataFrame._repr_fits_horizontal_ at 0x00000257B5B5A520>, '_info_repr': <function DataFrame._info_repr at 0x00000257B5B5A5C0>, '__repr__': <function DataFrame.__repr__ at 0x00000257B5B5A660>, '_repr_html_': <function DataFrame._repr_html_ at 0x00000257B5B5A700>, 'to_string': <function DataFrame.to_string at 0x00000257B5B5AB60>, '_get_values_for_csv': <function DataFrame._get_values_for_csv at 0x00000257B5B5A980>, 'style': <property object at 0x00000257B5B33650>, 'items': <function DataFrame.items at 0x00000257B5B5AC00>, 'iterrows': <function DataFrame.iterrows at 0x00000257B5B5ACA0>, 'itertuples': <function DataFrame.itertuples at 0x00000257B5B5AD40>, '__len__': <function DataFrame.__len__ at 0x00000257B5B5ADE0>, 'dot': <function DataFrame.dot at 0x00000257B5B5B060>, '__matmul__': <function DataFrame.__matmul__ at 0x00000257B5B5B2E0>, '__rmatmul__': <function DataFrame.__rmatmul__ at 0x00000257B5B5B380>, 'from_dict': <classmethod(<function DataFrame.from_dict at 0x00000257B5B5B420>)>, 'to_numpy': <function DataFrame.to_numpy at 0x00000257B5B5B4C0>, '_create_data_for_split_and_tight_to_dict': <function DataFrame._create_data_for_split_and_tight_to_dict at 0x00000257B5B5B560>, 'to_dict': <function DataFrame.to_dict at 0x00000257B5B5BB00>, 'to_gbq': <function DataFrame.to_gbq at 0x00000257B5B5BC40>, 'from_records': <classmethod(<function DataFrame.from_records at 0x00000257B5B5B920>)>, 'to_records': <function DataFrame.to_records at 0x00000257B5B5BBA0>, '_from_arrays': <classmethod(<function DataFrame._from_arrays at 0x00000257B5B5BCE0>)>, 'to_stata': <function DataFrame.to_stata at 0x00000257B5B5BE20>, 'to_feather': <function DataFrame.to_feather at 0x00000257B5B5BD80>, 'to_markdown': <function DataFrame.to_markdown at 0x00000257B5B5BF60>, 'to_parquet': <function DataFrame.to_parquet at 0x00000257B5B5C400>, 'to_orc': <function DataFrame.to_orc at 0x00000257B5B5C220>, 'to_html': <function DataFrame.to_html at 0x00000257B5B5C7C0>, 'to_xml': <function DataFrame.to_xml at 0x00000257B5B5CAE0>, 'info': <function DataFrame.info at 0x00000257B5B5C9A0>, 'memory_usage': <function DataFrame.memory_usage at 0x00000257B5B5C900>, 'transpose': <function DataFrame.transpose at 0x00000257B5B5CB80>, 'T': <property object at 0x00000257B5B336F0>, '_ixs': <function DataFrame._ixs at 0x00000257B5B5CCC0>, '_get_column_array': <function DataFrame._get_column_array at 0x00000257B5B5CD60>, '_iter_column_arrays': <function DataFrame._iter_column_arrays at 0x00000257B5B5CE00>, '_getitem_nocopy': <function DataFrame._getitem_nocopy at 0x00000257B5B5CEA0>, '__getitem__': <function DataFrame.__getitem__ at 0x00000257B5B5CF40>, '_getitem_bool_array': <function DataFrame._getitem_bool_array at 0x00000257B5B5CFE0>, '_getitem_multilevel': <function DataFrame._getitem_multilevel at 0x00000257B5B5D080>, '_get_value': <function DataFrame._get_value at 0x00000257B5B5D120>, 'isetitem': <function DataFrame.isetitem at 0x00000257B5B5D1C0>, '__setitem__': <function DataFrame.__setitem__ at 0x00000257B5B5D260>, '_setitem_slice': <function DataFrame._setitem_slice at 0x00000257B5B5D300>, '_setitem_array': <function DataFrame._setitem_array at 0x00000257B5B5D3A0>, '_iset_not_inplace': <function DataFrame._iset_not_inplace at 0x00000257B5B5D440>, '_setitem_frame': <function DataFrame._setitem_frame at 0x00000257B5B5D4E0>, '_set_item_frame_value': <function DataFrame._set_item_frame_value at 0x00000257B5B5D580>, '_iset_item_mgr': <function DataFrame._iset_item_mgr at 0x00000257B5B5D620>, '_set_item_mgr': <function DataFrame._set_item_mgr at 0x00000257B5B5D6C0>, '_iset_item': <function DataFrame._iset_item at 0x00000257B5B5D760>, '_set_item': <function DataFrame._set_item at 0x00000257B5B5D800>, '_set_value': <function DataFrame._set_value at 0x00000257B5B5D8A0>, '_ensure_valid_index': <function DataFrame._ensure_valid_index at 0x00000257B5B5D940>, '_box_col_values': <function DataFrame._box_col_values at 0x00000257B5B5D9E0>, '_clear_item_cache': <function DataFrame._clear_item_cache at 0x00000257B5B5DA80>, '_get_item_cache': <function DataFrame._get_item_cache at 0x00000257B5B5DB20>, '_reset_cacher': <function DataFrame._reset_cacher at 0x00000257B5B5DBC0>, '_maybe_cache_changed': <function DataFrame._maybe_cache_changed at 0x00000257B5B5DC60>, 'query': <function DataFrame.query at 0x00000257B5B5DF80>, 'eval': <function DataFrame.eval at 0x00000257B5B5E200>, 'select_dtypes': <function DataFrame.select_dtypes at 0x00000257B5B5E2A0>, 'insert': <function DataFrame.insert at 0x00000257B5B5E340>, 'assign': <function DataFrame.assign at 0x00000257B5B5E3E0>, '_sanitize_column': <function DataFrame._sanitize_column at 0x00000257B5B5E480>, '_series': <property object at 0x00000257B5B33740>, '_reindex_multi': <function DataFrame._reindex_multi at 0x00000257B5B5E5C0>, 'set_axis': <function DataFrame.set_axis at 0x00000257B5B5E700>, 'reindex': <function DataFrame.reindex at 0x00000257B5B5E7A0>, 'drop': <function DataFrame.drop at 0x00000257B5B5EA20>, 'rename': <function DataFrame.rename at 0x00000257B5B5ED40>, 'pop': <function DataFrame.pop at 0x00000257B5B5EDE0>, '_replace_columnwise': <function DataFrame._replace_columnwise at 0x00000257B5B5EE80>, 'shift': <function DataFrame.shift at 0x00000257B5B5EFC0>, 'set_index': <function DataFrame.set_index at 0x00000257B5B5F1A0>, 'reset_index': <function DataFrame.reset_index at 0x00000257B5B5F4C0>, 'isna': <function DataFrame.isna at 0x00000257B5B5F600>, 'isnull': <function DataFrame.isnull at 0x00000257B5B5F6A0>, 'notna': <function DataFrame.notna at 0x00000257B5B5F740>, 'notnull': <function DataFrame.notnull at 0x00000257B5B5F7E0>, 'dropna': <function DataFrame.dropna at 0x00000257B5B5F9C0>, 'drop_duplicates': <function DataFrame.drop_duplicates at 0x00000257B5B5FCE0>, 'duplicated': <function DataFrame.duplicated at 0x00000257B5B5FD80>, 'sort_values': <function DataFrame.sort_values at 0x00000257B5B6C040>, 'sort_index': <function DataFrame.sort_index at 0x00000257B5B6C360>, 'value_counts': <function DataFrame.value_counts at 0x00000257B5B6C400>, 'nlargest': <function DataFrame.nlargest at 0x00000257B5B6C4A0>, 'nsmallest': <function DataFrame.nsmallest at 0x00000257B5B6C540>, 'swaplevel': <function DataFrame.swaplevel at 0x00000257B5B6C680>, 'reorder_levels': <function DataFrame.reorder_levels at 0x00000257B5B6C5E0>, '_cmp_method': <function DataFrame._cmp_method at 0x00000257B5B6C720>, '_arith_method': <function DataFrame._arith_method at 0x00000257B5B6C7C0>, '_logical_method': <function DataFrame._arith_method at 0x00000257B5B6C7C0>, '_dispatch_frame_op': <function DataFrame._dispatch_frame_op at 0x00000257B5B6C860>, '_combine_frame': <function DataFrame._combine_frame at 0x00000257B5B6C900>, '_arith_method_with_reindex': <function DataFrame._arith_method_with_reindex at 0x00000257B5B6C9A0>, '_should_reindex_frame_op': <function DataFrame._should_reindex_frame_op at 0x00000257B5B6CA40>, '_align_for_op': <function DataFrame._align_for_op at 0x00000257B5B6CAE0>, '_maybe_align_series_as_frame': <function DataFrame._maybe_align_series_as_frame at 0x00000257B5B6CB80>, '_flex_arith_method': <function DataFrame._flex_arith_method at 0x00000257B5B6CC20>, '_construct_result': <function DataFrame._construct_result at 0x00000257B5B6CCC0>, '__divmod__': <function DataFrame.__divmod__ at 0x00000257B5B6CD60>, '__rdivmod__': <function DataFrame.__rdivmod__ at 0x00000257B5B6CE00>, '_flex_cmp_method': <function DataFrame._flex_cmp_method at 0x00000257B5B6CEA0>, 'eq': <function DataFrame.eq at 0x00000257B5B6CF40>, 'ne': <function DataFrame.ne at 0x00000257B5B6CFE0>, 'le': <function DataFrame.le at 0x00000257B5B6D080>, 'lt': <function DataFrame.lt at 0x00000257B5B6D120>, 'ge': <function DataFrame.ge at 0x00000257B5B6D1C0>, 'gt': <function DataFrame.gt at 0x00000257B5B6D260>, 'add': <function DataFrame.add at 0x00000257B5B6D300>, 'radd': <function DataFrame.radd at 0x00000257B5B6D3A0>, 'sub': <function DataFrame.sub at 0x00000257B5B6D440>, 'subtract': <function DataFrame.sub at 0x00000257B5B6D440>, 'rsub': <function DataFrame.rsub at 0x00000257B5B6D4E0>, 'mul': <function DataFrame.mul at 0x00000257B5B6D580>, 'multiply': <function DataFrame.mul at 0x00000257B5B6D580>, 'rmul': <function DataFrame.rmul at 0x00000257B5B6D620>, 'truediv': <function DataFrame.truediv at 0x00000257B5B6D6C0>, 'div': <function DataFrame.truediv at 0x00000257B5B6D6C0>, 'divide': <function DataFrame.truediv at 0x00000257B5B6D6C0>, 'rtruediv': <function DataFrame.rtruediv at 0x00000257B5B6D760>, 'rdiv': <function DataFrame.rtruediv at 0x00000257B5B6D760>, 'floordiv': <function DataFrame.floordiv at 0x00000257B5B6D800>, 'rfloordiv': <function DataFrame.rfloordiv at 0x00000257B5B6D8A0>, 'mod': <function DataFrame.mod at 0x00000257B5B6D940>, 'rmod': <function DataFrame.rmod at 0x00000257B5B6D9E0>, 'pow': <function DataFrame.pow at 0x00000257B5B6DA80>, 'rpow': <function DataFrame.rpow at 0x00000257B5B6DB20>, 'compare': <function DataFrame.compare at 0x00000257B5B6DC60>, 'combine': <function DataFrame.combine at 0x00000257B5B6DBC0>, 'combine_first': <function DataFrame.combine_first at 0x00000257B5B6DD00>, 'update': <function DataFrame.update at 0x00000257B5B6DDA0>, 'groupby': <function DataFrame.groupby at 0x00000257B5B6DE40>, 'pivot': <function DataFrame.pivot at 0x00000257B5B6DF80>, 'pivot_table': <function DataFrame.pivot_table at 0x00000257B5B6DEE0>, 'stack': <function DataFrame.stack at 0x00000257B5B6E020>, 'explode': <function DataFrame.explode at 0x00000257B5B6E0C0>, 'unstack': <function DataFrame.unstack at 0x00000257B5B6E160>, 'melt': <function DataFrame.melt at 0x00000257B5B6E200>, 'diff': <function DataFrame.diff at 0x00000257B5B6E340>, '_gotitem': <function DataFrame._gotitem at 0x00000257B5B6E2A0>, '_agg_see_also_doc': '\\nSee Also\\n--------\\nDataFrame.apply : Perform any type of operations.\\nDataFrame.transform : Perform transformation type operations.\\npandas.DataFrame.groupby : Perform operations over groups.\\npandas.DataFrame.resample : Perform operations over resampled bins.\\npandas.DataFrame.rolling : Perform operations over rolling window.\\npandas.DataFrame.expanding : Perform operations over expanding window.\\npandas.core.window.ewm.ExponentialMovingWindow : Perform operation over exponential\\n    weighted window.\\n', '_agg_examples_doc': '\\nExamples\\n--------\\n>>> df = pd.DataFrame([[1, 2, 3],\\n...                    [4, 5, 6],\\n...                    [7, 8, 9],\\n...                    [np.nan, np.nan, np.nan]],\\n...                   columns=[\\'A\\', \\'B\\', \\'C\\'])\\n\\nAggregate these functions over the rows.\\n\\n>>> df.agg([\\'sum\\', \\'min\\'])\\n        A     B     C\\nsum  12.0  15.0  18.0\\nmin   1.0   2.0   3.0\\n\\nDifferent aggregations per column.\\n\\n>>> df.agg({\\'A\\' : [\\'sum\\', \\'min\\'], \\'B\\' : [\\'min\\', \\'max\\']})\\n        A    B\\nsum  12.0  NaN\\nmin   1.0  2.0\\nmax   NaN  8.0\\n\\nAggregate different functions over the columns and rename the index of the resulting\\nDataFrame.\\n\\n>>> df.agg(x=(\\'A\\', \\'max\\'), y=(\\'B\\', \\'min\\'), z=(\\'C\\', \\'mean\\'))\\n     A    B    C\\nx  7.0  NaN  NaN\\ny  NaN  2.0  NaN\\nz  NaN  NaN  6.0\\n\\nAggregate over the columns.\\n\\n>>> df.agg(\"mean\", axis=\"columns\")\\n0    2.0\\n1    5.0\\n2    8.0\\n3    NaN\\ndtype: float64\\n', 'aggregate': <function DataFrame.aggregate at 0x00000257B5B6E480>, 'agg': <function DataFrame.aggregate at 0x00000257B5B6E480>, 'transform': <function DataFrame.transform at 0x00000257B5B6E520>, 'apply': <function DataFrame.apply at 0x00000257B5B6E3E0>, 'map': <function DataFrame.map at 0x00000257B5B6E5C0>, 'applymap': <function DataFrame.applymap at 0x00000257B5B6E660>, '_append': <function DataFrame._append at 0x00000257B5B6E700>, 'join': <function DataFrame.join at 0x00000257B5B6E7A0>, 'merge': <function DataFrame.merge at 0x00000257B5B6E840>, 'round': <function DataFrame.round at 0x00000257B5B6E8E0>, 'corr': <function DataFrame.corr at 0x00000257B5B6E980>, 'cov': <function DataFrame.cov at 0x00000257B5B6EA20>, 'corrwith': <function DataFrame.corrwith at 0x00000257B5B6EAC0>, 'count': <function DataFrame.count at 0x00000257B5B6EB60>, '_reduce': <function DataFrame._reduce at 0x00000257B5B6EC00>, '_reduce_axis1': <function DataFrame._reduce_axis1 at 0x00000257B5B6ECA0>, 'any': <function DataFrame.any at 0x00000257B5B6EDE0>, 'all': <function DataFrame.all at 0x00000257B5B6EE80>, 'min': <function DataFrame.min at 0x00000257B5B6EF20>, 'max': <function DataFrame.max at 0x00000257B5B6EFC0>, 'sum': <function DataFrame.sum at 0x00000257B5B6F060>, 'prod': <function DataFrame.prod at 0x00000257B5B6F100>, 'mean': <function DataFrame.mean at 0x00000257B5B6F1A0>, 'median': <function DataFrame.median at 0x00000257B5B6F240>, 'sem': <function DataFrame.sem at 0x00000257B5B6F2E0>, 'var': <function DataFrame.var at 0x00000257B5B6F380>, 'std': <function DataFrame.std at 0x00000257B5B6F420>, 'skew': <function DataFrame.skew at 0x00000257B5B6F4C0>, 'kurt': <function DataFrame.kurt at 0x00000257B5B6F560>, 'kurtosis': <function DataFrame.kurt at 0x00000257B5B6F560>, 'product': <function DataFrame.prod at 0x00000257B5B6F100>, 'cummin': <function DataFrame.cummin at 0x00000257B5B6F600>, 'cummax': <function DataFrame.cummax at 0x00000257B5B6F6A0>, 'cumsum': <function DataFrame.cumsum at 0x00000257B5B6F740>, 'cumprod': <function DataFrame.cumprod at 0x00000257B5B6F7E0>, 'nunique': <function DataFrame.nunique at 0x00000257B5B6ED40>, 'idxmin': <function DataFrame.idxmin at 0x00000257B5B6F920>, 'idxmax': <function DataFrame.idxmax at 0x00000257B5B6F9C0>, '_get_agg_axis': <function DataFrame._get_agg_axis at 0x00000257B5B6F880>, 'mode': <function DataFrame.mode at 0x00000257B5B6FA60>, 'quantile': <function DataFrame.quantile at 0x00000257B5B6FD80>, 'to_timestamp': <function DataFrame.to_timestamp at 0x00000257B5B6FE20>, 'to_period': <function DataFrame.to_period at 0x00000257B5B6FEC0>, 'isin': <function DataFrame.isin at 0x00000257B5B6FF60>, '_AXIS_ORDERS': ['index', 'columns'], '_AXIS_TO_AXIS_NUMBER': {0: 0, 'index': 0, 'rows': 0, 1: 1, 'columns': 1}, '_AXIS_LEN': 2, '_info_axis_number': 1, '_info_axis_name': 'columns', 'index': <pandas._libs.properties.AxisProperty object at 0x00000257B5B23D30>, 'columns': <pandas._libs.properties.AxisProperty object at 0x00000257B5B23A60>, 'plot': <pandas.core.accessor.CachedAccessor object at 0x00000257B5B23DA0>, 'hist': <function hist_frame at 0x00000257B5B40860>, 'boxplot': <function boxplot_frame at 0x00000257B5B409A0>, 'sparse': <pandas.core.accessor.CachedAccessor object at 0x00000257B5B60650>, '_to_dict_of_blocks': <function DataFrame._to_dict_of_blocks at 0x00000257B5B700E0>, 'values': <property object at 0x00000257B5B33790>}\n"
     ]
    }
   ],
   "source": [
    "print(pandas.DataFrame.__dict__)"
   ]
  },
  {
   "cell_type": "code",
   "execution_count": 143,
   "id": "42d681a4-fe6a-4dda-bae5-eba2b6dacbab",
   "metadata": {
    "scrolled": true
   },
   "outputs": [
    {
     "name": "stdout",
     "output_type": "stream",
     "text": [
      "{'K1': [{'class': {'K1': 10, 'K2': 20}, 'url': 'https://www.abc.com'}, {'class': {'K1': 100, 'K2': 200}, 'url': 'https://www.google.com'}, {'class': {'K1': 'D1', 'K2': 'D2'}}], 'K2': {'K1': {'K1': {'K1': [{'K1': 'V1', 'K2': 'V2'}]}}}}\n"
     ]
    }
   ],
   "source": [
    "d={}\n",
    "d['K1']=[{\"class\":{\"K1\":10,\"K2\":20},\"url\":\"https://www.abc.com\"},\n",
    "         {\"class\":{\"K1\":100,\"K2\":200},\"url\":\"https://www.google.com\"},\n",
    "         {\"class\":{\"K1\":\"D1\",\"K2\":\"D2\"}}]\n",
    "d['K2']={'K1':{'K1':{'K1':[{'K1':'V1','K2':'V2'}]}}}\n",
    "print(d)"
   ]
  },
  {
   "cell_type": "code",
   "execution_count": 145,
   "id": "fc840e09-ed65-4604-8cae-1ecae686401d",
   "metadata": {},
   "outputs": [
    {
     "name": "stdout",
     "output_type": "stream",
     "text": [
      "{'K1': [{'class': {'K1': 10, 'K2': 20}, 'url': 'https://www.abc.com'},\n",
      "        {'class': {'K1': 100, 'K2': 200}, 'url': 'https://www.google.com'},\n",
      "        {'class': {'K1': 'D1', 'K2': 'D2'}}],\n",
      " 'K2': {'K1': {'K1': {'K1': [{'K1': 'V1', 'K2': 'V2'}]}}}}\n"
     ]
    }
   ],
   "source": [
    "import pprint\n",
    "pprint.pprint(d)"
   ]
  },
  {
   "cell_type": "code",
   "execution_count": 147,
   "id": "50fde4fb-aa97-4620-b0be-8fb513b7f816",
   "metadata": {},
   "outputs": [
    {
     "name": "stdout",
     "output_type": "stream",
     "text": [
      "mappingproxy({'T': <property object at 0x00000257B5B336F0>,\n",
      "              '_AXIS_LEN': 2,\n",
      "              '_AXIS_ORDERS': ['index', 'columns'],\n",
      "              '_AXIS_TO_AXIS_NUMBER': {0: 0,\n",
      "                                       1: 1,\n",
      "                                       'columns': 1,\n",
      "                                       'index': 0,\n",
      "                                       'rows': 0},\n",
      "              '_HANDLED_TYPES': (<class 'pandas.core.series.Series'>,\n",
      "                                 <class 'pandas.core.indexes.base.Index'>,\n",
      "                                 <class 'pandas.core.arrays.base.ExtensionArray'>,\n",
      "                                 <class 'numpy.ndarray'>),\n",
      "              '__annotations__': {'_AXIS_ORDERS': \"list[Literal['index', \"\n",
      "                                                  \"'columns']]\",\n",
      "                                  '_AXIS_TO_AXIS_NUMBER': 'dict[Axis, int]',\n",
      "                                  '_accessors': 'set[str]',\n",
      "                                  '_constructor_sliced': 'Callable[..., '\n",
      "                                                         'Series]',\n",
      "                                  '_hidden_attrs': 'frozenset[str]',\n",
      "                                  '_info_axis_name': \"Literal['columns']\",\n",
      "                                  '_info_axis_number': 'Literal[1]',\n",
      "                                  '_mgr': 'BlockManager | ArrayManager'},\n",
      "              '__arrow_c_stream__': <function DataFrame.__arrow_c_stream__ at 0x00000257B5B5A0C0>,\n",
      "              '__dataframe__': <function DataFrame.__dataframe__ at 0x00000257B5B59F80>,\n",
      "              '__dataframe_consortium_standard__': <function DataFrame.__dataframe_consortium_standard__ at 0x00000257B5B5A020>,\n",
      "              '__divmod__': <function DataFrame.__divmod__ at 0x00000257B5B6CD60>,\n",
      "              '__doc__': '\\n'\n",
      "                         '    Two-dimensional, size-mutable, potentially '\n",
      "                         'heterogeneous tabular data.\\n'\n",
      "                         '\\n'\n",
      "                         '    Data structure also contains labeled axes (rows '\n",
      "                         'and columns).\\n'\n",
      "                         '    Arithmetic operations align on both row and '\n",
      "                         'column labels. Can be\\n'\n",
      "                         '    thought of as a dict-like container for Series '\n",
      "                         'objects. The primary\\n'\n",
      "                         '    pandas data structure.\\n'\n",
      "                         '\\n'\n",
      "                         '    Parameters\\n'\n",
      "                         '    ----------\\n'\n",
      "                         '    data : ndarray (structured or homogeneous), '\n",
      "                         'Iterable, dict, or DataFrame\\n'\n",
      "                         '        Dict can contain Series, arrays, constants, '\n",
      "                         'dataclass or list-like objects. If\\n'\n",
      "                         '        data is a dict, column order follows '\n",
      "                         'insertion-order. If a dict contains Series\\n'\n",
      "                         '        which have an index defined, it is aligned '\n",
      "                         'by its index. This alignment also\\n'\n",
      "                         '        occurs if data is a Series or a DataFrame '\n",
      "                         'itself. Alignment is done on\\n'\n",
      "                         '        Series/DataFrame inputs.\\n'\n",
      "                         '\\n'\n",
      "                         '        If data is a list of dicts, column order '\n",
      "                         'follows insertion-order.\\n'\n",
      "                         '\\n'\n",
      "                         '    index : Index or array-like\\n'\n",
      "                         '        Index to use for resulting frame. Will '\n",
      "                         'default to RangeIndex if\\n'\n",
      "                         '        no indexing information part of input data '\n",
      "                         'and no index provided.\\n'\n",
      "                         '    columns : Index or array-like\\n'\n",
      "                         '        Column labels to use for resulting frame '\n",
      "                         'when data does not have them,\\n'\n",
      "                         '        defaulting to RangeIndex(0, 1, 2, ..., n). '\n",
      "                         'If data contains column labels,\\n'\n",
      "                         '        will perform column selection instead.\\n'\n",
      "                         '    dtype : dtype, default None\\n'\n",
      "                         '        Data type to force. Only a single dtype is '\n",
      "                         'allowed. If None, infer.\\n'\n",
      "                         '    copy : bool or None, default None\\n'\n",
      "                         '        Copy data from inputs.\\n'\n",
      "                         '        For dict data, the default of None behaves '\n",
      "                         'like ``copy=True``.  For DataFrame\\n'\n",
      "                         '        or 2d ndarray input, the default of None '\n",
      "                         'behaves like ``copy=False``.\\n'\n",
      "                         '        If data is a dict containing one or more '\n",
      "                         'Series (possibly of different dtypes),\\n'\n",
      "                         '        ``copy=False`` will ensure that these inputs '\n",
      "                         'are not copied.\\n'\n",
      "                         '\\n'\n",
      "                         '        .. versionchanged:: 1.3.0\\n'\n",
      "                         '\\n'\n",
      "                         '    See Also\\n'\n",
      "                         '    --------\\n'\n",
      "                         '    DataFrame.from_records : Constructor from '\n",
      "                         'tuples, also record arrays.\\n'\n",
      "                         '    DataFrame.from_dict : From dicts of Series, '\n",
      "                         'arrays, or dicts.\\n'\n",
      "                         '    read_csv : Read a comma-separated values (csv) '\n",
      "                         'file into DataFrame.\\n'\n",
      "                         '    read_table : Read general delimited file into '\n",
      "                         'DataFrame.\\n'\n",
      "                         '    read_clipboard : Read text from clipboard into '\n",
      "                         'DataFrame.\\n'\n",
      "                         '\\n'\n",
      "                         '    Notes\\n'\n",
      "                         '    -----\\n'\n",
      "                         '    Please reference the :ref:`User Guide '\n",
      "                         '<basics.dataframe>` for more information.\\n'\n",
      "                         '\\n'\n",
      "                         '    Examples\\n'\n",
      "                         '    --------\\n'\n",
      "                         '    Constructing DataFrame from a dictionary.\\n'\n",
      "                         '\\n'\n",
      "                         \"    >>> d = {'col1': [1, 2], 'col2': [3, 4]}\\n\"\n",
      "                         '    >>> df = pd.DataFrame(data=d)\\n'\n",
      "                         '    >>> df\\n'\n",
      "                         '       col1  col2\\n'\n",
      "                         '    0     1     3\\n'\n",
      "                         '    1     2     4\\n'\n",
      "                         '\\n'\n",
      "                         '    Notice that the inferred dtype is int64.\\n'\n",
      "                         '\\n'\n",
      "                         '    >>> df.dtypes\\n'\n",
      "                         '    col1    int64\\n'\n",
      "                         '    col2    int64\\n'\n",
      "                         '    dtype: object\\n'\n",
      "                         '\\n'\n",
      "                         '    To enforce a single dtype:\\n'\n",
      "                         '\\n'\n",
      "                         '    >>> df = pd.DataFrame(data=d, dtype=np.int8)\\n'\n",
      "                         '    >>> df.dtypes\\n'\n",
      "                         '    col1    int8\\n'\n",
      "                         '    col2    int8\\n'\n",
      "                         '    dtype: object\\n'\n",
      "                         '\\n'\n",
      "                         '    Constructing DataFrame from a dictionary '\n",
      "                         'including Series:\\n'\n",
      "                         '\\n'\n",
      "                         \"    >>> d = {'col1': [0, 1, 2, 3], 'col2': \"\n",
      "                         'pd.Series([2, 3], index=[2, 3])}\\n'\n",
      "                         '    >>> pd.DataFrame(data=d, index=[0, 1, 2, 3])\\n'\n",
      "                         '       col1  col2\\n'\n",
      "                         '    0     0   NaN\\n'\n",
      "                         '    1     1   NaN\\n'\n",
      "                         '    2     2   2.0\\n'\n",
      "                         '    3     3   3.0\\n'\n",
      "                         '\\n'\n",
      "                         '    Constructing DataFrame from numpy ndarray:\\n'\n",
      "                         '\\n'\n",
      "                         '    >>> df2 = pd.DataFrame(np.array([[1, 2, 3], [4, '\n",
      "                         '5, 6], [7, 8, 9]]),\\n'\n",
      "                         \"    ...                    columns=['a', 'b', 'c'])\\n\"\n",
      "                         '    >>> df2\\n'\n",
      "                         '       a  b  c\\n'\n",
      "                         '    0  1  2  3\\n'\n",
      "                         '    1  4  5  6\\n'\n",
      "                         '    2  7  8  9\\n'\n",
      "                         '\\n'\n",
      "                         '    Constructing DataFrame from a numpy ndarray that '\n",
      "                         'has labeled columns:\\n'\n",
      "                         '\\n'\n",
      "                         '    >>> data = np.array([(1, 2, 3), (4, 5, 6), (7, '\n",
      "                         '8, 9)],\\n'\n",
      "                         '    ...                 dtype=[(\"a\", \"i4\"), (\"b\", '\n",
      "                         '\"i4\"), (\"c\", \"i4\")])\\n'\n",
      "                         \"    >>> df3 = pd.DataFrame(data, columns=['c', \"\n",
      "                         \"'a'])\\n\"\n",
      "                         '    ...\\n'\n",
      "                         '    >>> df3\\n'\n",
      "                         '       c  a\\n'\n",
      "                         '    0  3  1\\n'\n",
      "                         '    1  6  4\\n'\n",
      "                         '    2  9  7\\n'\n",
      "                         '\\n'\n",
      "                         '    Constructing DataFrame from dataclass:\\n'\n",
      "                         '\\n'\n",
      "                         '    >>> from dataclasses import make_dataclass\\n'\n",
      "                         '    >>> Point = make_dataclass(\"Point\", [(\"x\", int), '\n",
      "                         '(\"y\", int)])\\n'\n",
      "                         '    >>> pd.DataFrame([Point(0, 0), Point(0, 3), '\n",
      "                         'Point(2, 3)])\\n'\n",
      "                         '       x  y\\n'\n",
      "                         '    0  0  0\\n'\n",
      "                         '    1  0  3\\n'\n",
      "                         '    2  2  3\\n'\n",
      "                         '\\n'\n",
      "                         '    Constructing DataFrame from Series/DataFrame:\\n'\n",
      "                         '\\n'\n",
      "                         '    >>> ser = pd.Series([1, 2, 3], index=[\"a\", \"b\", '\n",
      "                         '\"c\"])\\n'\n",
      "                         '    >>> df = pd.DataFrame(data=ser, index=[\"a\", '\n",
      "                         '\"c\"])\\n'\n",
      "                         '    >>> df\\n'\n",
      "                         '       0\\n'\n",
      "                         '    a  1\\n'\n",
      "                         '    c  3\\n'\n",
      "                         '\\n'\n",
      "                         '    >>> df1 = pd.DataFrame([1, 2, 3], index=[\"a\", '\n",
      "                         '\"b\", \"c\"], columns=[\"x\"])\\n'\n",
      "                         '    >>> df2 = pd.DataFrame(data=df1, index=[\"a\", '\n",
      "                         '\"c\"])\\n'\n",
      "                         '    >>> df2\\n'\n",
      "                         '       x\\n'\n",
      "                         '    a  1\\n'\n",
      "                         '    c  3\\n'\n",
      "                         '    ',\n",
      "              '__getitem__': <function DataFrame.__getitem__ at 0x00000257B5B5CF40>,\n",
      "              '__init__': <function DataFrame.__init__ at 0x00000257B5B59EE0>,\n",
      "              '__len__': <function DataFrame.__len__ at 0x00000257B5B5ADE0>,\n",
      "              '__matmul__': <function DataFrame.__matmul__ at 0x00000257B5B5B2E0>,\n",
      "              '__module__': 'pandas.core.frame',\n",
      "              '__pandas_priority__': 4000,\n",
      "              '__rdivmod__': <function DataFrame.__rdivmod__ at 0x00000257B5B6CE00>,\n",
      "              '__repr__': <function DataFrame.__repr__ at 0x00000257B5B5A660>,\n",
      "              '__rmatmul__': <function DataFrame.__rmatmul__ at 0x00000257B5B5B380>,\n",
      "              '__setitem__': <function DataFrame.__setitem__ at 0x00000257B5B5D260>,\n",
      "              '_accessors': {'sparse'},\n",
      "              '_agg_examples_doc': '\\n'\n",
      "                                   'Examples\\n'\n",
      "                                   '--------\\n'\n",
      "                                   '>>> df = pd.DataFrame([[1, 2, 3],\\n'\n",
      "                                   '...                    [4, 5, 6],\\n'\n",
      "                                   '...                    [7, 8, 9],\\n'\n",
      "                                   '...                    [np.nan, np.nan, '\n",
      "                                   'np.nan]],\\n'\n",
      "                                   \"...                   columns=['A', 'B', \"\n",
      "                                   \"'C'])\\n\"\n",
      "                                   '\\n'\n",
      "                                   'Aggregate these functions over the rows.\\n'\n",
      "                                   '\\n'\n",
      "                                   \">>> df.agg(['sum', 'min'])\\n\"\n",
      "                                   '        A     B     C\\n'\n",
      "                                   'sum  12.0  15.0  18.0\\n'\n",
      "                                   'min   1.0   2.0   3.0\\n'\n",
      "                                   '\\n'\n",
      "                                   'Different aggregations per column.\\n'\n",
      "                                   '\\n'\n",
      "                                   \">>> df.agg({'A' : ['sum', 'min'], 'B' : \"\n",
      "                                   \"['min', 'max']})\\n\"\n",
      "                                   '        A    B\\n'\n",
      "                                   'sum  12.0  NaN\\n'\n",
      "                                   'min   1.0  2.0\\n'\n",
      "                                   'max   NaN  8.0\\n'\n",
      "                                   '\\n'\n",
      "                                   'Aggregate different functions over the '\n",
      "                                   'columns and rename the index of the '\n",
      "                                   'resulting\\n'\n",
      "                                   'DataFrame.\\n'\n",
      "                                   '\\n'\n",
      "                                   \">>> df.agg(x=('A', 'max'), y=('B', 'min'), \"\n",
      "                                   \"z=('C', 'mean'))\\n\"\n",
      "                                   '     A    B    C\\n'\n",
      "                                   'x  7.0  NaN  NaN\\n'\n",
      "                                   'y  NaN  2.0  NaN\\n'\n",
      "                                   'z  NaN  NaN  6.0\\n'\n",
      "                                   '\\n'\n",
      "                                   'Aggregate over the columns.\\n'\n",
      "                                   '\\n'\n",
      "                                   '>>> df.agg(\"mean\", axis=\"columns\")\\n'\n",
      "                                   '0    2.0\\n'\n",
      "                                   '1    5.0\\n'\n",
      "                                   '2    8.0\\n'\n",
      "                                   '3    NaN\\n'\n",
      "                                   'dtype: float64\\n',\n",
      "              '_agg_see_also_doc': '\\n'\n",
      "                                   'See Also\\n'\n",
      "                                   '--------\\n'\n",
      "                                   'DataFrame.apply : Perform any type of '\n",
      "                                   'operations.\\n'\n",
      "                                   'DataFrame.transform : Perform '\n",
      "                                   'transformation type operations.\\n'\n",
      "                                   'pandas.DataFrame.groupby : Perform '\n",
      "                                   'operations over groups.\\n'\n",
      "                                   'pandas.DataFrame.resample : Perform '\n",
      "                                   'operations over resampled bins.\\n'\n",
      "                                   'pandas.DataFrame.rolling : Perform '\n",
      "                                   'operations over rolling window.\\n'\n",
      "                                   'pandas.DataFrame.expanding : Perform '\n",
      "                                   'operations over expanding window.\\n'\n",
      "                                   'pandas.core.window.ewm.ExponentialMovingWindow '\n",
      "                                   ': Perform operation over exponential\\n'\n",
      "                                   '    weighted window.\\n',\n",
      "              '_align_for_op': <function DataFrame._align_for_op at 0x00000257B5B6CAE0>,\n",
      "              '_append': <function DataFrame._append at 0x00000257B5B6E700>,\n",
      "              '_arith_method': <function DataFrame._arith_method at 0x00000257B5B6C7C0>,\n",
      "              '_arith_method_with_reindex': <function DataFrame._arith_method_with_reindex at 0x00000257B5B6C9A0>,\n",
      "              '_box_col_values': <function DataFrame._box_col_values at 0x00000257B5B5D9E0>,\n",
      "              '_can_fast_transpose': <property object at 0x00000257B5B335B0>,\n",
      "              '_clear_item_cache': <function DataFrame._clear_item_cache at 0x00000257B5B5DA80>,\n",
      "              '_cmp_method': <function DataFrame._cmp_method at 0x00000257B5B6C720>,\n",
      "              '_combine_frame': <function DataFrame._combine_frame at 0x00000257B5B6C900>,\n",
      "              '_construct_result': <function DataFrame._construct_result at 0x00000257B5B6CCC0>,\n",
      "              '_constructor': <property object at 0x00000257B5850770>,\n",
      "              '_constructor_from_mgr': <function DataFrame._constructor_from_mgr at 0x00000257B5AD20C0>,\n",
      "              '_constructor_sliced': <class 'pandas.core.series.Series'>,\n",
      "              '_constructor_sliced_from_mgr': <function DataFrame._constructor_sliced_from_mgr at 0x00000257B5B59E40>,\n",
      "              '_create_data_for_split_and_tight_to_dict': <function DataFrame._create_data_for_split_and_tight_to_dict at 0x00000257B5B5B560>,\n",
      "              '_dispatch_frame_op': <function DataFrame._dispatch_frame_op at 0x00000257B5B6C860>,\n",
      "              '_ensure_valid_index': <function DataFrame._ensure_valid_index at 0x00000257B5B5D940>,\n",
      "              '_flex_arith_method': <function DataFrame._flex_arith_method at 0x00000257B5B6CC20>,\n",
      "              '_flex_cmp_method': <function DataFrame._flex_cmp_method at 0x00000257B5B6CEA0>,\n",
      "              '_from_arrays': <classmethod(<function DataFrame._from_arrays at 0x00000257B5B5BCE0>)>,\n",
      "              '_get_agg_axis': <function DataFrame._get_agg_axis at 0x00000257B5B6F880>,\n",
      "              '_get_column_array': <function DataFrame._get_column_array at 0x00000257B5B5CD60>,\n",
      "              '_get_item_cache': <function DataFrame._get_item_cache at 0x00000257B5B5DB20>,\n",
      "              '_get_value': <function DataFrame._get_value at 0x00000257B5B5D120>,\n",
      "              '_get_values_for_csv': <function DataFrame._get_values_for_csv at 0x00000257B5B5A980>,\n",
      "              '_getitem_bool_array': <function DataFrame._getitem_bool_array at 0x00000257B5B5CFE0>,\n",
      "              '_getitem_multilevel': <function DataFrame._getitem_multilevel at 0x00000257B5B5D080>,\n",
      "              '_getitem_nocopy': <function DataFrame._getitem_nocopy at 0x00000257B5B5CEA0>,\n",
      "              '_gotitem': <function DataFrame._gotitem at 0x00000257B5B6E2A0>,\n",
      "              '_hidden_attrs': frozenset(),\n",
      "              '_info_axis_name': 'columns',\n",
      "              '_info_axis_number': 1,\n",
      "              '_info_repr': <function DataFrame._info_repr at 0x00000257B5B5A5C0>,\n",
      "              '_internal_names_set': {'_cache',\n",
      "                                      '_cacher',\n",
      "                                      '_flags',\n",
      "                                      '_is_copy',\n",
      "                                      '_item_cache',\n",
      "                                      '_metadata',\n",
      "                                      '_mgr',\n",
      "                                      '_name',\n",
      "                                      'columns',\n",
      "                                      'index'},\n",
      "              '_is_homogeneous_type': <property object at 0x00000257B5B33560>,\n",
      "              '_iset_item': <function DataFrame._iset_item at 0x00000257B5B5D760>,\n",
      "              '_iset_item_mgr': <function DataFrame._iset_item_mgr at 0x00000257B5B5D620>,\n",
      "              '_iset_not_inplace': <function DataFrame._iset_not_inplace at 0x00000257B5B5D440>,\n",
      "              '_iter_column_arrays': <function DataFrame._iter_column_arrays at 0x00000257B5B5CE00>,\n",
      "              '_ixs': <function DataFrame._ixs at 0x00000257B5B5CCC0>,\n",
      "              '_logical_method': <function DataFrame._arith_method at 0x00000257B5B6C7C0>,\n",
      "              '_maybe_align_series_as_frame': <function DataFrame._maybe_align_series_as_frame at 0x00000257B5B6CB80>,\n",
      "              '_maybe_cache_changed': <function DataFrame._maybe_cache_changed at 0x00000257B5B5DC60>,\n",
      "              '_reduce': <function DataFrame._reduce at 0x00000257B5B6EC00>,\n",
      "              '_reduce_axis1': <function DataFrame._reduce_axis1 at 0x00000257B5B6ECA0>,\n",
      "              '_reindex_multi': <function DataFrame._reindex_multi at 0x00000257B5B5E5C0>,\n",
      "              '_replace_columnwise': <function DataFrame._replace_columnwise at 0x00000257B5B5EE80>,\n",
      "              '_repr_fits_horizontal_': <function DataFrame._repr_fits_horizontal_ at 0x00000257B5B5A520>,\n",
      "              '_repr_fits_vertical_': <function DataFrame._repr_fits_vertical_ at 0x00000257B5B5A480>,\n",
      "              '_repr_html_': <function DataFrame._repr_html_ at 0x00000257B5B5A700>,\n",
      "              '_reset_cacher': <function DataFrame._reset_cacher at 0x00000257B5B5DBC0>,\n",
      "              '_sanitize_column': <function DataFrame._sanitize_column at 0x00000257B5B5E480>,\n",
      "              '_series': <property object at 0x00000257B5B33740>,\n",
      "              '_set_item': <function DataFrame._set_item at 0x00000257B5B5D800>,\n",
      "              '_set_item_frame_value': <function DataFrame._set_item_frame_value at 0x00000257B5B5D580>,\n",
      "              '_set_item_mgr': <function DataFrame._set_item_mgr at 0x00000257B5B5D6C0>,\n",
      "              '_set_value': <function DataFrame._set_value at 0x00000257B5B5D8A0>,\n",
      "              '_setitem_array': <function DataFrame._setitem_array at 0x00000257B5B5D3A0>,\n",
      "              '_setitem_frame': <function DataFrame._setitem_frame at 0x00000257B5B5D4E0>,\n",
      "              '_setitem_slice': <function DataFrame._setitem_slice at 0x00000257B5B5D300>,\n",
      "              '_should_reindex_frame_op': <function DataFrame._should_reindex_frame_op at 0x00000257B5B6CA40>,\n",
      "              '_to_dict_of_blocks': <function DataFrame._to_dict_of_blocks at 0x00000257B5B700E0>,\n",
      "              '_typ': 'dataframe',\n",
      "              '_values': <property object at 0x00000257B5B33600>,\n",
      "              'add': <function DataFrame.add at 0x00000257B5B6D300>,\n",
      "              'agg': <function DataFrame.aggregate at 0x00000257B5B6E480>,\n",
      "              'aggregate': <function DataFrame.aggregate at 0x00000257B5B6E480>,\n",
      "              'all': <function DataFrame.all at 0x00000257B5B6EE80>,\n",
      "              'any': <function DataFrame.any at 0x00000257B5B6EDE0>,\n",
      "              'apply': <function DataFrame.apply at 0x00000257B5B6E3E0>,\n",
      "              'applymap': <function DataFrame.applymap at 0x00000257B5B6E660>,\n",
      "              'assign': <function DataFrame.assign at 0x00000257B5B5E3E0>,\n",
      "              'axes': <property object at 0x00000257B5AA9C60>,\n",
      "              'boxplot': <function boxplot_frame at 0x00000257B5B409A0>,\n",
      "              'columns': <pandas._libs.properties.AxisProperty object at 0x00000257B5B23A60>,\n",
      "              'combine': <function DataFrame.combine at 0x00000257B5B6DBC0>,\n",
      "              'combine_first': <function DataFrame.combine_first at 0x00000257B5B6DD00>,\n",
      "              'compare': <function DataFrame.compare at 0x00000257B5B6DC60>,\n",
      "              'corr': <function DataFrame.corr at 0x00000257B5B6E980>,\n",
      "              'corrwith': <function DataFrame.corrwith at 0x00000257B5B6EAC0>,\n",
      "              'count': <function DataFrame.count at 0x00000257B5B6EB60>,\n",
      "              'cov': <function DataFrame.cov at 0x00000257B5B6EA20>,\n",
      "              'cummax': <function DataFrame.cummax at 0x00000257B5B6F6A0>,\n",
      "              'cummin': <function DataFrame.cummin at 0x00000257B5B6F600>,\n",
      "              'cumprod': <function DataFrame.cumprod at 0x00000257B5B6F7E0>,\n",
      "              'cumsum': <function DataFrame.cumsum at 0x00000257B5B6F740>,\n",
      "              'diff': <function DataFrame.diff at 0x00000257B5B6E340>,\n",
      "              'div': <function DataFrame.truediv at 0x00000257B5B6D6C0>,\n",
      "              'divide': <function DataFrame.truediv at 0x00000257B5B6D6C0>,\n",
      "              'dot': <function DataFrame.dot at 0x00000257B5B5B060>,\n",
      "              'drop': <function DataFrame.drop at 0x00000257B5B5EA20>,\n",
      "              'drop_duplicates': <function DataFrame.drop_duplicates at 0x00000257B5B5FCE0>,\n",
      "              'dropna': <function DataFrame.dropna at 0x00000257B5B5F9C0>,\n",
      "              'duplicated': <function DataFrame.duplicated at 0x00000257B5B5FD80>,\n",
      "              'eq': <function DataFrame.eq at 0x00000257B5B6CF40>,\n",
      "              'eval': <function DataFrame.eval at 0x00000257B5B5E200>,\n",
      "              'explode': <function DataFrame.explode at 0x00000257B5B6E0C0>,\n",
      "              'floordiv': <function DataFrame.floordiv at 0x00000257B5B6D800>,\n",
      "              'from_dict': <classmethod(<function DataFrame.from_dict at 0x00000257B5B5B420>)>,\n",
      "              'from_records': <classmethod(<function DataFrame.from_records at 0x00000257B5B5B920>)>,\n",
      "              'ge': <function DataFrame.ge at 0x00000257B5B6D1C0>,\n",
      "              'groupby': <function DataFrame.groupby at 0x00000257B5B6DE40>,\n",
      "              'gt': <function DataFrame.gt at 0x00000257B5B6D260>,\n",
      "              'hist': <function hist_frame at 0x00000257B5B40860>,\n",
      "              'idxmax': <function DataFrame.idxmax at 0x00000257B5B6F9C0>,\n",
      "              'idxmin': <function DataFrame.idxmin at 0x00000257B5B6F920>,\n",
      "              'index': <pandas._libs.properties.AxisProperty object at 0x00000257B5B23D30>,\n",
      "              'info': <function DataFrame.info at 0x00000257B5B5C9A0>,\n",
      "              'insert': <function DataFrame.insert at 0x00000257B5B5E340>,\n",
      "              'isetitem': <function DataFrame.isetitem at 0x00000257B5B5D1C0>,\n",
      "              'isin': <function DataFrame.isin at 0x00000257B5B6FF60>,\n",
      "              'isna': <function DataFrame.isna at 0x00000257B5B5F600>,\n",
      "              'isnull': <function DataFrame.isnull at 0x00000257B5B5F6A0>,\n",
      "              'items': <function DataFrame.items at 0x00000257B5B5AC00>,\n",
      "              'iterrows': <function DataFrame.iterrows at 0x00000257B5B5ACA0>,\n",
      "              'itertuples': <function DataFrame.itertuples at 0x00000257B5B5AD40>,\n",
      "              'join': <function DataFrame.join at 0x00000257B5B6E7A0>,\n",
      "              'kurt': <function DataFrame.kurt at 0x00000257B5B6F560>,\n",
      "              'kurtosis': <function DataFrame.kurt at 0x00000257B5B6F560>,\n",
      "              'le': <function DataFrame.le at 0x00000257B5B6D080>,\n",
      "              'lt': <function DataFrame.lt at 0x00000257B5B6D120>,\n",
      "              'map': <function DataFrame.map at 0x00000257B5B6E5C0>,\n",
      "              'max': <function DataFrame.max at 0x00000257B5B6EFC0>,\n",
      "              'mean': <function DataFrame.mean at 0x00000257B5B6F1A0>,\n",
      "              'median': <function DataFrame.median at 0x00000257B5B6F240>,\n",
      "              'melt': <function DataFrame.melt at 0x00000257B5B6E200>,\n",
      "              'memory_usage': <function DataFrame.memory_usage at 0x00000257B5B5C900>,\n",
      "              'merge': <function DataFrame.merge at 0x00000257B5B6E840>,\n",
      "              'min': <function DataFrame.min at 0x00000257B5B6EF20>,\n",
      "              'mod': <function DataFrame.mod at 0x00000257B5B6D940>,\n",
      "              'mode': <function DataFrame.mode at 0x00000257B5B6FA60>,\n",
      "              'mul': <function DataFrame.mul at 0x00000257B5B6D580>,\n",
      "              'multiply': <function DataFrame.mul at 0x00000257B5B6D580>,\n",
      "              'ne': <function DataFrame.ne at 0x00000257B5B6CFE0>,\n",
      "              'nlargest': <function DataFrame.nlargest at 0x00000257B5B6C4A0>,\n",
      "              'notna': <function DataFrame.notna at 0x00000257B5B5F740>,\n",
      "              'notnull': <function DataFrame.notnull at 0x00000257B5B5F7E0>,\n",
      "              'nsmallest': <function DataFrame.nsmallest at 0x00000257B5B6C540>,\n",
      "              'nunique': <function DataFrame.nunique at 0x00000257B5B6ED40>,\n",
      "              'pivot': <function DataFrame.pivot at 0x00000257B5B6DF80>,\n",
      "              'pivot_table': <function DataFrame.pivot_table at 0x00000257B5B6DEE0>,\n",
      "              'plot': <pandas.core.accessor.CachedAccessor object at 0x00000257B5B23DA0>,\n",
      "              'pop': <function DataFrame.pop at 0x00000257B5B5EDE0>,\n",
      "              'pow': <function DataFrame.pow at 0x00000257B5B6DA80>,\n",
      "              'prod': <function DataFrame.prod at 0x00000257B5B6F100>,\n",
      "              'product': <function DataFrame.prod at 0x00000257B5B6F100>,\n",
      "              'quantile': <function DataFrame.quantile at 0x00000257B5B6FD80>,\n",
      "              'query': <function DataFrame.query at 0x00000257B5B5DF80>,\n",
      "              'radd': <function DataFrame.radd at 0x00000257B5B6D3A0>,\n",
      "              'rdiv': <function DataFrame.rtruediv at 0x00000257B5B6D760>,\n",
      "              'reindex': <function DataFrame.reindex at 0x00000257B5B5E7A0>,\n",
      "              'rename': <function DataFrame.rename at 0x00000257B5B5ED40>,\n",
      "              'reorder_levels': <function DataFrame.reorder_levels at 0x00000257B5B6C5E0>,\n",
      "              'reset_index': <function DataFrame.reset_index at 0x00000257B5B5F4C0>,\n",
      "              'rfloordiv': <function DataFrame.rfloordiv at 0x00000257B5B6D8A0>,\n",
      "              'rmod': <function DataFrame.rmod at 0x00000257B5B6D9E0>,\n",
      "              'rmul': <function DataFrame.rmul at 0x00000257B5B6D620>,\n",
      "              'round': <function DataFrame.round at 0x00000257B5B6E8E0>,\n",
      "              'rpow': <function DataFrame.rpow at 0x00000257B5B6DB20>,\n",
      "              'rsub': <function DataFrame.rsub at 0x00000257B5B6D4E0>,\n",
      "              'rtruediv': <function DataFrame.rtruediv at 0x00000257B5B6D760>,\n",
      "              'select_dtypes': <function DataFrame.select_dtypes at 0x00000257B5B5E2A0>,\n",
      "              'sem': <function DataFrame.sem at 0x00000257B5B6F2E0>,\n",
      "              'set_axis': <function DataFrame.set_axis at 0x00000257B5B5E700>,\n",
      "              'set_index': <function DataFrame.set_index at 0x00000257B5B5F1A0>,\n",
      "              'shape': <property object at 0x00000257B5AA9940>,\n",
      "              'shift': <function DataFrame.shift at 0x00000257B5B5EFC0>,\n",
      "              'skew': <function DataFrame.skew at 0x00000257B5B6F4C0>,\n",
      "              'sort_index': <function DataFrame.sort_index at 0x00000257B5B6C360>,\n",
      "              'sort_values': <function DataFrame.sort_values at 0x00000257B5B6C040>,\n",
      "              'sparse': <pandas.core.accessor.CachedAccessor object at 0x00000257B5B60650>,\n",
      "              'stack': <function DataFrame.stack at 0x00000257B5B6E020>,\n",
      "              'std': <function DataFrame.std at 0x00000257B5B6F420>,\n",
      "              'style': <property object at 0x00000257B5B33650>,\n",
      "              'sub': <function DataFrame.sub at 0x00000257B5B6D440>,\n",
      "              'subtract': <function DataFrame.sub at 0x00000257B5B6D440>,\n",
      "              'sum': <function DataFrame.sum at 0x00000257B5B6F060>,\n",
      "              'swaplevel': <function DataFrame.swaplevel at 0x00000257B5B6C680>,\n",
      "              'to_dict': <function DataFrame.to_dict at 0x00000257B5B5BB00>,\n",
      "              'to_feather': <function DataFrame.to_feather at 0x00000257B5B5BD80>,\n",
      "              'to_gbq': <function DataFrame.to_gbq at 0x00000257B5B5BC40>,\n",
      "              'to_html': <function DataFrame.to_html at 0x00000257B5B5C7C0>,\n",
      "              'to_markdown': <function DataFrame.to_markdown at 0x00000257B5B5BF60>,\n",
      "              'to_numpy': <function DataFrame.to_numpy at 0x00000257B5B5B4C0>,\n",
      "              'to_orc': <function DataFrame.to_orc at 0x00000257B5B5C220>,\n",
      "              'to_parquet': <function DataFrame.to_parquet at 0x00000257B5B5C400>,\n",
      "              'to_period': <function DataFrame.to_period at 0x00000257B5B6FEC0>,\n",
      "              'to_records': <function DataFrame.to_records at 0x00000257B5B5BBA0>,\n",
      "              'to_stata': <function DataFrame.to_stata at 0x00000257B5B5BE20>,\n",
      "              'to_string': <function DataFrame.to_string at 0x00000257B5B5AB60>,\n",
      "              'to_timestamp': <function DataFrame.to_timestamp at 0x00000257B5B6FE20>,\n",
      "              'to_xml': <function DataFrame.to_xml at 0x00000257B5B5CAE0>,\n",
      "              'transform': <function DataFrame.transform at 0x00000257B5B6E520>,\n",
      "              'transpose': <function DataFrame.transpose at 0x00000257B5B5CB80>,\n",
      "              'truediv': <function DataFrame.truediv at 0x00000257B5B6D6C0>,\n",
      "              'unstack': <function DataFrame.unstack at 0x00000257B5B6E160>,\n",
      "              'update': <function DataFrame.update at 0x00000257B5B6DDA0>,\n",
      "              'value_counts': <function DataFrame.value_counts at 0x00000257B5B6C400>,\n",
      "              'values': <property object at 0x00000257B5B33790>,\n",
      "              'var': <function DataFrame.var at 0x00000257B5B6F380>})\n"
     ]
    }
   ],
   "source": [
    "pprint.pprint(pandas.DataFrame.__dict__)"
   ]
  },
  {
   "cell_type": "markdown",
   "id": "96127cf6-a261-48c2-8118-febce7acf451",
   "metadata": {},
   "source": [
    "Decorator - metaprogramming\n",
    "            -----------------\n",
    "               - add new features to an exisiting code\n",
    "             python ------> product1 V1.0 ->customer End\n",
    "                                ...                |\n",
    "                            product2 V2.0 ->customer End .... \n",
    "                                ...\n",
    "Web development\n",
    "Home AboutUs  news ContactUs\n",
    "               |->City1\n",
    "               |->City2\n",
    ".......................//Running \n",
    "Home AboutUs  news ContactUs\n",
    "               |->City1\n",
    "               |->City2\n",
    "               |->City3 <== new feature\n",
    "               |->City4 <== new feature\n",
    "\n",
    "Home AboutUs  news ContactUs [Blog]\n",
    "               |->City1          |__new feature\n",
    "               |->City2\n",
    "               |->City3\n",
    "               |->City4\n"
   ]
  },
  {
   "cell_type": "code",
   "execution_count": 149,
   "id": "8cb95469-1fc0-4647-9aa2-9bd75f5ba0c6",
   "metadata": {},
   "outputs": [
    {
     "data": {
      "text/plain": [
       "<function __main__.f1.<locals>.f2()>"
      ]
     },
     "execution_count": 149,
     "metadata": {},
     "output_type": "execute_result"
    }
   ],
   "source": [
    "def f1(a):  # decorator function\n",
    "    def f2(): # wrapper function\n",
    "        a()\n",
    "    return f2\n",
    "\n",
    "def news1():\n",
    "    print('City1 news page')\n",
    "\n",
    "f1(news1)"
   ]
  },
  {
   "cell_type": "code",
   "execution_count": 151,
   "id": "f718afb6-72a1-44c9-bea1-83301092206a",
   "metadata": {},
   "outputs": [
    {
     "name": "stdout",
     "output_type": "stream",
     "text": [
      "City1 news page\n"
     ]
    }
   ],
   "source": [
    "rv = f1(news1)\n",
    "rv()"
   ]
  },
  {
   "cell_type": "code",
   "execution_count": 153,
   "id": "012b9055-7495-46dc-a1b2-afd60be7a2e4",
   "metadata": {},
   "outputs": [
    {
     "name": "stdout",
     "output_type": "stream",
     "text": [
      "City2 news page\n"
     ]
    }
   ],
   "source": [
    "#rv = f1(news1)\n",
    "#rv()\n",
    "@f1\n",
    "def news2():\n",
    "    print('City2 news page')\n",
    "\n",
    "news2()"
   ]
  },
  {
   "cell_type": "code",
   "execution_count": 155,
   "id": "fb1731cf-544a-4820-bbd7-0b80408f3ff2",
   "metadata": {},
   "outputs": [
    {
     "name": "stdout",
     "output_type": "stream",
     "text": [
      "City1 news page\n"
     ]
    }
   ],
   "source": [
    "news1()"
   ]
  },
  {
   "cell_type": "code",
   "execution_count": 157,
   "id": "96f082a8-fcf6-46fc-98a5-48bf6fd990fc",
   "metadata": {},
   "outputs": [],
   "source": [
    "@f1\n",
    "def news3():\n",
    "    print('City3 news page')"
   ]
  },
  {
   "cell_type": "code",
   "execution_count": 159,
   "id": "b9b6338a-9b44-4b45-b4c5-08277b83a6c3",
   "metadata": {},
   "outputs": [
    {
     "name": "stdout",
     "output_type": "stream",
     "text": [
      "City3 news page\n"
     ]
    }
   ],
   "source": [
    "news3()"
   ]
  },
  {
   "cell_type": "code",
   "execution_count": 161,
   "id": "d4559fd0-d34a-428a-ba7e-eb6a414e90c1",
   "metadata": {},
   "outputs": [
    {
     "name": "stdout",
     "output_type": "stream",
     "text": [
      "120\n",
      "120\n",
      "\n",
      "200\n"
     ]
    }
   ],
   "source": [
    "class cname:\n",
    "    var = 120\n",
    "    @classmethod\n",
    "    def f1(cls):\n",
    "        '''this is class method'''\n",
    "        print(cls.var) # like cname.var  -> 120\n",
    "        cls.var = 200 # like cname.var = 200\n",
    "\n",
    "\n",
    "print(cname.var) # 120\n",
    "cname.f1() # f1(cname)  Vs  obj.f1() ->f1(obj) ->def f1(self):\n",
    "print('') # empty line\n",
    "print(cname.var) # 200"
   ]
  },
  {
   "cell_type": "code",
   "execution_count": 163,
   "id": "baeb7e51-77b8-47d9-a0ab-c7623d39e27a",
   "metadata": {},
   "outputs": [
    {
     "data": {
      "text/plain": [
       "'Mon Mar 17 14:52:16 2025'"
      ]
     },
     "execution_count": 163,
     "metadata": {},
     "output_type": "execute_result"
    }
   ],
   "source": [
    "import time\n",
    "time.ctime()"
   ]
  },
  {
   "cell_type": "code",
   "execution_count": 165,
   "id": "7409c08f-4309-4409-b00e-037a3d50bdcd",
   "metadata": {},
   "outputs": [],
   "source": [
    "class vendor:\n",
    "    def __init__(self,vName,vGST):\n",
    "        self.vName = vName\n",
    "        self.vGST = vGST\n",
    "        print(f'Vendor:{self.vName} registration is done!')\n",
    "    def billing(self,pName,pCost=0.0,pQty=0):\n",
    "        self.pName = pName\n",
    "        self.pCost = pCost\n",
    "        self.pQty = pQty\n",
    "        self.tax = 0.18\n",
    "        self.total = self.pQty * self.pCost\n",
    "        self.gs = self.total + self.tax\n",
    "        s1=f'VendorName:{self.vName}\\tVendorGST:{self.vGST}\\tProductName:{self.pName}\\t'\n",
    "        s2=f'Cost:{self.pCost}\\tTax:{self.tax}\\tTotal:{self.total}\\tGS:{self.gs}\\t'\n",
    "        s3=f'Billing date/time:{time.ctime()}\\n'\n",
    "        with open('billing_info.log','a') as wobj:\n",
    "            wobj.write(s1+s2+s3+'\\n')"
   ]
  },
  {
   "cell_type": "code",
   "execution_count": 167,
   "id": "0d77b74f-ccb8-4f9e-aadd-328612cf49ac",
   "metadata": {},
   "outputs": [
    {
     "name": "stdout",
     "output_type": "stream",
     "text": [
      "Vendor:vABC registration is done!\n"
     ]
    }
   ],
   "source": [
    "vobj1 = vendor('vABC','GST1234')"
   ]
  },
  {
   "cell_type": "code",
   "execution_count": 169,
   "id": "9f25efea-222f-440a-afca-9cac4d0ba666",
   "metadata": {},
   "outputs": [],
   "source": [
    "vobj1.billing('pX',1000,3)"
   ]
  },
  {
   "cell_type": "code",
   "execution_count": 171,
   "id": "deb77d39-3f58-418e-9f77-fd0ebd7f6e00",
   "metadata": {},
   "outputs": [],
   "source": [
    "vobj1.billing('pY',1250,2)"
   ]
  },
  {
   "cell_type": "code",
   "execution_count": 173,
   "id": "28d42a11-82f8-454b-86d6-b242882cc41d",
   "metadata": {},
   "outputs": [
    {
     "name": "stdout",
     "output_type": "stream",
     "text": [
      "Vendor:vXYZ registration is done!\n"
     ]
    }
   ],
   "source": [
    "vobj2=vendor('vXYZ','GST9392')"
   ]
  },
  {
   "cell_type": "code",
   "execution_count": 175,
   "id": "49cae18a-323a-4f83-90ff-894210be712d",
   "metadata": {},
   "outputs": [],
   "source": [
    "vobj2.billing('pA',500,2)"
   ]
  },
  {
   "cell_type": "code",
   "execution_count": 177,
   "id": "1200b81f-6f7d-4ec9-89c9-8827ed3b2f4b",
   "metadata": {},
   "outputs": [],
   "source": [
    "vobj2.billing('pX',1523,2)"
   ]
  },
  {
   "cell_type": "code",
   "execution_count": 179,
   "id": "d4a61009-b3f0-4300-9615-738de81d2270",
   "metadata": {},
   "outputs": [
    {
     "data": {
      "text/plain": [
       "'C:\\\\Users\\\\theeba'"
      ]
     },
     "execution_count": 179,
     "metadata": {},
     "output_type": "execute_result"
    }
   ],
   "source": [
    "import os\n",
    "os.getcwd()"
   ]
  },
  {
   "cell_type": "code",
   "execution_count": 181,
   "id": "0840dba2-76eb-421a-95ac-c93fe1d4cae7",
   "metadata": {},
   "outputs": [
    {
     "name": "stdout",
     "output_type": "stream",
     "text": [
      "Vendor:vTom registration is done!\n"
     ]
    }
   ],
   "source": [
    "import trading_app as tp\n",
    "vobj1 = tp.vendor('vTom','GST31245')\n",
    "vobj1.billing('HDD',5000,15)\n"
   ]
  },
  {
   "cell_type": "code",
   "execution_count": null,
   "id": "fce8d076-ad03-4a9f-b7c3-16c1e74a55a0",
   "metadata": {},
   "outputs": [],
   "source": [
    "Inheritance\n",
    "--------------\n",
    "reusability\n",
    "\n",
    "class pA:\n",
    "    ....\n",
    "\n",
    "class pB:\n",
    "    ...\n",
    "obj = pB()\n",
    "obj.pAattribute ->AttributeError\n",
    "\n",
    "class className(parentClassName): <== inheritance \n",
    "  ....\n",
    "obj=className()\n",
    "obj.<parentclassAttributes>\n",
    "\n",
    "\n",
    "class customDataset(torch.utils.data.Dataset): <== inheritance\n",
    "    ...\n",
    "\n",
    "custom_dataset=customDataset()\n",
    "--------------\n"
   ]
  },
  {
   "cell_type": "code",
   "execution_count": 183,
   "id": "7a472bc4-5bdd-47b1-bbb1-3393c2c843d4",
   "metadata": {},
   "outputs": [
    {
     "ename": "AttributeError",
     "evalue": "'customer' object has no attribute 'pid'",
     "output_type": "error",
     "traceback": [
      "\u001b[1;31m---------------------------------------------------------------------------\u001b[0m",
      "\u001b[1;31mAttributeError\u001b[0m                            Traceback (most recent call last)",
      "Cell \u001b[1;32mIn[183], line 9\u001b[0m\n\u001b[0;32m      6\u001b[0m     cname\u001b[38;5;241m=\u001b[39m\u001b[38;5;124m'\u001b[39m\u001b[38;5;124mMr.AB\u001b[39m\u001b[38;5;124m'\u001b[39m\n\u001b[0;32m      8\u001b[0m obj \u001b[38;5;241m=\u001b[39m customer()\n\u001b[1;32m----> 9\u001b[0m obj\u001b[38;5;241m.\u001b[39mpid\n",
      "\u001b[1;31mAttributeError\u001b[0m: 'customer' object has no attribute 'pid'"
     ]
    }
   ],
   "source": [
    "class product:\n",
    "    pid=101\n",
    "    pname = 'pX'\n",
    "\n",
    "class customer:\n",
    "    cname='Mr.AB'\n",
    "\n",
    "obj = customer()\n",
    "obj.pid"
   ]
  },
  {
   "cell_type": "code",
   "execution_count": null,
   "id": "4d5f928a-6e6d-4bc3-810b-d89e47222a44",
   "metadata": {},
   "outputs": [],
   "source": [
    ">>> import trading_app\n",
    ">>> import trading_app as tp\n",
    ">>>\n",
    ">>> vobj1 = tp.vendor('ABCDE','GST123131')\n",
    "Vendor:ABCDE registration is done!\n",
    ">>>\n",
    ">>> vobj1.billing('pA',1000,3)\n",
    ">>>\n",
    ">>> import networkx as nx\n",
    ">>> nx.Graph\n",
    "<class 'networkx.classes.graph.Graph'>\n",
    ">>>\n",
    ">>> nx.Graph()\n",
    "<networkx.classes.graph.Graph object at 0x000001A77D4CA7B0>\n",
    ">>>"
   ]
  },
  {
   "cell_type": "code",
   "execution_count": 187,
   "id": "6435922c-3b68-4925-bb4f-a8acc21d4c81",
   "metadata": {},
   "outputs": [
    {
     "name": "stdout",
     "output_type": "stream",
     "text": [
      "101 pX Mr.AB\n"
     ]
    }
   ],
   "source": [
    "class product:\n",
    "    pid=101\n",
    "    pname = 'pX'\n",
    "\n",
    "class customer(product): # inheritance   Vs   def function(argument):\n",
    "    cname='Mr.AB'\n",
    "\n",
    "obj = customer()\n",
    "print(obj.pid,obj.pname,obj.cname)"
   ]
  },
  {
   "cell_type": "code",
   "execution_count": null,
   "id": "a122f071-d26f-489e-8020-2aa76a287c78",
   "metadata": {},
   "outputs": [],
   "source": [
    "file: test1.py                          file: test2.py\n",
    "------------------                     --------------------\n",
    "class product:                          import test1\n",
    "    pid = 101                           class customer(test1.product):\n",
    "    def fx(self):                              def fy(self):\n",
    "        ...                                          ..\n",
    "--------------------                  -----------------------\n",
    "\n",
    "file: p1.py <== end user code\n",
    "--------------\n",
    "import test2\n",
    "obj = test2.customer()\n",
    "obj.fx()\n",
    "obj.fy()\n",
    "obj.pid\n",
    "---------------"
   ]
  },
  {
   "cell_type": "code",
   "execution_count": 189,
   "id": "1c921dbb-8aa4-4072-9930-d67b27749ccc",
   "metadata": {},
   "outputs": [
    {
     "name": "stdout",
     "output_type": "stream",
     "text": [
      "From customer class: 101 pX\n",
      "101 pX Mr.AB\n"
     ]
    }
   ],
   "source": [
    "class product:\n",
    "    pid=101\n",
    "    pname = 'pX'\n",
    "\n",
    "class customer(product): # inheritance   Vs   def function(argument):\n",
    "    cname='Mr.AB'\n",
    "    print('From customer class:',product.pid,product.pname)\n",
    "\n",
    "obj = customer()\n",
    "print(obj.pid,obj.pname,obj.cname)"
   ]
  },
  {
   "cell_type": "code",
   "execution_count": null,
   "id": "64ce0f62-3e67-4550-b528-e7c9245e0f51",
   "metadata": {},
   "outputs": [],
   "source": [
    "python < 2.6 \n",
    "class cname(object):\n",
    "    i = 10 ---------// ?"
   ]
  },
  {
   "cell_type": "code",
   "execution_count": 191,
   "id": "043a3795-7900-40ea-995b-6aa80dc5ab7f",
   "metadata": {},
   "outputs": [
    {
     "data": {
      "text/plain": [
       "(__main__.box, object)"
      ]
     },
     "execution_count": 191,
     "metadata": {},
     "output_type": "execute_result"
    }
   ],
   "source": [
    "class box:\n",
    "    bid = 101\n",
    "box.__mro__"
   ]
  },
  {
   "cell_type": "code",
   "execution_count": 193,
   "id": "59a9fa90-4209-4e41-b801-36931ae7b16c",
   "metadata": {},
   "outputs": [
    {
     "name": "stdout",
     "output_type": "stream",
     "text": [
      "From customer class: 101 pX\n"
     ]
    },
    {
     "data": {
      "text/plain": [
       "(__main__.customer, __main__.product, object)"
      ]
     },
     "execution_count": 193,
     "metadata": {},
     "output_type": "execute_result"
    }
   ],
   "source": [
    "class product:\n",
    "    pid=101\n",
    "    pname = 'pX'\n",
    "\n",
    "class customer(product): # inheritance   Vs   def function(argument):\n",
    "    cname='Mr.AB'\n",
    "    print('From customer class:',product.pid,product.pname)\n",
    "\n",
    "customer.__mro__"
   ]
  },
  {
   "cell_type": "code",
   "execution_count": 199,
   "id": "18dfec0d-2332-470d-a375-3cc4705729c2",
   "metadata": {},
   "outputs": [
    {
     "name": "stdout",
     "output_type": "stream",
     "text": [
      "(<class '__main__.pA'>, <class 'object'>)\n",
      "(<class '__main__.pB'>, <class 'object'>)\n",
      "(<class '__main__.pC'>, <class '__main__.pA'>, <class '__main__.pB'>, <class 'object'>)\n"
     ]
    }
   ],
   "source": [
    "class pA:\n",
    "    pass\n",
    "class pB:\n",
    "    pass\n",
    "class pC(pA,pB): # multipleinheritance\n",
    "    pass\n",
    "\n",
    "print(pA.__mro__)\n",
    "print(pB.__mro__)\n",
    "print(pC.__mro__)"
   ]
  },
  {
   "cell_type": "code",
   "execution_count": null,
   "id": "71ad1008-1d16-4a04-88c9-faf85415b288",
   "metadata": {},
   "outputs": [],
   "source": []
  },
  {
   "cell_type": "code",
   "execution_count": 201,
   "id": "2a000a08-0db8-4fe3-a1d3-dfaf1ddf1373",
   "metadata": {},
   "outputs": [
    {
     "ename": "TypeError",
     "evalue": "Cannot create a consistent method resolution\norder (MRO) for bases pA, pB",
     "output_type": "error",
     "traceback": [
      "\u001b[1;31m---------------------------------------------------------------------------\u001b[0m",
      "\u001b[1;31mTypeError\u001b[0m                                 Traceback (most recent call last)",
      "Cell \u001b[1;32mIn[201], line 5\u001b[0m\n\u001b[0;32m      3\u001b[0m \u001b[38;5;28;01mclass\u001b[39;00m \u001b[38;5;21;01mpB\u001b[39;00m(pA): \u001b[38;5;66;03m# single inheritance\u001b[39;00m\n\u001b[0;32m      4\u001b[0m     \u001b[38;5;28;01mpass\u001b[39;00m\n\u001b[1;32m----> 5\u001b[0m \u001b[38;5;28;01mclass\u001b[39;00m \u001b[38;5;21;01mpC\u001b[39;00m(pA,pB): \u001b[38;5;66;03m# multipleinheritance\u001b[39;00m\n\u001b[0;32m      6\u001b[0m     \u001b[38;5;28;01mpass\u001b[39;00m\n\u001b[0;32m      8\u001b[0m \u001b[38;5;28mprint\u001b[39m(pA\u001b[38;5;241m.\u001b[39m\u001b[38;5;18m__mro__\u001b[39m)\n",
      "\u001b[1;31mTypeError\u001b[0m: Cannot create a consistent method resolution\norder (MRO) for bases pA, pB"
     ]
    }
   ],
   "source": [
    "class pA:\n",
    "    pass\n",
    "class pB(pA): # single inheritance\n",
    "    pass\n",
    "class pC(pA,pB): # multipleinheritance\n",
    "    pass\n",
    "\n",
    "print(pA.__mro__)\n",
    "print(pB.__mro__)\n",
    "print(pC.__mro__)"
   ]
  },
  {
   "cell_type": "code",
   "execution_count": null,
   "id": "e74897dd-3068-44f1-a83e-b3cf12136030",
   "metadata": {},
   "outputs": [],
   "source": [
    "# multilevel inheritance\n",
    "class pA:\n",
    "    pass\n",
    "class pB(pA):\n",
    "    pass\n",
    "class pC(pB):\n",
    "    pass\n",
    "class pD(pC):\n",
    "    pass\n",
    "obj = pD()\n",
    "obj.<pA attribute> #OK\n",
    "obj.<pB attribute> #OK\n",
    "obj.<pC attribute> #OK\n"
   ]
  },
  {
   "cell_type": "code",
   "execution_count": 203,
   "id": "99f42bf6-4f44-48e9-9647-588c56ad70f1",
   "metadata": {},
   "outputs": [
    {
     "data": {
      "text/plain": [
       "(501, 501)"
      ]
     },
     "execution_count": 203,
     "metadata": {},
     "output_type": "execute_result"
    }
   ],
   "source": [
    "class product:\n",
    "    pid = 101\n",
    "\n",
    "class customer(product):\n",
    "    pid = 501\n",
    "    pname = 'B1'\n",
    "\n",
    "obj = customer()\n",
    "obj.pid,obj.pid"
   ]
  },
  {
   "cell_type": "code",
   "execution_count": 213,
   "id": "f25c90c6-9ff4-4f5c-a730-53110ee851a7",
   "metadata": {},
   "outputs": [
    {
     "data": {
      "text/plain": [
       "(605, 101)"
      ]
     },
     "execution_count": 213,
     "metadata": {},
     "output_type": "execute_result"
    }
   ],
   "source": [
    "class product:\n",
    "    pid = 101\n",
    "\n",
    "class customer(product):\n",
    "    mypid = product.pid\n",
    "    pid = 605\n",
    "    pname = 'B1'\n",
    "\n",
    "obj = customer()\n",
    "obj.pid,obj.mypid"
   ]
  },
  {
   "cell_type": "code",
   "execution_count": 215,
   "id": "db79f80b-276f-4e32-9816-2f5efb79adad",
   "metadata": {},
   "outputs": [
    {
     "name": "stdout",
     "output_type": "stream",
     "text": [
      "list of files\n",
      "list of files\n"
     ]
    }
   ],
   "source": [
    "class pA:\n",
    "    def display(self):\n",
    "        print('display list of products')\n",
    "\n",
    "class pB(pA):\n",
    "    def display(self):\n",
    "        print('list of files')\n",
    "\n",
    "obj = pB()\n",
    "obj.display()\n",
    "obj.display()"
   ]
  },
  {
   "cell_type": "code",
   "execution_count": 219,
   "id": "bee264dc-67a4-4f86-84a2-8e44eb984027",
   "metadata": {},
   "outputs": [
    {
     "name": "stdout",
     "output_type": "stream",
     "text": [
      "list of files\n",
      "display list of products\n"
     ]
    }
   ],
   "source": [
    "class pA:\n",
    "    def display(self):\n",
    "        print('display list of products')\n",
    "\n",
    "class pB(pA):\n",
    "    def display(self):\n",
    "        print('list of files')\n",
    "        super().display() # invoke parent class display method\n",
    "\n",
    "obj = pB()\n",
    "obj.display()"
   ]
  },
  {
   "cell_type": "markdown",
   "id": "0de7bdcc-bd24-47c1-9c3f-74b3765b48d8",
   "metadata": {},
   "source": [
    "Functional style programming\n",
    "--------------------------------\n",
    "|->High order programming => functionA(anotherFunction) map(f1,...) filter(f1,...)\n",
    "\n",
    "Functional programming\n",
    "------------------------\n",
    "lambda \n",
    "comprehension\n",
    "generator \n",
    "map,filter,enumerate "
   ]
  },
  {
   "cell_type": "code",
   "execution_count": null,
   "id": "04fc59f3-30d5-4620-8c81-e796521262be",
   "metadata": {},
   "outputs": [],
   "source": [
    "lambda \n",
    "- python keyword\n",
    "- unnamed function \n",
    "- logic is function call with arguments - return some Value\n",
    "- this is not block style code\n",
    "- supports arithmetic;relational;logical;membership;other expressions\n",
    "- can invoke external functionCall\n",
    "- lambda list of arguments:<basicOperation>"
   ]
  },
  {
   "cell_type": "code",
   "execution_count": 221,
   "id": "191ed02d-48d2-4814-b3a2-8ee8afd9cd8d",
   "metadata": {},
   "outputs": [
    {
     "data": {
      "text/plain": [
       "30"
      ]
     },
     "execution_count": 221,
     "metadata": {},
     "output_type": "execute_result"
    }
   ],
   "source": [
    "def f1(a1,a2):\n",
    "    return a1+a2\n",
    "\n",
    "f1(10,20)"
   ]
  },
  {
   "cell_type": "code",
   "execution_count": 225,
   "id": "2a190403-ef4a-4767-afe3-340fb345c34a",
   "metadata": {},
   "outputs": [
    {
     "data": {
      "text/plain": [
       "30"
      ]
     },
     "execution_count": 225,
     "metadata": {},
     "output_type": "execute_result"
    }
   ],
   "source": [
    "f2=lambda a1,a2:a1+a2\n",
    "f2(10,20)"
   ]
  },
  {
   "cell_type": "code",
   "execution_count": 227,
   "id": "536a00a2-e8a4-4443-906a-072723fcc9fc",
   "metadata": {},
   "outputs": [
    {
     "data": {
      "text/plain": [
       "True"
      ]
     },
     "execution_count": 227,
     "metadata": {},
     "output_type": "execute_result"
    }
   ],
   "source": [
    "f3=lambda a1:a1 >500\n",
    "f3(560)"
   ]
  },
  {
   "cell_type": "code",
   "execution_count": 229,
   "id": "a02c6d94-1d6d-476b-8b20-f2a77cdb3b52",
   "metadata": {},
   "outputs": [
    {
     "data": {
      "text/plain": [
       "False"
      ]
     },
     "execution_count": 229,
     "metadata": {},
     "output_type": "execute_result"
    }
   ],
   "source": [
    "f3(140)"
   ]
  },
  {
   "cell_type": "code",
   "execution_count": 231,
   "id": "2533d78d-d20f-4f64-a7ca-1d0e896915d4",
   "metadata": {},
   "outputs": [
    {
     "data": {
      "text/plain": [
       "'ABC'"
      ]
     },
     "execution_count": 231,
     "metadata": {},
     "output_type": "execute_result"
    }
   ],
   "source": [
    "f4 = lambda a:a.upper()\n",
    "f4('abc')"
   ]
  },
  {
   "cell_type": "code",
   "execution_count": 233,
   "id": "708945a2-8a1b-46c7-85eb-2c6506e94dd0",
   "metadata": {},
   "outputs": [
    {
     "data": {
      "text/plain": [
       "'ABC'"
      ]
     },
     "execution_count": 233,
     "metadata": {},
     "output_type": "execute_result"
    }
   ],
   "source": [
    "def F4(a):\n",
    "    return a.upper()\n",
    "\n",
    "F4('abc')"
   ]
  },
  {
   "cell_type": "code",
   "execution_count": 235,
   "id": "2db2175c-414a-4529-8689-6d987853ce1f",
   "metadata": {},
   "outputs": [],
   "source": [
    "def fx(a):\n",
    "    if(a >500 and a<600):\n",
    "        a = 150\n",
    "        return a+100\n",
    "    elif(a >100 and a<200):\n",
    "        return a+200\n",
    "    else:\n",
    "        return 600"
   ]
  },
  {
   "cell_type": "code",
   "execution_count": 237,
   "id": "8377a4bf-4237-4f9e-8b9a-cd4e8cae0862",
   "metadata": {},
   "outputs": [
    {
     "data": {
      "text/plain": [
       "250"
      ]
     },
     "execution_count": 237,
     "metadata": {},
     "output_type": "execute_result"
    }
   ],
   "source": [
    "f5 = lambda a1:fx(a1)\n",
    "f5(560)"
   ]
  },
  {
   "cell_type": "code",
   "execution_count": 239,
   "id": "9014f3ac-9883-4dab-b991-c5cb79684676",
   "metadata": {},
   "outputs": [
    {
     "data": {
      "text/plain": [
       "367"
      ]
     },
     "execution_count": 239,
     "metadata": {},
     "output_type": "execute_result"
    }
   ],
   "source": [
    "f5(167)"
   ]
  },
  {
   "cell_type": "code",
   "execution_count": 241,
   "id": "00748985-165c-47c2-b89a-98a77e02bd7e",
   "metadata": {},
   "outputs": [
    {
     "data": {
      "text/plain": [
       "600"
      ]
     },
     "execution_count": 241,
     "metadata": {},
     "output_type": "execute_result"
    }
   ],
   "source": [
    "f5(350)"
   ]
  },
  {
   "cell_type": "code",
   "execution_count": null,
   "id": "b08e1627-e497-4b4b-936c-cbe9eaa51d55",
   "metadata": {},
   "outputs": [],
   "source": [
    "comprehension - adding new data to an existing structure\n",
    "-------------\n",
    "  |->list comprehension - list append operation \n",
    "                            [value for iterable]\n",
    "                                       ---(1)--\n",
    "                              --(2)--\n",
    "  |->dict comprehension - adding new data to an existing dict\n",
    "                              {key:value for iterable}"
   ]
  },
  {
   "cell_type": "code",
   "execution_count": 243,
   "id": "b7ca9568-57e6-402f-9a2d-85484d85bd77",
   "metadata": {},
   "outputs": [
    {
     "data": {
      "text/plain": [
       "[101, 102, 103, 104, 105, 106, 107, 108, 109, 110]"
      ]
     },
     "execution_count": 243,
     "metadata": {},
     "output_type": "execute_result"
    }
   ],
   "source": [
    "# list comprehension\n",
    "\n",
    "L = [] \n",
    "for var in range(1,11):\n",
    "    r = var + 100\n",
    "    L.append(r)\n",
    "L"
   ]
  },
  {
   "cell_type": "code",
   "execution_count": 245,
   "id": "f9726f90-d77c-4def-9e90-d1ae9160b4f2",
   "metadata": {},
   "outputs": [
    {
     "data": {
      "text/plain": [
       "[101, 102, 103, 104, 105, 106, 107, 108, 109, 110]"
      ]
     },
     "execution_count": 245,
     "metadata": {},
     "output_type": "execute_result"
    }
   ],
   "source": [
    "[var+100 for var in range(1,11)]"
   ]
  },
  {
   "cell_type": "code",
   "execution_count": 247,
   "id": "4b48e3d2-9842-4b31-a300-bc90bad4bb60",
   "metadata": {},
   "outputs": [
    {
     "data": {
      "text/plain": [
       "[501, 502, 503, 504, 505, 106, 107, 108, 109, 110]"
      ]
     },
     "execution_count": 247,
     "metadata": {},
     "output_type": "execute_result"
    }
   ],
   "source": [
    "L = [] \n",
    "for var in range(1,11):\n",
    "    if(var >5):\n",
    "        r = var + 100\n",
    "        L.append(r)\n",
    "    else:\n",
    "        r = var + 500\n",
    "        L.append(r)\n",
    "L"
   ]
  },
  {
   "cell_type": "code",
   "execution_count": 251,
   "id": "d28f40ad-c84b-4e60-9b8c-7b684d242777",
   "metadata": {},
   "outputs": [
    {
     "data": {
      "text/plain": [
       "[501, 502, 503, 504, 505, 106, 107, 108, 109, 110]"
      ]
     },
     "execution_count": 251,
     "metadata": {},
     "output_type": "execute_result"
    }
   ],
   "source": [
    "# [True if condition else False for iterable ]\n",
    "\n",
    "[var+100 if var>5 else var+500 for var in range(1,11)]\n"
   ]
  },
  {
   "cell_type": "code",
   "execution_count": 253,
   "id": "e5edb12b-a869-4458-9fc7-d8b683b3814c",
   "metadata": {},
   "outputs": [
    {
     "data": {
      "text/plain": [
       "[106, 107, 108, 109, 110]"
      ]
     },
     "execution_count": 253,
     "metadata": {},
     "output_type": "execute_result"
    }
   ],
   "source": [
    "L = [] \n",
    "for var in range(1,11):\n",
    "    if(var >5):\n",
    "        r = var + 100\n",
    "        L.append(r)\n",
    "L"
   ]
  },
  {
   "cell_type": "code",
   "execution_count": 255,
   "id": "1ca41692-d525-45e7-99ec-245f771d73c7",
   "metadata": {},
   "outputs": [
    {
     "data": {
      "text/plain": [
       "[106, 107, 108, 109, 110]"
      ]
     },
     "execution_count": 255,
     "metadata": {},
     "output_type": "execute_result"
    }
   ],
   "source": [
    "[var+100 for var in range(1,11) if var >5]"
   ]
  },
  {
   "cell_type": "code",
   "execution_count": 257,
   "id": "caadc280-442a-4b63-9791-3c89bae44752",
   "metadata": {},
   "outputs": [
    {
     "data": {
      "text/plain": [
       "{'K': [106, 107, 108, 109, 110]}"
      ]
     },
     "execution_count": 257,
     "metadata": {},
     "output_type": "execute_result"
    }
   ],
   "source": [
    "{'K':[var+100 for var in range(1,11) if var >5]}"
   ]
  },
  {
   "cell_type": "code",
   "execution_count": 261,
   "id": "d076a459-dc21-443b-94f1-50831bb9890a",
   "metadata": {},
   "outputs": [
    {
     "data": {
      "text/plain": [
       "{'K10': [106, 107, 108, 109, 110]}"
      ]
     },
     "execution_count": 261,
     "metadata": {},
     "output_type": "execute_result"
    }
   ],
   "source": [
    "{'K'+str(var):[var+100 for var in range(1,11) if var >5]}"
   ]
  },
  {
   "cell_type": "code",
   "execution_count": 273,
   "id": "5293d0f1-98bf-4199-8715-4079af301a24",
   "metadata": {},
   "outputs": [
    {
     "data": {
      "text/plain": [
       "{'K1': 101, 'K2': 102, 'K3': 103, 'K4': 104, 'K5': 105}"
      ]
     },
     "execution_count": 273,
     "metadata": {},
     "output_type": "execute_result"
    }
   ],
   "source": [
    "# dict comprehension\n",
    "{'K'+str(var): var+100 for var in range(1,6)}"
   ]
  },
  {
   "cell_type": "code",
   "execution_count": 275,
   "id": "d3de7510-7144-4be0-853c-73f5a9ac4026",
   "metadata": {},
   "outputs": [
    {
     "data": {
      "text/plain": [
       "{'K4': 104, 'K5': 105}"
      ]
     },
     "execution_count": 275,
     "metadata": {},
     "output_type": "execute_result"
    }
   ],
   "source": [
    "{'K'+str(var): var+100 for var in range(1,6) if var > 3}"
   ]
  },
  {
   "cell_type": "code",
   "execution_count": 281,
   "id": "2be7efe6-1ab3-4307-89a1-5ef2b1115d93",
   "metadata": {},
   "outputs": [
    {
     "name": "stdout",
     "output_type": "stream",
     "text": [
      "<class 'function'> <class 'int'>\n",
      "<class 'function'> <class 'generator'>\n"
     ]
    }
   ],
   "source": [
    "#Generator  - Function ->returns an address \n",
    "                       #------------------- yield value\n",
    "\n",
    "def f1():\n",
    "    return 10\n",
    "\n",
    "print(type(f1),type(f1()))\n",
    "\n",
    "def f2():\n",
    "    yield 10\n",
    "\n",
    "print(type(f2),type(f2()))"
   ]
  },
  {
   "cell_type": "markdown",
   "id": "032c5fd4-7626-4221-9f09-0cf6618aae4c",
   "metadata": {},
   "source": [
    ">>> os.listdir(\"Rya-Project\")\n",
    "['L1', 'L2', 'p1.py', 'p2.py', 'p3.py', 'templates']\n",
    ">>>\n",
    ">>> os.walk(\"Rya-Project\")\n",
    "<generator object walk at 0x000001F5894B4320>\n",
    ">>>\n",
    ">>> gen_obj = os.walk(\"Rya-Project\")\n",
    ">>> for var in gen_obj:\n",
    "...     print(var)\n",
    "...\n",
    "('Rya-Project', ['L1', 'L2', 'templates'], ['p1.py', 'p2.py', 'p3.py'])\n",
    "('Rya-Project\\\\L1', ['S1', 'S2'], ['p2.log'])\n",
    "('Rya-Project\\\\L1\\\\S1', [], ['p1.log'])\n",
    "('Rya-Project\\\\L1\\\\S2', [], [])\n",
    "('Rya-Project\\\\L2', [], [])\n",
    "('Rya-Project\\\\templates', [], ['a.html', 'b.html', 'c.html', 'd.html', 'e.html'])\n",
    ">>> bool([])\n",
    "False\n",
    ">>> gen_obj = os.walk(\"Rya-Project\")\n",
    ">>> list(gen_obj)\n",
    "[('Rya-Project', ['L1', 'L2', 'templates'], ['p1.py', 'p2.py', 'p3.py']), ('Rya-Project\\\\L1', ['S1', 'S2'], ['p2.log']), ('Rya-Project\\\\L1\\\\S1', [], ['p1.log']), ('Rya-Project\\\\L1\\\\S2', [], []), ('Rya-Project\\\\L2', [], []), ('Rya-Project\\\\templates', [], ['a.html', 'b.html', 'c.html', 'd.html', 'e.html'])]\n",
    ">>>"
   ]
  },
  {
   "cell_type": "code",
   "execution_count": 283,
   "id": "ae332cf9-5ad8-4fca-ae88-9eca17a6f8ad",
   "metadata": {},
   "outputs": [
    {
     "data": {
      "text/plain": [
       "<generator object f2 at 0x00000257B5D63110>"
      ]
     },
     "execution_count": 283,
     "metadata": {},
     "output_type": "execute_result"
    }
   ],
   "source": [
    "f2()"
   ]
  },
  {
   "cell_type": "code",
   "execution_count": 285,
   "id": "71b81784-8e97-49fc-9f20-533b2496b2a4",
   "metadata": {},
   "outputs": [],
   "source": [
    "def f2():\n",
    "    yield 10\n",
    "    yield 20\n",
    "    yield 30\n",
    "    yield 40\n",
    "    yield 50+60\n",
    "    yield \"D1\",\"D2\"\n",
    "    yield \"D1\",[\"F1\",\"F2\"],[\"F3\",\"F4\",\"F5\"]"
   ]
  },
  {
   "cell_type": "code",
   "execution_count": 287,
   "id": "d13c2594-9818-4aba-9f34-31b6cc161036",
   "metadata": {},
   "outputs": [
    {
     "data": {
      "text/plain": [
       "<generator object f2 at 0x00000257B81B5780>"
      ]
     },
     "execution_count": 287,
     "metadata": {},
     "output_type": "execute_result"
    }
   ],
   "source": [
    "f2()"
   ]
  },
  {
   "cell_type": "code",
   "execution_count": null,
   "id": "e005fd5f-bc12-40f3-bb83-4ffb01b5efb5",
   "metadata": {},
   "outputs": [],
   "source": [
    "1. next(gen_obj) ->value... StopIteration\n",
    "2. for var in gen_obj:\n",
    "           ...\n",
    "3. list(gen_obj) # typecast to list"
   ]
  },
  {
   "cell_type": "code",
   "execution_count": 289,
   "id": "8e870675-52b4-4362-b0b6-affe80b30834",
   "metadata": {},
   "outputs": [],
   "source": [
    "gen_obj = f2()"
   ]
  },
  {
   "cell_type": "code",
   "execution_count": 291,
   "id": "68b2963f-7641-48d0-9fa7-914107c6a636",
   "metadata": {},
   "outputs": [
    {
     "name": "stdout",
     "output_type": "stream",
     "text": [
      "10\n",
      "20\n",
      "30\n",
      "40\n",
      "110\n",
      "('D1', 'D2')\n",
      "('D1', ['F1', 'F2'], ['F3', 'F4', 'F5'])\n"
     ]
    },
    {
     "ename": "StopIteration",
     "evalue": "",
     "output_type": "error",
     "traceback": [
      "\u001b[1;31m---------------------------------------------------------------------------\u001b[0m",
      "\u001b[1;31mStopIteration\u001b[0m                             Traceback (most recent call last)",
      "Cell \u001b[1;32mIn[291], line 8\u001b[0m\n\u001b[0;32m      6\u001b[0m \u001b[38;5;28mprint\u001b[39m(\u001b[38;5;28mnext\u001b[39m(gen_obj))\n\u001b[0;32m      7\u001b[0m \u001b[38;5;28mprint\u001b[39m(\u001b[38;5;28mnext\u001b[39m(gen_obj))\n\u001b[1;32m----> 8\u001b[0m \u001b[38;5;28mprint\u001b[39m(\u001b[38;5;28mnext\u001b[39m(gen_obj))\n",
      "\u001b[1;31mStopIteration\u001b[0m: "
     ]
    }
   ],
   "source": [
    "print(next(gen_obj))\n",
    "print(next(gen_obj))\n",
    "print(next(gen_obj))\n",
    "print(next(gen_obj))\n",
    "print(next(gen_obj))\n",
    "print(next(gen_obj))\n",
    "print(next(gen_obj))\n",
    "print(next(gen_obj))"
   ]
  },
  {
   "cell_type": "code",
   "execution_count": 293,
   "id": "aef14406-5393-4644-b2fc-6e86582bb7ea",
   "metadata": {},
   "outputs": [
    {
     "name": "stdout",
     "output_type": "stream",
     "text": [
      "10\n",
      "20\n",
      "30\n",
      "40\n",
      "110\n",
      "('D1', 'D2')\n",
      "('D1', ['F1', 'F2'], ['F3', 'F4', 'F5'])\n"
     ]
    }
   ],
   "source": [
    "gen_obj = f2()\n",
    "for var in gen_obj:\n",
    "    print(var)"
   ]
  },
  {
   "cell_type": "code",
   "execution_count": 295,
   "id": "e3754fc1-66e5-4506-bc6a-63c1beec409a",
   "metadata": {},
   "outputs": [
    {
     "data": {
      "text/plain": [
       "[10, 20, 30, 40, 110, ('D1', 'D2'), ('D1', ['F1', 'F2'], ['F3', 'F4', 'F5'])]"
      ]
     },
     "execution_count": 295,
     "metadata": {},
     "output_type": "execute_result"
    }
   ],
   "source": [
    "gen_obj = f2()\n",
    "list(gen_obj)"
   ]
  },
  {
   "cell_type": "code",
   "execution_count": 297,
   "id": "4dc9a266-d7e9-49d5-843f-262fb31f5b90",
   "metadata": {},
   "outputs": [
    {
     "data": {
      "text/plain": [
       "198"
      ]
     },
     "execution_count": 297,
     "metadata": {},
     "output_type": "execute_result"
    }
   ],
   "source": [
    "len(os.listdir('.'))"
   ]
  },
  {
   "cell_type": "markdown",
   "id": "33c709a2-2127-4f9e-aac1-982707f53d26",
   "metadata": {},
   "source": [
    "#for var in os.walk('.'):\n",
    "#    print(var)"
   ]
  },
  {
   "cell_type": "code",
   "execution_count": null,
   "id": "c95712c9-db04-4330-833a-89b625491805",
   "metadata": {},
   "outputs": [],
   "source": [
    "map()      -> map(function,collection) -> Generator\n",
    "                   ^^^^^     ^^^^^^\n",
    "filter()   -> filter(function,collection) -> Generator\n",
    "              -------//returns True value only"
   ]
  },
  {
   "cell_type": "code",
   "execution_count": 300,
   "id": "2aaf44b3-84f3-450e-af40-f1ad04627056",
   "metadata": {},
   "outputs": [
    {
     "name": "stdout",
     "output_type": "stream",
     "text": [
      "[101, 102, 103, 104, 105]\n"
     ]
    }
   ],
   "source": [
    "L = []\n",
    "def f1(a):\n",
    "    return a+100\n",
    "\n",
    "for var in range(1,6):\n",
    "    r = f1(var)\n",
    "    L.append(r)\n",
    "\n",
    "print(L)"
   ]
  },
  {
   "cell_type": "code",
   "execution_count": 302,
   "id": "e92e2ec2-d3fa-4384-a902-f6db2a8bc289",
   "metadata": {},
   "outputs": [
    {
     "data": {
      "text/plain": [
       "<map at 0x257b827fc10>"
      ]
     },
     "execution_count": 302,
     "metadata": {},
     "output_type": "execute_result"
    }
   ],
   "source": [
    "map(lambda a:a+100,range(1,6))"
   ]
  },
  {
   "cell_type": "code",
   "execution_count": 304,
   "id": "a40c0251-2825-419f-8891-fafaefa95938",
   "metadata": {},
   "outputs": [
    {
     "data": {
      "text/plain": [
       "[101, 102, 103, 104, 105]"
      ]
     },
     "execution_count": 304,
     "metadata": {},
     "output_type": "execute_result"
    }
   ],
   "source": [
    "list(map(lambda a:a+100,range(1,6)))"
   ]
  },
  {
   "cell_type": "code",
   "execution_count": 308,
   "id": "2fbde54e-ce08-4207-9759-d90bde481b23",
   "metadata": {},
   "outputs": [
    {
     "data": {
      "text/plain": [
       "['eid,ename,edept,eplace,ecost\\n',\n",
       " '101,ram,sales,pune,1000\\n',\n",
       " '102,leo,prod,bglore,2000\\n',\n",
       " '103,anu,HR,hyd,3000\\n',\n",
       " '104,paul,sales,bglore,3200\\n',\n",
       " '423,zio,sales,pune,3420\\n',\n",
       " '142,anu,prod,chennai,4300\\n',\n",
       " '949,karthik,sales,bglore,3100\\n',\n",
       " '848,tom,hr,chennai,3940\\n',\n",
       " '931,vijay,prod,chennai,3411']"
      ]
     },
     "execution_count": 308,
     "metadata": {},
     "output_type": "execute_result"
    }
   ],
   "source": [
    "list(open('emp.csv')) "
   ]
  },
  {
   "cell_type": "code",
   "execution_count": 310,
   "id": "a9dc0193-51e9-4b77-bff1-b2260d7fa197",
   "metadata": {},
   "outputs": [
    {
     "data": {
      "text/plain": [
       "{'CSV': ['eid,ename,edept,eplace,ecost\\n',\n",
       "  '101,ram,sales,pune,1000\\n',\n",
       "  '102,leo,prod,bglore,2000\\n',\n",
       "  '103,anu,HR,hyd,3000\\n',\n",
       "  '104,paul,sales,bglore,3200\\n',\n",
       "  '423,zio,sales,pune,3420\\n',\n",
       "  '142,anu,prod,chennai,4300\\n',\n",
       "  '949,karthik,sales,bglore,3100\\n',\n",
       "  '848,tom,hr,chennai,3940\\n',\n",
       "  '931,vijay,prod,chennai,3411']}"
      ]
     },
     "execution_count": 310,
     "metadata": {},
     "output_type": "execute_result"
    }
   ],
   "source": [
    "d={}\n",
    "d['CSV']=list(open('emp.csv')) \n",
    "d"
   ]
  },
  {
   "cell_type": "code",
   "execution_count": 312,
   "id": "46cd0fb6-3f7d-4276-8997-65e7effb132c",
   "metadata": {},
   "outputs": [
    {
     "data": {
      "text/plain": [
       "[False, True, False, False, True, True, False, True, False, False]"
      ]
     },
     "execution_count": 312,
     "metadata": {},
     "output_type": "execute_result"
    }
   ],
   "source": [
    "list(map(lambda a:'sales' in a,open('emp.csv')))"
   ]
  },
  {
   "cell_type": "code",
   "execution_count": 314,
   "id": "13b52603-a0f8-40d3-8877-74af8ba862e9",
   "metadata": {},
   "outputs": [
    {
     "data": {
      "text/plain": [
       "['101,ram,sales,pune,1000\\n',\n",
       " '104,paul,sales,bglore,3200\\n',\n",
       " '423,zio,sales,pune,3420\\n',\n",
       " '949,karthik,sales,bglore,3100\\n']"
      ]
     },
     "execution_count": 314,
     "metadata": {},
     "output_type": "execute_result"
    }
   ],
   "source": [
    "list(filter(lambda a:'sales' in a,open('emp.csv')))"
   ]
  },
  {
   "cell_type": "code",
   "execution_count": 316,
   "id": "c7dc84f2-580a-47a3-97a5-84830ea79ded",
   "metadata": {},
   "outputs": [],
   "source": [
    "dept={} # create empty dict\n",
    "dept['SALES']=list(filter(lambda a:'sales' in a,open('emp.csv'))) # add data to dict\n",
    "dept['PROD']=list(filter(lambda a:'prod' in a,open('emp.csv'))) # add data to dict\n",
    "dept['hr']=list(filter(lambda a:'hr' in a,open('emp.csv'))) # add data to dict"
   ]
  },
  {
   "cell_type": "code",
   "execution_count": 318,
   "id": "1742eaf3-f313-4697-bc29-d29b26bd918c",
   "metadata": {},
   "outputs": [
    {
     "data": {
      "text/plain": [
       "{'SALES': ['101,ram,sales,pune,1000\\n',\n",
       "  '104,paul,sales,bglore,3200\\n',\n",
       "  '423,zio,sales,pune,3420\\n',\n",
       "  '949,karthik,sales,bglore,3100\\n'],\n",
       " 'PROD': ['102,leo,prod,bglore,2000\\n',\n",
       "  '142,anu,prod,chennai,4300\\n',\n",
       "  '931,vijay,prod,chennai,3411'],\n",
       " 'hr': ['848,tom,hr,chennai,3940\\n']}"
      ]
     },
     "execution_count": 318,
     "metadata": {},
     "output_type": "execute_result"
    }
   ],
   "source": [
    "dept"
   ]
  },
  {
   "cell_type": "code",
   "execution_count": 320,
   "id": "55da75f7-6f0f-46c9-9374-044b1cdbe49c",
   "metadata": {},
   "outputs": [
    {
     "data": {
      "text/plain": [
       "[101, 102, 103, 104, 105]"
      ]
     },
     "execution_count": 320,
     "metadata": {},
     "output_type": "execute_result"
    }
   ],
   "source": [
    "list(map(lambda a:a+100,range(1,6)))"
   ]
  },
  {
   "cell_type": "code",
   "execution_count": 326,
   "id": "5157106b-51d7-4c85-9685-28000494b2c3",
   "metadata": {},
   "outputs": [
    {
     "data": {
      "text/plain": [
       "[1, 2, 3, 4, 5]"
      ]
     },
     "execution_count": 326,
     "metadata": {},
     "output_type": "execute_result"
    }
   ],
   "source": [
    "# filter - supports conditional based \n",
    "list(filter(lambda a:a+100,range(1,6)))"
   ]
  },
  {
   "cell_type": "code",
   "execution_count": 322,
   "id": "65bf80eb-846e-4855-b9e8-38da46848863",
   "metadata": {},
   "outputs": [
    {
     "data": {
      "text/plain": [
       "[False, False, False, True, True]"
      ]
     },
     "execution_count": 322,
     "metadata": {},
     "output_type": "execute_result"
    }
   ],
   "source": [
    "list(map(lambda a: a > 3,range(1,6)))"
   ]
  },
  {
   "cell_type": "code",
   "execution_count": 324,
   "id": "4ee1b67e-b79d-4ad6-8ad8-c717fd0e8add",
   "metadata": {},
   "outputs": [
    {
     "data": {
      "text/plain": [
       "[4, 5]"
      ]
     },
     "execution_count": 324,
     "metadata": {},
     "output_type": "execute_result"
    }
   ],
   "source": [
    "list(filter(lambda a:a>3,range(1,6)))"
   ]
  },
  {
   "cell_type": "code",
   "execution_count": 330,
   "id": "cf22e510-26d0-4f12-be34-a441ace39ec0",
   "metadata": {},
   "outputs": [
    {
     "data": {
      "text/plain": [
       "<enumerate at 0x257b7d85940>"
      ]
     },
     "execution_count": 330,
     "metadata": {},
     "output_type": "execute_result"
    }
   ],
   "source": [
    "#help(enumerate)\n",
    "enumerate('python')"
   ]
  },
  {
   "cell_type": "code",
   "execution_count": 332,
   "id": "b5f29179-5e8a-4c75-aa21-db33aa873e59",
   "metadata": {},
   "outputs": [
    {
     "data": {
      "text/plain": [
       "[(0, 'p'), (1, 'y'), (2, 't'), (3, 'h'), (4, 'o'), (5, 'n')]"
      ]
     },
     "execution_count": 332,
     "metadata": {},
     "output_type": "execute_result"
    }
   ],
   "source": [
    "list(enumerate('python'))"
   ]
  },
  {
   "cell_type": "code",
   "execution_count": 334,
   "id": "7cad89a4-577b-41ee-9a05-40eee38b88a9",
   "metadata": {},
   "outputs": [
    {
     "name": "stdout",
     "output_type": "stream",
     "text": [
      "(0, 'p')\n",
      "(1, 'y')\n",
      "(2, 't')\n",
      "(3, 'h')\n",
      "(4, 'o')\n",
      "(5, 'n')\n"
     ]
    }
   ],
   "source": [
    "for var in enumerate('python'):\n",
    "    print(var)"
   ]
  },
  {
   "cell_type": "code",
   "execution_count": 336,
   "id": "2f2e0ed0-53a1-4fe3-83e3-ad33f86a67f1",
   "metadata": {},
   "outputs": [
    {
     "name": "stdout",
     "output_type": "stream",
     "text": [
      "(5, 'p')\n",
      "(6, 'y')\n",
      "(7, 't')\n",
      "(8, 'h')\n",
      "(9, 'o')\n",
      "(10, 'n')\n"
     ]
    }
   ],
   "source": [
    "for var in enumerate('python',5):\n",
    "    print(var)"
   ]
  },
  {
   "cell_type": "code",
   "execution_count": 338,
   "id": "e9011de1-9ec1-4a3e-bd08-429057a55779",
   "metadata": {},
   "outputs": [
    {
     "name": "stdout",
     "output_type": "stream",
     "text": [
      "(15, 'p')\n",
      "(16, 'y')\n",
      "(17, 't')\n",
      "(18, 'h')\n",
      "(19, 'o')\n",
      "(20, 'n')\n"
     ]
    }
   ],
   "source": [
    "for var in enumerate('python',15):\n",
    "    print(var)"
   ]
  },
  {
   "cell_type": "code",
   "execution_count": 340,
   "id": "c79ff77d-d999-47f4-ac10-01db40895256",
   "metadata": {},
   "outputs": [
    {
     "name": "stdout",
     "output_type": "stream",
     "text": [
      "(500, 'p')\n",
      "(501, 'y')\n",
      "(502, 't')\n",
      "(503, 'h')\n",
      "(504, 'o')\n",
      "(505, 'n')\n"
     ]
    }
   ],
   "source": [
    "for var in enumerate('python',500):\n",
    "    print(var)"
   ]
  },
  {
   "cell_type": "code",
   "execution_count": null,
   "id": "1b92c77b-7f7e-48b1-a11e-4e3505da92ac",
   "metadata": {},
   "outputs": [],
   "source": [
    "open emp.csv file - use enumerate\n",
    "set the index count is 1\n",
    "apply line filter - 5 to 8 \n",
    "display 5th line to 8th line contents\n",
    "--------------------------------------"
   ]
  },
  {
   "cell_type": "code",
   "execution_count": 342,
   "id": "b4ae70b0-2665-4a2f-828a-407b05892d49",
   "metadata": {},
   "outputs": [
    {
     "data": {
      "text/plain": [
       "<enumerate at 0x257b6e397b0>"
      ]
     },
     "execution_count": 342,
     "metadata": {},
     "output_type": "execute_result"
    }
   ],
   "source": [
    "enumerate(open('emp.csv'))"
   ]
  },
  {
   "cell_type": "code",
   "execution_count": 344,
   "id": "d9ab7a25-753e-4222-8667-64914fce04b5",
   "metadata": {},
   "outputs": [
    {
     "name": "stdout",
     "output_type": "stream",
     "text": [
      "(0, 'eid,ename,edept,eplace,ecost\\n')\n",
      "(1, '101,ram,sales,pune,1000\\n')\n",
      "(2, '102,leo,prod,bglore,2000\\n')\n",
      "(3, '103,anu,HR,hyd,3000\\n')\n",
      "(4, '104,paul,sales,bglore,3200\\n')\n",
      "(5, '423,zio,sales,pune,3420\\n')\n",
      "(6, '142,anu,prod,chennai,4300\\n')\n",
      "(7, '949,karthik,sales,bglore,3100\\n')\n",
      "(8, '848,tom,hr,chennai,3940\\n')\n",
      "(9, '931,vijay,prod,chennai,3411')\n"
     ]
    }
   ],
   "source": [
    "for var in enumerate(open('emp.csv')):\n",
    "    print(var)"
   ]
  },
  {
   "cell_type": "code",
   "execution_count": 348,
   "id": "71b35968-760d-40f8-8dfc-0830ce4f0d96",
   "metadata": {},
   "outputs": [
    {
     "name": "stdout",
     "output_type": "stream",
     "text": [
      "5 423,zio,sales,pune,3420\n",
      "6 142,anu,prod,chennai,4300\n",
      "7 949,karthik,sales,bglore,3100\n",
      "8 848,tom,hr,chennai,3940\n"
     ]
    }
   ],
   "source": [
    "for var in enumerate(open('emp.csv')):\n",
    "    line,data = var # multiple initialization\n",
    "    if(line >=5 and line <= 8):\n",
    "        print(line,data.strip()) # remove \\n"
   ]
  },
  {
   "cell_type": "code",
   "execution_count": 350,
   "id": "c8d857d9-5044-4010-b409-f07224f8d596",
   "metadata": {},
   "outputs": [
    {
     "name": "stdout",
     "output_type": "stream",
     "text": [
      "5 104,paul,sales,bglore,3200\n",
      "6 423,zio,sales,pune,3420\n",
      "7 142,anu,prod,chennai,4300\n",
      "8 949,karthik,sales,bglore,3100\n"
     ]
    }
   ],
   "source": [
    "for var in enumerate(open('emp.csv'),1):\n",
    "    line,data = var # multiple initialization\n",
    "    if(line >=5 and line <= 8):\n",
    "        print(line,data.strip()) # remove \\n"
   ]
  },
  {
   "cell_type": "code",
   "execution_count": 354,
   "id": "12ac8ed4-2721-4241-9225-297fa67b5ae8",
   "metadata": {},
   "outputs": [
    {
     "data": {
      "text/plain": [
       "['104,paul,sales,bglore,3200',\n",
       " '423,zio,sales,pune,3420',\n",
       " '142,anu,prod,chennai,4300',\n",
       " '949,karthik,sales,bglore,3100']"
      ]
     },
     "execution_count": 354,
     "metadata": {},
     "output_type": "execute_result"
    }
   ],
   "source": [
    "[data.strip() for line,data in enumerate(open('emp.csv'),1) if line >= 5 and line <=8 ]"
   ]
  },
  {
   "cell_type": "code",
   "execution_count": 356,
   "id": "65cff7cf-e8ed-4367-b499-56f93bb6bbd3",
   "metadata": {},
   "outputs": [
    {
     "data": {
      "text/plain": [
       "{'K1': ['104,paul,sales,bglore,3200',\n",
       "  '423,zio,sales,pune,3420',\n",
       "  '142,anu,prod,chennai,4300',\n",
       "  '949,karthik,sales,bglore,3100']}"
      ]
     },
     "execution_count": 356,
     "metadata": {},
     "output_type": "execute_result"
    }
   ],
   "source": [
    "d={}\n",
    "d['K1']=[data.strip() for line,data in enumerate(open('emp.csv'),1) if line >= 5 and line <=8 ]\n",
    "d"
   ]
  },
  {
   "cell_type": "code",
   "execution_count": 370,
   "id": "14332123-6487-438b-abc7-799840809f4d",
   "metadata": {},
   "outputs": [
    {
     "data": {
      "text/plain": [
       "(4, 3)"
      ]
     },
     "execution_count": 370,
     "metadata": {},
     "output_type": "execute_result"
    }
   ],
   "source": [
    "dept={} # create empty dict\n",
    "dept['SALES']=list(filter(lambda a:'sales' in a,open('emp.csv'))) # add data to dict\n",
    "dept['PROD']=list(filter(lambda a:'prod' in a,open('emp.csv'))) # add data to dict\n",
    "dept['hr']=list(filter(lambda a:'hr' in a,open('emp.csv'))) # add data to dict\n",
    "len(dept['SALES']),len(dept['PROD'])"
   ]
  },
  {
   "cell_type": "code",
   "execution_count": null,
   "id": "dfcad54f-12fc-4be0-8095-895148ed9e25",
   "metadata": {},
   "outputs": [],
   "source": [
    "numpy\n",
    "--------\n",
    " ->mathematical operation\n",
    " |\n",
    " -> index ; slicing;reshape\n",
    " -> ufunctions\n"
   ]
  },
  {
   "cell_type": "code",
   "execution_count": 372,
   "id": "e54170c5-69f4-4078-86bf-2b6f4b69b2bb",
   "metadata": {},
   "outputs": [
    {
     "ename": "TypeError",
     "evalue": "can only concatenate list (not \"int\") to list",
     "output_type": "error",
     "traceback": [
      "\u001b[1;31m---------------------------------------------------------------------------\u001b[0m",
      "\u001b[1;31mTypeError\u001b[0m                                 Traceback (most recent call last)",
      "Cell \u001b[1;32mIn[372], line 2\u001b[0m\n\u001b[0;32m      1\u001b[0m L1\u001b[38;5;241m=\u001b[39m[\u001b[38;5;241m10\u001b[39m,\u001b[38;5;241m20\u001b[39m,\u001b[38;5;241m30\u001b[39m,\u001b[38;5;241m40\u001b[39m,\u001b[38;5;241m50\u001b[39m]\n\u001b[1;32m----> 2\u001b[0m L1\u001b[38;5;241m+\u001b[39m\u001b[38;5;241m100\u001b[39m\n",
      "\u001b[1;31mTypeError\u001b[0m: can only concatenate list (not \"int\") to list"
     ]
    }
   ],
   "source": [
    "L1=[10,20,30,40,50]\n",
    "L1+100"
   ]
  },
  {
   "cell_type": "code",
   "execution_count": 374,
   "id": "2f1f1fe2-f3ae-4990-9852-491985c55a04",
   "metadata": {},
   "outputs": [
    {
     "data": {
      "text/plain": [
       "[10, 20, 30, 15, 25, 35]"
      ]
     },
     "execution_count": 374,
     "metadata": {},
     "output_type": "execute_result"
    }
   ],
   "source": [
    "L1=[10,20,30]\n",
    "L2=[15,25,35]\n",
    "L1+L2"
   ]
  },
  {
   "cell_type": "code",
   "execution_count": 376,
   "id": "1352de68-d7e0-42a4-80f1-ebaf1c08d3f5",
   "metadata": {},
   "outputs": [
    {
     "ename": "TypeError",
     "evalue": "'>' not supported between instances of 'list' and 'int'",
     "output_type": "error",
     "traceback": [
      "\u001b[1;31m---------------------------------------------------------------------------\u001b[0m",
      "\u001b[1;31mTypeError\u001b[0m                                 Traceback (most recent call last)",
      "Cell \u001b[1;32mIn[376], line 1\u001b[0m\n\u001b[1;32m----> 1\u001b[0m L1 \u001b[38;5;241m>\u001b[39m \u001b[38;5;241m150\u001b[39m\n",
      "\u001b[1;31mTypeError\u001b[0m: '>' not supported between instances of 'list' and 'int'"
     ]
    }
   ],
   "source": [
    "L1 > 150"
   ]
  },
  {
   "cell_type": "code",
   "execution_count": 378,
   "id": "a8dd0d23-f657-44d9-8056-2eaab5e20d3c",
   "metadata": {},
   "outputs": [
    {
     "data": {
      "text/plain": [
       "[10, 20, 30, 'data']"
      ]
     },
     "execution_count": 378,
     "metadata": {},
     "output_type": "execute_result"
    }
   ],
   "source": [
    "L1.append(\"data\")\n",
    "L1"
   ]
  },
  {
   "cell_type": "code",
   "execution_count": 382,
   "id": "9f3458a9-7210-43a2-b119-fd9f7f00be17",
   "metadata": {},
   "outputs": [
    {
     "data": {
      "text/plain": [
       "array('i', [10, 15, 25])"
      ]
     },
     "execution_count": 382,
     "metadata": {},
     "output_type": "execute_result"
    }
   ],
   "source": [
    "import array\n",
    "#help(array.array)\n",
    "arr = array.array('i')\n",
    "arr.append(10)\n",
    "arr.append(15)\n",
    "arr.append(25)\n",
    "arr"
   ]
  },
  {
   "cell_type": "code",
   "execution_count": 384,
   "id": "1e9129f5-9cb4-43a2-b3b3-a7df419b4089",
   "metadata": {},
   "outputs": [
    {
     "ename": "TypeError",
     "evalue": "'float' object cannot be interpreted as an integer",
     "output_type": "error",
     "traceback": [
      "\u001b[1;31m---------------------------------------------------------------------------\u001b[0m",
      "\u001b[1;31mTypeError\u001b[0m                                 Traceback (most recent call last)",
      "Cell \u001b[1;32mIn[384], line 1\u001b[0m\n\u001b[1;32m----> 1\u001b[0m arr\u001b[38;5;241m.\u001b[39mappend(\u001b[38;5;241m35.0\u001b[39m)\n",
      "\u001b[1;31mTypeError\u001b[0m: 'float' object cannot be interpreted as an integer"
     ]
    }
   ],
   "source": [
    "arr.append(35.0)"
   ]
  },
  {
   "cell_type": "code",
   "execution_count": 386,
   "id": "bf332749-6623-45e1-9371-e941303ca1b9",
   "metadata": {},
   "outputs": [
    {
     "data": {
      "text/plain": [
       "array('i', [10, 15, 25])"
      ]
     },
     "execution_count": 386,
     "metadata": {},
     "output_type": "execute_result"
    }
   ],
   "source": [
    "arr"
   ]
  },
  {
   "cell_type": "code",
   "execution_count": 388,
   "id": "498c3a62-64e9-46ae-92dc-b01291576e09",
   "metadata": {},
   "outputs": [
    {
     "ename": "TypeError",
     "evalue": "can only append array (not \"int\") to array",
     "output_type": "error",
     "traceback": [
      "\u001b[1;31m---------------------------------------------------------------------------\u001b[0m",
      "\u001b[1;31mTypeError\u001b[0m                                 Traceback (most recent call last)",
      "Cell \u001b[1;32mIn[388], line 1\u001b[0m\n\u001b[1;32m----> 1\u001b[0m arr\u001b[38;5;241m+\u001b[39m\u001b[38;5;241m100\u001b[39m\n",
      "\u001b[1;31mTypeError\u001b[0m: can only append array (not \"int\") to array"
     ]
    }
   ],
   "source": [
    "arr+100"
   ]
  },
  {
   "cell_type": "code",
   "execution_count": 390,
   "id": "c4d64553-bd57-47b8-9c7e-c4c757c172d7",
   "metadata": {},
   "outputs": [
    {
     "data": {
      "text/plain": [
       "array([10, 20, 30])"
      ]
     },
     "execution_count": 390,
     "metadata": {},
     "output_type": "execute_result"
    }
   ],
   "source": [
    "import numpy\n",
    "numpy.array([10,20,30])"
   ]
  },
  {
   "cell_type": "code",
   "execution_count": 392,
   "id": "54633de3-dd99-4f61-8915-180e229ccf05",
   "metadata": {},
   "outputs": [
    {
     "data": {
      "text/plain": [
       "array([110, 120, 130])"
      ]
     },
     "execution_count": 392,
     "metadata": {},
     "output_type": "execute_result"
    }
   ],
   "source": [
    "a1 = numpy.array([10,20,30])\n",
    "a1+100"
   ]
  },
  {
   "cell_type": "code",
   "execution_count": 394,
   "id": "e730ea81-694a-4006-aa70-a22d50860c63",
   "metadata": {},
   "outputs": [
    {
     "data": {
      "text/plain": [
       "array([False,  True,  True])"
      ]
     },
     "execution_count": 394,
     "metadata": {},
     "output_type": "execute_result"
    }
   ],
   "source": [
    "a1 >15"
   ]
  },
  {
   "cell_type": "code",
   "execution_count": 396,
   "id": "d5326116-a6f8-4808-a866-72a6de600f53",
   "metadata": {},
   "outputs": [
    {
     "data": {
      "text/plain": [
       "array([20, 30])"
      ]
     },
     "execution_count": 396,
     "metadata": {},
     "output_type": "execute_result"
    }
   ],
   "source": [
    "a1[a1 >15] # boolean index"
   ]
  },
  {
   "cell_type": "code",
   "execution_count": 402,
   "id": "6422af34-e98d-4983-b75b-826aef7eb6ac",
   "metadata": {},
   "outputs": [
    {
     "name": "stdout",
     "output_type": "stream",
     "text": [
      "int32\n",
      "1\n",
      "(3,)\n"
     ]
    }
   ],
   "source": [
    "print(a1.dtype)\n",
    "print(a1.ndim)\n",
    "print(a1.shape)"
   ]
  },
  {
   "cell_type": "code",
   "execution_count": 406,
   "id": "363d6c94-2f10-453a-92f7-4dc498f8866c",
   "metadata": {},
   "outputs": [
    {
     "name": "stdout",
     "output_type": "stream",
     "text": [
      "int32 1 (3,)\n",
      "\n",
      "int32 2 (1, 3)\n",
      "\n",
      "int32 3 (1, 1, 3)\n",
      "\n"
     ]
    }
   ],
   "source": [
    "a1 = numpy.array([10,20,30])\n",
    "print(a1.dtype,a1.ndim,a1.shape)\n",
    "print('') # empty line\n",
    "\n",
    "a2 = numpy.array([[10,20,30]])\n",
    "print(a2.dtype,a2.ndim,a2.shape)\n",
    "print('') # empty line\n",
    "\n",
    "\n",
    "a3 = numpy.array([[[10,20,30]]])\n",
    "print(a3.dtype,a3.ndim,a3.shape)\n",
    "print('') # empty line"
   ]
  },
  {
   "cell_type": "code",
   "execution_count": 410,
   "id": "53b14969-bfa4-4fd3-acb9-e5901762c70d",
   "metadata": {},
   "outputs": [
    {
     "name": "stdout",
     "output_type": "stream",
     "text": [
      "int32 1 (3,)\n",
      "10\n",
      "\n",
      "int32 2 (1, 3)\n",
      "[10 20 30]\n",
      "10\n",
      "10\n",
      "\n",
      "int32 3 (1, 1, 3)\n",
      "[[10 20 30]]\n",
      "[10 20 30]\n",
      "10\n",
      "\n"
     ]
    }
   ],
   "source": [
    "a1 = numpy.array([10,20,30])\n",
    "print(a1.dtype,a1.ndim,a1.shape)\n",
    "print(a1[0])\n",
    "print('') # empty line\n",
    "\n",
    "a2 = numpy.array([[10,20,30]])\n",
    "print(a2.dtype,a2.ndim,a2.shape)\n",
    "print(a2[0])\n",
    "print(a2[0][0])\n",
    "print(a2[0,0]) # same as a2[0][0]\n",
    "print('') # empty line\n",
    "\n",
    "\n",
    "a3 = numpy.array([[[10,20,30]]])\n",
    "print(a3.dtype,a3.ndim,a3.shape)\n",
    "print(a3[0])\n",
    "print(a3[0][0])\n",
    "print(a3[0][0][0])\n",
    "print('') # empty line"
   ]
  },
  {
   "cell_type": "code",
   "execution_count": 414,
   "id": "cba535d0-3245-4a07-b720-107bfb0fb1c9",
   "metadata": {},
   "outputs": [
    {
     "data": {
      "text/plain": [
       "dtype('int32')"
      ]
     },
     "execution_count": 414,
     "metadata": {},
     "output_type": "execute_result"
    }
   ],
   "source": [
    "numpy.array([1,2,3]).dtype"
   ]
  },
  {
   "cell_type": "code",
   "execution_count": 416,
   "id": "8bf1ac7f-c64a-40c7-a913-55f7ae824223",
   "metadata": {},
   "outputs": [
    {
     "data": {
      "text/plain": [
       "dtype('float64')"
      ]
     },
     "execution_count": 416,
     "metadata": {},
     "output_type": "execute_result"
    }
   ],
   "source": [
    "numpy.array([1,2.0,3]).dtype"
   ]
  },
  {
   "cell_type": "code",
   "execution_count": 418,
   "id": "c52a6a4b-30c1-4c87-be59-fa7b38eae1c5",
   "metadata": {},
   "outputs": [
    {
     "data": {
      "text/plain": [
       "dtype('<U32')"
      ]
     },
     "execution_count": 418,
     "metadata": {},
     "output_type": "execute_result"
    }
   ],
   "source": [
    "numpy.array([1,2.0,'data']).dtype"
   ]
  },
  {
   "cell_type": "code",
   "execution_count": 422,
   "id": "25d788c1-dd7b-4ba7-a6ed-32a7b3ebe820",
   "metadata": {},
   "outputs": [
    {
     "data": {
      "text/plain": [
       "dtype('bool')"
      ]
     },
     "execution_count": 422,
     "metadata": {},
     "output_type": "execute_result"
    }
   ],
   "source": [
    "numpy.array([True,False]).dtype"
   ]
  },
  {
   "cell_type": "code",
   "execution_count": 424,
   "id": "aea4216f-be33-491f-ac9b-42b91009c7da",
   "metadata": {},
   "outputs": [
    {
     "data": {
      "text/plain": [
       "7"
      ]
     },
     "execution_count": 424,
     "metadata": {},
     "output_type": "execute_result"
    }
   ],
   "source": [
    "a1 = numpy.array([10,20,30]) # 1D - like list - index \n",
    "\n",
    "a2 = numpy.array([[10,20,30]]) # 2D Table ->Row X Cols\n",
    "\n",
    "a3 = numpy.array([[[10,20,30]]]) # 3D Table - Slicing,Row X cols - cube width,height,depth\n",
    "\n",
    "an = numpy.array([[[[[[[10,20]]]]]]])\n",
    "an.ndim"
   ]
  },
  {
   "cell_type": "code",
   "execution_count": 439,
   "id": "a603480e-cb56-4f22-9616-ece50808d622",
   "metadata": {},
   "outputs": [
    {
     "name": "stdout",
     "output_type": "stream",
     "text": [
      "2 (2, 4)\n"
     ]
    },
    {
     "data": {
      "text/plain": [
       "array([[10, 20, 30, 40],\n",
       "       [50, 60, 70, 80]])"
      ]
     },
     "execution_count": 439,
     "metadata": {},
     "output_type": "execute_result"
    }
   ],
   "source": [
    "# change the dimension - based on the avaiable of data\n",
    "\n",
    "a1 = numpy.array([[10,20,30,40],[50,60,70,80]])\n",
    "print(a1.ndim,a1.shape)\n",
    "a1"
   ]
  },
  {
   "cell_type": "code",
   "execution_count": 441,
   "id": "25eb5582-abd9-4ff3-b833-5a1a6c17c8c0",
   "metadata": {},
   "outputs": [
    {
     "data": {
      "text/plain": [
       "array([[10, 20],\n",
       "       [30, 40],\n",
       "       [50, 60],\n",
       "       [70, 80]])"
      ]
     },
     "execution_count": 441,
     "metadata": {},
     "output_type": "execute_result"
    }
   ],
   "source": [
    "a1.reshape(4,2) # 4rows and 2 Cols"
   ]
  },
  {
   "cell_type": "code",
   "execution_count": 443,
   "id": "0b8aa5b9-b40a-4ea2-a7b4-df8fe47c9c32",
   "metadata": {},
   "outputs": [
    {
     "data": {
      "text/plain": [
       "array([[10, 20, 30, 40, 50, 60, 70, 80]])"
      ]
     },
     "execution_count": 443,
     "metadata": {},
     "output_type": "execute_result"
    }
   ],
   "source": [
    "a1.reshape(1,8)"
   ]
  },
  {
   "cell_type": "code",
   "execution_count": 445,
   "id": "18ef0413-4e8d-49ba-8b35-468fc694422c",
   "metadata": {},
   "outputs": [
    {
     "data": {
      "text/plain": [
       "array([[10],\n",
       "       [20],\n",
       "       [30],\n",
       "       [40],\n",
       "       [50],\n",
       "       [60],\n",
       "       [70],\n",
       "       [80]])"
      ]
     },
     "execution_count": 445,
     "metadata": {},
     "output_type": "execute_result"
    }
   ],
   "source": [
    "a1.reshape(8,1) # 8 Rows X 1 cols"
   ]
  },
  {
   "cell_type": "code",
   "execution_count": 447,
   "id": "61c6403c-772d-45f5-b888-6fc0cfac0a41",
   "metadata": {},
   "outputs": [
    {
     "ename": "ValueError",
     "evalue": "cannot reshape array of size 8 into shape (3,2)",
     "output_type": "error",
     "traceback": [
      "\u001b[1;31m---------------------------------------------------------------------------\u001b[0m",
      "\u001b[1;31mValueError\u001b[0m                                Traceback (most recent call last)",
      "Cell \u001b[1;32mIn[447], line 1\u001b[0m\n\u001b[1;32m----> 1\u001b[0m a1\u001b[38;5;241m.\u001b[39mreshape(\u001b[38;5;241m3\u001b[39m,\u001b[38;5;241m2\u001b[39m)\n",
      "\u001b[1;31mValueError\u001b[0m: cannot reshape array of size 8 into shape (3,2)"
     ]
    }
   ],
   "source": [
    "a1.reshape(3,2)"
   ]
  },
  {
   "cell_type": "code",
   "execution_count": 451,
   "id": "45875308-8c04-4c42-83f9-e3a4e705109e",
   "metadata": {},
   "outputs": [
    {
     "name": "stdout",
     "output_type": "stream",
     "text": [
      "360\n",
      "80\n",
      "10\n"
     ]
    }
   ],
   "source": [
    "import numpy as np\n",
    "print(np.sum(a1))\n",
    "print(np.max(a1))\n",
    "print(np.min(a1))"
   ]
  },
  {
   "cell_type": "code",
   "execution_count": null,
   "id": "7b9b011d-cd76-4dc6-96d5-9f8e3e4a89cf",
   "metadata": {},
   "outputs": [],
   "source": [
    "     C1    C2    C3\n",
    "R1    10   20    30\n",
    "R2    40   50    60"
   ]
  },
  {
   "cell_type": "code",
   "execution_count": 453,
   "id": "3540d8d1-57fe-4aef-b83a-6d35fff23a16",
   "metadata": {},
   "outputs": [
    {
     "data": {
      "text/plain": [
       "210"
      ]
     },
     "execution_count": 453,
     "metadata": {},
     "output_type": "execute_result"
    }
   ],
   "source": [
    "a1 = np.array([[10,20,30],[40,50,60]])\n",
    "np.sum(a1)"
   ]
  },
  {
   "cell_type": "code",
   "execution_count": 455,
   "id": "ab0b5aad-653e-48d5-bc12-9461d233bb3b",
   "metadata": {},
   "outputs": [
    {
     "data": {
      "text/plain": [
       "array([50, 70, 90])"
      ]
     },
     "execution_count": 455,
     "metadata": {},
     "output_type": "execute_result"
    }
   ],
   "source": [
    "np.sum(a1,axis=0) # column"
   ]
  },
  {
   "cell_type": "code",
   "execution_count": 457,
   "id": "0ad1010b-a092-40cf-aeeb-ad7a21ad13fa",
   "metadata": {},
   "outputs": [
    {
     "data": {
      "text/plain": [
       "array([ 60, 150])"
      ]
     },
     "execution_count": 457,
     "metadata": {},
     "output_type": "execute_result"
    }
   ],
   "source": [
    "np.sum(a1,axis=1) # row"
   ]
  },
  {
   "cell_type": "markdown",
   "id": "479a30fa-dfc8-45be-b9d7-52498fefc822",
   "metadata": {},
   "source": [
    "np.sum\n",
    "np.max\n",
    "np.min\n",
    "np.mean\n",
    "np.median\n",
    "np.unique\n",
    ".."
   ]
  },
  {
   "cell_type": "code",
   "execution_count": 459,
   "id": "3e00ba9c-fdce-4d24-99e4-272fed019e18",
   "metadata": {},
   "outputs": [
    {
     "name": "stdout",
     "output_type": "stream",
     "text": [
      "1500\n"
     ]
    }
   ],
   "source": [
    "empCost = [100,200,300,400,500]\n",
    "\n",
    "t=0\n",
    "for var in empCost:\n",
    "    t=t+var\n",
    "print(t)"
   ]
  },
  {
   "cell_type": "code",
   "execution_count": 461,
   "id": "d083a993-ce34-40dc-96e7-49e8a4c76a3e",
   "metadata": {},
   "outputs": [
    {
     "data": {
      "text/plain": [
       "1500"
      ]
     },
     "execution_count": 461,
     "metadata": {},
     "output_type": "execute_result"
    }
   ],
   "source": [
    "np.sum(empCost) #<== numpy way"
   ]
  },
  {
   "cell_type": "code",
   "execution_count": null,
   "id": "f75bdf7c-789b-45ed-9974-ab729571051e",
   "metadata": {},
   "outputs": [],
   "source": []
  }
 ],
 "metadata": {
  "kernelspec": {
   "display_name": "Python 3 (ipykernel)",
   "language": "python",
   "name": "python3"
  },
  "language_info": {
   "codemirror_mode": {
    "name": "ipython",
    "version": 3
   },
   "file_extension": ".py",
   "mimetype": "text/x-python",
   "name": "python",
   "nbconvert_exporter": "python",
   "pygments_lexer": "ipython3",
   "version": "3.12.3"
  }
 },
 "nbformat": 4,
 "nbformat_minor": 5
}
