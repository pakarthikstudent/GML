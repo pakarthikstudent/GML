{
 "cells": [
  {
   "cell_type": "code",
   "execution_count": 1,
   "id": "4bbcd823-b042-431d-a994-a6a1086a6b7e",
   "metadata": {},
   "outputs": [],
   "source": [
    "import numpy as np\n",
    "import pandas as pd\n",
    "import matplotlib as plt"
   ]
  },
  {
   "cell_type": "code",
   "execution_count": 3,
   "id": "d6e76fcb-3a3b-4b81-9ef7-3ad6f03cf3dd",
   "metadata": {},
   "outputs": [
    {
     "name": "stdout",
     "output_type": "stream",
     "text": [
      "<class 'pandas.core.frame.DataFrame'>\n",
      "MultiIndex: 14 entries, ('host01', 10, 20, 30, 40, 98) to ('host12', 10, 20, 30, 50, 98)\n",
      "Data columns (total 9 columns):\n",
      " #   Column        Non-Null Count  Dtype\n",
      "---  ------        --------------  -----\n",
      " 0   node          14 non-null     int64\n",
      " 1   IPAddress     14 non-null     int64\n",
      " 2   cpu           14 non-null     int64\n",
      " 3   memory        14 non-null     int64\n",
      " 4   io            14 non-null     int64\n",
      " 5   tls           14 non-null     int64\n",
      " 6   web           14 non-null     int64\n",
      " 7   semaphore     14 non-null     int64\n",
      " 8   sharedmemory  14 non-null     int64\n",
      "dtypes: int64(9)\n",
      "memory usage: 2.5+ KB\n"
     ]
    },
    {
     "name": "stderr",
     "output_type": "stream",
     "text": [
      "C:\\Users\\theeba\\AppData\\Local\\Temp\\ipykernel_23452\\18231646.py:1: ParserWarning: Falling back to the 'python' engine because the 'c' engine does not support regex separators (separators > 1 char and different from '\\s+' are interpreted as regex); you can avoid this warning by specifying engine='python'.\n",
      "  df_sys_log = pd.read_csv('sysinfo.log',sep=\"[^\\\\w\\\\s]\")\n"
     ]
    }
   ],
   "source": [
    "df_sys_log = pd.read_csv('sysinfo.log',sep=\"[^\\\\w\\\\s]\")\n",
    "df_sys_log.info()"
   ]
  },
  {
   "cell_type": "code",
   "execution_count": 5,
   "id": "5f33406c-4c49-4701-974c-dbd381f3e16e",
   "metadata": {},
   "outputs": [
    {
     "data": {
      "text/plain": [
       "(14, 9)"
      ]
     },
     "execution_count": 5,
     "metadata": {},
     "output_type": "execute_result"
    }
   ],
   "source": [
    "df_sys_log.shape"
   ]
  },
  {
   "cell_type": "code",
   "execution_count": 7,
   "id": "c2ead8a6-bed3-44c2-9acb-10dfc91b4d95",
   "metadata": {},
   "outputs": [
    {
     "data": {
      "text/plain": [
       "Index(['node', 'IPAddress', 'cpu', 'memory', 'io', 'tls', 'web', 'semaphore',\n",
       "       'sharedmemory'],\n",
       "      dtype='object')"
      ]
     },
     "execution_count": 7,
     "metadata": {},
     "output_type": "execute_result"
    }
   ],
   "source": [
    "df_sys_log.columns"
   ]
  },
  {
   "cell_type": "code",
   "execution_count": 9,
   "id": "fa0ad13e-e1f9-47a0-a1f7-43634330b0aa",
   "metadata": {},
   "outputs": [
    {
     "data": {
      "text/html": [
       "<div>\n",
       "<style scoped>\n",
       "    .dataframe tbody tr th:only-of-type {\n",
       "        vertical-align: middle;\n",
       "    }\n",
       "\n",
       "    .dataframe tbody tr th {\n",
       "        vertical-align: top;\n",
       "    }\n",
       "\n",
       "    .dataframe thead th {\n",
       "        text-align: right;\n",
       "    }\n",
       "</style>\n",
       "<table border=\"1\" class=\"dataframe\">\n",
       "  <thead>\n",
       "    <tr style=\"text-align: right;\">\n",
       "      <th></th>\n",
       "      <th></th>\n",
       "      <th></th>\n",
       "      <th></th>\n",
       "      <th></th>\n",
       "      <th></th>\n",
       "      <th>node</th>\n",
       "      <th>cpu</th>\n",
       "      <th>memory</th>\n",
       "      <th>io</th>\n",
       "      <th>semaphore</th>\n",
       "      <th>sharedmemory</th>\n",
       "    </tr>\n",
       "  </thead>\n",
       "  <tbody>\n",
       "    <tr>\n",
       "      <th>host01</th>\n",
       "      <th>10</th>\n",
       "      <th>20</th>\n",
       "      <th>30</th>\n",
       "      <th>40</th>\n",
       "      <th>98</th>\n",
       "      <td>45</td>\n",
       "      <td>32</td>\n",
       "      <td>90</td>\n",
       "      <td>120</td>\n",
       "      <td>90</td>\n",
       "      <td>44</td>\n",
       "    </tr>\n",
       "    <tr>\n",
       "      <th>host02</th>\n",
       "      <th>10</th>\n",
       "      <th>20</th>\n",
       "      <th>30</th>\n",
       "      <th>41</th>\n",
       "      <th>65</th>\n",
       "      <td>35</td>\n",
       "      <td>32</td>\n",
       "      <td>90</td>\n",
       "      <td>120</td>\n",
       "      <td>90</td>\n",
       "      <td>44</td>\n",
       "    </tr>\n",
       "    <tr>\n",
       "      <th>host03</th>\n",
       "      <th>10</th>\n",
       "      <th>20</th>\n",
       "      <th>30</th>\n",
       "      <th>42</th>\n",
       "      <th>98</th>\n",
       "      <td>23</td>\n",
       "      <td>32</td>\n",
       "      <td>90</td>\n",
       "      <td>120</td>\n",
       "      <td>90</td>\n",
       "      <td>43</td>\n",
       "    </tr>\n",
       "    <tr>\n",
       "      <th>host04</th>\n",
       "      <th>10</th>\n",
       "      <th>20</th>\n",
       "      <th>30</th>\n",
       "      <th>43</th>\n",
       "      <th>68</th>\n",
       "      <td>45</td>\n",
       "      <td>32</td>\n",
       "      <td>90</td>\n",
       "      <td>120</td>\n",
       "      <td>90</td>\n",
       "      <td>42</td>\n",
       "    </tr>\n",
       "    <tr>\n",
       "      <th>host05</th>\n",
       "      <th>10</th>\n",
       "      <th>20</th>\n",
       "      <th>30</th>\n",
       "      <th>44</th>\n",
       "      <th>78</th>\n",
       "      <td>55</td>\n",
       "      <td>32</td>\n",
       "      <td>90</td>\n",
       "      <td>120</td>\n",
       "      <td>90</td>\n",
       "      <td>44</td>\n",
       "    </tr>\n",
       "    <tr>\n",
       "      <th>host06</th>\n",
       "      <th>10</th>\n",
       "      <th>20</th>\n",
       "      <th>30</th>\n",
       "      <th>45</th>\n",
       "      <th>98</th>\n",
       "      <td>25</td>\n",
       "      <td>32</td>\n",
       "      <td>90</td>\n",
       "      <td>120</td>\n",
       "      <td>90</td>\n",
       "      <td>41</td>\n",
       "    </tr>\n",
       "    <tr>\n",
       "      <th>host07</th>\n",
       "      <th>10</th>\n",
       "      <th>20</th>\n",
       "      <th>30</th>\n",
       "      <th>45</th>\n",
       "      <th>98</th>\n",
       "      <td>45</td>\n",
       "      <td>32</td>\n",
       "      <td>90</td>\n",
       "      <td>120</td>\n",
       "      <td>80</td>\n",
       "      <td>44</td>\n",
       "    </tr>\n",
       "    <tr>\n",
       "      <th>host08</th>\n",
       "      <th>10</th>\n",
       "      <th>20</th>\n",
       "      <th>30</th>\n",
       "      <th>46</th>\n",
       "      <th>98</th>\n",
       "      <td>25</td>\n",
       "      <td>32</td>\n",
       "      <td>90</td>\n",
       "      <td>120</td>\n",
       "      <td>90</td>\n",
       "      <td>45</td>\n",
       "    </tr>\n",
       "    <tr>\n",
       "      <th rowspan=\"2\" valign=\"top\">host09</th>\n",
       "      <th rowspan=\"2\" valign=\"top\">10</th>\n",
       "      <th rowspan=\"2\" valign=\"top\">20</th>\n",
       "      <th rowspan=\"2\" valign=\"top\">30</th>\n",
       "      <th rowspan=\"2\" valign=\"top\">47</th>\n",
       "      <th>88</th>\n",
       "      <td>45</td>\n",
       "      <td>32</td>\n",
       "      <td>90</td>\n",
       "      <td>120</td>\n",
       "      <td>80</td>\n",
       "      <td>44</td>\n",
       "    </tr>\n",
       "    <tr>\n",
       "      <th>98</th>\n",
       "      <td>75</td>\n",
       "      <td>32</td>\n",
       "      <td>90</td>\n",
       "      <td>120</td>\n",
       "      <td>80</td>\n",
       "      <td>43</td>\n",
       "    </tr>\n",
       "    <tr>\n",
       "      <th rowspan=\"2\" valign=\"top\">host10</th>\n",
       "      <th rowspan=\"2\" valign=\"top\">10</th>\n",
       "      <th rowspan=\"2\" valign=\"top\">20</th>\n",
       "      <th rowspan=\"2\" valign=\"top\">30</th>\n",
       "      <th rowspan=\"2\" valign=\"top\">48</th>\n",
       "      <th>98</th>\n",
       "      <td>45</td>\n",
       "      <td>32</td>\n",
       "      <td>90</td>\n",
       "      <td>120</td>\n",
       "      <td>90</td>\n",
       "      <td>44</td>\n",
       "    </tr>\n",
       "    <tr>\n",
       "      <th>98</th>\n",
       "      <td>45</td>\n",
       "      <td>32</td>\n",
       "      <td>90</td>\n",
       "      <td>120</td>\n",
       "      <td>90</td>\n",
       "      <td>42</td>\n",
       "    </tr>\n",
       "    <tr>\n",
       "      <th>host11</th>\n",
       "      <th>10</th>\n",
       "      <th>20</th>\n",
       "      <th>30</th>\n",
       "      <th>49</th>\n",
       "      <th>98</th>\n",
       "      <td>45</td>\n",
       "      <td>32</td>\n",
       "      <td>90</td>\n",
       "      <td>120</td>\n",
       "      <td>50</td>\n",
       "      <td>44</td>\n",
       "    </tr>\n",
       "    <tr>\n",
       "      <th>host12</th>\n",
       "      <th>10</th>\n",
       "      <th>20</th>\n",
       "      <th>30</th>\n",
       "      <th>50</th>\n",
       "      <th>98</th>\n",
       "      <td>45</td>\n",
       "      <td>32</td>\n",
       "      <td>90</td>\n",
       "      <td>120</td>\n",
       "      <td>50</td>\n",
       "      <td>44</td>\n",
       "    </tr>\n",
       "  </tbody>\n",
       "</table>\n",
       "</div>"
      ],
      "text/plain": [
       "                       node  cpu  memory   io  semaphore  sharedmemory\n",
       "host01 10 20 30 40 98    45   32      90  120         90            44\n",
       "host02 10 20 30 41 65    35   32      90  120         90            44\n",
       "host03 10 20 30 42 98    23   32      90  120         90            43\n",
       "host04 10 20 30 43 68    45   32      90  120         90            42\n",
       "host05 10 20 30 44 78    55   32      90  120         90            44\n",
       "host06 10 20 30 45 98    25   32      90  120         90            41\n",
       "host07 10 20 30 45 98    45   32      90  120         80            44\n",
       "host08 10 20 30 46 98    25   32      90  120         90            45\n",
       "host09 10 20 30 47 88    45   32      90  120         80            44\n",
       "                   98    75   32      90  120         80            43\n",
       "host10 10 20 30 48 98    45   32      90  120         90            44\n",
       "                   98    45   32      90  120         90            42\n",
       "host11 10 20 30 49 98    45   32      90  120         50            44\n",
       "host12 10 20 30 50 98    45   32      90  120         50            44"
      ]
     },
     "execution_count": 9,
     "metadata": {},
     "output_type": "execute_result"
    }
   ],
   "source": [
    "df_sys_log.drop(columns=['IPAddress','web','tls'])"
   ]
  },
  {
   "cell_type": "code",
   "execution_count": 11,
   "id": "3295d8ed-1683-4b3b-adf8-92814d0cd071",
   "metadata": {},
   "outputs": [],
   "source": [
    "df_sys_log.drop(columns=['IPAddress','web','tls'],inplace=True)"
   ]
  },
  {
   "cell_type": "code",
   "execution_count": 13,
   "id": "cbdf4131-674a-48ba-8397-df2b88a1511f",
   "metadata": {},
   "outputs": [
    {
     "data": {
      "text/html": [
       "<div>\n",
       "<style scoped>\n",
       "    .dataframe tbody tr th:only-of-type {\n",
       "        vertical-align: middle;\n",
       "    }\n",
       "\n",
       "    .dataframe tbody tr th {\n",
       "        vertical-align: top;\n",
       "    }\n",
       "\n",
       "    .dataframe thead th {\n",
       "        text-align: right;\n",
       "    }\n",
       "</style>\n",
       "<table border=\"1\" class=\"dataframe\">\n",
       "  <thead>\n",
       "    <tr style=\"text-align: right;\">\n",
       "      <th></th>\n",
       "      <th></th>\n",
       "      <th></th>\n",
       "      <th></th>\n",
       "      <th></th>\n",
       "      <th></th>\n",
       "      <th>node</th>\n",
       "      <th>cpu</th>\n",
       "      <th>memory</th>\n",
       "      <th>io</th>\n",
       "      <th>SEM</th>\n",
       "      <th>SHM</th>\n",
       "    </tr>\n",
       "  </thead>\n",
       "  <tbody>\n",
       "    <tr>\n",
       "      <th>host01</th>\n",
       "      <th>10</th>\n",
       "      <th>20</th>\n",
       "      <th>30</th>\n",
       "      <th>40</th>\n",
       "      <th>98</th>\n",
       "      <td>45</td>\n",
       "      <td>32</td>\n",
       "      <td>90</td>\n",
       "      <td>120</td>\n",
       "      <td>90</td>\n",
       "      <td>44</td>\n",
       "    </tr>\n",
       "    <tr>\n",
       "      <th>host02</th>\n",
       "      <th>10</th>\n",
       "      <th>20</th>\n",
       "      <th>30</th>\n",
       "      <th>41</th>\n",
       "      <th>65</th>\n",
       "      <td>35</td>\n",
       "      <td>32</td>\n",
       "      <td>90</td>\n",
       "      <td>120</td>\n",
       "      <td>90</td>\n",
       "      <td>44</td>\n",
       "    </tr>\n",
       "    <tr>\n",
       "      <th>host03</th>\n",
       "      <th>10</th>\n",
       "      <th>20</th>\n",
       "      <th>30</th>\n",
       "      <th>42</th>\n",
       "      <th>98</th>\n",
       "      <td>23</td>\n",
       "      <td>32</td>\n",
       "      <td>90</td>\n",
       "      <td>120</td>\n",
       "      <td>90</td>\n",
       "      <td>43</td>\n",
       "    </tr>\n",
       "    <tr>\n",
       "      <th>host04</th>\n",
       "      <th>10</th>\n",
       "      <th>20</th>\n",
       "      <th>30</th>\n",
       "      <th>43</th>\n",
       "      <th>68</th>\n",
       "      <td>45</td>\n",
       "      <td>32</td>\n",
       "      <td>90</td>\n",
       "      <td>120</td>\n",
       "      <td>90</td>\n",
       "      <td>42</td>\n",
       "    </tr>\n",
       "    <tr>\n",
       "      <th>host05</th>\n",
       "      <th>10</th>\n",
       "      <th>20</th>\n",
       "      <th>30</th>\n",
       "      <th>44</th>\n",
       "      <th>78</th>\n",
       "      <td>55</td>\n",
       "      <td>32</td>\n",
       "      <td>90</td>\n",
       "      <td>120</td>\n",
       "      <td>90</td>\n",
       "      <td>44</td>\n",
       "    </tr>\n",
       "    <tr>\n",
       "      <th>host06</th>\n",
       "      <th>10</th>\n",
       "      <th>20</th>\n",
       "      <th>30</th>\n",
       "      <th>45</th>\n",
       "      <th>98</th>\n",
       "      <td>25</td>\n",
       "      <td>32</td>\n",
       "      <td>90</td>\n",
       "      <td>120</td>\n",
       "      <td>90</td>\n",
       "      <td>41</td>\n",
       "    </tr>\n",
       "    <tr>\n",
       "      <th>host07</th>\n",
       "      <th>10</th>\n",
       "      <th>20</th>\n",
       "      <th>30</th>\n",
       "      <th>45</th>\n",
       "      <th>98</th>\n",
       "      <td>45</td>\n",
       "      <td>32</td>\n",
       "      <td>90</td>\n",
       "      <td>120</td>\n",
       "      <td>80</td>\n",
       "      <td>44</td>\n",
       "    </tr>\n",
       "    <tr>\n",
       "      <th>host08</th>\n",
       "      <th>10</th>\n",
       "      <th>20</th>\n",
       "      <th>30</th>\n",
       "      <th>46</th>\n",
       "      <th>98</th>\n",
       "      <td>25</td>\n",
       "      <td>32</td>\n",
       "      <td>90</td>\n",
       "      <td>120</td>\n",
       "      <td>90</td>\n",
       "      <td>45</td>\n",
       "    </tr>\n",
       "    <tr>\n",
       "      <th rowspan=\"2\" valign=\"top\">host09</th>\n",
       "      <th rowspan=\"2\" valign=\"top\">10</th>\n",
       "      <th rowspan=\"2\" valign=\"top\">20</th>\n",
       "      <th rowspan=\"2\" valign=\"top\">30</th>\n",
       "      <th rowspan=\"2\" valign=\"top\">47</th>\n",
       "      <th>88</th>\n",
       "      <td>45</td>\n",
       "      <td>32</td>\n",
       "      <td>90</td>\n",
       "      <td>120</td>\n",
       "      <td>80</td>\n",
       "      <td>44</td>\n",
       "    </tr>\n",
       "    <tr>\n",
       "      <th>98</th>\n",
       "      <td>75</td>\n",
       "      <td>32</td>\n",
       "      <td>90</td>\n",
       "      <td>120</td>\n",
       "      <td>80</td>\n",
       "      <td>43</td>\n",
       "    </tr>\n",
       "    <tr>\n",
       "      <th rowspan=\"2\" valign=\"top\">host10</th>\n",
       "      <th rowspan=\"2\" valign=\"top\">10</th>\n",
       "      <th rowspan=\"2\" valign=\"top\">20</th>\n",
       "      <th rowspan=\"2\" valign=\"top\">30</th>\n",
       "      <th rowspan=\"2\" valign=\"top\">48</th>\n",
       "      <th>98</th>\n",
       "      <td>45</td>\n",
       "      <td>32</td>\n",
       "      <td>90</td>\n",
       "      <td>120</td>\n",
       "      <td>90</td>\n",
       "      <td>44</td>\n",
       "    </tr>\n",
       "    <tr>\n",
       "      <th>98</th>\n",
       "      <td>45</td>\n",
       "      <td>32</td>\n",
       "      <td>90</td>\n",
       "      <td>120</td>\n",
       "      <td>90</td>\n",
       "      <td>42</td>\n",
       "    </tr>\n",
       "    <tr>\n",
       "      <th>host11</th>\n",
       "      <th>10</th>\n",
       "      <th>20</th>\n",
       "      <th>30</th>\n",
       "      <th>49</th>\n",
       "      <th>98</th>\n",
       "      <td>45</td>\n",
       "      <td>32</td>\n",
       "      <td>90</td>\n",
       "      <td>120</td>\n",
       "      <td>50</td>\n",
       "      <td>44</td>\n",
       "    </tr>\n",
       "    <tr>\n",
       "      <th>host12</th>\n",
       "      <th>10</th>\n",
       "      <th>20</th>\n",
       "      <th>30</th>\n",
       "      <th>50</th>\n",
       "      <th>98</th>\n",
       "      <td>45</td>\n",
       "      <td>32</td>\n",
       "      <td>90</td>\n",
       "      <td>120</td>\n",
       "      <td>50</td>\n",
       "      <td>44</td>\n",
       "    </tr>\n",
       "  </tbody>\n",
       "</table>\n",
       "</div>"
      ],
      "text/plain": [
       "                       node  cpu  memory   io  SEM  SHM\n",
       "host01 10 20 30 40 98    45   32      90  120   90   44\n",
       "host02 10 20 30 41 65    35   32      90  120   90   44\n",
       "host03 10 20 30 42 98    23   32      90  120   90   43\n",
       "host04 10 20 30 43 68    45   32      90  120   90   42\n",
       "host05 10 20 30 44 78    55   32      90  120   90   44\n",
       "host06 10 20 30 45 98    25   32      90  120   90   41\n",
       "host07 10 20 30 45 98    45   32      90  120   80   44\n",
       "host08 10 20 30 46 98    25   32      90  120   90   45\n",
       "host09 10 20 30 47 88    45   32      90  120   80   44\n",
       "                   98    75   32      90  120   80   43\n",
       "host10 10 20 30 48 98    45   32      90  120   90   44\n",
       "                   98    45   32      90  120   90   42\n",
       "host11 10 20 30 49 98    45   32      90  120   50   44\n",
       "host12 10 20 30 50 98    45   32      90  120   50   44"
      ]
     },
     "execution_count": 13,
     "metadata": {},
     "output_type": "execute_result"
    }
   ],
   "source": [
    "df_sys_log.rename(columns={'semaphore':'SEM','sharedmemory':'SHM'})"
   ]
  },
  {
   "cell_type": "code",
   "execution_count": 15,
   "id": "a07213e5-c040-426d-b0d3-57bed1e1eb13",
   "metadata": {},
   "outputs": [],
   "source": [
    "df_sys_log.rename(columns={'semaphore':'SEM','sharedmemory':'SHM'},inplace=True)"
   ]
  },
  {
   "cell_type": "code",
   "execution_count": 17,
   "id": "1be9cb8a-76c2-4394-8e50-cde5a26559af",
   "metadata": {},
   "outputs": [
    {
     "data": {
      "text/html": [
       "<div>\n",
       "<style scoped>\n",
       "    .dataframe tbody tr th:only-of-type {\n",
       "        vertical-align: middle;\n",
       "    }\n",
       "\n",
       "    .dataframe tbody tr th {\n",
       "        vertical-align: top;\n",
       "    }\n",
       "\n",
       "    .dataframe thead th {\n",
       "        text-align: right;\n",
       "    }\n",
       "</style>\n",
       "<table border=\"1\" class=\"dataframe\">\n",
       "  <thead>\n",
       "    <tr style=\"text-align: right;\">\n",
       "      <th></th>\n",
       "      <th></th>\n",
       "      <th></th>\n",
       "      <th></th>\n",
       "      <th></th>\n",
       "      <th></th>\n",
       "      <th>node</th>\n",
       "      <th>cpu</th>\n",
       "      <th>memory</th>\n",
       "      <th>io</th>\n",
       "      <th>SEM</th>\n",
       "      <th>SHM</th>\n",
       "    </tr>\n",
       "  </thead>\n",
       "  <tbody>\n",
       "    <tr>\n",
       "      <th>host01</th>\n",
       "      <th>10</th>\n",
       "      <th>20</th>\n",
       "      <th>30</th>\n",
       "      <th>40</th>\n",
       "      <th>98</th>\n",
       "      <td>45</td>\n",
       "      <td>32</td>\n",
       "      <td>90</td>\n",
       "      <td>120</td>\n",
       "      <td>90</td>\n",
       "      <td>44</td>\n",
       "    </tr>\n",
       "    <tr>\n",
       "      <th>host02</th>\n",
       "      <th>10</th>\n",
       "      <th>20</th>\n",
       "      <th>30</th>\n",
       "      <th>41</th>\n",
       "      <th>65</th>\n",
       "      <td>35</td>\n",
       "      <td>32</td>\n",
       "      <td>90</td>\n",
       "      <td>120</td>\n",
       "      <td>90</td>\n",
       "      <td>44</td>\n",
       "    </tr>\n",
       "    <tr>\n",
       "      <th>host03</th>\n",
       "      <th>10</th>\n",
       "      <th>20</th>\n",
       "      <th>30</th>\n",
       "      <th>42</th>\n",
       "      <th>98</th>\n",
       "      <td>23</td>\n",
       "      <td>32</td>\n",
       "      <td>90</td>\n",
       "      <td>120</td>\n",
       "      <td>90</td>\n",
       "      <td>43</td>\n",
       "    </tr>\n",
       "    <tr>\n",
       "      <th>host04</th>\n",
       "      <th>10</th>\n",
       "      <th>20</th>\n",
       "      <th>30</th>\n",
       "      <th>43</th>\n",
       "      <th>68</th>\n",
       "      <td>45</td>\n",
       "      <td>32</td>\n",
       "      <td>90</td>\n",
       "      <td>120</td>\n",
       "      <td>90</td>\n",
       "      <td>42</td>\n",
       "    </tr>\n",
       "    <tr>\n",
       "      <th>host05</th>\n",
       "      <th>10</th>\n",
       "      <th>20</th>\n",
       "      <th>30</th>\n",
       "      <th>44</th>\n",
       "      <th>78</th>\n",
       "      <td>55</td>\n",
       "      <td>32</td>\n",
       "      <td>90</td>\n",
       "      <td>120</td>\n",
       "      <td>90</td>\n",
       "      <td>44</td>\n",
       "    </tr>\n",
       "    <tr>\n",
       "      <th>host06</th>\n",
       "      <th>10</th>\n",
       "      <th>20</th>\n",
       "      <th>30</th>\n",
       "      <th>45</th>\n",
       "      <th>98</th>\n",
       "      <td>25</td>\n",
       "      <td>32</td>\n",
       "      <td>90</td>\n",
       "      <td>120</td>\n",
       "      <td>90</td>\n",
       "      <td>41</td>\n",
       "    </tr>\n",
       "    <tr>\n",
       "      <th>host07</th>\n",
       "      <th>10</th>\n",
       "      <th>20</th>\n",
       "      <th>30</th>\n",
       "      <th>45</th>\n",
       "      <th>98</th>\n",
       "      <td>45</td>\n",
       "      <td>32</td>\n",
       "      <td>90</td>\n",
       "      <td>120</td>\n",
       "      <td>80</td>\n",
       "      <td>44</td>\n",
       "    </tr>\n",
       "    <tr>\n",
       "      <th>host08</th>\n",
       "      <th>10</th>\n",
       "      <th>20</th>\n",
       "      <th>30</th>\n",
       "      <th>46</th>\n",
       "      <th>98</th>\n",
       "      <td>25</td>\n",
       "      <td>32</td>\n",
       "      <td>90</td>\n",
       "      <td>120</td>\n",
       "      <td>90</td>\n",
       "      <td>45</td>\n",
       "    </tr>\n",
       "    <tr>\n",
       "      <th rowspan=\"2\" valign=\"top\">host09</th>\n",
       "      <th rowspan=\"2\" valign=\"top\">10</th>\n",
       "      <th rowspan=\"2\" valign=\"top\">20</th>\n",
       "      <th rowspan=\"2\" valign=\"top\">30</th>\n",
       "      <th rowspan=\"2\" valign=\"top\">47</th>\n",
       "      <th>88</th>\n",
       "      <td>45</td>\n",
       "      <td>32</td>\n",
       "      <td>90</td>\n",
       "      <td>120</td>\n",
       "      <td>80</td>\n",
       "      <td>44</td>\n",
       "    </tr>\n",
       "    <tr>\n",
       "      <th>98</th>\n",
       "      <td>75</td>\n",
       "      <td>32</td>\n",
       "      <td>90</td>\n",
       "      <td>120</td>\n",
       "      <td>80</td>\n",
       "      <td>43</td>\n",
       "    </tr>\n",
       "    <tr>\n",
       "      <th rowspan=\"2\" valign=\"top\">host10</th>\n",
       "      <th rowspan=\"2\" valign=\"top\">10</th>\n",
       "      <th rowspan=\"2\" valign=\"top\">20</th>\n",
       "      <th rowspan=\"2\" valign=\"top\">30</th>\n",
       "      <th rowspan=\"2\" valign=\"top\">48</th>\n",
       "      <th>98</th>\n",
       "      <td>45</td>\n",
       "      <td>32</td>\n",
       "      <td>90</td>\n",
       "      <td>120</td>\n",
       "      <td>90</td>\n",
       "      <td>44</td>\n",
       "    </tr>\n",
       "    <tr>\n",
       "      <th>98</th>\n",
       "      <td>45</td>\n",
       "      <td>32</td>\n",
       "      <td>90</td>\n",
       "      <td>120</td>\n",
       "      <td>90</td>\n",
       "      <td>42</td>\n",
       "    </tr>\n",
       "    <tr>\n",
       "      <th>host11</th>\n",
       "      <th>10</th>\n",
       "      <th>20</th>\n",
       "      <th>30</th>\n",
       "      <th>49</th>\n",
       "      <th>98</th>\n",
       "      <td>45</td>\n",
       "      <td>32</td>\n",
       "      <td>90</td>\n",
       "      <td>120</td>\n",
       "      <td>50</td>\n",
       "      <td>44</td>\n",
       "    </tr>\n",
       "    <tr>\n",
       "      <th>host12</th>\n",
       "      <th>10</th>\n",
       "      <th>20</th>\n",
       "      <th>30</th>\n",
       "      <th>50</th>\n",
       "      <th>98</th>\n",
       "      <td>45</td>\n",
       "      <td>32</td>\n",
       "      <td>90</td>\n",
       "      <td>120</td>\n",
       "      <td>50</td>\n",
       "      <td>44</td>\n",
       "    </tr>\n",
       "  </tbody>\n",
       "</table>\n",
       "</div>"
      ],
      "text/plain": [
       "                       node  cpu  memory   io  SEM  SHM\n",
       "host01 10 20 30 40 98    45   32      90  120   90   44\n",
       "host02 10 20 30 41 65    35   32      90  120   90   44\n",
       "host03 10 20 30 42 98    23   32      90  120   90   43\n",
       "host04 10 20 30 43 68    45   32      90  120   90   42\n",
       "host05 10 20 30 44 78    55   32      90  120   90   44\n",
       "host06 10 20 30 45 98    25   32      90  120   90   41\n",
       "host07 10 20 30 45 98    45   32      90  120   80   44\n",
       "host08 10 20 30 46 98    25   32      90  120   90   45\n",
       "host09 10 20 30 47 88    45   32      90  120   80   44\n",
       "                   98    75   32      90  120   80   43\n",
       "host10 10 20 30 48 98    45   32      90  120   90   44\n",
       "                   98    45   32      90  120   90   42\n",
       "host11 10 20 30 49 98    45   32      90  120   50   44\n",
       "host12 10 20 30 50 98    45   32      90  120   50   44"
      ]
     },
     "execution_count": 17,
     "metadata": {},
     "output_type": "execute_result"
    }
   ],
   "source": [
    "df_sys_log.dropna() # drop rows with missing value"
   ]
  },
  {
   "cell_type": "code",
   "execution_count": 19,
   "id": "6ad16a36-92aa-4931-9d76-7cb96b33963e",
   "metadata": {},
   "outputs": [
    {
     "data": {
      "text/plain": [
       "4"
      ]
     },
     "execution_count": 19,
     "metadata": {},
     "output_type": "execute_result"
    }
   ],
   "source": [
    "df_sys_log.duplicated().sum()"
   ]
  },
  {
   "cell_type": "code",
   "execution_count": 21,
   "id": "02781158-bb61-4c1c-b2f7-b0ae5f01c8b5",
   "metadata": {},
   "outputs": [
    {
     "data": {
      "text/html": [
       "<div>\n",
       "<style scoped>\n",
       "    .dataframe tbody tr th:only-of-type {\n",
       "        vertical-align: middle;\n",
       "    }\n",
       "\n",
       "    .dataframe tbody tr th {\n",
       "        vertical-align: top;\n",
       "    }\n",
       "\n",
       "    .dataframe thead th {\n",
       "        text-align: right;\n",
       "    }\n",
       "</style>\n",
       "<table border=\"1\" class=\"dataframe\">\n",
       "  <thead>\n",
       "    <tr style=\"text-align: right;\">\n",
       "      <th></th>\n",
       "      <th></th>\n",
       "      <th></th>\n",
       "      <th></th>\n",
       "      <th></th>\n",
       "      <th></th>\n",
       "      <th>node</th>\n",
       "      <th>cpu</th>\n",
       "      <th>memory</th>\n",
       "      <th>io</th>\n",
       "      <th>SEM</th>\n",
       "      <th>SHM</th>\n",
       "    </tr>\n",
       "  </thead>\n",
       "  <tbody>\n",
       "    <tr>\n",
       "      <th>host01</th>\n",
       "      <th>10</th>\n",
       "      <th>20</th>\n",
       "      <th>30</th>\n",
       "      <th>40</th>\n",
       "      <th>98</th>\n",
       "      <td>45</td>\n",
       "      <td>32</td>\n",
       "      <td>90</td>\n",
       "      <td>120</td>\n",
       "      <td>90</td>\n",
       "      <td>44</td>\n",
       "    </tr>\n",
       "    <tr>\n",
       "      <th>host02</th>\n",
       "      <th>10</th>\n",
       "      <th>20</th>\n",
       "      <th>30</th>\n",
       "      <th>41</th>\n",
       "      <th>65</th>\n",
       "      <td>35</td>\n",
       "      <td>32</td>\n",
       "      <td>90</td>\n",
       "      <td>120</td>\n",
       "      <td>90</td>\n",
       "      <td>44</td>\n",
       "    </tr>\n",
       "    <tr>\n",
       "      <th>host03</th>\n",
       "      <th>10</th>\n",
       "      <th>20</th>\n",
       "      <th>30</th>\n",
       "      <th>42</th>\n",
       "      <th>98</th>\n",
       "      <td>23</td>\n",
       "      <td>32</td>\n",
       "      <td>90</td>\n",
       "      <td>120</td>\n",
       "      <td>90</td>\n",
       "      <td>43</td>\n",
       "    </tr>\n",
       "    <tr>\n",
       "      <th>host04</th>\n",
       "      <th>10</th>\n",
       "      <th>20</th>\n",
       "      <th>30</th>\n",
       "      <th>43</th>\n",
       "      <th>68</th>\n",
       "      <td>45</td>\n",
       "      <td>32</td>\n",
       "      <td>90</td>\n",
       "      <td>120</td>\n",
       "      <td>90</td>\n",
       "      <td>42</td>\n",
       "    </tr>\n",
       "    <tr>\n",
       "      <th>host05</th>\n",
       "      <th>10</th>\n",
       "      <th>20</th>\n",
       "      <th>30</th>\n",
       "      <th>44</th>\n",
       "      <th>78</th>\n",
       "      <td>55</td>\n",
       "      <td>32</td>\n",
       "      <td>90</td>\n",
       "      <td>120</td>\n",
       "      <td>90</td>\n",
       "      <td>44</td>\n",
       "    </tr>\n",
       "    <tr>\n",
       "      <th>host06</th>\n",
       "      <th>10</th>\n",
       "      <th>20</th>\n",
       "      <th>30</th>\n",
       "      <th>45</th>\n",
       "      <th>98</th>\n",
       "      <td>25</td>\n",
       "      <td>32</td>\n",
       "      <td>90</td>\n",
       "      <td>120</td>\n",
       "      <td>90</td>\n",
       "      <td>41</td>\n",
       "    </tr>\n",
       "    <tr>\n",
       "      <th>host07</th>\n",
       "      <th>10</th>\n",
       "      <th>20</th>\n",
       "      <th>30</th>\n",
       "      <th>45</th>\n",
       "      <th>98</th>\n",
       "      <td>45</td>\n",
       "      <td>32</td>\n",
       "      <td>90</td>\n",
       "      <td>120</td>\n",
       "      <td>80</td>\n",
       "      <td>44</td>\n",
       "    </tr>\n",
       "    <tr>\n",
       "      <th>host08</th>\n",
       "      <th>10</th>\n",
       "      <th>20</th>\n",
       "      <th>30</th>\n",
       "      <th>46</th>\n",
       "      <th>98</th>\n",
       "      <td>25</td>\n",
       "      <td>32</td>\n",
       "      <td>90</td>\n",
       "      <td>120</td>\n",
       "      <td>90</td>\n",
       "      <td>45</td>\n",
       "    </tr>\n",
       "    <tr>\n",
       "      <th>host09</th>\n",
       "      <th>10</th>\n",
       "      <th>20</th>\n",
       "      <th>30</th>\n",
       "      <th>47</th>\n",
       "      <th>98</th>\n",
       "      <td>75</td>\n",
       "      <td>32</td>\n",
       "      <td>90</td>\n",
       "      <td>120</td>\n",
       "      <td>80</td>\n",
       "      <td>43</td>\n",
       "    </tr>\n",
       "    <tr>\n",
       "      <th>host11</th>\n",
       "      <th>10</th>\n",
       "      <th>20</th>\n",
       "      <th>30</th>\n",
       "      <th>49</th>\n",
       "      <th>98</th>\n",
       "      <td>45</td>\n",
       "      <td>32</td>\n",
       "      <td>90</td>\n",
       "      <td>120</td>\n",
       "      <td>50</td>\n",
       "      <td>44</td>\n",
       "    </tr>\n",
       "  </tbody>\n",
       "</table>\n",
       "</div>"
      ],
      "text/plain": [
       "                       node  cpu  memory   io  SEM  SHM\n",
       "host01 10 20 30 40 98    45   32      90  120   90   44\n",
       "host02 10 20 30 41 65    35   32      90  120   90   44\n",
       "host03 10 20 30 42 98    23   32      90  120   90   43\n",
       "host04 10 20 30 43 68    45   32      90  120   90   42\n",
       "host05 10 20 30 44 78    55   32      90  120   90   44\n",
       "host06 10 20 30 45 98    25   32      90  120   90   41\n",
       "host07 10 20 30 45 98    45   32      90  120   80   44\n",
       "host08 10 20 30 46 98    25   32      90  120   90   45\n",
       "host09 10 20 30 47 98    75   32      90  120   80   43\n",
       "host11 10 20 30 49 98    45   32      90  120   50   44"
      ]
     },
     "execution_count": 21,
     "metadata": {},
     "output_type": "execute_result"
    }
   ],
   "source": [
    "df_sys_log.drop_duplicates()"
   ]
  },
  {
   "cell_type": "code",
   "execution_count": 23,
   "id": "d8f98c14-b87e-4940-a500-0eb5050bfb7e",
   "metadata": {},
   "outputs": [],
   "source": [
    "df_sys_log.drop_duplicates(inplace=True)"
   ]
  },
  {
   "cell_type": "code",
   "execution_count": 25,
   "id": "c0e37c6e-5199-4171-811f-07a08f7412b0",
   "metadata": {},
   "outputs": [
    {
     "data": {
      "text/plain": [
       "0"
      ]
     },
     "execution_count": 25,
     "metadata": {},
     "output_type": "execute_result"
    }
   ],
   "source": [
    "df_sys_log.duplicated().sum()"
   ]
  },
  {
   "cell_type": "code",
   "execution_count": 27,
   "id": "c5982a0e-0fdf-48c2-9061-d94c2c2dcd1d",
   "metadata": {},
   "outputs": [
    {
     "data": {
      "text/plain": [
       "node      0\n",
       "cpu       0\n",
       "memory    0\n",
       "io        0\n",
       "SEM       0\n",
       "SHM       0\n",
       "dtype: int64"
      ]
     },
     "execution_count": 27,
     "metadata": {},
     "output_type": "execute_result"
    }
   ],
   "source": [
    "df_sys_log.isnull().sum()"
   ]
  },
  {
   "cell_type": "code",
   "execution_count": 29,
   "id": "b86de1e4-cdbd-4d6f-9017-a69b1b30c1a2",
   "metadata": {},
   "outputs": [
    {
     "data": {
      "text/html": [
       "<div>\n",
       "<style scoped>\n",
       "    .dataframe tbody tr th:only-of-type {\n",
       "        vertical-align: middle;\n",
       "    }\n",
       "\n",
       "    .dataframe tbody tr th {\n",
       "        vertical-align: top;\n",
       "    }\n",
       "\n",
       "    .dataframe thead th {\n",
       "        text-align: right;\n",
       "    }\n",
       "</style>\n",
       "<table border=\"1\" class=\"dataframe\">\n",
       "  <thead>\n",
       "    <tr style=\"text-align: right;\">\n",
       "      <th></th>\n",
       "      <th>cpu</th>\n",
       "      <th>memory</th>\n",
       "      <th>io</th>\n",
       "      <th>SEM</th>\n",
       "      <th>SHM</th>\n",
       "    </tr>\n",
       "    <tr>\n",
       "      <th>node</th>\n",
       "      <th></th>\n",
       "      <th></th>\n",
       "      <th></th>\n",
       "      <th></th>\n",
       "      <th></th>\n",
       "    </tr>\n",
       "  </thead>\n",
       "  <tbody>\n",
       "    <tr>\n",
       "      <th>23</th>\n",
       "      <td>32</td>\n",
       "      <td>90</td>\n",
       "      <td>120</td>\n",
       "      <td>90</td>\n",
       "      <td>43</td>\n",
       "    </tr>\n",
       "    <tr>\n",
       "      <th>25</th>\n",
       "      <td>64</td>\n",
       "      <td>180</td>\n",
       "      <td>240</td>\n",
       "      <td>180</td>\n",
       "      <td>86</td>\n",
       "    </tr>\n",
       "    <tr>\n",
       "      <th>35</th>\n",
       "      <td>32</td>\n",
       "      <td>90</td>\n",
       "      <td>120</td>\n",
       "      <td>90</td>\n",
       "      <td>44</td>\n",
       "    </tr>\n",
       "    <tr>\n",
       "      <th>45</th>\n",
       "      <td>128</td>\n",
       "      <td>360</td>\n",
       "      <td>480</td>\n",
       "      <td>310</td>\n",
       "      <td>174</td>\n",
       "    </tr>\n",
       "    <tr>\n",
       "      <th>55</th>\n",
       "      <td>32</td>\n",
       "      <td>90</td>\n",
       "      <td>120</td>\n",
       "      <td>90</td>\n",
       "      <td>44</td>\n",
       "    </tr>\n",
       "    <tr>\n",
       "      <th>75</th>\n",
       "      <td>32</td>\n",
       "      <td>90</td>\n",
       "      <td>120</td>\n",
       "      <td>80</td>\n",
       "      <td>43</td>\n",
       "    </tr>\n",
       "  </tbody>\n",
       "</table>\n",
       "</div>"
      ],
      "text/plain": [
       "      cpu  memory   io  SEM  SHM\n",
       "node                            \n",
       "23     32      90  120   90   43\n",
       "25     64     180  240  180   86\n",
       "35     32      90  120   90   44\n",
       "45    128     360  480  310  174\n",
       "55     32      90  120   90   44\n",
       "75     32      90  120   80   43"
      ]
     },
     "execution_count": 29,
     "metadata": {},
     "output_type": "execute_result"
    }
   ],
   "source": [
    "df_sys_log.groupby('node').sum()"
   ]
  },
  {
   "cell_type": "code",
   "execution_count": 31,
   "id": "a3274a6f-fe66-4473-b194-d048f394f93c",
   "metadata": {},
   "outputs": [
    {
     "data": {
      "text/html": [
       "<div>\n",
       "<style scoped>\n",
       "    .dataframe tbody tr th:only-of-type {\n",
       "        vertical-align: middle;\n",
       "    }\n",
       "\n",
       "    .dataframe tbody tr th {\n",
       "        vertical-align: top;\n",
       "    }\n",
       "\n",
       "    .dataframe thead th {\n",
       "        text-align: right;\n",
       "    }\n",
       "</style>\n",
       "<table border=\"1\" class=\"dataframe\">\n",
       "  <thead>\n",
       "    <tr style=\"text-align: right;\">\n",
       "      <th></th>\n",
       "      <th>cpu</th>\n",
       "      <th>memory</th>\n",
       "      <th>io</th>\n",
       "      <th>SEM</th>\n",
       "      <th>SHM</th>\n",
       "    </tr>\n",
       "    <tr>\n",
       "      <th>node</th>\n",
       "      <th></th>\n",
       "      <th></th>\n",
       "      <th></th>\n",
       "      <th></th>\n",
       "      <th></th>\n",
       "    </tr>\n",
       "  </thead>\n",
       "  <tbody>\n",
       "    <tr>\n",
       "      <th>23</th>\n",
       "      <td>32.0</td>\n",
       "      <td>90.0</td>\n",
       "      <td>120.0</td>\n",
       "      <td>90.0</td>\n",
       "      <td>43.0</td>\n",
       "    </tr>\n",
       "    <tr>\n",
       "      <th>25</th>\n",
       "      <td>32.0</td>\n",
       "      <td>90.0</td>\n",
       "      <td>120.0</td>\n",
       "      <td>90.0</td>\n",
       "      <td>43.0</td>\n",
       "    </tr>\n",
       "    <tr>\n",
       "      <th>35</th>\n",
       "      <td>32.0</td>\n",
       "      <td>90.0</td>\n",
       "      <td>120.0</td>\n",
       "      <td>90.0</td>\n",
       "      <td>44.0</td>\n",
       "    </tr>\n",
       "    <tr>\n",
       "      <th>45</th>\n",
       "      <td>32.0</td>\n",
       "      <td>90.0</td>\n",
       "      <td>120.0</td>\n",
       "      <td>77.5</td>\n",
       "      <td>43.5</td>\n",
       "    </tr>\n",
       "    <tr>\n",
       "      <th>55</th>\n",
       "      <td>32.0</td>\n",
       "      <td>90.0</td>\n",
       "      <td>120.0</td>\n",
       "      <td>90.0</td>\n",
       "      <td>44.0</td>\n",
       "    </tr>\n",
       "    <tr>\n",
       "      <th>75</th>\n",
       "      <td>32.0</td>\n",
       "      <td>90.0</td>\n",
       "      <td>120.0</td>\n",
       "      <td>80.0</td>\n",
       "      <td>43.0</td>\n",
       "    </tr>\n",
       "  </tbody>\n",
       "</table>\n",
       "</div>"
      ],
      "text/plain": [
       "       cpu  memory     io   SEM   SHM\n",
       "node                                 \n",
       "23    32.0    90.0  120.0  90.0  43.0\n",
       "25    32.0    90.0  120.0  90.0  43.0\n",
       "35    32.0    90.0  120.0  90.0  44.0\n",
       "45    32.0    90.0  120.0  77.5  43.5\n",
       "55    32.0    90.0  120.0  90.0  44.0\n",
       "75    32.0    90.0  120.0  80.0  43.0"
      ]
     },
     "execution_count": 31,
     "metadata": {},
     "output_type": "execute_result"
    }
   ],
   "source": [
    "df_sys_log.groupby('node').mean()"
   ]
  },
  {
   "cell_type": "code",
   "execution_count": 33,
   "id": "e03cd86f-f41f-40f9-86ca-df396cd5bb9a",
   "metadata": {},
   "outputs": [
    {
     "data": {
      "text/plain": [
       "node\n",
       "23     43\n",
       "25     86\n",
       "35     44\n",
       "45    174\n",
       "55     44\n",
       "75     43\n",
       "Name: SHM, dtype: int64"
      ]
     },
     "execution_count": 33,
     "metadata": {},
     "output_type": "execute_result"
    }
   ],
   "source": [
    "df_sys_log.groupby('node').SHM.sum()"
   ]
  },
  {
   "cell_type": "code",
   "execution_count": 35,
   "id": "750b2b11-6ba8-44c0-982c-8a7438f531de",
   "metadata": {},
   "outputs": [],
   "source": [
    "df_sys_log.to_csv('sysinfo.csv')"
   ]
  },
  {
   "cell_type": "code",
   "execution_count": null,
   "id": "37379dc6-88ae-4e0b-bd23-afb62ef50463",
   "metadata": {},
   "outputs": [],
   "source": []
  },
  {
   "cell_type": "code",
   "execution_count": null,
   "id": "1b438f95-a583-4f72-966f-341ee919ea1d",
   "metadata": {},
   "outputs": [],
   "source": [
    "# ML\n",
    "Collect and prepare data\n",
    "|\n",
    "Choose a Model\n",
    "    |\n",
    "    |->1.supervised ML - labeled data - regression;classification\n",
    "    |->2.unsupervised ML - unlabled data - cluster,association - PCA(pricipal component analysis)\n",
    "    |->3.reinforcement - agent\n",
    "Train the model\n",
    " - traing phase - outcome - teach the model how to make predictions\n",
    "Test/evaluate the model \n",
    "  - trained data + <unseen data>\n",
    "\n",
    "   [ Apple orange ] ->ML  ---> \n",
    "                              banana - ?  ->don't know  ->Good\n",
    "                              orange - orange ->Good \n",
    "                              Apple - orange ->Not-Good - retrain\n",
    " deploy the model \n",
    " - after validating model\n",
    " |\n",
    "monitor and maintain the model\n",
    "    |\n",
    "    model performance - To get more accurate result - retrain with new data\n",
    "\n",
    "     \n",
    "    General programming\n",
    "     Input ->M/c ->output\n",
    "\n",
    "      Vs\n",
    "\n",
    "    ML programming\n",
    "     Input + output ->M/c ->Algorithm\n",
    "\n",
    "     1984 Q: pm of india: ______   =>Train -> ... OK\n",
    "     ..\n",
    "     2025 Q: pm of india: ______   \n",
    "\n",
    "    personA - 100books about dog details\n",
    "              --------//\n",
    "   Q: --------- A:\n",
    "              50books//about dog details = 100+50"
   ]
  },
  {
   "cell_type": "code",
   "execution_count": null,
   "id": "1619d5a1-ef84-4979-b9c5-45fe5027fa56",
   "metadata": {},
   "outputs": [],
   "source": [
    "outlier\n",
    "--------\n",
    "[100,200,300,400,50,600,700]\n",
    "                 --\n",
    "[10,20,30,800,50,60]\n",
    "          ---\n",
    "\n",
    "zscore\n",
    "------\n",
    "x = individual data point\n",
    "u = mean of the data point\n",
    "a = standard deviation of the data set\n",
    "      x - u\n",
    "z =   -------\n",
    "       a\n",
    "\n",
    "z - 0 \n",
    "z +ve \n",
    "z -ve\n",
    "z - above - depending on the threshold\n",
    "\n",
    "\n"
   ]
  },
  {
   "cell_type": "code",
   "execution_count": 44,
   "id": "ea7c02d4-687e-4d4b-aac4-ef0554b655f5",
   "metadata": {},
   "outputs": [
    {
     "data": {
      "text/plain": [
       "array([-1.41421356, -0.70710678,  0.        ,  0.70710678,  1.41421356])"
      ]
     },
     "execution_count": 44,
     "metadata": {},
     "output_type": "execute_result"
    }
   ],
   "source": [
    "d = np.array([50,60,70,80,90])\n",
    "mean = np.mean(d)\n",
    "std_dev = np.std(d)\n",
    "zscore = (d - mean)/std_dev\n",
    "zscore"
   ]
  },
  {
   "cell_type": "code",
   "execution_count": 46,
   "id": "47123351-5b69-4f81-942c-1e51d35a89df",
   "metadata": {},
   "outputs": [
    {
     "data": {
      "text/plain": [
       "array([], dtype=int32)"
      ]
     },
     "execution_count": 46,
     "metadata": {},
     "output_type": "execute_result"
    }
   ],
   "source": [
    "outliers = d[np.abs(zscore) >3]\n",
    "outliers"
   ]
  },
  {
   "cell_type": "code",
   "execution_count": 48,
   "id": "0f0984c4-c0e2-4ca8-8196-a803f9bc95af",
   "metadata": {},
   "outputs": [
    {
     "data": {
      "text/plain": [
       "array([-0.55915734, -0.52506238, -0.49096742,  1.99796465, -0.4227775 ])"
      ]
     },
     "execution_count": 48,
     "metadata": {},
     "output_type": "execute_result"
    }
   ],
   "source": [
    "d = np.array([50,60,70,800,90])\n",
    "mean = np.mean(d)\n",
    "std_dev = np.std(d)\n",
    "zscore = (d - mean)/std_dev\n",
    "zscore"
   ]
  },
  {
   "cell_type": "code",
   "execution_count": 50,
   "id": "29773a25-1a87-4660-94e3-aef4cf8b89b5",
   "metadata": {},
   "outputs": [
    {
     "data": {
      "text/plain": [
       "array([800])"
      ]
     },
     "execution_count": 50,
     "metadata": {},
     "output_type": "execute_result"
    }
   ],
   "source": [
    "outliers = d[np.abs(zscore) >1.99]\n",
    "outliers"
   ]
  },
  {
   "cell_type": "code",
   "execution_count": 56,
   "id": "642bfa68-379d-454d-9e4c-01f4a6d811b2",
   "metadata": {},
   "outputs": [
    {
     "data": {
      "text/plain": [
       "<Axes: >"
      ]
     },
     "execution_count": 56,
     "metadata": {},
     "output_type": "execute_result"
    },
    {
     "data": {
      "image/png": "[encoded data removed]",
      "text/plain": [
       "<Figure size 640x480 with 1 Axes>"
      ]
     },
     "metadata": {},
     "output_type": "display_data"
    }
   ],
   "source": [
    "import seaborn as sns\n",
    "sns.boxplot(data=d)"
   ]
  },
  {
   "cell_type": "code",
   "execution_count": 58,
   "id": "3770fba8-a6db-4d4b-b3a2-c1d3fb348168",
   "metadata": {},
   "outputs": [
    {
     "data": {
      "text/plain": [
       "array([-1.41421356, -0.70710678,  0.        ,  0.70710678,  1.41421356])"
      ]
     },
     "execution_count": 58,
     "metadata": {},
     "output_type": "execute_result"
    }
   ],
   "source": [
    "d = np.array([50,60,70,80,90])\n",
    "mean = np.mean(d)\n",
    "std_dev = np.std(d)\n",
    "zscore = (d - mean)/std_dev\n",
    "zscore"
   ]
  },
  {
   "cell_type": "code",
   "execution_count": 60,
   "id": "0cae68a1-8360-4492-91b0-cd8565a1cc93",
   "metadata": {},
   "outputs": [
    {
     "data": {
      "text/plain": [
       "<Axes: >"
      ]
     },
     "execution_count": 60,
     "metadata": {},
     "output_type": "execute_result"
    },
    {
     "data": {
      "image/png": "[encoded data removed]",
      "text/plain": [
       "<Figure size 640x480 with 1 Axes>"
      ]
     },
     "metadata": {},
     "output_type": "display_data"
    }
   ],
   "source": [
    "sns.boxplot(data=d)"
   ]
  },
  {
   "cell_type": "code",
   "execution_count": null,
   "id": "12b568e6-f80e-4b7d-9fda-ecd1e20129c8",
   "metadata": {},
   "outputs": [],
   "source": [
    "Regression\n",
    "----------\n",
    " |->search the relationship among the variables\n",
    "\n",
    "Y-axis    |\n",
    "          |\n",
    "          |---------\n",
    "            x - axis - independent feature \n",
    "         x1 x2 x3 ...<== input(features)\n",
    "y-axis - dependent feature\n",
    "\n",
    "y=mx+c\n",
    "  || |__________intercept\n",
    "  ||___input\n",
    "slope"
   ]
  },
  {
   "cell_type": "code",
   "execution_count": 62,
   "id": "0932746d-ebfb-4cfa-935c-2a4d5143e9d0",
   "metadata": {},
   "outputs": [
    {
     "data": {
      "text/plain": [
       "(13, 13)"
      ]
     },
     "execution_count": 62,
     "metadata": {},
     "output_type": "execute_result"
    }
   ],
   "source": [
    "from scipy import stats\n",
    "x = [6,8,9,10,12,3,18,5,12,13,9,7,50]\n",
    "y = [99,66,87,88,120,76,95,78,67,86,66,45,66]\n",
    "len(x),len(y)"
   ]
  },
  {
   "cell_type": "code",
   "execution_count": 64,
   "id": "ea30f978-0825-40b8-9d6f-961b3a4916b3",
   "metadata": {},
   "outputs": [
    {
     "name": "stdout",
     "output_type": "stream",
     "text": [
      "<function linregress at 0x000001FC75B20860>\n"
     ]
    }
   ],
   "source": [
    "print(stats.linregress)"
   ]
  },
  {
   "cell_type": "code",
   "execution_count": 66,
   "id": "b7ef1367-4634-4769-8412-2e0d222a20e1",
   "metadata": {},
   "outputs": [],
   "source": [
    "# file: ab.py\n",
    "# ---------------\n",
    "def fx(a):\n",
    "    class box:\n",
    "        def __init__(self,a):\n",
    "            self.a=a\n",
    "        def method1(self):\n",
    "            return self.a+100\n",
    "    obj = box(a)\n",
    "    return obj"
   ]
  },
  {
   "cell_type": "code",
   "execution_count": 72,
   "id": "05163d89-1487-4067-a4a7-ebf09d2860db",
   "metadata": {},
   "outputs": [
    {
     "data": {
      "text/plain": [
       "145"
      ]
     },
     "execution_count": 72,
     "metadata": {},
     "output_type": "execute_result"
    }
   ],
   "source": [
    "#import ab\n",
    "#ab.fx(45)\n",
    "myobj = fx(45)\n",
    "myobj.method1()"
   ]
  },
  {
   "cell_type": "code",
   "execution_count": 74,
   "id": "b4e27262-96cb-4637-bf5e-8e2a8992de6d",
   "metadata": {},
   "outputs": [
    {
     "data": {
      "text/plain": [
       "LinregressResult(slope=-0.1543660448769938, intercept=81.84671532846716, rvalue=-0.09685165180525596, pvalue=0.752945258889857, stderr=0.47830166769150134, intercept_stderr=8.0975128198971)"
      ]
     },
     "execution_count": 74,
     "metadata": {},
     "output_type": "execute_result"
    }
   ],
   "source": [
    "stats.linregress(x,y)"
   ]
  },
  {
   "cell_type": "code",
   "execution_count": 76,
   "id": "f8aaff48-0779-42ae-90f3-eadfaa35973a",
   "metadata": {},
   "outputs": [
    {
     "data": {
      "text/plain": [
       "[80.92051905920519,\n",
       " 80.6117869694512,\n",
       " 80.45742092457421,\n",
       " 80.30305487969721,\n",
       " 79.99432278994323,\n",
       " 81.38361719383617,\n",
       " 79.06812652068126,\n",
       " 81.07488510408218,\n",
       " 79.99432278994323,\n",
       " 79.83995674506623,\n",
       " 80.45742092457421,\n",
       " 80.7661530143282,\n",
       " 74.12841308461746]"
      ]
     },
     "execution_count": 76,
     "metadata": {},
     "output_type": "execute_result"
    }
   ],
   "source": [
    "# y = mx+c\n",
    "slope,intercept,r,p,stderr = stats.linregress(x,y)\n",
    "\n",
    "def fx(x):\n",
    "    return slope * x + intercept \n",
    "    \n",
    "model = []\n",
    "for var in x:\n",
    "    r=fx(var)\n",
    "    model.append(r)\n",
    "\n",
    "model"
   ]
  },
  {
   "cell_type": "code",
   "execution_count": 78,
   "id": "c88ae932-f8f2-4b19-9573-26e2f04c3e39",
   "metadata": {},
   "outputs": [
    {
     "data": {
      "text/plain": [
       "[6, 8, 9, 10, 12, 3, 18, 5, 12, 13, 9, 7, 50]"
      ]
     },
     "execution_count": 78,
     "metadata": {},
     "output_type": "execute_result"
    }
   ],
   "source": [
    "x"
   ]
  },
  {
   "cell_type": "code",
   "execution_count": 80,
   "id": "572c4954-0cb5-4f2f-af68-5b1c16ef85b1",
   "metadata": {},
   "outputs": [
    {
     "data": {
      "text/plain": [
       "[99, 66, 87, 88, 120, 76, 95, 78, 67, 86, 66, 45, 66]"
      ]
     },
     "execution_count": 80,
     "metadata": {},
     "output_type": "execute_result"
    }
   ],
   "source": [
    "y"
   ]
  },
  {
   "cell_type": "code",
   "execution_count": 82,
   "id": "dbf8d503-d3dd-496b-9574-9ea4a50247bd",
   "metadata": {},
   "outputs": [
    {
     "data": {
      "text/plain": [
       "73.35658286023249"
      ]
     },
     "execution_count": 82,
     "metadata": {},
     "output_type": "execute_result"
    }
   ],
   "source": [
    "fx(55) # x - input"
   ]
  },
  {
   "cell_type": "code",
   "execution_count": 86,
   "id": "216fd52c-328b-4de5-9472-85b5c5945eaf",
   "metadata": {},
   "outputs": [
    {
     "data": {
      "text/plain": [
       "79.53122465531224"
      ]
     },
     "execution_count": 86,
     "metadata": {},
     "output_type": "execute_result"
    }
   ],
   "source": [
    "fx(15)"
   ]
  },
  {
   "cell_type": "code",
   "execution_count": 88,
   "id": "51e92cab-d8b0-4152-9b58-f7d7b24a35b9",
   "metadata": {},
   "outputs": [
    {
     "data": {
      "text/plain": [
       "72.58475263584752"
      ]
     },
     "execution_count": 88,
     "metadata": {},
     "output_type": "execute_result"
    }
   ],
   "source": [
    "fx(60)"
   ]
  },
  {
   "cell_type": "code",
   "execution_count": 92,
   "id": "5eae6ff9-098b-465e-9edd-f3ff742dc38d",
   "metadata": {},
   "outputs": [],
   "source": [
    "import matplotlib.pyplot as plt"
   ]
  },
  {
   "cell_type": "code",
   "execution_count": 94,
   "id": "567b86c7-6c8e-43b0-898a-4afb4a8abdbc",
   "metadata": {},
   "outputs": [
    {
     "data": {
      "text/plain": [
       "[<matplotlib.lines.Line2D at 0x1fc76ea4710>]"
      ]
     },
     "execution_count": 94,
     "metadata": {},
     "output_type": "execute_result"
    },
    {
     "data": {
      "image/png": "[encoded data removed]",
      "text/plain": [
       "<Figure size 640x480 with 1 Axes>"
      ]
     },
     "metadata": {},
     "output_type": "display_data"
    }
   ],
   "source": [
    "plt.plot(x,model,c='r',marker='o')"
   ]
  },
  {
   "cell_type": "code",
   "execution_count": 96,
   "id": "a728adac-94b7-4519-9740-8f403029b2ae",
   "metadata": {},
   "outputs": [
    {
     "data": {
      "text/html": [
       "<div>\n",
       "<style scoped>\n",
       "    .dataframe tbody tr th:only-of-type {\n",
       "        vertical-align: middle;\n",
       "    }\n",
       "\n",
       "    .dataframe tbody tr th {\n",
       "        vertical-align: top;\n",
       "    }\n",
       "\n",
       "    .dataframe thead th {\n",
       "        text-align: right;\n",
       "    }\n",
       "</style>\n",
       "<table border=\"1\" class=\"dataframe\">\n",
       "  <thead>\n",
       "    <tr style=\"text-align: right;\">\n",
       "      <th></th>\n",
       "      <th>sepal_length</th>\n",
       "      <th>sepal_width</th>\n",
       "      <th>petal_length</th>\n",
       "      <th>petal_width</th>\n",
       "      <th>species</th>\n",
       "    </tr>\n",
       "  </thead>\n",
       "  <tbody>\n",
       "    <tr>\n",
       "      <th>0</th>\n",
       "      <td>5.1</td>\n",
       "      <td>3.5</td>\n",
       "      <td>1.4</td>\n",
       "      <td>0.2</td>\n",
       "      <td>setosa</td>\n",
       "    </tr>\n",
       "    <tr>\n",
       "      <th>1</th>\n",
       "      <td>4.9</td>\n",
       "      <td>3.0</td>\n",
       "      <td>1.4</td>\n",
       "      <td>0.2</td>\n",
       "      <td>setosa</td>\n",
       "    </tr>\n",
       "    <tr>\n",
       "      <th>2</th>\n",
       "      <td>4.7</td>\n",
       "      <td>3.2</td>\n",
       "      <td>1.3</td>\n",
       "      <td>0.2</td>\n",
       "      <td>setosa</td>\n",
       "    </tr>\n",
       "    <tr>\n",
       "      <th>3</th>\n",
       "      <td>4.6</td>\n",
       "      <td>3.1</td>\n",
       "      <td>1.5</td>\n",
       "      <td>0.2</td>\n",
       "      <td>setosa</td>\n",
       "    </tr>\n",
       "    <tr>\n",
       "      <th>4</th>\n",
       "      <td>5.0</td>\n",
       "      <td>3.6</td>\n",
       "      <td>1.4</td>\n",
       "      <td>0.2</td>\n",
       "      <td>setosa</td>\n",
       "    </tr>\n",
       "    <tr>\n",
       "      <th>...</th>\n",
       "      <td>...</td>\n",
       "      <td>...</td>\n",
       "      <td>...</td>\n",
       "      <td>...</td>\n",
       "      <td>...</td>\n",
       "    </tr>\n",
       "    <tr>\n",
       "      <th>145</th>\n",
       "      <td>6.7</td>\n",
       "      <td>3.0</td>\n",
       "      <td>5.2</td>\n",
       "      <td>2.3</td>\n",
       "      <td>virginica</td>\n",
       "    </tr>\n",
       "    <tr>\n",
       "      <th>146</th>\n",
       "      <td>6.3</td>\n",
       "      <td>2.5</td>\n",
       "      <td>5.0</td>\n",
       "      <td>1.9</td>\n",
       "      <td>virginica</td>\n",
       "    </tr>\n",
       "    <tr>\n",
       "      <th>147</th>\n",
       "      <td>6.5</td>\n",
       "      <td>3.0</td>\n",
       "      <td>5.2</td>\n",
       "      <td>2.0</td>\n",
       "      <td>virginica</td>\n",
       "    </tr>\n",
       "    <tr>\n",
       "      <th>148</th>\n",
       "      <td>6.2</td>\n",
       "      <td>3.4</td>\n",
       "      <td>5.4</td>\n",
       "      <td>2.3</td>\n",
       "      <td>virginica</td>\n",
       "    </tr>\n",
       "    <tr>\n",
       "      <th>149</th>\n",
       "      <td>5.9</td>\n",
       "      <td>3.0</td>\n",
       "      <td>5.1</td>\n",
       "      <td>1.8</td>\n",
       "      <td>virginica</td>\n",
       "    </tr>\n",
       "  </tbody>\n",
       "</table>\n",
       "<p>150 rows × 5 columns</p>\n",
       "</div>"
      ],
      "text/plain": [
       "     sepal_length  sepal_width  petal_length  petal_width    species\n",
       "0             5.1          3.5           1.4          0.2     setosa\n",
       "1             4.9          3.0           1.4          0.2     setosa\n",
       "2             4.7          3.2           1.3          0.2     setosa\n",
       "3             4.6          3.1           1.5          0.2     setosa\n",
       "4             5.0          3.6           1.4          0.2     setosa\n",
       "..            ...          ...           ...          ...        ...\n",
       "145           6.7          3.0           5.2          2.3  virginica\n",
       "146           6.3          2.5           5.0          1.9  virginica\n",
       "147           6.5          3.0           5.2          2.0  virginica\n",
       "148           6.2          3.4           5.4          2.3  virginica\n",
       "149           5.9          3.0           5.1          1.8  virginica\n",
       "\n",
       "[150 rows x 5 columns]"
      ]
     },
     "execution_count": 96,
     "metadata": {},
     "output_type": "execute_result"
    }
   ],
   "source": [
    "import seaborn as sn\n",
    "sn.load_dataset('iris')"
   ]
  },
  {
   "cell_type": "markdown",
   "id": "1c7cbf50-8b60-491e-9809-aed475e8cbe8",
   "metadata": {},
   "source": [
    "new_df = df.sample(n=50) # randomsample \n",
    "------\n",
    "|->clean up ->model ->50data only "
   ]
  },
  {
   "cell_type": "code",
   "execution_count": 102,
   "id": "d6043f56-e4fc-4d2b-bfbc-9ddb62990691",
   "metadata": {},
   "outputs": [],
   "source": [
    "iris_df = sn.load_dataset('iris')\n",
    "iris = iris_df[['petal_length','petal_width']]"
   ]
  },
  {
   "cell_type": "code",
   "execution_count": 104,
   "id": "6afa0639-1cd0-4223-9be1-48123975d9ed",
   "metadata": {},
   "outputs": [],
   "source": [
    "X = iris ['petal_length']\n",
    "Y = iris ['petal_width']"
   ]
  },
  {
   "cell_type": "code",
   "execution_count": 106,
   "id": "753b2218-c9aa-4399-93a6-c99f2519dc8b",
   "metadata": {},
   "outputs": [],
   "source": [
    "from sklearn.model_selection import train_test_split"
   ]
  },
  {
   "cell_type": "code",
   "execution_count": 138,
   "id": "cd1ae6d6-b4e3-4638-afcc-68aef6fa8a5a",
   "metadata": {},
   "outputs": [],
   "source": [
    "x_train,x_test,y_train,y_test = train_test_split(X,Y,test_size=0.4,random_state=24)"
   ]
  },
  {
   "cell_type": "code",
   "execution_count": 140,
   "id": "5b7de842-5540-4604-83dd-e56acd4f3c88",
   "metadata": {},
   "outputs": [],
   "source": [
    "x_train = np.array(x_train).reshape(-1,1)\n",
    "x_test = np.array(y_test).reshape(-1,1)"
   ]
  },
  {
   "cell_type": "code",
   "execution_count": 142,
   "id": "1548180e-b9b7-464b-bcea-55ebbb7d525a",
   "metadata": {},
   "outputs": [],
   "source": [
    "from sklearn.linear_model import LinearRegression\n",
    "model_obj = LinearRegression()\n",
    "model_obj.fit(x_train,y_train)\n",
    "m = model_obj.intercept_\n",
    "c = model_obj.coef_"
   ]
  },
  {
   "cell_type": "code",
   "execution_count": 146,
   "id": "628bacfc-4d46-4415-8417-12a824db0a03",
   "metadata": {},
   "outputs": [],
   "source": [
    "y_pred_train = m * x_train + c\n",
    "y_pre_train = model_obj.predict(x_train)"
   ]
  },
  {
   "cell_type": "code",
   "execution_count": 148,
   "id": "34415714-e301-48ae-bbaa-14363ebd7dc2",
   "metadata": {},
   "outputs": [
    {
     "data": {
      "text/plain": [
       "Text(0, 0.5, 'petal_width')"
      ]
     },
     "execution_count": 148,
     "metadata": {},
     "output_type": "execute_result"
    },
    {
     "data": {
      "image/png": "[encoded data removed]",
      "text/plain": [
       "<Figure size 640x480 with 1 Axes>"
      ]
     },
     "metadata": {},
     "output_type": "display_data"
    }
   ],
   "source": [
    "plt.scatter(x_train,y_train)\n",
    "plt.plot(x_train,y_pre_train,color='r',marker='o')\n",
    "plt.xlabel('petal_length')\n",
    "plt.ylabel('petal_width')"
   ]
  },
  {
   "cell_type": "code",
   "execution_count": 150,
   "id": "fbda464a-0080-46b9-b3b6-f23b7782a41d",
   "metadata": {},
   "outputs": [
    {
     "data": {
      "text/plain": [
       "-10.85071730094988"
      ]
     },
     "execution_count": 150,
     "metadata": {},
     "output_type": "execute_result"
    }
   ],
   "source": [
    "from sklearn.metrics import r2_score\n",
    "r2_score(y_train,y_pred_train)"
   ]
  },
  {
   "cell_type": "code",
   "execution_count": null,
   "id": "0fbb6160-af52-44ca-8ec0-b8a61780cebf",
   "metadata": {},
   "outputs": [],
   "source": [
    "# polynomial Regression\n",
    "choose the degree of polynomial - Highest power of input (x)\n",
    "  degree= 2 -> x2\n",
    "fit the model\n",
    "evaluate \n",
    "y=bo+b1x+b2xpower2....\n",
    "non-linear relationship"
   ]
  },
  {
   "cell_type": "code",
   "execution_count": 156,
   "id": "7d1e3150-fe0e-4715-a285-d3c8e86adb05",
   "metadata": {},
   "outputs": [
    {
     "data": {
      "text/plain": [
       "[<matplotlib.lines.Line2D at 0x1fc035b8650>]"
      ]
     },
     "execution_count": 156,
     "metadata": {},
     "output_type": "execute_result"
    },
    {
     "data": {
      "image/png": "[encoded data removed]",
      "text/plain": [
       "<Figure size 640x480 with 1 Axes>"
      ]
     },
     "metadata": {},
     "output_type": "display_data"
    }
   ],
   "source": [
    "x = [1,2,5,7,9,11,15,17,21]\n",
    "y = [65,55,50,40,35,42,49,55,65]\n",
    "\n",
    "model = np.poly1d(np.polyfit(x,y,3)) # a3x3 + a2x2 + a1x1 + ao \n",
    "r = np.linspace(1,20,65)\n",
    "plt.scatter(x,y)\n",
    "plt.plot(r,model(r))"
   ]
  },
  {
   "cell_type": "code",
   "execution_count": 158,
   "id": "4946119b-396e-437d-b569-6cf6b0edde1f",
   "metadata": {},
   "outputs": [],
   "source": [
    "#help(np.polyfit)"
   ]
  },
  {
   "cell_type": "code",
   "execution_count": 162,
   "id": "5c8803c0-b5c0-4171-afbe-0288a04ae84d",
   "metadata": {},
   "outputs": [],
   "source": [
    "from sklearn.model_selection import train_test_split\n",
    "from sklearn.preprocessing import PolynomialFeatures\n",
    "from sklearn.linear_model import LinearRegression"
   ]
  },
  {
   "cell_type": "markdown",
   "id": "40878a46-ae92-4546-9527-e3b6cbcbb3e1",
   "metadata": {},
   "source": [
    "# Get the data set - load the data\n",
    "df_sal['Level'] and df_sal['Salary']\n",
    "plt.xlabel('Level')\n",
    "plt.ylabel('Salary')\n",
    "\n",
    "split data into X , Y\n",
    "X = \n",
    "Y = \n",
    "\n",
    "Train the model \n",
    "l = LinearRegression()\n",
    "l.fit(X,Y)\n",
    "p = PolynomialFeatures(degree=3)\n",
    "x_poly = p.fit_transform(X)\n",
    "\n",
    "predict result\n",
    "y_pred_l =l.predict(X)\n",
    "y_pred_poly = p.predit(x_poly)\n",
    "\n",
    "Visaulize predictions"
   ]
  },
  {
   "cell_type": "code",
   "execution_count": 164,
   "id": "6ba58d95-a4cd-41da-99e2-50e049ad2c09",
   "metadata": {},
   "outputs": [
    {
     "name": "stdout",
     "output_type": "stream",
     "text": [
      "<class 'pandas.core.frame.DataFrame'>\n",
      "RangeIndex: 10 entries, 0 to 9\n",
      "Data columns (total 3 columns):\n",
      " #   Column    Non-Null Count  Dtype \n",
      "---  ------    --------------  ----- \n",
      " 0   Position  10 non-null     object\n",
      " 1   Level     10 non-null     int64 \n",
      " 2   Salary    10 non-null     int64 \n",
      "dtypes: int64(2), object(1)\n",
      "memory usage: 372.0+ bytes\n"
     ]
    }
   ],
   "source": [
    "df_sal = pd.read_csv('Position_Salaries.csv')\n",
    "df_sal.info()"
   ]
  },
  {
   "cell_type": "code",
   "execution_count": 166,
   "id": "1bbcddea-8b52-429b-9d41-3edb357a02f8",
   "metadata": {},
   "outputs": [
    {
     "data": {
      "text/html": [
       "<div>\n",
       "<style scoped>\n",
       "    .dataframe tbody tr th:only-of-type {\n",
       "        vertical-align: middle;\n",
       "    }\n",
       "\n",
       "    .dataframe tbody tr th {\n",
       "        vertical-align: top;\n",
       "    }\n",
       "\n",
       "    .dataframe thead th {\n",
       "        text-align: right;\n",
       "    }\n",
       "</style>\n",
       "<table border=\"1\" class=\"dataframe\">\n",
       "  <thead>\n",
       "    <tr style=\"text-align: right;\">\n",
       "      <th></th>\n",
       "      <th>Position</th>\n",
       "      <th>Level</th>\n",
       "      <th>Salary</th>\n",
       "    </tr>\n",
       "  </thead>\n",
       "  <tbody>\n",
       "    <tr>\n",
       "      <th>0</th>\n",
       "      <td>Business Analyst</td>\n",
       "      <td>1</td>\n",
       "      <td>45000</td>\n",
       "    </tr>\n",
       "    <tr>\n",
       "      <th>1</th>\n",
       "      <td>Junior Consultant</td>\n",
       "      <td>2</td>\n",
       "      <td>50000</td>\n",
       "    </tr>\n",
       "    <tr>\n",
       "      <th>2</th>\n",
       "      <td>Senior Consultant</td>\n",
       "      <td>3</td>\n",
       "      <td>60000</td>\n",
       "    </tr>\n",
       "  </tbody>\n",
       "</table>\n",
       "</div>"
      ],
      "text/plain": [
       "            Position  Level  Salary\n",
       "0   Business Analyst      1   45000\n",
       "1  Junior Consultant      2   50000\n",
       "2  Senior Consultant      3   60000"
      ]
     },
     "execution_count": 166,
     "metadata": {},
     "output_type": "execute_result"
    }
   ],
   "source": [
    "df_sal.head(3)"
   ]
  },
  {
   "cell_type": "code",
   "execution_count": 168,
   "id": "9ce154a3-45c6-429a-ac29-5c25118337da",
   "metadata": {},
   "outputs": [
    {
     "data": {
      "text/plain": [
       "Text(0, 0.5, 'Salary')"
      ]
     },
     "execution_count": 168,
     "metadata": {},
     "output_type": "execute_result"
    },
    {
     "data": {
      "image/png": "[encoded data removed]",
      "text/plain": [
       "<Figure size 640x480 with 1 Axes>"
      ]
     },
     "metadata": {},
     "output_type": "display_data"
    }
   ],
   "source": [
    "# Relationship between salary and level\n",
    "plt.scatter(df_sal['Level'],df_sal['Salary'])\n",
    "plt.title('Salary vs Level')\n",
    "plt.xlabel('Level')\n",
    "plt.ylabel('Salary')"
   ]
  },
  {
   "cell_type": "code",
   "execution_count": 178,
   "id": "261f182f-2f7e-426a-866c-f3d8f5fb45b1",
   "metadata": {},
   "outputs": [],
   "source": [
    "# split data\n",
    "X = df_sal.iloc[:,1:-1].values\n",
    "Y = df_sal.iloc[:,-1].values"
   ]
  },
  {
   "cell_type": "code",
   "execution_count": 180,
   "id": "c0894e83-c6a3-4ca1-b769-19f5af1b82fc",
   "metadata": {},
   "outputs": [
    {
     "data": {
      "text/html": [
       "<style>#sk-container-id-1 {\n",
       "  /* Definition of color scheme common for light and dark mode */\n",
       "  --sklearn-color-text: black;\n",
       "  --sklearn-color-line: gray;\n",
       "  /* Definition of color scheme for unfitted estimators */\n",
       "  --sklearn-color-unfitted-level-0: #fff5e6;\n",
       "  --sklearn-color-unfitted-level-1: #f6e4d2;\n",
       "  --sklearn-color-unfitted-level-2: #ffe0b3;\n",
       "  --sklearn-color-unfitted-level-3: chocolate;\n",
       "  /* Definition of color scheme for fitted estimators */\n",
       "  --sklearn-color-fitted-level-0: #f0f8ff;\n",
       "  --sklearn-color-fitted-level-1: #d4ebff;\n",
       "  --sklearn-color-fitted-level-2: #b3dbfd;\n",
       "  --sklearn-color-fitted-level-3: cornflowerblue;\n",
       "\n",
       "  /* Specific color for light theme */\n",
       "  --sklearn-color-text-on-default-background: var(--sg-text-color, var(--theme-code-foreground, var(--jp-content-font-color1, black)));\n",
       "  --sklearn-color-background: var(--sg-background-color, var(--theme-background, var(--jp-layout-color0, white)));\n",
       "  --sklearn-color-border-box: var(--sg-text-color, var(--theme-code-foreground, var(--jp-content-font-color1, black)));\n",
       "  --sklearn-color-icon: #696969;\n",
       "\n",
       "  @media (prefers-color-scheme: dark) {\n",
       "    /* Redefinition of color scheme for dark theme */\n",
       "    --sklearn-color-text-on-default-background: var(--sg-text-color, var(--theme-code-foreground, var(--jp-content-font-color1, white)));\n",
       "    --sklearn-color-background: var(--sg-background-color, var(--theme-background, var(--jp-layout-color0, #111)));\n",
       "    --sklearn-color-border-box: var(--sg-text-color, var(--theme-code-foreground, var(--jp-content-font-color1, white)));\n",
       "    --sklearn-color-icon: #878787;\n",
       "  }\n",
       "}\n",
       "\n",
       "#sk-container-id-1 {\n",
       "  color: var(--sklearn-color-text);\n",
       "}\n",
       "\n",
       "#sk-container-id-1 pre {\n",
       "  padding: 0;\n",
       "}\n",
       "\n",
       "#sk-container-id-1 input.sk-hidden--visually {\n",
       "  border: 0;\n",
       "  clip: rect(1px 1px 1px 1px);\n",
       "  clip: rect(1px, 1px, 1px, 1px);\n",
       "  height: 1px;\n",
       "  margin: -1px;\n",
       "  overflow: hidden;\n",
       "  padding: 0;\n",
       "  position: absolute;\n",
       "  width: 1px;\n",
       "}\n",
       "\n",
       "#sk-container-id-1 div.sk-dashed-wrapped {\n",
       "  border: 1px dashed var(--sklearn-color-line);\n",
       "  margin: 0 0.4em 0.5em 0.4em;\n",
       "  box-sizing: border-box;\n",
       "  padding-bottom: 0.4em;\n",
       "  background-color: var(--sklearn-color-background);\n",
       "}\n",
       "\n",
       "#sk-container-id-1 div.sk-container {\n",
       "  /* jupyter's `normalize.less` sets `[hidden] { display: none; }`\n",
       "     but bootstrap.min.css set `[hidden] { display: none !important; }`\n",
       "     so we also need the `!important` here to be able to override the\n",
       "     default hidden behavior on the sphinx rendered scikit-learn.org.\n",
       "     See: https://github.com/scikit-learn/scikit-learn/issues/21755 */\n",
       "  display: inline-block !important;\n",
       "  position: relative;\n",
       "}\n",
       "\n",
       "#sk-container-id-1 div.sk-text-repr-fallback {\n",
       "  display: none;\n",
       "}\n",
       "\n",
       "div.sk-parallel-item,\n",
       "div.sk-serial,\n",
       "div.sk-item {\n",
       "  /* draw centered vertical line to link estimators */\n",
       "  background-image: linear-gradient(var(--sklearn-color-text-on-default-background), var(--sklearn-color-text-on-default-background));\n",
       "  background-size: 2px 100%;\n",
       "  background-repeat: no-repeat;\n",
       "  background-position: center center;\n",
       "}\n",
       "\n",
       "/* Parallel-specific style estimator block */\n",
       "\n",
       "#sk-container-id-1 div.sk-parallel-item::after {\n",
       "  content: \"\";\n",
       "  width: 100%;\n",
       "  border-bottom: 2px solid var(--sklearn-color-text-on-default-background);\n",
       "  flex-grow: 1;\n",
       "}\n",
       "\n",
       "#sk-container-id-1 div.sk-parallel {\n",
       "  display: flex;\n",
       "  align-items: stretch;\n",
       "  justify-content: center;\n",
       "  background-color: var(--sklearn-color-background);\n",
       "  position: relative;\n",
       "}\n",
       "\n",
       "#sk-container-id-1 div.sk-parallel-item {\n",
       "  display: flex;\n",
       "  flex-direction: column;\n",
       "}\n",
       "\n",
       "#sk-container-id-1 div.sk-parallel-item:first-child::after {\n",
       "  align-self: flex-end;\n",
       "  width: 50%;\n",
       "}\n",
       "\n",
       "#sk-container-id-1 div.sk-parallel-item:last-child::after {\n",
       "  align-self: flex-start;\n",
       "  width: 50%;\n",
       "}\n",
       "\n",
       "#sk-container-id-1 div.sk-parallel-item:only-child::after {\n",
       "  width: 0;\n",
       "}\n",
       "\n",
       "/* Serial-specific style estimator block */\n",
       "\n",
       "#sk-container-id-1 div.sk-serial {\n",
       "  display: flex;\n",
       "  flex-direction: column;\n",
       "  align-items: center;\n",
       "  background-color: var(--sklearn-color-background);\n",
       "  padding-right: 1em;\n",
       "  padding-left: 1em;\n",
       "}\n",
       "\n",
       "\n",
       "/* Toggleable style: style used for estimator/Pipeline/ColumnTransformer box that is\n",
       "clickable and can be expanded/collapsed.\n",
       "- Pipeline and ColumnTransformer use this feature and define the default style\n",
       "- Estimators will overwrite some part of the style using the `sk-estimator` class\n",
       "*/\n",
       "\n",
       "/* Pipeline and ColumnTransformer style (default) */\n",
       "\n",
       "#sk-container-id-1 div.sk-toggleable {\n",
       "  /* Default theme specific background. It is overwritten whether we have a\n",
       "  specific estimator or a Pipeline/ColumnTransformer */\n",
       "  background-color: var(--sklearn-color-background);\n",
       "}\n",
       "\n",
       "/* Toggleable label */\n",
       "#sk-container-id-1 label.sk-toggleable__label {\n",
       "  cursor: pointer;\n",
       "  display: block;\n",
       "  width: 100%;\n",
       "  margin-bottom: 0;\n",
       "  padding: 0.5em;\n",
       "  box-sizing: border-box;\n",
       "  text-align: center;\n",
       "}\n",
       "\n",
       "#sk-container-id-1 label.sk-toggleable__label-arrow:before {\n",
       "  /* Arrow on the left of the label */\n",
       "  content: \"▸\";\n",
       "  float: left;\n",
       "  margin-right: 0.25em;\n",
       "  color: var(--sklearn-color-icon);\n",
       "}\n",
       "\n",
       "#sk-container-id-1 label.sk-toggleable__label-arrow:hover:before {\n",
       "  color: var(--sklearn-color-text);\n",
       "}\n",
       "\n",
       "/* Toggleable content - dropdown */\n",
       "\n",
       "#sk-container-id-1 div.sk-toggleable__content {\n",
       "  max-height: 0;\n",
       "  max-width: 0;\n",
       "  overflow: hidden;\n",
       "  text-align: left;\n",
       "  /* unfitted */\n",
       "  background-color: var(--sklearn-color-unfitted-level-0);\n",
       "}\n",
       "\n",
       "#sk-container-id-1 div.sk-toggleable__content.fitted {\n",
       "  /* fitted */\n",
       "  background-color: var(--sklearn-color-fitted-level-0);\n",
       "}\n",
       "\n",
       "#sk-container-id-1 div.sk-toggleable__content pre {\n",
       "  margin: 0.2em;\n",
       "  border-radius: 0.25em;\n",
       "  color: var(--sklearn-color-text);\n",
       "  /* unfitted */\n",
       "  background-color: var(--sklearn-color-unfitted-level-0);\n",
       "}\n",
       "\n",
       "#sk-container-id-1 div.sk-toggleable__content.fitted pre {\n",
       "  /* unfitted */\n",
       "  background-color: var(--sklearn-color-fitted-level-0);\n",
       "}\n",
       "\n",
       "#sk-container-id-1 input.sk-toggleable__control:checked~div.sk-toggleable__content {\n",
       "  /* Expand drop-down */\n",
       "  max-height: 200px;\n",
       "  max-width: 100%;\n",
       "  overflow: auto;\n",
       "}\n",
       "\n",
       "#sk-container-id-1 input.sk-toggleable__control:checked~label.sk-toggleable__label-arrow:before {\n",
       "  content: \"▾\";\n",
       "}\n",
       "\n",
       "/* Pipeline/ColumnTransformer-specific style */\n",
       "\n",
       "#sk-container-id-1 div.sk-label input.sk-toggleable__control:checked~label.sk-toggleable__label {\n",
       "  color: var(--sklearn-color-text);\n",
       "  background-color: var(--sklearn-color-unfitted-level-2);\n",
       "}\n",
       "\n",
       "#sk-container-id-1 div.sk-label.fitted input.sk-toggleable__control:checked~label.sk-toggleable__label {\n",
       "  background-color: var(--sklearn-color-fitted-level-2);\n",
       "}\n",
       "\n",
       "/* Estimator-specific style */\n",
       "\n",
       "/* Colorize estimator box */\n",
       "#sk-container-id-1 div.sk-estimator input.sk-toggleable__control:checked~label.sk-toggleable__label {\n",
       "  /* unfitted */\n",
       "  background-color: var(--sklearn-color-unfitted-level-2);\n",
       "}\n",
       "\n",
       "#sk-container-id-1 div.sk-estimator.fitted input.sk-toggleable__control:checked~label.sk-toggleable__label {\n",
       "  /* fitted */\n",
       "  background-color: var(--sklearn-color-fitted-level-2);\n",
       "}\n",
       "\n",
       "#sk-container-id-1 div.sk-label label.sk-toggleable__label,\n",
       "#sk-container-id-1 div.sk-label label {\n",
       "  /* The background is the default theme color */\n",
       "  color: var(--sklearn-color-text-on-default-background);\n",
       "}\n",
       "\n",
       "/* On hover, darken the color of the background */\n",
       "#sk-container-id-1 div.sk-label:hover label.sk-toggleable__label {\n",
       "  color: var(--sklearn-color-text);\n",
       "  background-color: var(--sklearn-color-unfitted-level-2);\n",
       "}\n",
       "\n",
       "/* Label box, darken color on hover, fitted */\n",
       "#sk-container-id-1 div.sk-label.fitted:hover label.sk-toggleable__label.fitted {\n",
       "  color: var(--sklearn-color-text);\n",
       "  background-color: var(--sklearn-color-fitted-level-2);\n",
       "}\n",
       "\n",
       "/* Estimator label */\n",
       "\n",
       "#sk-container-id-1 div.sk-label label {\n",
       "  font-family: monospace;\n",
       "  font-weight: bold;\n",
       "  display: inline-block;\n",
       "  line-height: 1.2em;\n",
       "}\n",
       "\n",
       "#sk-container-id-1 div.sk-label-container {\n",
       "  text-align: center;\n",
       "}\n",
       "\n",
       "/* Estimator-specific */\n",
       "#sk-container-id-1 div.sk-estimator {\n",
       "  font-family: monospace;\n",
       "  border: 1px dotted var(--sklearn-color-border-box);\n",
       "  border-radius: 0.25em;\n",
       "  box-sizing: border-box;\n",
       "  margin-bottom: 0.5em;\n",
       "  /* unfitted */\n",
       "  background-color: var(--sklearn-color-unfitted-level-0);\n",
       "}\n",
       "\n",
       "#sk-container-id-1 div.sk-estimator.fitted {\n",
       "  /* fitted */\n",
       "  background-color: var(--sklearn-color-fitted-level-0);\n",
       "}\n",
       "\n",
       "/* on hover */\n",
       "#sk-container-id-1 div.sk-estimator:hover {\n",
       "  /* unfitted */\n",
       "  background-color: var(--sklearn-color-unfitted-level-2);\n",
       "}\n",
       "\n",
       "#sk-container-id-1 div.sk-estimator.fitted:hover {\n",
       "  /* fitted */\n",
       "  background-color: var(--sklearn-color-fitted-level-2);\n",
       "}\n",
       "\n",
       "/* Specification for estimator info (e.g. \"i\" and \"?\") */\n",
       "\n",
       "/* Common style for \"i\" and \"?\" */\n",
       "\n",
       ".sk-estimator-doc-link,\n",
       "a:link.sk-estimator-doc-link,\n",
       "a:visited.sk-estimator-doc-link {\n",
       "  float: right;\n",
       "  font-size: smaller;\n",
       "  line-height: 1em;\n",
       "  font-family: monospace;\n",
       "  background-color: var(--sklearn-color-background);\n",
       "  border-radius: 1em;\n",
       "  height: 1em;\n",
       "  width: 1em;\n",
       "  text-decoration: none !important;\n",
       "  margin-left: 1ex;\n",
       "  /* unfitted */\n",
       "  border: var(--sklearn-color-unfitted-level-1) 1pt solid;\n",
       "  color: var(--sklearn-color-unfitted-level-1);\n",
       "}\n",
       "\n",
       ".sk-estimator-doc-link.fitted,\n",
       "a:link.sk-estimator-doc-link.fitted,\n",
       "a:visited.sk-estimator-doc-link.fitted {\n",
       "  /* fitted */\n",
       "  border: var(--sklearn-color-fitted-level-1) 1pt solid;\n",
       "  color: var(--sklearn-color-fitted-level-1);\n",
       "}\n",
       "\n",
       "/* On hover */\n",
       "div.sk-estimator:hover .sk-estimator-doc-link:hover,\n",
       ".sk-estimator-doc-link:hover,\n",
       "div.sk-label-container:hover .sk-estimator-doc-link:hover,\n",
       ".sk-estimator-doc-link:hover {\n",
       "  /* unfitted */\n",
       "  background-color: var(--sklearn-color-unfitted-level-3);\n",
       "  color: var(--sklearn-color-background);\n",
       "  text-decoration: none;\n",
       "}\n",
       "\n",
       "div.sk-estimator.fitted:hover .sk-estimator-doc-link.fitted:hover,\n",
       ".sk-estimator-doc-link.fitted:hover,\n",
       "div.sk-label-container:hover .sk-estimator-doc-link.fitted:hover,\n",
       ".sk-estimator-doc-link.fitted:hover {\n",
       "  /* fitted */\n",
       "  background-color: var(--sklearn-color-fitted-level-3);\n",
       "  color: var(--sklearn-color-background);\n",
       "  text-decoration: none;\n",
       "}\n",
       "\n",
       "/* Span, style for the box shown on hovering the info icon */\n",
       ".sk-estimator-doc-link span {\n",
       "  display: none;\n",
       "  z-index: 9999;\n",
       "  position: relative;\n",
       "  font-weight: normal;\n",
       "  right: .2ex;\n",
       "  padding: .5ex;\n",
       "  margin: .5ex;\n",
       "  width: min-content;\n",
       "  min-width: 20ex;\n",
       "  max-width: 50ex;\n",
       "  color: var(--sklearn-color-text);\n",
       "  box-shadow: 2pt 2pt 4pt #999;\n",
       "  /* unfitted */\n",
       "  background: var(--sklearn-color-unfitted-level-0);\n",
       "  border: .5pt solid var(--sklearn-color-unfitted-level-3);\n",
       "}\n",
       "\n",
       ".sk-estimator-doc-link.fitted span {\n",
       "  /* fitted */\n",
       "  background: var(--sklearn-color-fitted-level-0);\n",
       "  border: var(--sklearn-color-fitted-level-3);\n",
       "}\n",
       "\n",
       ".sk-estimator-doc-link:hover span {\n",
       "  display: block;\n",
       "}\n",
       "\n",
       "/* \"?\"-specific style due to the `<a>` HTML tag */\n",
       "\n",
       "#sk-container-id-1 a.estimator_doc_link {\n",
       "  float: right;\n",
       "  font-size: 1rem;\n",
       "  line-height: 1em;\n",
       "  font-family: monospace;\n",
       "  background-color: var(--sklearn-color-background);\n",
       "  border-radius: 1rem;\n",
       "  height: 1rem;\n",
       "  width: 1rem;\n",
       "  text-decoration: none;\n",
       "  /* unfitted */\n",
       "  color: var(--sklearn-color-unfitted-level-1);\n",
       "  border: var(--sklearn-color-unfitted-level-1) 1pt solid;\n",
       "}\n",
       "\n",
       "#sk-container-id-1 a.estimator_doc_link.fitted {\n",
       "  /* fitted */\n",
       "  border: var(--sklearn-color-fitted-level-1) 1pt solid;\n",
       "  color: var(--sklearn-color-fitted-level-1);\n",
       "}\n",
       "\n",
       "/* On hover */\n",
       "#sk-container-id-1 a.estimator_doc_link:hover {\n",
       "  /* unfitted */\n",
       "  background-color: var(--sklearn-color-unfitted-level-3);\n",
       "  color: var(--sklearn-color-background);\n",
       "  text-decoration: none;\n",
       "}\n",
       "\n",
       "#sk-container-id-1 a.estimator_doc_link.fitted:hover {\n",
       "  /* fitted */\n",
       "  background-color: var(--sklearn-color-fitted-level-3);\n",
       "}\n",
       "</style><div id=\"sk-container-id-1\" class=\"sk-top-container\"><div class=\"sk-text-repr-fallback\"><pre>LinearRegression()</pre><b>In a Jupyter environment, please rerun this cell to show the HTML representation or trust the notebook. <br />On GitHub, the HTML representation is unable to render, please try loading this page with nbviewer.org.</b></div><div class=\"sk-container\" hidden><div class=\"sk-item\"><div class=\"sk-estimator fitted sk-toggleable\"><input class=\"sk-toggleable__control sk-hidden--visually\" id=\"sk-estimator-id-1\" type=\"checkbox\" checked><label for=\"sk-estimator-id-1\" class=\"sk-toggleable__label fitted sk-toggleable__label-arrow fitted\">&nbsp;&nbsp;LinearRegression<a class=\"sk-estimator-doc-link fitted\" rel=\"noreferrer\" target=\"_blank\" href=\"https://scikit-learn.org/1.4/modules/generated/sklearn.linear_model.LinearRegression.html\">?<span>Documentation for LinearRegression</span></a><span class=\"sk-estimator-doc-link fitted\">i<span>Fitted</span></span></label><div class=\"sk-toggleable__content fitted\"><pre>LinearRegression()</pre></div> </div></div></div></div>"
      ],
      "text/plain": [
       "LinearRegression()"
      ]
     },
     "execution_count": 180,
     "metadata": {},
     "output_type": "execute_result"
    }
   ],
   "source": [
    "# LinearRegression\n",
    "Lr = LinearRegression()\n",
    "Lr.fit(X,Y)"
   ]
  },
  {
   "cell_type": "code",
   "execution_count": 192,
   "id": "6c76b299-ec78-40ef-b829-b98794e04b70",
   "metadata": {},
   "outputs": [
    {
     "data": {
      "text/html": [
       "<style>#sk-container-id-2 {\n",
       "  /* Definition of color scheme common for light and dark mode */\n",
       "  --sklearn-color-text: black;\n",
       "  --sklearn-color-line: gray;\n",
       "  /* Definition of color scheme for unfitted estimators */\n",
       "  --sklearn-color-unfitted-level-0: #fff5e6;\n",
       "  --sklearn-color-unfitted-level-1: #f6e4d2;\n",
       "  --sklearn-color-unfitted-level-2: #ffe0b3;\n",
       "  --sklearn-color-unfitted-level-3: chocolate;\n",
       "  /* Definition of color scheme for fitted estimators */\n",
       "  --sklearn-color-fitted-level-0: #f0f8ff;\n",
       "  --sklearn-color-fitted-level-1: #d4ebff;\n",
       "  --sklearn-color-fitted-level-2: #b3dbfd;\n",
       "  --sklearn-color-fitted-level-3: cornflowerblue;\n",
       "\n",
       "  /* Specific color for light theme */\n",
       "  --sklearn-color-text-on-default-background: var(--sg-text-color, var(--theme-code-foreground, var(--jp-content-font-color1, black)));\n",
       "  --sklearn-color-background: var(--sg-background-color, var(--theme-background, var(--jp-layout-color0, white)));\n",
       "  --sklearn-color-border-box: var(--sg-text-color, var(--theme-code-foreground, var(--jp-content-font-color1, black)));\n",
       "  --sklearn-color-icon: #696969;\n",
       "\n",
       "  @media (prefers-color-scheme: dark) {\n",
       "    /* Redefinition of color scheme for dark theme */\n",
       "    --sklearn-color-text-on-default-background: var(--sg-text-color, var(--theme-code-foreground, var(--jp-content-font-color1, white)));\n",
       "    --sklearn-color-background: var(--sg-background-color, var(--theme-background, var(--jp-layout-color0, #111)));\n",
       "    --sklearn-color-border-box: var(--sg-text-color, var(--theme-code-foreground, var(--jp-content-font-color1, white)));\n",
       "    --sklearn-color-icon: #878787;\n",
       "  }\n",
       "}\n",
       "\n",
       "#sk-container-id-2 {\n",
       "  color: var(--sklearn-color-text);\n",
       "}\n",
       "\n",
       "#sk-container-id-2 pre {\n",
       "  padding: 0;\n",
       "}\n",
       "\n",
       "#sk-container-id-2 input.sk-hidden--visually {\n",
       "  border: 0;\n",
       "  clip: rect(1px 1px 1px 1px);\n",
       "  clip: rect(1px, 1px, 1px, 1px);\n",
       "  height: 1px;\n",
       "  margin: -1px;\n",
       "  overflow: hidden;\n",
       "  padding: 0;\n",
       "  position: absolute;\n",
       "  width: 1px;\n",
       "}\n",
       "\n",
       "#sk-container-id-2 div.sk-dashed-wrapped {\n",
       "  border: 1px dashed var(--sklearn-color-line);\n",
       "  margin: 0 0.4em 0.5em 0.4em;\n",
       "  box-sizing: border-box;\n",
       "  padding-bottom: 0.4em;\n",
       "  background-color: var(--sklearn-color-background);\n",
       "}\n",
       "\n",
       "#sk-container-id-2 div.sk-container {\n",
       "  /* jupyter's `normalize.less` sets `[hidden] { display: none; }`\n",
       "     but bootstrap.min.css set `[hidden] { display: none !important; }`\n",
       "     so we also need the `!important` here to be able to override the\n",
       "     default hidden behavior on the sphinx rendered scikit-learn.org.\n",
       "     See: https://github.com/scikit-learn/scikit-learn/issues/21755 */\n",
       "  display: inline-block !important;\n",
       "  position: relative;\n",
       "}\n",
       "\n",
       "#sk-container-id-2 div.sk-text-repr-fallback {\n",
       "  display: none;\n",
       "}\n",
       "\n",
       "div.sk-parallel-item,\n",
       "div.sk-serial,\n",
       "div.sk-item {\n",
       "  /* draw centered vertical line to link estimators */\n",
       "  background-image: linear-gradient(var(--sklearn-color-text-on-default-background), var(--sklearn-color-text-on-default-background));\n",
       "  background-size: 2px 100%;\n",
       "  background-repeat: no-repeat;\n",
       "  background-position: center center;\n",
       "}\n",
       "\n",
       "/* Parallel-specific style estimator block */\n",
       "\n",
       "#sk-container-id-2 div.sk-parallel-item::after {\n",
       "  content: \"\";\n",
       "  width: 100%;\n",
       "  border-bottom: 2px solid var(--sklearn-color-text-on-default-background);\n",
       "  flex-grow: 1;\n",
       "}\n",
       "\n",
       "#sk-container-id-2 div.sk-parallel {\n",
       "  display: flex;\n",
       "  align-items: stretch;\n",
       "  justify-content: center;\n",
       "  background-color: var(--sklearn-color-background);\n",
       "  position: relative;\n",
       "}\n",
       "\n",
       "#sk-container-id-2 div.sk-parallel-item {\n",
       "  display: flex;\n",
       "  flex-direction: column;\n",
       "}\n",
       "\n",
       "#sk-container-id-2 div.sk-parallel-item:first-child::after {\n",
       "  align-self: flex-end;\n",
       "  width: 50%;\n",
       "}\n",
       "\n",
       "#sk-container-id-2 div.sk-parallel-item:last-child::after {\n",
       "  align-self: flex-start;\n",
       "  width: 50%;\n",
       "}\n",
       "\n",
       "#sk-container-id-2 div.sk-parallel-item:only-child::after {\n",
       "  width: 0;\n",
       "}\n",
       "\n",
       "/* Serial-specific style estimator block */\n",
       "\n",
       "#sk-container-id-2 div.sk-serial {\n",
       "  display: flex;\n",
       "  flex-direction: column;\n",
       "  align-items: center;\n",
       "  background-color: var(--sklearn-color-background);\n",
       "  padding-right: 1em;\n",
       "  padding-left: 1em;\n",
       "}\n",
       "\n",
       "\n",
       "/* Toggleable style: style used for estimator/Pipeline/ColumnTransformer box that is\n",
       "clickable and can be expanded/collapsed.\n",
       "- Pipeline and ColumnTransformer use this feature and define the default style\n",
       "- Estimators will overwrite some part of the style using the `sk-estimator` class\n",
       "*/\n",
       "\n",
       "/* Pipeline and ColumnTransformer style (default) */\n",
       "\n",
       "#sk-container-id-2 div.sk-toggleable {\n",
       "  /* Default theme specific background. It is overwritten whether we have a\n",
       "  specific estimator or a Pipeline/ColumnTransformer */\n",
       "  background-color: var(--sklearn-color-background);\n",
       "}\n",
       "\n",
       "/* Toggleable label */\n",
       "#sk-container-id-2 label.sk-toggleable__label {\n",
       "  cursor: pointer;\n",
       "  display: block;\n",
       "  width: 100%;\n",
       "  margin-bottom: 0;\n",
       "  padding: 0.5em;\n",
       "  box-sizing: border-box;\n",
       "  text-align: center;\n",
       "}\n",
       "\n",
       "#sk-container-id-2 label.sk-toggleable__label-arrow:before {\n",
       "  /* Arrow on the left of the label */\n",
       "  content: \"▸\";\n",
       "  float: left;\n",
       "  margin-right: 0.25em;\n",
       "  color: var(--sklearn-color-icon);\n",
       "}\n",
       "\n",
       "#sk-container-id-2 label.sk-toggleable__label-arrow:hover:before {\n",
       "  color: var(--sklearn-color-text);\n",
       "}\n",
       "\n",
       "/* Toggleable content - dropdown */\n",
       "\n",
       "#sk-container-id-2 div.sk-toggleable__content {\n",
       "  max-height: 0;\n",
       "  max-width: 0;\n",
       "  overflow: hidden;\n",
       "  text-align: left;\n",
       "  /* unfitted */\n",
       "  background-color: var(--sklearn-color-unfitted-level-0);\n",
       "}\n",
       "\n",
       "#sk-container-id-2 div.sk-toggleable__content.fitted {\n",
       "  /* fitted */\n",
       "  background-color: var(--sklearn-color-fitted-level-0);\n",
       "}\n",
       "\n",
       "#sk-container-id-2 div.sk-toggleable__content pre {\n",
       "  margin: 0.2em;\n",
       "  border-radius: 0.25em;\n",
       "  color: var(--sklearn-color-text);\n",
       "  /* unfitted */\n",
       "  background-color: var(--sklearn-color-unfitted-level-0);\n",
       "}\n",
       "\n",
       "#sk-container-id-2 div.sk-toggleable__content.fitted pre {\n",
       "  /* unfitted */\n",
       "  background-color: var(--sklearn-color-fitted-level-0);\n",
       "}\n",
       "\n",
       "#sk-container-id-2 input.sk-toggleable__control:checked~div.sk-toggleable__content {\n",
       "  /* Expand drop-down */\n",
       "  max-height: 200px;\n",
       "  max-width: 100%;\n",
       "  overflow: auto;\n",
       "}\n",
       "\n",
       "#sk-container-id-2 input.sk-toggleable__control:checked~label.sk-toggleable__label-arrow:before {\n",
       "  content: \"▾\";\n",
       "}\n",
       "\n",
       "/* Pipeline/ColumnTransformer-specific style */\n",
       "\n",
       "#sk-container-id-2 div.sk-label input.sk-toggleable__control:checked~label.sk-toggleable__label {\n",
       "  color: var(--sklearn-color-text);\n",
       "  background-color: var(--sklearn-color-unfitted-level-2);\n",
       "}\n",
       "\n",
       "#sk-container-id-2 div.sk-label.fitted input.sk-toggleable__control:checked~label.sk-toggleable__label {\n",
       "  background-color: var(--sklearn-color-fitted-level-2);\n",
       "}\n",
       "\n",
       "/* Estimator-specific style */\n",
       "\n",
       "/* Colorize estimator box */\n",
       "#sk-container-id-2 div.sk-estimator input.sk-toggleable__control:checked~label.sk-toggleable__label {\n",
       "  /* unfitted */\n",
       "  background-color: var(--sklearn-color-unfitted-level-2);\n",
       "}\n",
       "\n",
       "#sk-container-id-2 div.sk-estimator.fitted input.sk-toggleable__control:checked~label.sk-toggleable__label {\n",
       "  /* fitted */\n",
       "  background-color: var(--sklearn-color-fitted-level-2);\n",
       "}\n",
       "\n",
       "#sk-container-id-2 div.sk-label label.sk-toggleable__label,\n",
       "#sk-container-id-2 div.sk-label label {\n",
       "  /* The background is the default theme color */\n",
       "  color: var(--sklearn-color-text-on-default-background);\n",
       "}\n",
       "\n",
       "/* On hover, darken the color of the background */\n",
       "#sk-container-id-2 div.sk-label:hover label.sk-toggleable__label {\n",
       "  color: var(--sklearn-color-text);\n",
       "  background-color: var(--sklearn-color-unfitted-level-2);\n",
       "}\n",
       "\n",
       "/* Label box, darken color on hover, fitted */\n",
       "#sk-container-id-2 div.sk-label.fitted:hover label.sk-toggleable__label.fitted {\n",
       "  color: var(--sklearn-color-text);\n",
       "  background-color: var(--sklearn-color-fitted-level-2);\n",
       "}\n",
       "\n",
       "/* Estimator label */\n",
       "\n",
       "#sk-container-id-2 div.sk-label label {\n",
       "  font-family: monospace;\n",
       "  font-weight: bold;\n",
       "  display: inline-block;\n",
       "  line-height: 1.2em;\n",
       "}\n",
       "\n",
       "#sk-container-id-2 div.sk-label-container {\n",
       "  text-align: center;\n",
       "}\n",
       "\n",
       "/* Estimator-specific */\n",
       "#sk-container-id-2 div.sk-estimator {\n",
       "  font-family: monospace;\n",
       "  border: 1px dotted var(--sklearn-color-border-box);\n",
       "  border-radius: 0.25em;\n",
       "  box-sizing: border-box;\n",
       "  margin-bottom: 0.5em;\n",
       "  /* unfitted */\n",
       "  background-color: var(--sklearn-color-unfitted-level-0);\n",
       "}\n",
       "\n",
       "#sk-container-id-2 div.sk-estimator.fitted {\n",
       "  /* fitted */\n",
       "  background-color: var(--sklearn-color-fitted-level-0);\n",
       "}\n",
       "\n",
       "/* on hover */\n",
       "#sk-container-id-2 div.sk-estimator:hover {\n",
       "  /* unfitted */\n",
       "  background-color: var(--sklearn-color-unfitted-level-2);\n",
       "}\n",
       "\n",
       "#sk-container-id-2 div.sk-estimator.fitted:hover {\n",
       "  /* fitted */\n",
       "  background-color: var(--sklearn-color-fitted-level-2);\n",
       "}\n",
       "\n",
       "/* Specification for estimator info (e.g. \"i\" and \"?\") */\n",
       "\n",
       "/* Common style for \"i\" and \"?\" */\n",
       "\n",
       ".sk-estimator-doc-link,\n",
       "a:link.sk-estimator-doc-link,\n",
       "a:visited.sk-estimator-doc-link {\n",
       "  float: right;\n",
       "  font-size: smaller;\n",
       "  line-height: 1em;\n",
       "  font-family: monospace;\n",
       "  background-color: var(--sklearn-color-background);\n",
       "  border-radius: 1em;\n",
       "  height: 1em;\n",
       "  width: 1em;\n",
       "  text-decoration: none !important;\n",
       "  margin-left: 1ex;\n",
       "  /* unfitted */\n",
       "  border: var(--sklearn-color-unfitted-level-1) 1pt solid;\n",
       "  color: var(--sklearn-color-unfitted-level-1);\n",
       "}\n",
       "\n",
       ".sk-estimator-doc-link.fitted,\n",
       "a:link.sk-estimator-doc-link.fitted,\n",
       "a:visited.sk-estimator-doc-link.fitted {\n",
       "  /* fitted */\n",
       "  border: var(--sklearn-color-fitted-level-1) 1pt solid;\n",
       "  color: var(--sklearn-color-fitted-level-1);\n",
       "}\n",
       "\n",
       "/* On hover */\n",
       "div.sk-estimator:hover .sk-estimator-doc-link:hover,\n",
       ".sk-estimator-doc-link:hover,\n",
       "div.sk-label-container:hover .sk-estimator-doc-link:hover,\n",
       ".sk-estimator-doc-link:hover {\n",
       "  /* unfitted */\n",
       "  background-color: var(--sklearn-color-unfitted-level-3);\n",
       "  color: var(--sklearn-color-background);\n",
       "  text-decoration: none;\n",
       "}\n",
       "\n",
       "div.sk-estimator.fitted:hover .sk-estimator-doc-link.fitted:hover,\n",
       ".sk-estimator-doc-link.fitted:hover,\n",
       "div.sk-label-container:hover .sk-estimator-doc-link.fitted:hover,\n",
       ".sk-estimator-doc-link.fitted:hover {\n",
       "  /* fitted */\n",
       "  background-color: var(--sklearn-color-fitted-level-3);\n",
       "  color: var(--sklearn-color-background);\n",
       "  text-decoration: none;\n",
       "}\n",
       "\n",
       "/* Span, style for the box shown on hovering the info icon */\n",
       ".sk-estimator-doc-link span {\n",
       "  display: none;\n",
       "  z-index: 9999;\n",
       "  position: relative;\n",
       "  font-weight: normal;\n",
       "  right: .2ex;\n",
       "  padding: .5ex;\n",
       "  margin: .5ex;\n",
       "  width: min-content;\n",
       "  min-width: 20ex;\n",
       "  max-width: 50ex;\n",
       "  color: var(--sklearn-color-text);\n",
       "  box-shadow: 2pt 2pt 4pt #999;\n",
       "  /* unfitted */\n",
       "  background: var(--sklearn-color-unfitted-level-0);\n",
       "  border: .5pt solid var(--sklearn-color-unfitted-level-3);\n",
       "}\n",
       "\n",
       ".sk-estimator-doc-link.fitted span {\n",
       "  /* fitted */\n",
       "  background: var(--sklearn-color-fitted-level-0);\n",
       "  border: var(--sklearn-color-fitted-level-3);\n",
       "}\n",
       "\n",
       ".sk-estimator-doc-link:hover span {\n",
       "  display: block;\n",
       "}\n",
       "\n",
       "/* \"?\"-specific style due to the `<a>` HTML tag */\n",
       "\n",
       "#sk-container-id-2 a.estimator_doc_link {\n",
       "  float: right;\n",
       "  font-size: 1rem;\n",
       "  line-height: 1em;\n",
       "  font-family: monospace;\n",
       "  background-color: var(--sklearn-color-background);\n",
       "  border-radius: 1rem;\n",
       "  height: 1rem;\n",
       "  width: 1rem;\n",
       "  text-decoration: none;\n",
       "  /* unfitted */\n",
       "  color: var(--sklearn-color-unfitted-level-1);\n",
       "  border: var(--sklearn-color-unfitted-level-1) 1pt solid;\n",
       "}\n",
       "\n",
       "#sk-container-id-2 a.estimator_doc_link.fitted {\n",
       "  /* fitted */\n",
       "  border: var(--sklearn-color-fitted-level-1) 1pt solid;\n",
       "  color: var(--sklearn-color-fitted-level-1);\n",
       "}\n",
       "\n",
       "/* On hover */\n",
       "#sk-container-id-2 a.estimator_doc_link:hover {\n",
       "  /* unfitted */\n",
       "  background-color: var(--sklearn-color-unfitted-level-3);\n",
       "  color: var(--sklearn-color-background);\n",
       "  text-decoration: none;\n",
       "}\n",
       "\n",
       "#sk-container-id-2 a.estimator_doc_link.fitted:hover {\n",
       "  /* fitted */\n",
       "  background-color: var(--sklearn-color-fitted-level-3);\n",
       "}\n",
       "</style><div id=\"sk-container-id-2\" class=\"sk-top-container\"><div class=\"sk-text-repr-fallback\"><pre>LinearRegression()</pre><b>In a Jupyter environment, please rerun this cell to show the HTML representation or trust the notebook. <br />On GitHub, the HTML representation is unable to render, please try loading this page with nbviewer.org.</b></div><div class=\"sk-container\" hidden><div class=\"sk-item\"><div class=\"sk-estimator fitted sk-toggleable\"><input class=\"sk-toggleable__control sk-hidden--visually\" id=\"sk-estimator-id-2\" type=\"checkbox\" checked><label for=\"sk-estimator-id-2\" class=\"sk-toggleable__label fitted sk-toggleable__label-arrow fitted\">&nbsp;&nbsp;LinearRegression<a class=\"sk-estimator-doc-link fitted\" rel=\"noreferrer\" target=\"_blank\" href=\"https://scikit-learn.org/1.4/modules/generated/sklearn.linear_model.LinearRegression.html\">?<span>Documentation for LinearRegression</span></a><span class=\"sk-estimator-doc-link fitted\">i<span>Fitted</span></span></label><div class=\"sk-toggleable__content fitted\"><pre>LinearRegression()</pre></div> </div></div></div></div>"
      ],
      "text/plain": [
       "LinearRegression()"
      ]
     },
     "execution_count": 192,
     "metadata": {},
     "output_type": "execute_result"
    }
   ],
   "source": [
    "# Polynomial Regression\n",
    "pr = PolynomialFeatures(degree=4)\n",
    "X_poly = pr.fit_transform(X)\n",
    "Lr_2 = LinearRegression()\n",
    "Lr_2.fit(X_poly,Y)"
   ]
  },
  {
   "cell_type": "code",
   "execution_count": 194,
   "id": "fe0ecb17-b265-4df0-9516-36a0c42315e3",
   "metadata": {},
   "outputs": [],
   "source": [
    "y_pred_lr = Lr.predict(X)  # linear regression\n",
    "y_pre_poly = Lr_2.predict(X_poly) # polynomial regression"
   ]
  },
  {
   "cell_type": "code",
   "execution_count": 198,
   "id": "e7723be7-a3d0-47d9-8f40-b575ea11296a",
   "metadata": {},
   "outputs": [
    {
     "data": {
      "text/plain": [
       "Text(0, 0.5, 'salary')"
      ]
     },
     "execution_count": 198,
     "metadata": {},
     "output_type": "execute_result"
    },
    {
     "data": {
      "image/png": "[encoded data removed]",
      "text/plain": [
       "<Figure size 640x480 with 1 Axes>"
      ]
     },
     "metadata": {},
     "output_type": "display_data"
    }
   ],
   "source": [
    "# prediction with linear regrssion\n",
    "plt.scatter(X,Y)\n",
    "plt.plot(X,Lr.predict(X))\n",
    "plt.title('Real data - Linear Regression')\n",
    "plt.xlabel('Position Level')\n",
    "plt.ylabel('salary')"
   ]
  },
  {
   "cell_type": "code",
   "execution_count": 200,
   "id": "00e5f507-0545-4512-a276-3869072e9899",
   "metadata": {},
   "outputs": [
    {
     "data": {
      "text/plain": [
       "Text(0, 0.5, 'salary')"
      ]
     },
     "execution_count": 200,
     "metadata": {},
     "output_type": "execute_result"
    },
    {
     "data": {
      "image/png": "[encoded data removed]",
      "text/plain": [
       "<Figure size 640x480 with 1 Axes>"
      ]
     },
     "metadata": {},
     "output_type": "display_data"
    }
   ],
   "source": [
    "# prediction with polynomial regression\n",
    "plt.scatter(X,Y)\n",
    "plt.plot(X,Lr_2.predict(X_poly))\n",
    "plt.title('Real data - Polynomial Regression')\n",
    "plt.xlabel('Position Level')\n",
    "plt.ylabel('salary')"
   ]
  },
  {
   "cell_type": "code",
   "execution_count": 202,
   "id": "44bc276c-e4f8-429a-91a6-ef7ccca62fd3",
   "metadata": {},
   "outputs": [
    {
     "data": {
      "text/html": [
       "<div>\n",
       "<style scoped>\n",
       "    .dataframe tbody tr th:only-of-type {\n",
       "        vertical-align: middle;\n",
       "    }\n",
       "\n",
       "    .dataframe tbody tr th {\n",
       "        vertical-align: top;\n",
       "    }\n",
       "\n",
       "    .dataframe thead th {\n",
       "        text-align: right;\n",
       "    }\n",
       "</style>\n",
       "<table border=\"1\" class=\"dataframe\">\n",
       "  <thead>\n",
       "    <tr style=\"text-align: right;\">\n",
       "      <th></th>\n",
       "      <th>Position</th>\n",
       "      <th>Level</th>\n",
       "      <th>Salary</th>\n",
       "    </tr>\n",
       "  </thead>\n",
       "  <tbody>\n",
       "    <tr>\n",
       "      <th>0</th>\n",
       "      <td>Business Analyst</td>\n",
       "      <td>1</td>\n",
       "      <td>45000</td>\n",
       "    </tr>\n",
       "    <tr>\n",
       "      <th>1</th>\n",
       "      <td>Junior Consultant</td>\n",
       "      <td>2</td>\n",
       "      <td>50000</td>\n",
       "    </tr>\n",
       "    <tr>\n",
       "      <th>2</th>\n",
       "      <td>Senior Consultant</td>\n",
       "      <td>3</td>\n",
       "      <td>60000</td>\n",
       "    </tr>\n",
       "    <tr>\n",
       "      <th>3</th>\n",
       "      <td>Manager</td>\n",
       "      <td>4</td>\n",
       "      <td>80000</td>\n",
       "    </tr>\n",
       "    <tr>\n",
       "      <th>4</th>\n",
       "      <td>Country Manager</td>\n",
       "      <td>5</td>\n",
       "      <td>110000</td>\n",
       "    </tr>\n",
       "    <tr>\n",
       "      <th>5</th>\n",
       "      <td>Region Manager</td>\n",
       "      <td>6</td>\n",
       "      <td>150000</td>\n",
       "    </tr>\n",
       "    <tr>\n",
       "      <th>6</th>\n",
       "      <td>Partner</td>\n",
       "      <td>7</td>\n",
       "      <td>200000</td>\n",
       "    </tr>\n",
       "    <tr>\n",
       "      <th>7</th>\n",
       "      <td>Senior Partner</td>\n",
       "      <td>8</td>\n",
       "      <td>300000</td>\n",
       "    </tr>\n",
       "    <tr>\n",
       "      <th>8</th>\n",
       "      <td>C-level</td>\n",
       "      <td>9</td>\n",
       "      <td>500000</td>\n",
       "    </tr>\n",
       "    <tr>\n",
       "      <th>9</th>\n",
       "      <td>CEO</td>\n",
       "      <td>10</td>\n",
       "      <td>1000000</td>\n",
       "    </tr>\n",
       "  </tbody>\n",
       "</table>\n",
       "</div>"
      ],
      "text/plain": [
       "            Position  Level   Salary\n",
       "0   Business Analyst      1    45000\n",
       "1  Junior Consultant      2    50000\n",
       "2  Senior Consultant      3    60000\n",
       "3            Manager      4    80000\n",
       "4    Country Manager      5   110000\n",
       "5     Region Manager      6   150000\n",
       "6            Partner      7   200000\n",
       "7     Senior Partner      8   300000\n",
       "8            C-level      9   500000\n",
       "9                CEO     10  1000000"
      ]
     },
     "execution_count": 202,
     "metadata": {},
     "output_type": "execute_result"
    }
   ],
   "source": [
    "df_sal"
   ]
  },
  {
   "cell_type": "code",
   "execution_count": 208,
   "id": "a6df5240-7031-4d78-8fbe-e85df5790b98",
   "metadata": {},
   "outputs": [
    {
     "data": {
      "text/plain": [
       "array([411257.57575758])"
      ]
     },
     "execution_count": 208,
     "metadata": {},
     "output_type": "execute_result"
    }
   ],
   "source": [
    "# Test\n",
    "Lr.predict([[7.5]])"
   ]
  },
  {
   "cell_type": "code",
   "execution_count": 212,
   "id": "4b41327c-d7ad-47a2-99e3-bc65cfc8946c",
   "metadata": {},
   "outputs": [
    {
     "data": {
      "text/plain": [
       "array([225126.29297787])"
      ]
     },
     "execution_count": 212,
     "metadata": {},
     "output_type": "execute_result"
    }
   ],
   "source": [
    "Lr_2.predict(pr.fit_transform([[7.5]]))"
   ]
  },
  {
   "cell_type": "code",
   "execution_count": null,
   "id": "14f4a081-42a4-4581-bd13-846277a0fa81",
   "metadata": {},
   "outputs": [],
   "source": [
    "# Data Collection - networkx ->Graph() ->add_edges() ..\n",
    "# feature engineerings\n",
    " - link prediction \n",
    "    |->common neighors => nx.common_neighbors(G,1,2)\n",
    "    |->jaccard coefficient  => nx.jaccard_coefficient(G,1,2)\n",
    "    |->adar index  ->nx.adar_..(G,1,2)"
   ]
  },
  {
   "cell_type": "code",
   "execution_count": null,
   "id": "09c15d89-9bfa-468c-8f9b-9f9b6d681366",
   "metadata": {},
   "outputs": [],
   "source": [
    "jaccard coefficient - \n",
    "         |size of a intersection b|\n",
    "J(a,b) = -----------------------\n",
    "         |size a union b |\n"
   ]
  },
  {
   "cell_type": "code",
   "execution_count": 214,
   "id": "ace33be0-0c3e-42c1-9d37-aece5ca6e7bd",
   "metadata": {},
   "outputs": [
    {
     "data": {
      "text/plain": [
       "{3, 4}"
      ]
     },
     "execution_count": 214,
     "metadata": {},
     "output_type": "execute_result"
    }
   ],
   "source": [
    "A={1,2,3,4}\n",
    "B={3,4,5,6}\n",
    "A.intersection(B)"
   ]
  },
  {
   "cell_type": "code",
   "execution_count": 216,
   "id": "26174ccf-589b-424c-ae6d-3df823741d19",
   "metadata": {},
   "outputs": [
    {
     "data": {
      "text/plain": [
       "{1, 2, 3, 4, 5, 6}"
      ]
     },
     "execution_count": 216,
     "metadata": {},
     "output_type": "execute_result"
    }
   ],
   "source": [
    "A.union(B)"
   ]
  },
  {
   "cell_type": "code",
   "execution_count": 218,
   "id": "8b609e12-3c92-461e-b243-8b1372be18c0",
   "metadata": {},
   "outputs": [
    {
     "data": {
      "text/plain": [
       "0.3333333333333333"
      ]
     },
     "execution_count": 218,
     "metadata": {},
     "output_type": "execute_result"
    }
   ],
   "source": [
    "2/6"
   ]
  },
  {
   "cell_type": "code",
   "execution_count": null,
   "id": "f306c0b1-f896-49c0-af7c-7e699e5e7ea0",
   "metadata": {},
   "outputs": [],
   "source": [
    "33 % similarity \n",
    "J(A,B) = 1\n",
    "J(A,B) = 0 \n",
    "# 33 %"
   ]
  },
  {
   "cell_type": "code",
   "execution_count": 220,
   "id": "2b13c383-49c4-43ac-b14c-ab82ee12d8ff",
   "metadata": {},
   "outputs": [],
   "source": [
    "import networkx as nx\n",
    "G = nx.Graph()\n",
    "G.add_edges_from([(1,2),(1,3),(2,3),(2,4),(3,4),(4,5)])"
   ]
  },
  {
   "cell_type": "code",
   "execution_count": 222,
   "id": "39a4df05-fe0f-4eea-a40c-616832f393f7",
   "metadata": {},
   "outputs": [
    {
     "data": {
      "image/png": "[encoded data removed]",
      "text/plain": [
       "<Figure size 640x480 with 1 Axes>"
      ]
     },
     "metadata": {},
     "output_type": "display_data"
    }
   ],
   "source": [
    "nx.draw_networkx(G)"
   ]
  },
  {
   "cell_type": "code",
   "execution_count": 224,
   "id": "93ff008d-b279-4741-84f8-c30bde5d46d7",
   "metadata": {},
   "outputs": [
    {
     "data": {
      "text/plain": [
       "<generator object common_neighbors.<locals>.<genexpr> at 0x000001FC050E5120>"
      ]
     },
     "execution_count": 224,
     "metadata": {},
     "output_type": "execute_result"
    }
   ],
   "source": [
    "# Calculate common neighbors\n",
    "nx.common_neighbors(G,1,2)"
   ]
  },
  {
   "cell_type": "code",
   "execution_count": 226,
   "id": "f4bd8f0b-fa10-4288-b744-7c845d9ac75b",
   "metadata": {},
   "outputs": [
    {
     "data": {
      "text/plain": [
       "[3]"
      ]
     },
     "execution_count": 226,
     "metadata": {},
     "output_type": "execute_result"
    }
   ],
   "source": [
    "list(nx.common_neighbors(G,1,2))"
   ]
  },
  {
   "cell_type": "code",
   "execution_count": 228,
   "id": "ca9b28fb-df48-4cbb-acc3-c4ebbb0bfe08",
   "metadata": {},
   "outputs": [
    {
     "data": {
      "text/plain": [
       "<generator object _apply_prediction.<locals>.<genexpr> at 0x000001FC0E471340>"
      ]
     },
     "execution_count": 228,
     "metadata": {},
     "output_type": "execute_result"
    }
   ],
   "source": [
    "# Jaccard Coefficient \n",
    "nx.jaccard_coefficient(G,[(1,2),(1,3),(2,3)])"
   ]
  },
  {
   "cell_type": "code",
   "execution_count": 230,
   "id": "97d49310-5ced-458d-9c9a-e3aeee4f10e9",
   "metadata": {},
   "outputs": [
    {
     "name": "stdout",
     "output_type": "stream",
     "text": [
      "(1, 2, 0.25)\n",
      "(1, 3, 0.25)\n",
      "(2, 3, 0.5)\n"
     ]
    }
   ],
   "source": [
    "jaccard = nx.jaccard_coefficient(G,[(1,2),(1,3),(2,3)])\n",
    "for var in jaccard:\n",
    "    print(var)"
   ]
  },
  {
   "cell_type": "code",
   "execution_count": 232,
   "id": "40a0dfdf-b687-4e33-bfc8-2865aa528a7f",
   "metadata": {},
   "outputs": [
    {
     "name": "stdout",
     "output_type": "stream",
     "text": [
      "1 and 2:0.25\n",
      "1 and 3:0.25\n",
      "2 and 3:0.5\n"
     ]
    }
   ],
   "source": [
    "jaccard = nx.jaccard_coefficient(G,[(1,2),(1,3),(2,3)])\n",
    "for n1,n2,p in jaccard:\n",
    "    print(f'{n1} and {n2}:{p}')"
   ]
  },
  {
   "cell_type": "code",
   "execution_count": null,
   "id": "827e7218-0cd3-41c9-be78-585bb73e49bc",
   "metadata": {},
   "outputs": [],
   "source": [
    "# Load the data\n",
    "# Graph represent - Construct the graph \n",
    "# Feature engineering - jaccard coefficient\n",
    "# data labels\n",
    "# model training\n",
    "# prediction\n",
    "# ------------>deploy this model - social networks ; medical bilogical networks ..."
   ]
  },
  {
   "cell_type": "code",
   "execution_count": 236,
   "id": "143bfed9-d366-47c3-b25c-6b26d0a2522a",
   "metadata": {},
   "outputs": [
    {
     "data": {
      "image/png": "[encoded data removed]",
      "text/plain": [
       "<Figure size 640x480 with 1 Axes>"
      ]
     },
     "metadata": {},
     "output_type": "display_data"
    }
   ],
   "source": [
    "import networkx as nx\n",
    "G = nx.Graph()\n",
    "# load the data\n",
    "G.add_edges_from([(1,2),(1,3),(2,3),(2,4),(3,4),(4,5)])\n",
    "# display graph - construct the graph\n",
    "nx.draw(G,with_labels=True)"
   ]
  },
  {
   "cell_type": "code",
   "execution_count": 238,
   "id": "2cdb46a5-82a6-4085-8fda-ff74d1793e96",
   "metadata": {},
   "outputs": [],
   "source": [
    "# feature engineering - link prediction \n",
    "node_pairs = [(1,2),(1,3),(2,3),(2,4),(3,4),(4,5)]\n",
    "features = list() # empty list"
   ]
  },
  {
   "cell_type": "code",
   "execution_count": 244,
   "id": "20d35168-bc32-4afa-9cbd-13daeb2347c9",
   "metadata": {},
   "outputs": [
    {
     "name": "stdout",
     "output_type": "stream",
     "text": [
      "[[1, 0.25], [1, 0.25], [2, 0.5], [1, 0.2], [1, 0.2], [0, 0.0]]\n"
     ]
    }
   ],
   "source": [
    "# jaccad_coeff \n",
    "for n1,n2 in node_pairs:\n",
    "    count = len(list(nx.common_neighbors(G,n1,n2)))\n",
    "    jaccard_coeff= next(nx.jaccard_coefficient(G,[(n1,n2)]))[2]\n",
    "    features.append([count,jaccard_coeff])\n",
    "    \n",
    "print(features)"
   ]
  },
  {
   "cell_type": "code",
   "execution_count": 248,
   "id": "4a9e4e4b-7290-4bce-a4cb-0283f3f449fe",
   "metadata": {},
   "outputs": [],
   "source": [
    "# labels \n",
    "positive_samples = G.edges()"
   ]
  },
  {
   "cell_type": "code",
   "execution_count": 250,
   "id": "9f67e197-b0a8-4bf5-9e67-5a65e7966c5d",
   "metadata": {},
   "outputs": [],
   "source": [
    "import random"
   ]
  },
  {
   "cell_type": "code",
   "execution_count": 256,
   "id": "966596fb-3347-4399-a0d9-a66e077d4227",
   "metadata": {},
   "outputs": [
    {
     "name": "stdout",
     "output_type": "stream",
     "text": [
      "1 2\n",
      "1 3\n",
      "1 4\n",
      "1 5\n",
      "2 1\n",
      "2 3\n",
      "2 4\n",
      "2 5\n",
      "3 1\n",
      "3 2\n",
      "3 4\n",
      "3 5\n",
      "4 1\n",
      "4 2\n",
      "4 3\n",
      "4 5\n",
      "5 1\n",
      "5 2\n",
      "5 3\n",
      "5 4\n"
     ]
    }
   ],
   "source": [
    "# This is block style\n",
    "all_nodes_pairs = list()\n",
    "for i in G.nodes():\n",
    "    for j in G.nodes():\n",
    "        if( i != j):\n",
    "            print(i,j)"
   ]
  },
  {
   "cell_type": "code",
   "execution_count": 258,
   "id": "d09950b4-06be-468f-bb18-90bc54ccdc90",
   "metadata": {},
   "outputs": [],
   "source": [
    "# comprehension style\n",
    "all_node_pairs = [(i,j) for i in G.nodes() for j in G.nodes() if i != j]"
   ]
  },
  {
   "cell_type": "code",
   "execution_count": 262,
   "id": "7a1b24f3-4fda-4cc7-b014-52bdfe75d90c",
   "metadata": {},
   "outputs": [
    {
     "data": {
      "text/plain": [
       "[(1, 2),\n",
       " (1, 3),\n",
       " (1, 4),\n",
       " (1, 5),\n",
       " (2, 1),\n",
       " (2, 3),\n",
       " (2, 4),\n",
       " (2, 5),\n",
       " (3, 1),\n",
       " (3, 2),\n",
       " (3, 4),\n",
       " (3, 5),\n",
       " (4, 1),\n",
       " (4, 2),\n",
       " (4, 3),\n",
       " (4, 5),\n",
       " (5, 1),\n",
       " (5, 2),\n",
       " (5, 3),\n",
       " (5, 4)]"
      ]
     },
     "execution_count": 262,
     "metadata": {},
     "output_type": "execute_result"
    }
   ],
   "source": [
    "all_node_pairs"
   ]
  },
  {
   "cell_type": "code",
   "execution_count": 264,
   "id": "0f4263bd-a8a8-40ed-9f24-261bcebf2fb7",
   "metadata": {},
   "outputs": [
    {
     "data": {
      "text/plain": [
       "True"
      ]
     },
     "execution_count": 264,
     "metadata": {},
     "output_type": "execute_result"
    }
   ],
   "source": [
    "G.has_edge(1,2)"
   ]
  },
  {
   "cell_type": "code",
   "execution_count": 266,
   "id": "928205ad-239b-4bf7-b080-a8f19ccb62b7",
   "metadata": {},
   "outputs": [
    {
     "data": {
      "text/plain": [
       "True"
      ]
     },
     "execution_count": 266,
     "metadata": {},
     "output_type": "execute_result"
    }
   ],
   "source": [
    "G.has_edge(1,3)"
   ]
  },
  {
   "cell_type": "code",
   "execution_count": 268,
   "id": "f54e935c-2217-4007-ac23-7701b37210e5",
   "metadata": {},
   "outputs": [
    {
     "data": {
      "text/plain": [
       "False"
      ]
     },
     "execution_count": 268,
     "metadata": {},
     "output_type": "execute_result"
    }
   ],
   "source": [
    "G.has_edge(1,5)"
   ]
  },
  {
   "cell_type": "code",
   "execution_count": 270,
   "id": "3c376e44-7f7f-4b2d-b648-20ac26bbb39d",
   "metadata": {},
   "outputs": [
    {
     "data": {
      "text/plain": [
       "[(1, 4), (1, 5), (2, 5), (3, 5), (4, 1), (5, 1), (5, 2), (5, 3)]"
      ]
     },
     "execution_count": 270,
     "metadata": {},
     "output_type": "execute_result"
    }
   ],
   "source": [
    "negative_samples = [var for var in all_node_pairs if not G.has_edge(var[0],var[1])]\n",
    "negative_samples"
   ]
  },
  {
   "cell_type": "code",
   "execution_count": 272,
   "id": "8b6a21f1-056c-4c65-b28c-c2d09996bdb3",
   "metadata": {},
   "outputs": [
    {
     "data": {
      "text/plain": [
       "False"
      ]
     },
     "execution_count": 272,
     "metadata": {},
     "output_type": "execute_result"
    }
   ],
   "source": [
    "G.has_edge(1,4)"
   ]
  },
  {
   "cell_type": "code",
   "execution_count": 276,
   "id": "3b3468fc-0ef0-4610-98de-d402a8a28460",
   "metadata": {},
   "outputs": [],
   "source": [
    "negative_samples = random.sample(negative_samples,len(positive_samples))\n",
    "labels = [1] * len(positive_samples) + [0] * len(negative_samples)"
   ]
  },
  {
   "cell_type": "code",
   "execution_count": 296,
   "id": "dacce459-3a49-437c-989d-43292d499d5b",
   "metadata": {},
   "outputs": [
    {
     "name": "stdout",
     "output_type": "stream",
     "text": [
      "[1, 1, 1, 1, 1, 1, 0, 0, 0, 0, 0, 0]\n",
      "12\n"
     ]
    }
   ],
   "source": [
    "# combination of positive and negative\n",
    "print(labels)\n",
    "print(len(labels))"
   ]
  },
  {
   "cell_type": "code",
   "execution_count": 298,
   "id": "2055b1d0-1b73-4e2f-a87a-ea6ddaab1b40",
   "metadata": {},
   "outputs": [],
   "source": [
    "labels = [1,1,1,0,0,0]"
   ]
  },
  {
   "cell_type": "code",
   "execution_count": 284,
   "id": "749f8551-cb6e-4c8a-bbcb-7d4df22094fc",
   "metadata": {},
   "outputs": [],
   "source": [
    "from sklearn.linear_model import LogisticRegression\n",
    "from sklearn.model_selection import train_test_split\n",
    "from sklearn.metrics import accuracy_score"
   ]
  },
  {
   "cell_type": "code",
   "execution_count": 300,
   "id": "7d536081-bbaa-4f49-98b4-5dfcf3b1fbf2",
   "metadata": {},
   "outputs": [],
   "source": [
    "try:\n",
    "    X_train,X_test,y_train,y_test = train_test_split(features,labels,test_size=0.2,random_state=42)\n",
    "except Exception as eobj:\n",
    "    print(eobj)"
   ]
  },
  {
   "cell_type": "code",
   "execution_count": 302,
   "id": "00ba4c23-d45b-4a02-8269-7687a21d3651",
   "metadata": {},
   "outputs": [
    {
     "data": {
      "text/html": [
       "<style>#sk-container-id-3 {\n",
       "  /* Definition of color scheme common for light and dark mode */\n",
       "  --sklearn-color-text: black;\n",
       "  --sklearn-color-line: gray;\n",
       "  /* Definition of color scheme for unfitted estimators */\n",
       "  --sklearn-color-unfitted-level-0: #fff5e6;\n",
       "  --sklearn-color-unfitted-level-1: #f6e4d2;\n",
       "  --sklearn-color-unfitted-level-2: #ffe0b3;\n",
       "  --sklearn-color-unfitted-level-3: chocolate;\n",
       "  /* Definition of color scheme for fitted estimators */\n",
       "  --sklearn-color-fitted-level-0: #f0f8ff;\n",
       "  --sklearn-color-fitted-level-1: #d4ebff;\n",
       "  --sklearn-color-fitted-level-2: #b3dbfd;\n",
       "  --sklearn-color-fitted-level-3: cornflowerblue;\n",
       "\n",
       "  /* Specific color for light theme */\n",
       "  --sklearn-color-text-on-default-background: var(--sg-text-color, var(--theme-code-foreground, var(--jp-content-font-color1, black)));\n",
       "  --sklearn-color-background: var(--sg-background-color, var(--theme-background, var(--jp-layout-color0, white)));\n",
       "  --sklearn-color-border-box: var(--sg-text-color, var(--theme-code-foreground, var(--jp-content-font-color1, black)));\n",
       "  --sklearn-color-icon: #696969;\n",
       "\n",
       "  @media (prefers-color-scheme: dark) {\n",
       "    /* Redefinition of color scheme for dark theme */\n",
       "    --sklearn-color-text-on-default-background: var(--sg-text-color, var(--theme-code-foreground, var(--jp-content-font-color1, white)));\n",
       "    --sklearn-color-background: var(--sg-background-color, var(--theme-background, var(--jp-layout-color0, #111)));\n",
       "    --sklearn-color-border-box: var(--sg-text-color, var(--theme-code-foreground, var(--jp-content-font-color1, white)));\n",
       "    --sklearn-color-icon: #878787;\n",
       "  }\n",
       "}\n",
       "\n",
       "#sk-container-id-3 {\n",
       "  color: var(--sklearn-color-text);\n",
       "}\n",
       "\n",
       "#sk-container-id-3 pre {\n",
       "  padding: 0;\n",
       "}\n",
       "\n",
       "#sk-container-id-3 input.sk-hidden--visually {\n",
       "  border: 0;\n",
       "  clip: rect(1px 1px 1px 1px);\n",
       "  clip: rect(1px, 1px, 1px, 1px);\n",
       "  height: 1px;\n",
       "  margin: -1px;\n",
       "  overflow: hidden;\n",
       "  padding: 0;\n",
       "  position: absolute;\n",
       "  width: 1px;\n",
       "}\n",
       "\n",
       "#sk-container-id-3 div.sk-dashed-wrapped {\n",
       "  border: 1px dashed var(--sklearn-color-line);\n",
       "  margin: 0 0.4em 0.5em 0.4em;\n",
       "  box-sizing: border-box;\n",
       "  padding-bottom: 0.4em;\n",
       "  background-color: var(--sklearn-color-background);\n",
       "}\n",
       "\n",
       "#sk-container-id-3 div.sk-container {\n",
       "  /* jupyter's `normalize.less` sets `[hidden] { display: none; }`\n",
       "     but bootstrap.min.css set `[hidden] { display: none !important; }`\n",
       "     so we also need the `!important` here to be able to override the\n",
       "     default hidden behavior on the sphinx rendered scikit-learn.org.\n",
       "     See: https://github.com/scikit-learn/scikit-learn/issues/21755 */\n",
       "  display: inline-block !important;\n",
       "  position: relative;\n",
       "}\n",
       "\n",
       "#sk-container-id-3 div.sk-text-repr-fallback {\n",
       "  display: none;\n",
       "}\n",
       "\n",
       "div.sk-parallel-item,\n",
       "div.sk-serial,\n",
       "div.sk-item {\n",
       "  /* draw centered vertical line to link estimators */\n",
       "  background-image: linear-gradient(var(--sklearn-color-text-on-default-background), var(--sklearn-color-text-on-default-background));\n",
       "  background-size: 2px 100%;\n",
       "  background-repeat: no-repeat;\n",
       "  background-position: center center;\n",
       "}\n",
       "\n",
       "/* Parallel-specific style estimator block */\n",
       "\n",
       "#sk-container-id-3 div.sk-parallel-item::after {\n",
       "  content: \"\";\n",
       "  width: 100%;\n",
       "  border-bottom: 2px solid var(--sklearn-color-text-on-default-background);\n",
       "  flex-grow: 1;\n",
       "}\n",
       "\n",
       "#sk-container-id-3 div.sk-parallel {\n",
       "  display: flex;\n",
       "  align-items: stretch;\n",
       "  justify-content: center;\n",
       "  background-color: var(--sklearn-color-background);\n",
       "  position: relative;\n",
       "}\n",
       "\n",
       "#sk-container-id-3 div.sk-parallel-item {\n",
       "  display: flex;\n",
       "  flex-direction: column;\n",
       "}\n",
       "\n",
       "#sk-container-id-3 div.sk-parallel-item:first-child::after {\n",
       "  align-self: flex-end;\n",
       "  width: 50%;\n",
       "}\n",
       "\n",
       "#sk-container-id-3 div.sk-parallel-item:last-child::after {\n",
       "  align-self: flex-start;\n",
       "  width: 50%;\n",
       "}\n",
       "\n",
       "#sk-container-id-3 div.sk-parallel-item:only-child::after {\n",
       "  width: 0;\n",
       "}\n",
       "\n",
       "/* Serial-specific style estimator block */\n",
       "\n",
       "#sk-container-id-3 div.sk-serial {\n",
       "  display: flex;\n",
       "  flex-direction: column;\n",
       "  align-items: center;\n",
       "  background-color: var(--sklearn-color-background);\n",
       "  padding-right: 1em;\n",
       "  padding-left: 1em;\n",
       "}\n",
       "\n",
       "\n",
       "/* Toggleable style: style used for estimator/Pipeline/ColumnTransformer box that is\n",
       "clickable and can be expanded/collapsed.\n",
       "- Pipeline and ColumnTransformer use this feature and define the default style\n",
       "- Estimators will overwrite some part of the style using the `sk-estimator` class\n",
       "*/\n",
       "\n",
       "/* Pipeline and ColumnTransformer style (default) */\n",
       "\n",
       "#sk-container-id-3 div.sk-toggleable {\n",
       "  /* Default theme specific background. It is overwritten whether we have a\n",
       "  specific estimator or a Pipeline/ColumnTransformer */\n",
       "  background-color: var(--sklearn-color-background);\n",
       "}\n",
       "\n",
       "/* Toggleable label */\n",
       "#sk-container-id-3 label.sk-toggleable__label {\n",
       "  cursor: pointer;\n",
       "  display: block;\n",
       "  width: 100%;\n",
       "  margin-bottom: 0;\n",
       "  padding: 0.5em;\n",
       "  box-sizing: border-box;\n",
       "  text-align: center;\n",
       "}\n",
       "\n",
       "#sk-container-id-3 label.sk-toggleable__label-arrow:before {\n",
       "  /* Arrow on the left of the label */\n",
       "  content: \"▸\";\n",
       "  float: left;\n",
       "  margin-right: 0.25em;\n",
       "  color: var(--sklearn-color-icon);\n",
       "}\n",
       "\n",
       "#sk-container-id-3 label.sk-toggleable__label-arrow:hover:before {\n",
       "  color: var(--sklearn-color-text);\n",
       "}\n",
       "\n",
       "/* Toggleable content - dropdown */\n",
       "\n",
       "#sk-container-id-3 div.sk-toggleable__content {\n",
       "  max-height: 0;\n",
       "  max-width: 0;\n",
       "  overflow: hidden;\n",
       "  text-align: left;\n",
       "  /* unfitted */\n",
       "  background-color: var(--sklearn-color-unfitted-level-0);\n",
       "}\n",
       "\n",
       "#sk-container-id-3 div.sk-toggleable__content.fitted {\n",
       "  /* fitted */\n",
       "  background-color: var(--sklearn-color-fitted-level-0);\n",
       "}\n",
       "\n",
       "#sk-container-id-3 div.sk-toggleable__content pre {\n",
       "  margin: 0.2em;\n",
       "  border-radius: 0.25em;\n",
       "  color: var(--sklearn-color-text);\n",
       "  /* unfitted */\n",
       "  background-color: var(--sklearn-color-unfitted-level-0);\n",
       "}\n",
       "\n",
       "#sk-container-id-3 div.sk-toggleable__content.fitted pre {\n",
       "  /* unfitted */\n",
       "  background-color: var(--sklearn-color-fitted-level-0);\n",
       "}\n",
       "\n",
       "#sk-container-id-3 input.sk-toggleable__control:checked~div.sk-toggleable__content {\n",
       "  /* Expand drop-down */\n",
       "  max-height: 200px;\n",
       "  max-width: 100%;\n",
       "  overflow: auto;\n",
       "}\n",
       "\n",
       "#sk-container-id-3 input.sk-toggleable__control:checked~label.sk-toggleable__label-arrow:before {\n",
       "  content: \"▾\";\n",
       "}\n",
       "\n",
       "/* Pipeline/ColumnTransformer-specific style */\n",
       "\n",
       "#sk-container-id-3 div.sk-label input.sk-toggleable__control:checked~label.sk-toggleable__label {\n",
       "  color: var(--sklearn-color-text);\n",
       "  background-color: var(--sklearn-color-unfitted-level-2);\n",
       "}\n",
       "\n",
       "#sk-container-id-3 div.sk-label.fitted input.sk-toggleable__control:checked~label.sk-toggleable__label {\n",
       "  background-color: var(--sklearn-color-fitted-level-2);\n",
       "}\n",
       "\n",
       "/* Estimator-specific style */\n",
       "\n",
       "/* Colorize estimator box */\n",
       "#sk-container-id-3 div.sk-estimator input.sk-toggleable__control:checked~label.sk-toggleable__label {\n",
       "  /* unfitted */\n",
       "  background-color: var(--sklearn-color-unfitted-level-2);\n",
       "}\n",
       "\n",
       "#sk-container-id-3 div.sk-estimator.fitted input.sk-toggleable__control:checked~label.sk-toggleable__label {\n",
       "  /* fitted */\n",
       "  background-color: var(--sklearn-color-fitted-level-2);\n",
       "}\n",
       "\n",
       "#sk-container-id-3 div.sk-label label.sk-toggleable__label,\n",
       "#sk-container-id-3 div.sk-label label {\n",
       "  /* The background is the default theme color */\n",
       "  color: var(--sklearn-color-text-on-default-background);\n",
       "}\n",
       "\n",
       "/* On hover, darken the color of the background */\n",
       "#sk-container-id-3 div.sk-label:hover label.sk-toggleable__label {\n",
       "  color: var(--sklearn-color-text);\n",
       "  background-color: var(--sklearn-color-unfitted-level-2);\n",
       "}\n",
       "\n",
       "/* Label box, darken color on hover, fitted */\n",
       "#sk-container-id-3 div.sk-label.fitted:hover label.sk-toggleable__label.fitted {\n",
       "  color: var(--sklearn-color-text);\n",
       "  background-color: var(--sklearn-color-fitted-level-2);\n",
       "}\n",
       "\n",
       "/* Estimator label */\n",
       "\n",
       "#sk-container-id-3 div.sk-label label {\n",
       "  font-family: monospace;\n",
       "  font-weight: bold;\n",
       "  display: inline-block;\n",
       "  line-height: 1.2em;\n",
       "}\n",
       "\n",
       "#sk-container-id-3 div.sk-label-container {\n",
       "  text-align: center;\n",
       "}\n",
       "\n",
       "/* Estimator-specific */\n",
       "#sk-container-id-3 div.sk-estimator {\n",
       "  font-family: monospace;\n",
       "  border: 1px dotted var(--sklearn-color-border-box);\n",
       "  border-radius: 0.25em;\n",
       "  box-sizing: border-box;\n",
       "  margin-bottom: 0.5em;\n",
       "  /* unfitted */\n",
       "  background-color: var(--sklearn-color-unfitted-level-0);\n",
       "}\n",
       "\n",
       "#sk-container-id-3 div.sk-estimator.fitted {\n",
       "  /* fitted */\n",
       "  background-color: var(--sklearn-color-fitted-level-0);\n",
       "}\n",
       "\n",
       "/* on hover */\n",
       "#sk-container-id-3 div.sk-estimator:hover {\n",
       "  /* unfitted */\n",
       "  background-color: var(--sklearn-color-unfitted-level-2);\n",
       "}\n",
       "\n",
       "#sk-container-id-3 div.sk-estimator.fitted:hover {\n",
       "  /* fitted */\n",
       "  background-color: var(--sklearn-color-fitted-level-2);\n",
       "}\n",
       "\n",
       "/* Specification for estimator info (e.g. \"i\" and \"?\") */\n",
       "\n",
       "/* Common style for \"i\" and \"?\" */\n",
       "\n",
       ".sk-estimator-doc-link,\n",
       "a:link.sk-estimator-doc-link,\n",
       "a:visited.sk-estimator-doc-link {\n",
       "  float: right;\n",
       "  font-size: smaller;\n",
       "  line-height: 1em;\n",
       "  font-family: monospace;\n",
       "  background-color: var(--sklearn-color-background);\n",
       "  border-radius: 1em;\n",
       "  height: 1em;\n",
       "  width: 1em;\n",
       "  text-decoration: none !important;\n",
       "  margin-left: 1ex;\n",
       "  /* unfitted */\n",
       "  border: var(--sklearn-color-unfitted-level-1) 1pt solid;\n",
       "  color: var(--sklearn-color-unfitted-level-1);\n",
       "}\n",
       "\n",
       ".sk-estimator-doc-link.fitted,\n",
       "a:link.sk-estimator-doc-link.fitted,\n",
       "a:visited.sk-estimator-doc-link.fitted {\n",
       "  /* fitted */\n",
       "  border: var(--sklearn-color-fitted-level-1) 1pt solid;\n",
       "  color: var(--sklearn-color-fitted-level-1);\n",
       "}\n",
       "\n",
       "/* On hover */\n",
       "div.sk-estimator:hover .sk-estimator-doc-link:hover,\n",
       ".sk-estimator-doc-link:hover,\n",
       "div.sk-label-container:hover .sk-estimator-doc-link:hover,\n",
       ".sk-estimator-doc-link:hover {\n",
       "  /* unfitted */\n",
       "  background-color: var(--sklearn-color-unfitted-level-3);\n",
       "  color: var(--sklearn-color-background);\n",
       "  text-decoration: none;\n",
       "}\n",
       "\n",
       "div.sk-estimator.fitted:hover .sk-estimator-doc-link.fitted:hover,\n",
       ".sk-estimator-doc-link.fitted:hover,\n",
       "div.sk-label-container:hover .sk-estimator-doc-link.fitted:hover,\n",
       ".sk-estimator-doc-link.fitted:hover {\n",
       "  /* fitted */\n",
       "  background-color: var(--sklearn-color-fitted-level-3);\n",
       "  color: var(--sklearn-color-background);\n",
       "  text-decoration: none;\n",
       "}\n",
       "\n",
       "/* Span, style for the box shown on hovering the info icon */\n",
       ".sk-estimator-doc-link span {\n",
       "  display: none;\n",
       "  z-index: 9999;\n",
       "  position: relative;\n",
       "  font-weight: normal;\n",
       "  right: .2ex;\n",
       "  padding: .5ex;\n",
       "  margin: .5ex;\n",
       "  width: min-content;\n",
       "  min-width: 20ex;\n",
       "  max-width: 50ex;\n",
       "  color: var(--sklearn-color-text);\n",
       "  box-shadow: 2pt 2pt 4pt #999;\n",
       "  /* unfitted */\n",
       "  background: var(--sklearn-color-unfitted-level-0);\n",
       "  border: .5pt solid var(--sklearn-color-unfitted-level-3);\n",
       "}\n",
       "\n",
       ".sk-estimator-doc-link.fitted span {\n",
       "  /* fitted */\n",
       "  background: var(--sklearn-color-fitted-level-0);\n",
       "  border: var(--sklearn-color-fitted-level-3);\n",
       "}\n",
       "\n",
       ".sk-estimator-doc-link:hover span {\n",
       "  display: block;\n",
       "}\n",
       "\n",
       "/* \"?\"-specific style due to the `<a>` HTML tag */\n",
       "\n",
       "#sk-container-id-3 a.estimator_doc_link {\n",
       "  float: right;\n",
       "  font-size: 1rem;\n",
       "  line-height: 1em;\n",
       "  font-family: monospace;\n",
       "  background-color: var(--sklearn-color-background);\n",
       "  border-radius: 1rem;\n",
       "  height: 1rem;\n",
       "  width: 1rem;\n",
       "  text-decoration: none;\n",
       "  /* unfitted */\n",
       "  color: var(--sklearn-color-unfitted-level-1);\n",
       "  border: var(--sklearn-color-unfitted-level-1) 1pt solid;\n",
       "}\n",
       "\n",
       "#sk-container-id-3 a.estimator_doc_link.fitted {\n",
       "  /* fitted */\n",
       "  border: var(--sklearn-color-fitted-level-1) 1pt solid;\n",
       "  color: var(--sklearn-color-fitted-level-1);\n",
       "}\n",
       "\n",
       "/* On hover */\n",
       "#sk-container-id-3 a.estimator_doc_link:hover {\n",
       "  /* unfitted */\n",
       "  background-color: var(--sklearn-color-unfitted-level-3);\n",
       "  color: var(--sklearn-color-background);\n",
       "  text-decoration: none;\n",
       "}\n",
       "\n",
       "#sk-container-id-3 a.estimator_doc_link.fitted:hover {\n",
       "  /* fitted */\n",
       "  background-color: var(--sklearn-color-fitted-level-3);\n",
       "}\n",
       "</style><div id=\"sk-container-id-3\" class=\"sk-top-container\"><div class=\"sk-text-repr-fallback\"><pre>LogisticRegression()</pre><b>In a Jupyter environment, please rerun this cell to show the HTML representation or trust the notebook. <br />On GitHub, the HTML representation is unable to render, please try loading this page with nbviewer.org.</b></div><div class=\"sk-container\" hidden><div class=\"sk-item\"><div class=\"sk-estimator fitted sk-toggleable\"><input class=\"sk-toggleable__control sk-hidden--visually\" id=\"sk-estimator-id-3\" type=\"checkbox\" checked><label for=\"sk-estimator-id-3\" class=\"sk-toggleable__label fitted sk-toggleable__label-arrow fitted\">&nbsp;&nbsp;LogisticRegression<a class=\"sk-estimator-doc-link fitted\" rel=\"noreferrer\" target=\"_blank\" href=\"https://scikit-learn.org/1.4/modules/generated/sklearn.linear_model.LogisticRegression.html\">?<span>Documentation for LogisticRegression</span></a><span class=\"sk-estimator-doc-link fitted\">i<span>Fitted</span></span></label><div class=\"sk-toggleable__content fitted\"><pre>LogisticRegression()</pre></div> </div></div></div></div>"
      ],
      "text/plain": [
       "LogisticRegression()"
      ]
     },
     "execution_count": 302,
     "metadata": {},
     "output_type": "execute_result"
    }
   ],
   "source": [
    "model = LogisticRegression()\n",
    "model.fit(X_train,y_train)"
   ]
  },
  {
   "cell_type": "code",
   "execution_count": 304,
   "id": "df3a1e4c-8570-4c24-b796-80fade5b3849",
   "metadata": {},
   "outputs": [],
   "source": [
    "y_pred = model.predict(X_test)"
   ]
  },
  {
   "cell_type": "code",
   "execution_count": 306,
   "id": "4b735303-2844-49fd-a284-6a8f24e4ce79",
   "metadata": {},
   "outputs": [
    {
     "data": {
      "text/plain": [
       "0.0"
      ]
     },
     "execution_count": 306,
     "metadata": {},
     "output_type": "execute_result"
    }
   ],
   "source": [
    "# evaluate model\n",
    "accuracy_score(y_test,y_pred)"
   ]
  },
  {
   "cell_type": "code",
   "execution_count": 308,
   "id": "6961986c-3d01-4d9b-9554-6b2e96062fcd",
   "metadata": {},
   "outputs": [
    {
     "name": "stdout",
     "output_type": "stream",
     "text": [
      "[[0, 0.0]]\n"
     ]
    }
   ],
   "source": [
    "# prediction\n",
    "\n",
    "new_pair = [(1,5)]\n",
    "new_features = list()\n",
    "\n",
    "for n1,n2 in new_pair:\n",
    "    count = len(list(nx.common_neighbors(G,n1,n2)))\n",
    "    jaccard_coeff= next(nx.jaccard_coefficient(G,[(n1,n2)]))[2]\n",
    "    new_features.append([count,jaccard_coeff])\n",
    "    \n",
    "print(new_features)"
   ]
  },
  {
   "cell_type": "code",
   "execution_count": 310,
   "id": "987efb70-234d-49e4-9272-f25507f0f016",
   "metadata": {},
   "outputs": [
    {
     "data": {
      "text/plain": [
       "0.12561790875037276"
      ]
     },
     "execution_count": 310,
     "metadata": {},
     "output_type": "execute_result"
    }
   ],
   "source": [
    "model.predict_proba(new_features)[0][1]"
   ]
  },
  {
   "cell_type": "code",
   "execution_count": null,
   "id": "c61a1a43-63a8-4002-af51-5134859d224e",
   "metadata": {},
   "outputs": [],
   "source": [
    "Node prediction\n",
    " node property <or> label\n",
    "\n",
    "step 1: create a graph - random graph\n",
    "step 2: assign random features to the nodes\n",
    "step 3: assign random labels to the nodes ( 0 or 1)\n",
    "step 4: extract the features X and Y - lables\n",
    "step 5: split data into training and test\n",
    "step 6: traing - randomforest \n",
    "step 7: predictions on the test set\n",
    "step 8: evaluate the model"
   ]
  },
  {
   "cell_type": "code",
   "execution_count": null,
   "id": "7beb8a5c-4776-4f22-afaf-afed7597d00e",
   "metadata": {},
   "outputs": [],
   "source": [
    " person enquire about course   Friend Uncle Brother Teacher1 Teacher2 ...\n",
    "            ----------------->  CS    MECH   MECH    Civil    Physics  ....\n",
    "                                     .....  ...... \n",
    "\n",
    "randomforest\n",
    " |->2 methods\n",
    "1. Bagging - parallel\n",
    "   - bootstrap sampling \n",
    "   - majority voting - final result\n",
    "\n",
    "  o o o o o \n",
    "  o o o o o\n",
    "[ o o o ]  [ o o o ] [ o o o ] <== bootstrapping\n",
    "   |_________|___________|\n",
    "             |\n",
    "       Bagging \n",
    "\n",
    "2. boosting \n",
    "    - sequential \n",
    "    [o ->o ->o -o] ..."
   ]
  },
  {
   "cell_type": "code",
   "execution_count": 322,
   "id": "b25b8d37-3347-458b-8ff2-196b231e0838",
   "metadata": {},
   "outputs": [
    {
     "data": {
      "image/png": "[encoded data removed]",
      "text/plain": [
       "<Figure size 640x480 with 1 Axes>"
      ]
     },
     "metadata": {},
     "output_type": "display_data"
    }
   ],
   "source": [
    "nx.draw_networkx(nx.erdos_renyi_graph(50,0.2))"
   ]
  },
  {
   "cell_type": "code",
   "execution_count": 324,
   "id": "14812ac6-fcdc-4906-9e73-8d5a14533da2",
   "metadata": {},
   "outputs": [],
   "source": [
    "from sklearn.model_selection import train_test_split\n",
    "from sklearn.ensemble import RandomForestClassifier\n",
    "from sklearn.metrics import accuracy_score"
   ]
  },
  {
   "cell_type": "code",
   "execution_count": 326,
   "id": "35041375-9978-4903-9078-e7d6788d3389",
   "metadata": {},
   "outputs": [
    {
     "data": {
      "image/png": "[encoded data removed]",
      "text/plain": [
       "<Figure size 640x480 with 1 Axes>"
      ]
     },
     "metadata": {},
     "output_type": "display_data"
    }
   ],
   "source": [
    "# step 1 create - er model graph - random\n",
    "G = nx.erdos_renyi_graph(30,0.2) # 30 nodes ; prob of edge is 0.2\n",
    "nx.draw_networkx(G)"
   ]
  },
  {
   "cell_type": "code",
   "execution_count": 328,
   "id": "6471b032-1d89-467a-b8dc-4947e70cfc09",
   "metadata": {},
   "outputs": [
    {
     "data": {
      "text/plain": [
       "array([[0.0146303 , 0.5593482 , 0.25720235, 0.19575584, 0.50598181],\n",
       "       [0.32667196, 0.07849913, 0.8728803 , 0.67000255, 0.72497219],\n",
       "       [0.03080856, 0.26660053, 0.86673337, 0.23988949, 0.19075387],\n",
       "       [0.30895805, 0.41012135, 0.30749497, 0.20117648, 0.37591091],\n",
       "       [0.07802691, 0.56723347, 0.30916191, 0.15842926, 0.19264531],\n",
       "       [0.10268162, 0.30325272, 0.16676592, 0.0591771 , 0.97918355],\n",
       "       [0.83909069, 0.17533754, 0.61946371, 0.09386563, 0.38509766],\n",
       "       [0.09627077, 0.80044433, 0.5308619 , 0.38245437, 0.49635184],\n",
       "       [0.98717533, 0.92384179, 0.91724363, 0.65264778, 0.2380242 ],\n",
       "       [0.37875317, 0.97431808, 0.8983424 , 0.04784643, 0.35999807],\n",
       "       [0.14275242, 0.06296094, 0.12158026, 0.62434328, 0.18524202],\n",
       "       [0.94909966, 0.88910463, 0.16739341, 0.45422322, 0.55752547],\n",
       "       [0.8282585 , 0.07898292, 0.7150729 , 0.61795588, 0.59687546],\n",
       "       [0.2619781 , 0.01503684, 0.88099512, 0.05100424, 0.68809394],\n",
       "       [0.34167468, 0.7671366 , 0.38927576, 0.70810152, 0.84843205],\n",
       "       [0.93732096, 0.31282459, 0.9733859 , 0.83237822, 0.86692407],\n",
       "       [0.82457598, 0.44070057, 0.25218872, 0.35408379, 0.51592437],\n",
       "       [0.89463886, 0.34678423, 0.56555713, 0.59406371, 0.38077066],\n",
       "       [0.99987839, 0.80721987, 0.21123851, 0.53579002, 0.48611814],\n",
       "       [0.42602018, 0.93885904, 0.03107644, 0.55121655, 0.12804615],\n",
       "       [0.90326015, 0.91765073, 0.66222388, 0.09571058, 0.97034871],\n",
       "       [0.65088733, 0.11828695, 0.97088395, 0.89528736, 0.63853902],\n",
       "       [0.50051782, 0.60414883, 0.95113849, 0.4375623 , 0.56160864],\n",
       "       [0.03505708, 0.53862619, 0.95086343, 0.91796309, 0.63686116],\n",
       "       [0.4450218 , 0.28316112, 0.89548741, 0.46711554, 0.16084218],\n",
       "       [0.6969823 , 0.94130514, 0.96356001, 0.03528016, 0.22566544],\n",
       "       [0.62791848, 0.64207072, 0.92691475, 0.63779285, 0.8413845 ],\n",
       "       [0.01362246, 0.77469162, 0.13912741, 0.99538724, 0.39443447],\n",
       "       [0.38269304, 0.65419868, 0.93913229, 0.54787249, 0.51419292],\n",
       "       [0.40092929, 0.9518401 , 0.57376566, 0.90285271, 0.98338563]])"
      ]
     },
     "execution_count": 328,
     "metadata": {},
     "output_type": "execute_result"
    }
   ],
   "source": [
    "# Assign random features to the nodes\n",
    "node_features = np.random.rand(len(G.nodes),5) # 5 features per node\n",
    "\n",
    "node_features"
   ]
  },
  {
   "cell_type": "code",
   "execution_count": 330,
   "id": "00b6237b-e741-41c4-88fa-7695939d298f",
   "metadata": {},
   "outputs": [
    {
     "data": {
      "text/plain": [
       "NodeView((0, 1, 2, 3, 4, 5, 6, 7, 8, 9, 10, 11, 12, 13, 14, 15, 16, 17, 18, 19, 20, 21, 22, 23, 24, 25, 26, 27, 28, 29))"
      ]
     },
     "execution_count": 330,
     "metadata": {},
     "output_type": "execute_result"
    }
   ],
   "source": [
    "G.nodes"
   ]
  },
  {
   "cell_type": "code",
   "execution_count": 334,
   "id": "d739f3c5-e08d-4681-93bd-1bb7645695c0",
   "metadata": {},
   "outputs": [],
   "source": [
    "for i,node in enumerate(G.nodes):\n",
    "    G.nodes[node]['features'] = node_features[i]"
   ]
  },
  {
   "cell_type": "code",
   "execution_count": 336,
   "id": "a7195e6e-c103-4db1-8c50-12cc25ed9be4",
   "metadata": {},
   "outputs": [],
   "source": [
    "# assign random label\n",
    "node_labels = np.random.randint(0,2,size=len(G.nodes))\n"
   ]
  },
  {
   "cell_type": "code",
   "execution_count": 338,
   "id": "eae18bc5-43e5-40ea-ba50-096b0cd5146e",
   "metadata": {},
   "outputs": [],
   "source": [
    "for i,node in enumerate(G.nodes):\n",
    "    G.nodes[node]['label'] = node_labels[i]"
   ]
  },
  {
   "cell_type": "code",
   "execution_count": 346,
   "id": "f5b7d6b5-3fc7-41db-ab52-2d3e96c38914",
   "metadata": {},
   "outputs": [
    {
     "data": {
      "text/plain": [
       "0"
      ]
     },
     "execution_count": 346,
     "metadata": {},
     "output_type": "execute_result"
    }
   ],
   "source": [
    "G.nodes[node]['features']\n",
    "G.nodes[node]['label']"
   ]
  },
  {
   "cell_type": "code",
   "execution_count": 348,
   "id": "87e1f909-f472-493e-81e4-f4bde629d8df",
   "metadata": {},
   "outputs": [],
   "source": [
    "X = np.array([G.nodes[node]['features'] for node in G.nodes]) # node features\n",
    "Y = np.array([G.nodes[node]['label'] for node in G.nodes]) # node labels "
   ]
  },
  {
   "cell_type": "code",
   "execution_count": 350,
   "id": "2faf9545-f8f2-408d-85b2-452af32cd8b7",
   "metadata": {},
   "outputs": [],
   "source": [
    "X_train,X_test,Y_train,Y_test = train_test_split(X,Y,test_size=0.3,random_state=42)"
   ]
  },
  {
   "cell_type": "code",
   "execution_count": 352,
   "id": "a6fc5f93-636a-46d7-9418-4785eb0f006a",
   "metadata": {},
   "outputs": [
    {
     "data": {
      "text/html": [
       "<style>#sk-container-id-4 {\n",
       "  /* Definition of color scheme common for light and dark mode */\n",
       "  --sklearn-color-text: black;\n",
       "  --sklearn-color-line: gray;\n",
       "  /* Definition of color scheme for unfitted estimators */\n",
       "  --sklearn-color-unfitted-level-0: #fff5e6;\n",
       "  --sklearn-color-unfitted-level-1: #f6e4d2;\n",
       "  --sklearn-color-unfitted-level-2: #ffe0b3;\n",
       "  --sklearn-color-unfitted-level-3: chocolate;\n",
       "  /* Definition of color scheme for fitted estimators */\n",
       "  --sklearn-color-fitted-level-0: #f0f8ff;\n",
       "  --sklearn-color-fitted-level-1: #d4ebff;\n",
       "  --sklearn-color-fitted-level-2: #b3dbfd;\n",
       "  --sklearn-color-fitted-level-3: cornflowerblue;\n",
       "\n",
       "  /* Specific color for light theme */\n",
       "  --sklearn-color-text-on-default-background: var(--sg-text-color, var(--theme-code-foreground, var(--jp-content-font-color1, black)));\n",
       "  --sklearn-color-background: var(--sg-background-color, var(--theme-background, var(--jp-layout-color0, white)));\n",
       "  --sklearn-color-border-box: var(--sg-text-color, var(--theme-code-foreground, var(--jp-content-font-color1, black)));\n",
       "  --sklearn-color-icon: #696969;\n",
       "\n",
       "  @media (prefers-color-scheme: dark) {\n",
       "    /* Redefinition of color scheme for dark theme */\n",
       "    --sklearn-color-text-on-default-background: var(--sg-text-color, var(--theme-code-foreground, var(--jp-content-font-color1, white)));\n",
       "    --sklearn-color-background: var(--sg-background-color, var(--theme-background, var(--jp-layout-color0, #111)));\n",
       "    --sklearn-color-border-box: var(--sg-text-color, var(--theme-code-foreground, var(--jp-content-font-color1, white)));\n",
       "    --sklearn-color-icon: #878787;\n",
       "  }\n",
       "}\n",
       "\n",
       "#sk-container-id-4 {\n",
       "  color: var(--sklearn-color-text);\n",
       "}\n",
       "\n",
       "#sk-container-id-4 pre {\n",
       "  padding: 0;\n",
       "}\n",
       "\n",
       "#sk-container-id-4 input.sk-hidden--visually {\n",
       "  border: 0;\n",
       "  clip: rect(1px 1px 1px 1px);\n",
       "  clip: rect(1px, 1px, 1px, 1px);\n",
       "  height: 1px;\n",
       "  margin: -1px;\n",
       "  overflow: hidden;\n",
       "  padding: 0;\n",
       "  position: absolute;\n",
       "  width: 1px;\n",
       "}\n",
       "\n",
       "#sk-container-id-4 div.sk-dashed-wrapped {\n",
       "  border: 1px dashed var(--sklearn-color-line);\n",
       "  margin: 0 0.4em 0.5em 0.4em;\n",
       "  box-sizing: border-box;\n",
       "  padding-bottom: 0.4em;\n",
       "  background-color: var(--sklearn-color-background);\n",
       "}\n",
       "\n",
       "#sk-container-id-4 div.sk-container {\n",
       "  /* jupyter's `normalize.less` sets `[hidden] { display: none; }`\n",
       "     but bootstrap.min.css set `[hidden] { display: none !important; }`\n",
       "     so we also need the `!important` here to be able to override the\n",
       "     default hidden behavior on the sphinx rendered scikit-learn.org.\n",
       "     See: https://github.com/scikit-learn/scikit-learn/issues/21755 */\n",
       "  display: inline-block !important;\n",
       "  position: relative;\n",
       "}\n",
       "\n",
       "#sk-container-id-4 div.sk-text-repr-fallback {\n",
       "  display: none;\n",
       "}\n",
       "\n",
       "div.sk-parallel-item,\n",
       "div.sk-serial,\n",
       "div.sk-item {\n",
       "  /* draw centered vertical line to link estimators */\n",
       "  background-image: linear-gradient(var(--sklearn-color-text-on-default-background), var(--sklearn-color-text-on-default-background));\n",
       "  background-size: 2px 100%;\n",
       "  background-repeat: no-repeat;\n",
       "  background-position: center center;\n",
       "}\n",
       "\n",
       "/* Parallel-specific style estimator block */\n",
       "\n",
       "#sk-container-id-4 div.sk-parallel-item::after {\n",
       "  content: \"\";\n",
       "  width: 100%;\n",
       "  border-bottom: 2px solid var(--sklearn-color-text-on-default-background);\n",
       "  flex-grow: 1;\n",
       "}\n",
       "\n",
       "#sk-container-id-4 div.sk-parallel {\n",
       "  display: flex;\n",
       "  align-items: stretch;\n",
       "  justify-content: center;\n",
       "  background-color: var(--sklearn-color-background);\n",
       "  position: relative;\n",
       "}\n",
       "\n",
       "#sk-container-id-4 div.sk-parallel-item {\n",
       "  display: flex;\n",
       "  flex-direction: column;\n",
       "}\n",
       "\n",
       "#sk-container-id-4 div.sk-parallel-item:first-child::after {\n",
       "  align-self: flex-end;\n",
       "  width: 50%;\n",
       "}\n",
       "\n",
       "#sk-container-id-4 div.sk-parallel-item:last-child::after {\n",
       "  align-self: flex-start;\n",
       "  width: 50%;\n",
       "}\n",
       "\n",
       "#sk-container-id-4 div.sk-parallel-item:only-child::after {\n",
       "  width: 0;\n",
       "}\n",
       "\n",
       "/* Serial-specific style estimator block */\n",
       "\n",
       "#sk-container-id-4 div.sk-serial {\n",
       "  display: flex;\n",
       "  flex-direction: column;\n",
       "  align-items: center;\n",
       "  background-color: var(--sklearn-color-background);\n",
       "  padding-right: 1em;\n",
       "  padding-left: 1em;\n",
       "}\n",
       "\n",
       "\n",
       "/* Toggleable style: style used for estimator/Pipeline/ColumnTransformer box that is\n",
       "clickable and can be expanded/collapsed.\n",
       "- Pipeline and ColumnTransformer use this feature and define the default style\n",
       "- Estimators will overwrite some part of the style using the `sk-estimator` class\n",
       "*/\n",
       "\n",
       "/* Pipeline and ColumnTransformer style (default) */\n",
       "\n",
       "#sk-container-id-4 div.sk-toggleable {\n",
       "  /* Default theme specific background. It is overwritten whether we have a\n",
       "  specific estimator or a Pipeline/ColumnTransformer */\n",
       "  background-color: var(--sklearn-color-background);\n",
       "}\n",
       "\n",
       "/* Toggleable label */\n",
       "#sk-container-id-4 label.sk-toggleable__label {\n",
       "  cursor: pointer;\n",
       "  display: block;\n",
       "  width: 100%;\n",
       "  margin-bottom: 0;\n",
       "  padding: 0.5em;\n",
       "  box-sizing: border-box;\n",
       "  text-align: center;\n",
       "}\n",
       "\n",
       "#sk-container-id-4 label.sk-toggleable__label-arrow:before {\n",
       "  /* Arrow on the left of the label */\n",
       "  content: \"▸\";\n",
       "  float: left;\n",
       "  margin-right: 0.25em;\n",
       "  color: var(--sklearn-color-icon);\n",
       "}\n",
       "\n",
       "#sk-container-id-4 label.sk-toggleable__label-arrow:hover:before {\n",
       "  color: var(--sklearn-color-text);\n",
       "}\n",
       "\n",
       "/* Toggleable content - dropdown */\n",
       "\n",
       "#sk-container-id-4 div.sk-toggleable__content {\n",
       "  max-height: 0;\n",
       "  max-width: 0;\n",
       "  overflow: hidden;\n",
       "  text-align: left;\n",
       "  /* unfitted */\n",
       "  background-color: var(--sklearn-color-unfitted-level-0);\n",
       "}\n",
       "\n",
       "#sk-container-id-4 div.sk-toggleable__content.fitted {\n",
       "  /* fitted */\n",
       "  background-color: var(--sklearn-color-fitted-level-0);\n",
       "}\n",
       "\n",
       "#sk-container-id-4 div.sk-toggleable__content pre {\n",
       "  margin: 0.2em;\n",
       "  border-radius: 0.25em;\n",
       "  color: var(--sklearn-color-text);\n",
       "  /* unfitted */\n",
       "  background-color: var(--sklearn-color-unfitted-level-0);\n",
       "}\n",
       "\n",
       "#sk-container-id-4 div.sk-toggleable__content.fitted pre {\n",
       "  /* unfitted */\n",
       "  background-color: var(--sklearn-color-fitted-level-0);\n",
       "}\n",
       "\n",
       "#sk-container-id-4 input.sk-toggleable__control:checked~div.sk-toggleable__content {\n",
       "  /* Expand drop-down */\n",
       "  max-height: 200px;\n",
       "  max-width: 100%;\n",
       "  overflow: auto;\n",
       "}\n",
       "\n",
       "#sk-container-id-4 input.sk-toggleable__control:checked~label.sk-toggleable__label-arrow:before {\n",
       "  content: \"▾\";\n",
       "}\n",
       "\n",
       "/* Pipeline/ColumnTransformer-specific style */\n",
       "\n",
       "#sk-container-id-4 div.sk-label input.sk-toggleable__control:checked~label.sk-toggleable__label {\n",
       "  color: var(--sklearn-color-text);\n",
       "  background-color: var(--sklearn-color-unfitted-level-2);\n",
       "}\n",
       "\n",
       "#sk-container-id-4 div.sk-label.fitted input.sk-toggleable__control:checked~label.sk-toggleable__label {\n",
       "  background-color: var(--sklearn-color-fitted-level-2);\n",
       "}\n",
       "\n",
       "/* Estimator-specific style */\n",
       "\n",
       "/* Colorize estimator box */\n",
       "#sk-container-id-4 div.sk-estimator input.sk-toggleable__control:checked~label.sk-toggleable__label {\n",
       "  /* unfitted */\n",
       "  background-color: var(--sklearn-color-unfitted-level-2);\n",
       "}\n",
       "\n",
       "#sk-container-id-4 div.sk-estimator.fitted input.sk-toggleable__control:checked~label.sk-toggleable__label {\n",
       "  /* fitted */\n",
       "  background-color: var(--sklearn-color-fitted-level-2);\n",
       "}\n",
       "\n",
       "#sk-container-id-4 div.sk-label label.sk-toggleable__label,\n",
       "#sk-container-id-4 div.sk-label label {\n",
       "  /* The background is the default theme color */\n",
       "  color: var(--sklearn-color-text-on-default-background);\n",
       "}\n",
       "\n",
       "/* On hover, darken the color of the background */\n",
       "#sk-container-id-4 div.sk-label:hover label.sk-toggleable__label {\n",
       "  color: var(--sklearn-color-text);\n",
       "  background-color: var(--sklearn-color-unfitted-level-2);\n",
       "}\n",
       "\n",
       "/* Label box, darken color on hover, fitted */\n",
       "#sk-container-id-4 div.sk-label.fitted:hover label.sk-toggleable__label.fitted {\n",
       "  color: var(--sklearn-color-text);\n",
       "  background-color: var(--sklearn-color-fitted-level-2);\n",
       "}\n",
       "\n",
       "/* Estimator label */\n",
       "\n",
       "#sk-container-id-4 div.sk-label label {\n",
       "  font-family: monospace;\n",
       "  font-weight: bold;\n",
       "  display: inline-block;\n",
       "  line-height: 1.2em;\n",
       "}\n",
       "\n",
       "#sk-container-id-4 div.sk-label-container {\n",
       "  text-align: center;\n",
       "}\n",
       "\n",
       "/* Estimator-specific */\n",
       "#sk-container-id-4 div.sk-estimator {\n",
       "  font-family: monospace;\n",
       "  border: 1px dotted var(--sklearn-color-border-box);\n",
       "  border-radius: 0.25em;\n",
       "  box-sizing: border-box;\n",
       "  margin-bottom: 0.5em;\n",
       "  /* unfitted */\n",
       "  background-color: var(--sklearn-color-unfitted-level-0);\n",
       "}\n",
       "\n",
       "#sk-container-id-4 div.sk-estimator.fitted {\n",
       "  /* fitted */\n",
       "  background-color: var(--sklearn-color-fitted-level-0);\n",
       "}\n",
       "\n",
       "/* on hover */\n",
       "#sk-container-id-4 div.sk-estimator:hover {\n",
       "  /* unfitted */\n",
       "  background-color: var(--sklearn-color-unfitted-level-2);\n",
       "}\n",
       "\n",
       "#sk-container-id-4 div.sk-estimator.fitted:hover {\n",
       "  /* fitted */\n",
       "  background-color: var(--sklearn-color-fitted-level-2);\n",
       "}\n",
       "\n",
       "/* Specification for estimator info (e.g. \"i\" and \"?\") */\n",
       "\n",
       "/* Common style for \"i\" and \"?\" */\n",
       "\n",
       ".sk-estimator-doc-link,\n",
       "a:link.sk-estimator-doc-link,\n",
       "a:visited.sk-estimator-doc-link {\n",
       "  float: right;\n",
       "  font-size: smaller;\n",
       "  line-height: 1em;\n",
       "  font-family: monospace;\n",
       "  background-color: var(--sklearn-color-background);\n",
       "  border-radius: 1em;\n",
       "  height: 1em;\n",
       "  width: 1em;\n",
       "  text-decoration: none !important;\n",
       "  margin-left: 1ex;\n",
       "  /* unfitted */\n",
       "  border: var(--sklearn-color-unfitted-level-1) 1pt solid;\n",
       "  color: var(--sklearn-color-unfitted-level-1);\n",
       "}\n",
       "\n",
       ".sk-estimator-doc-link.fitted,\n",
       "a:link.sk-estimator-doc-link.fitted,\n",
       "a:visited.sk-estimator-doc-link.fitted {\n",
       "  /* fitted */\n",
       "  border: var(--sklearn-color-fitted-level-1) 1pt solid;\n",
       "  color: var(--sklearn-color-fitted-level-1);\n",
       "}\n",
       "\n",
       "/* On hover */\n",
       "div.sk-estimator:hover .sk-estimator-doc-link:hover,\n",
       ".sk-estimator-doc-link:hover,\n",
       "div.sk-label-container:hover .sk-estimator-doc-link:hover,\n",
       ".sk-estimator-doc-link:hover {\n",
       "  /* unfitted */\n",
       "  background-color: var(--sklearn-color-unfitted-level-3);\n",
       "  color: var(--sklearn-color-background);\n",
       "  text-decoration: none;\n",
       "}\n",
       "\n",
       "div.sk-estimator.fitted:hover .sk-estimator-doc-link.fitted:hover,\n",
       ".sk-estimator-doc-link.fitted:hover,\n",
       "div.sk-label-container:hover .sk-estimator-doc-link.fitted:hover,\n",
       ".sk-estimator-doc-link.fitted:hover {\n",
       "  /* fitted */\n",
       "  background-color: var(--sklearn-color-fitted-level-3);\n",
       "  color: var(--sklearn-color-background);\n",
       "  text-decoration: none;\n",
       "}\n",
       "\n",
       "/* Span, style for the box shown on hovering the info icon */\n",
       ".sk-estimator-doc-link span {\n",
       "  display: none;\n",
       "  z-index: 9999;\n",
       "  position: relative;\n",
       "  font-weight: normal;\n",
       "  right: .2ex;\n",
       "  padding: .5ex;\n",
       "  margin: .5ex;\n",
       "  width: min-content;\n",
       "  min-width: 20ex;\n",
       "  max-width: 50ex;\n",
       "  color: var(--sklearn-color-text);\n",
       "  box-shadow: 2pt 2pt 4pt #999;\n",
       "  /* unfitted */\n",
       "  background: var(--sklearn-color-unfitted-level-0);\n",
       "  border: .5pt solid var(--sklearn-color-unfitted-level-3);\n",
       "}\n",
       "\n",
       ".sk-estimator-doc-link.fitted span {\n",
       "  /* fitted */\n",
       "  background: var(--sklearn-color-fitted-level-0);\n",
       "  border: var(--sklearn-color-fitted-level-3);\n",
       "}\n",
       "\n",
       ".sk-estimator-doc-link:hover span {\n",
       "  display: block;\n",
       "}\n",
       "\n",
       "/* \"?\"-specific style due to the `<a>` HTML tag */\n",
       "\n",
       "#sk-container-id-4 a.estimator_doc_link {\n",
       "  float: right;\n",
       "  font-size: 1rem;\n",
       "  line-height: 1em;\n",
       "  font-family: monospace;\n",
       "  background-color: var(--sklearn-color-background);\n",
       "  border-radius: 1rem;\n",
       "  height: 1rem;\n",
       "  width: 1rem;\n",
       "  text-decoration: none;\n",
       "  /* unfitted */\n",
       "  color: var(--sklearn-color-unfitted-level-1);\n",
       "  border: var(--sklearn-color-unfitted-level-1) 1pt solid;\n",
       "}\n",
       "\n",
       "#sk-container-id-4 a.estimator_doc_link.fitted {\n",
       "  /* fitted */\n",
       "  border: var(--sklearn-color-fitted-level-1) 1pt solid;\n",
       "  color: var(--sklearn-color-fitted-level-1);\n",
       "}\n",
       "\n",
       "/* On hover */\n",
       "#sk-container-id-4 a.estimator_doc_link:hover {\n",
       "  /* unfitted */\n",
       "  background-color: var(--sklearn-color-unfitted-level-3);\n",
       "  color: var(--sklearn-color-background);\n",
       "  text-decoration: none;\n",
       "}\n",
       "\n",
       "#sk-container-id-4 a.estimator_doc_link.fitted:hover {\n",
       "  /* fitted */\n",
       "  background-color: var(--sklearn-color-fitted-level-3);\n",
       "}\n",
       "</style><div id=\"sk-container-id-4\" class=\"sk-top-container\"><div class=\"sk-text-repr-fallback\"><pre>RandomForestClassifier(random_state=42)</pre><b>In a Jupyter environment, please rerun this cell to show the HTML representation or trust the notebook. <br />On GitHub, the HTML representation is unable to render, please try loading this page with nbviewer.org.</b></div><div class=\"sk-container\" hidden><div class=\"sk-item\"><div class=\"sk-estimator fitted sk-toggleable\"><input class=\"sk-toggleable__control sk-hidden--visually\" id=\"sk-estimator-id-4\" type=\"checkbox\" checked><label for=\"sk-estimator-id-4\" class=\"sk-toggleable__label fitted sk-toggleable__label-arrow fitted\">&nbsp;&nbsp;RandomForestClassifier<a class=\"sk-estimator-doc-link fitted\" rel=\"noreferrer\" target=\"_blank\" href=\"https://scikit-learn.org/1.4/modules/generated/sklearn.ensemble.RandomForestClassifier.html\">?<span>Documentation for RandomForestClassifier</span></a><span class=\"sk-estimator-doc-link fitted\">i<span>Fitted</span></span></label><div class=\"sk-toggleable__content fitted\"><pre>RandomForestClassifier(random_state=42)</pre></div> </div></div></div></div>"
      ],
      "text/plain": [
       "RandomForestClassifier(random_state=42)"
      ]
     },
     "execution_count": 352,
     "metadata": {},
     "output_type": "execute_result"
    }
   ],
   "source": [
    "classifier = RandomForestClassifier(n_estimators=100,random_state=42)\n",
    "classifier.fit(X_train,Y_train)"
   ]
  },
  {
   "cell_type": "code",
   "execution_count": 354,
   "id": "40c2cc12-c006-489a-a437-f5cb47a10a33",
   "metadata": {},
   "outputs": [],
   "source": [
    "Y_pred = classifier.predict(X_test)"
   ]
  },
  {
   "cell_type": "code",
   "execution_count": 356,
   "id": "97c68d7c-986e-4619-9834-8aa4e72e3f68",
   "metadata": {},
   "outputs": [
    {
     "data": {
      "text/plain": [
       "array([1, 0, 1, 0, 0, 1, 0, 0, 0])"
      ]
     },
     "execution_count": 356,
     "metadata": {},
     "output_type": "execute_result"
    }
   ],
   "source": [
    "Y_pred"
   ]
  },
  {
   "cell_type": "code",
   "execution_count": 358,
   "id": "0691f48b-6d0f-4cdb-92cb-1cd1d52cbff4",
   "metadata": {},
   "outputs": [
    {
     "data": {
      "text/plain": [
       "0.3333333333333333"
      ]
     },
     "execution_count": 358,
     "metadata": {},
     "output_type": "execute_result"
    }
   ],
   "source": [
    "accuracy_score(Y_test,Y_pred)"
   ]
  },
  {
   "cell_type": "code",
   "execution_count": null,
   "id": "5bf6378a-411e-4466-9ea6-869281c2d476",
   "metadata": {},
   "outputs": [],
   "source": [
    "NLP\n",
    "----\n",
    "Appln: - Google Translate\n",
    "  Input: Hello good morning -> output: French ...\n",
    "Text --> M/C - 1010\n",
    "               -----//vector \n",
    "\n",
    "ML\n",
    "--\n",
    "Input: f1 f2 f3 ...fn <== independent \n",
    "Output: . . . . .  .. <== dependent features\n",
    "model - number\n",
    "Text -> vector (number) //NLP\n",
    "1.corpus - paragraph \n",
    "2.documents - sentence \n",
    "3.vocabulary - unique words \n",
    "\n",
    "Tokenization \n",
    "My name is karthik, i am teaching NLP. Also i likes write code.// Corpus\n",
    "\n",
    "D1 - My name is karthik, i am teaching NLP \n",
    "D2 - Also i likes write code\n",
    "\n",
    "unique  words: My name is karthik , i am teaching NLP Also likes write code \n",
    "               |\n",
    "              01010 000100 \n",
    "like and likes\n",
    "10101    101111\n",
    "stemming - reducing root word \n",
    "history ->histori\n",
    "lemma      ------\n",
    "------\n",
    "history ->history\n",
    "eating ->eat\n",
    "\n",
    "stopwords \n",
    "ngram\n",
    "  [Good   morning how are you ] \n",
    "     |_______|\n",
    "     |____________|\n",
    "     |__________________|\n",
    "     |_______________________|//n gram \n",
    "    word2vector //gensim lib\n",
    "\n",
    "    D1 the food is good\n",
    "    D2 the food is bad\n",
    "\n",
    "     [the food  is  good  bad ] //unique words\n",
    "     v=5\n",
    "the \n",
    "    [ 1 0 0 0 0\n",
    "      0 1 0 0 0\n",
    "      0 0 1 0 0\n",
    "      0 0 0 1 0\n",
    "      0 0 0 0 1 ]\n",
    "\n",
    "    Bag of word(BOG) - frequency \n",
    "    1 0 0 0 0  - 1\n",
    "\n",
    "    food is good \n",
    "\n",
    "n=1  food is good \n",
    "      1    0  0\n",
    "      0    1  0\n",
    "      0    0  1\n",
    "n=2  food is \n",
    "     --------\n",
    "       1/0\n",
    "n=3  food is good\n",
    "     --------------\n",
    "           1/0\n",
    "\n",
    "n=N\n",
    "TermFrequence - IDF\n",
    " IDF= logc No.of sentence / No.of sentence which contains the word\n",
    "\n",
    "      S1  S2    S3\n",
    "good  1/3  0/3  0/3\n",
    "bad   0/3   0/3  1/3\n",
    "\n",
    "    [InputLayer]  [Hidden] [outputlayer]\n",
    "     1             0\n",
    "     0             0      --->o/p\n",
    "     1             0"
   ]
  },
  {
   "cell_type": "code",
   "execution_count": null,
   "id": "0fa264ec-4d96-4b37-9ad9-2a50c323c276",
   "metadata": {},
   "outputs": [],
   "source": [
    "Deepwalk - random walk\n",
    "|\n",
    "node2vector\n",
    "\n",
    "Spectral Methods"
   ]
  },
  {
   "cell_type": "code",
   "execution_count": 360,
   "id": "c3087f33-49e8-4b5e-aa06-ee801aa9db68",
   "metadata": {},
   "outputs": [
    {
     "ename": "ModuleNotFoundError",
     "evalue": "No module named 'ntlk'",
     "output_type": "error",
     "traceback": [
      "\u001b[1;31m---------------------------------------------------------------------------\u001b[0m",
      "\u001b[1;31mModuleNotFoundError\u001b[0m                       Traceback (most recent call last)",
      "Cell \u001b[1;32mIn[360], line 1\u001b[0m\n\u001b[1;32m----> 1\u001b[0m \u001b[38;5;28;01mimport\u001b[39;00m \u001b[38;5;21;01mntlk\u001b[39;00m\n",
      "\u001b[1;31mModuleNotFoundError\u001b[0m: No module named 'ntlk'"
     ]
    }
   ],
   "source": [
    "import ntlk"
   ]
  },
  {
   "cell_type": "code",
   "execution_count": 362,
   "id": "ba1c43f2-3d9b-4975-afda-5bb6bfa9b91a",
   "metadata": {},
   "outputs": [
    {
     "name": "stdout",
     "output_type": "stream",
     "text": [
      "Requirement already satisfied: nltk in c:\\users\\theeba\\anaconda3\\lib\\site-packages (3.8.1)\n",
      "Requirement already satisfied: click in c:\\users\\theeba\\anaconda3\\lib\\site-packages (from nltk) (8.1.7)\n",
      "Requirement already satisfied: joblib in c:\\users\\theeba\\anaconda3\\lib\\site-packages (from nltk) (1.4.2)\n",
      "Requirement already satisfied: regex>=2021.8.3 in c:\\users\\theeba\\anaconda3\\lib\\site-packages (from nltk) (2023.10.3)\n",
      "Requirement already satisfied: tqdm in c:\\users\\theeba\\anaconda3\\lib\\site-packages (from nltk) (4.66.4)\n",
      "Requirement already satisfied: colorama in c:\\users\\theeba\\anaconda3\\lib\\site-packages (from click->nltk) (0.4.6)\n"
     ]
    }
   ],
   "source": [
    "!pip install nltk"
   ]
  },
  {
   "cell_type": "code",
   "execution_count": 364,
   "id": "6c15c755-bb79-4157-b1ff-c7fe237dbf69",
   "metadata": {},
   "outputs": [],
   "source": [
    "import nltk"
   ]
  },
  {
   "cell_type": "code",
   "execution_count": 366,
   "id": "37c82064-c832-423c-9169-1132acd2349a",
   "metadata": {},
   "outputs": [],
   "source": [
    "corpus = '''Hello welcome,to NLP learning.\n",
    "please do activity the entire course module! to ab'c defg'''"
   ]
  },
  {
   "cell_type": "code",
   "execution_count": 368,
   "id": "80ebd617-0924-400c-a473-9018fc2dec57",
   "metadata": {},
   "outputs": [
    {
     "data": {
      "text/plain": [
       "['Hello welcome,to NLP learning.',\n",
       " 'please do activity the entire course module!',\n",
       " \"to ab'c defg\"]"
      ]
     },
     "execution_count": 368,
     "metadata": {},
     "output_type": "execute_result"
    }
   ],
   "source": [
    "from nltk.tokenize import sent_tokenize\n",
    "sent_tokenize(corpus)"
   ]
  },
  {
   "cell_type": "code",
   "execution_count": 370,
   "id": "f5ba565f-e282-4a81-a363-3c9acddf0dca",
   "metadata": {},
   "outputs": [
    {
     "data": {
      "text/plain": [
       "['Hello',\n",
       " 'welcome',\n",
       " ',',\n",
       " 'to',\n",
       " 'NLP',\n",
       " 'learning',\n",
       " '.',\n",
       " 'please',\n",
       " 'do',\n",
       " 'activity',\n",
       " 'the',\n",
       " 'entire',\n",
       " 'course',\n",
       " 'module',\n",
       " '!',\n",
       " 'to',\n",
       " 'ab',\n",
       " \"'\",\n",
       " 'c',\n",
       " 'defg']"
      ]
     },
     "execution_count": 370,
     "metadata": {},
     "output_type": "execute_result"
    }
   ],
   "source": [
    "from nltk.tokenize import word_tokenize\n",
    "word_tokenize(corpus)"
   ]
  },
  {
   "cell_type": "code",
   "execution_count": 372,
   "id": "f28ce8e6-6344-4a5c-9dd3-d2a7d027f58a",
   "metadata": {},
   "outputs": [
    {
     "data": {
      "text/plain": [
       "['Hello',\n",
       " 'welcome',\n",
       " ',',\n",
       " 'to',\n",
       " 'NLP',\n",
       " 'learning',\n",
       " '.',\n",
       " 'please',\n",
       " 'do',\n",
       " 'activity',\n",
       " 'the',\n",
       " 'entire',\n",
       " 'course',\n",
       " 'module',\n",
       " '!',\n",
       " 'to',\n",
       " 'ab',\n",
       " \"'\",\n",
       " 'c',\n",
       " 'defg']"
      ]
     },
     "execution_count": 372,
     "metadata": {},
     "output_type": "execute_result"
    }
   ],
   "source": [
    "from nltk.tokenize import wordpunct_tokenize\n",
    "wordpunct_tokenize(corpus)"
   ]
  },
  {
   "cell_type": "code",
   "execution_count": 374,
   "id": "ac181651-37bc-4688-9f62-21c96d593d09",
   "metadata": {},
   "outputs": [],
   "source": [
    "# porterStemmer\n",
    "words = [\"eating\",\"eats\",\"eaten\",\"writing\",\"writes\",\"programming\",\"programs\",\"history\",\"finally\",\"finalized\"]\n"
   ]
  },
  {
   "cell_type": "code",
   "execution_count": 376,
   "id": "b3f22dc3-dd23-4a34-b92c-5dffcc2adb57",
   "metadata": {},
   "outputs": [
    {
     "data": {
      "text/plain": [
       "'histori'"
      ]
     },
     "execution_count": 376,
     "metadata": {},
     "output_type": "execute_result"
    }
   ],
   "source": [
    "from nltk.stem import PorterStemmer\n",
    "stemming = PorterStemmer()\n",
    "stemming.stem(\"history\")"
   ]
  },
  {
   "cell_type": "code",
   "execution_count": 378,
   "id": "9ed5847c-fcd3-4a5d-a037-d4134d80f94b",
   "metadata": {},
   "outputs": [
    {
     "name": "stdout",
     "output_type": "stream",
     "text": [
      "eating--------->eat\n",
      "eats--------->eat\n",
      "eaten--------->eaten\n",
      "writing--------->write\n",
      "writes--------->write\n",
      "programming--------->program\n",
      "programs--------->program\n",
      "history--------->histori\n",
      "finally--------->final\n",
      "finalized--------->final\n"
     ]
    }
   ],
   "source": [
    "for var in words:\n",
    "    print(var+\"--------->\"+stemming.stem(var))"
   ]
  },
  {
   "cell_type": "code",
   "execution_count": 380,
   "id": "ac2a70b4-ceda-4db8-858d-a863ae7bc382",
   "metadata": {},
   "outputs": [
    {
     "data": {
      "text/plain": [
       "'history'"
      ]
     },
     "execution_count": 380,
     "metadata": {},
     "output_type": "execute_result"
    }
   ],
   "source": [
    "from nltk.stem import WordNetLemmatizer\n",
    "lemmatizer = WordNetLemmatizer()\n",
    "lemmatizer.lemmatize('history')"
   ]
  },
  {
   "cell_type": "code",
   "execution_count": 382,
   "id": "b17f197e-2494-4c2f-a5e9-2d34d5048916",
   "metadata": {},
   "outputs": [
    {
     "data": {
      "text/plain": [
       "'go'"
      ]
     },
     "execution_count": 382,
     "metadata": {},
     "output_type": "execute_result"
    }
   ],
   "source": [
    "lemmatizer.lemmatize(\"going\",pos='v')"
   ]
  },
  {
   "cell_type": "code",
   "execution_count": 384,
   "id": "1812bea9-b469-431d-b3fc-a4f41befd022",
   "metadata": {},
   "outputs": [
    {
     "name": "stdout",
     "output_type": "stream",
     "text": [
      "eating--------->eat\n",
      "eats--------->eat\n",
      "eaten--------->eat\n",
      "writing--------->write\n",
      "writes--------->write\n",
      "programming--------->program\n",
      "programs--------->program\n",
      "history--------->history\n",
      "finally--------->finally\n",
      "finalized--------->finalize\n"
     ]
    }
   ],
   "source": [
    "for var in words:\n",
    "    print(var+\"--------->\"+lemmatizer.lemmatize(var,pos='v'))"
   ]
  },
  {
   "cell_type": "code",
   "execution_count": 388,
   "id": "7f5efd5e-d1b9-4e56-ba5a-c7da0a0d661d",
   "metadata": {},
   "outputs": [],
   "source": [
    "from nltk.corpus import stopwords"
   ]
  },
  {
   "cell_type": "code",
   "execution_count": 390,
   "id": "a95646b6-cd18-41cf-b86f-f204523732bf",
   "metadata": {},
   "outputs": [
    {
     "data": {
      "text/plain": [
       "['i',\n",
       " 'me',\n",
       " 'my',\n",
       " 'myself',\n",
       " 'we',\n",
       " 'our',\n",
       " 'ours',\n",
       " 'ourselves',\n",
       " 'you',\n",
       " \"you're\",\n",
       " \"you've\",\n",
       " \"you'll\",\n",
       " \"you'd\",\n",
       " 'your',\n",
       " 'yours',\n",
       " 'yourself',\n",
       " 'yourselves',\n",
       " 'he',\n",
       " 'him',\n",
       " 'his',\n",
       " 'himself',\n",
       " 'she',\n",
       " \"she's\",\n",
       " 'her',\n",
       " 'hers',\n",
       " 'herself',\n",
       " 'it',\n",
       " \"it's\",\n",
       " 'its',\n",
       " 'itself',\n",
       " 'they',\n",
       " 'them',\n",
       " 'their',\n",
       " 'theirs',\n",
       " 'themselves',\n",
       " 'what',\n",
       " 'which',\n",
       " 'who',\n",
       " 'whom',\n",
       " 'this',\n",
       " 'that',\n",
       " \"that'll\",\n",
       " 'these',\n",
       " 'those',\n",
       " 'am',\n",
       " 'is',\n",
       " 'are',\n",
       " 'was',\n",
       " 'were',\n",
       " 'be',\n",
       " 'been',\n",
       " 'being',\n",
       " 'have',\n",
       " 'has',\n",
       " 'had',\n",
       " 'having',\n",
       " 'do',\n",
       " 'does',\n",
       " 'did',\n",
       " 'doing',\n",
       " 'a',\n",
       " 'an',\n",
       " 'the',\n",
       " 'and',\n",
       " 'but',\n",
       " 'if',\n",
       " 'or',\n",
       " 'because',\n",
       " 'as',\n",
       " 'until',\n",
       " 'while',\n",
       " 'of',\n",
       " 'at',\n",
       " 'by',\n",
       " 'for',\n",
       " 'with',\n",
       " 'about',\n",
       " 'against',\n",
       " 'between',\n",
       " 'into',\n",
       " 'through',\n",
       " 'during',\n",
       " 'before',\n",
       " 'after',\n",
       " 'above',\n",
       " 'below',\n",
       " 'to',\n",
       " 'from',\n",
       " 'up',\n",
       " 'down',\n",
       " 'in',\n",
       " 'out',\n",
       " 'on',\n",
       " 'off',\n",
       " 'over',\n",
       " 'under',\n",
       " 'again',\n",
       " 'further',\n",
       " 'then',\n",
       " 'once',\n",
       " 'here',\n",
       " 'there',\n",
       " 'when',\n",
       " 'where',\n",
       " 'why',\n",
       " 'how',\n",
       " 'all',\n",
       " 'any',\n",
       " 'both',\n",
       " 'each',\n",
       " 'few',\n",
       " 'more',\n",
       " 'most',\n",
       " 'other',\n",
       " 'some',\n",
       " 'such',\n",
       " 'no',\n",
       " 'nor',\n",
       " 'not',\n",
       " 'only',\n",
       " 'own',\n",
       " 'same',\n",
       " 'so',\n",
       " 'than',\n",
       " 'too',\n",
       " 'very',\n",
       " 's',\n",
       " 't',\n",
       " 'can',\n",
       " 'will',\n",
       " 'just',\n",
       " 'don',\n",
       " \"don't\",\n",
       " 'should',\n",
       " \"should've\",\n",
       " 'now',\n",
       " 'd',\n",
       " 'll',\n",
       " 'm',\n",
       " 'o',\n",
       " 're',\n",
       " 've',\n",
       " 'y',\n",
       " 'ain',\n",
       " 'aren',\n",
       " \"aren't\",\n",
       " 'couldn',\n",
       " \"couldn't\",\n",
       " 'didn',\n",
       " \"didn't\",\n",
       " 'doesn',\n",
       " \"doesn't\",\n",
       " 'hadn',\n",
       " \"hadn't\",\n",
       " 'hasn',\n",
       " \"hasn't\",\n",
       " 'haven',\n",
       " \"haven't\",\n",
       " 'isn',\n",
       " \"isn't\",\n",
       " 'ma',\n",
       " 'mightn',\n",
       " \"mightn't\",\n",
       " 'mustn',\n",
       " \"mustn't\",\n",
       " 'needn',\n",
       " \"needn't\",\n",
       " 'shan',\n",
       " \"shan't\",\n",
       " 'shouldn',\n",
       " \"shouldn't\",\n",
       " 'wasn',\n",
       " \"wasn't\",\n",
       " 'weren',\n",
       " \"weren't\",\n",
       " 'won',\n",
       " \"won't\",\n",
       " 'wouldn',\n",
       " \"wouldn't\"]"
      ]
     },
     "execution_count": 390,
     "metadata": {},
     "output_type": "execute_result"
    }
   ],
   "source": [
    "stopwords.words('english')"
   ]
  },
  {
   "cell_type": "code",
   "execution_count": 392,
   "id": "1c61eda6-ecdd-4e62-a1ad-f5bfd466a3eb",
   "metadata": {},
   "outputs": [
    {
     "data": {
      "text/plain": [
       "['au',\n",
       " 'aux',\n",
       " 'avec',\n",
       " 'ce',\n",
       " 'ces',\n",
       " 'dans',\n",
       " 'de',\n",
       " 'des',\n",
       " 'du',\n",
       " 'elle',\n",
       " 'en',\n",
       " 'et',\n",
       " 'eux',\n",
       " 'il',\n",
       " 'ils',\n",
       " 'je',\n",
       " 'la',\n",
       " 'le',\n",
       " 'les',\n",
       " 'leur',\n",
       " 'lui',\n",
       " 'ma',\n",
       " 'mais',\n",
       " 'me',\n",
       " 'même',\n",
       " 'mes',\n",
       " 'moi',\n",
       " 'mon',\n",
       " 'ne',\n",
       " 'nos',\n",
       " 'notre',\n",
       " 'nous',\n",
       " 'on',\n",
       " 'ou',\n",
       " 'par',\n",
       " 'pas',\n",
       " 'pour',\n",
       " 'qu',\n",
       " 'que',\n",
       " 'qui',\n",
       " 'sa',\n",
       " 'se',\n",
       " 'ses',\n",
       " 'son',\n",
       " 'sur',\n",
       " 'ta',\n",
       " 'te',\n",
       " 'tes',\n",
       " 'toi',\n",
       " 'ton',\n",
       " 'tu',\n",
       " 'un',\n",
       " 'une',\n",
       " 'vos',\n",
       " 'votre',\n",
       " 'vous',\n",
       " 'c',\n",
       " 'd',\n",
       " 'j',\n",
       " 'l',\n",
       " 'à',\n",
       " 'm',\n",
       " 'n',\n",
       " 's',\n",
       " 't',\n",
       " 'y',\n",
       " 'été',\n",
       " 'étée',\n",
       " 'étées',\n",
       " 'étés',\n",
       " 'étant',\n",
       " 'étante',\n",
       " 'étants',\n",
       " 'étantes',\n",
       " 'suis',\n",
       " 'es',\n",
       " 'est',\n",
       " 'sommes',\n",
       " 'êtes',\n",
       " 'sont',\n",
       " 'serai',\n",
       " 'seras',\n",
       " 'sera',\n",
       " 'serons',\n",
       " 'serez',\n",
       " 'seront',\n",
       " 'serais',\n",
       " 'serait',\n",
       " 'serions',\n",
       " 'seriez',\n",
       " 'seraient',\n",
       " 'étais',\n",
       " 'était',\n",
       " 'étions',\n",
       " 'étiez',\n",
       " 'étaient',\n",
       " 'fus',\n",
       " 'fut',\n",
       " 'fûmes',\n",
       " 'fûtes',\n",
       " 'furent',\n",
       " 'sois',\n",
       " 'soit',\n",
       " 'soyons',\n",
       " 'soyez',\n",
       " 'soient',\n",
       " 'fusse',\n",
       " 'fusses',\n",
       " 'fût',\n",
       " 'fussions',\n",
       " 'fussiez',\n",
       " 'fussent',\n",
       " 'ayant',\n",
       " 'ayante',\n",
       " 'ayantes',\n",
       " 'ayants',\n",
       " 'eu',\n",
       " 'eue',\n",
       " 'eues',\n",
       " 'eus',\n",
       " 'ai',\n",
       " 'as',\n",
       " 'avons',\n",
       " 'avez',\n",
       " 'ont',\n",
       " 'aurai',\n",
       " 'auras',\n",
       " 'aura',\n",
       " 'aurons',\n",
       " 'aurez',\n",
       " 'auront',\n",
       " 'aurais',\n",
       " 'aurait',\n",
       " 'aurions',\n",
       " 'auriez',\n",
       " 'auraient',\n",
       " 'avais',\n",
       " 'avait',\n",
       " 'avions',\n",
       " 'aviez',\n",
       " 'avaient',\n",
       " 'eut',\n",
       " 'eûmes',\n",
       " 'eûtes',\n",
       " 'eurent',\n",
       " 'aie',\n",
       " 'aies',\n",
       " 'ait',\n",
       " 'ayons',\n",
       " 'ayez',\n",
       " 'aient',\n",
       " 'eusse',\n",
       " 'eusses',\n",
       " 'eût',\n",
       " 'eussions',\n",
       " 'eussiez',\n",
       " 'eussent']"
      ]
     },
     "execution_count": 392,
     "metadata": {},
     "output_type": "execute_result"
    }
   ],
   "source": [
    "stopwords.words('french')"
   ]
  },
  {
   "cell_type": "code",
   "execution_count": 398,
   "id": "908e8ecf-1eaf-4306-aab5-7fc71bb6a26e",
   "metadata": {},
   "outputs": [
    {
     "data": {
      "text/plain": [
       "array([[0., 0., 0., 0., 1.],\n",
       "       [0., 1., 0., 0., 0.],\n",
       "       [0., 0., 1., 0., 0.],\n",
       "       [1., 0., 0., 0., 0.],\n",
       "       [0., 0., 0., 1., 0.]])"
      ]
     },
     "execution_count": 398,
     "metadata": {},
     "output_type": "execute_result"
    }
   ],
   "source": [
    "from sklearn.preprocessing import LabelEncoder\n",
    "from sklearn.preprocessing import OneHotEncoder\n",
    "\n",
    "voc = ['the','food','good','bad','ok']\n",
    "label_obj = LabelEncoder()\n",
    "label_encoded= label_obj.fit_transform(voc)\n",
    "\n",
    "obj1 = OneHotEncoder(sparse_output=False)\n",
    "label_encoded = label_encoded.reshape(len(label_encoded),1)\n",
    "obj1.fit_transform(label_encoded)"
   ]
  },
  {
   "cell_type": "code",
   "execution_count": 400,
   "id": "ef28dbcd-ca97-4019-b08b-e1b79bc08d3f",
   "metadata": {},
   "outputs": [
    {
     "data": {
      "text/plain": [
       "<zip at 0x1fc17f5e7c0>"
      ]
     },
     "execution_count": 400,
     "metadata": {},
     "output_type": "execute_result"
    }
   ],
   "source": [
    "from nltk.util import ngrams\n",
    "from nltk.tokenize import word_tokenize\n",
    "s = \"the food is good\"\n",
    "words = word_tokenize(s)\n",
    "ngrams(words,1)"
   ]
  },
  {
   "cell_type": "code",
   "execution_count": 402,
   "id": "5f1a73a5-2219-4815-abb9-0bb6cc5659d0",
   "metadata": {},
   "outputs": [
    {
     "data": {
      "text/plain": [
       "[('the',), ('food',), ('is',), ('good',)]"
      ]
     },
     "execution_count": 402,
     "metadata": {},
     "output_type": "execute_result"
    }
   ],
   "source": [
    "list(ngrams(words,1))"
   ]
  },
  {
   "cell_type": "code",
   "execution_count": 404,
   "id": "905dd9c2-f4d8-4fa1-b466-9adb9cd1c65b",
   "metadata": {},
   "outputs": [
    {
     "name": "stdout",
     "output_type": "stream",
     "text": [
      "[('the',), ('food',), ('is',), ('good',)]\n",
      "[('the', 'food'), ('food', 'is'), ('is', 'good')]\n",
      "[('the', 'food', 'is'), ('food', 'is', 'good')]\n",
      "[('the', 'food', 'is', 'good')]\n",
      "[]\n"
     ]
    }
   ],
   "source": [
    "words = word_tokenize(s)\n",
    "print(list(ngrams(words,1)))\n",
    "print(list(ngrams(words,2)))\n",
    "print(list(ngrams(words,3)))\n",
    "print(list(ngrams(words,4)))\n",
    "print(list(ngrams(words,5)))\n"
   ]
  },
  {
   "cell_type": "code",
   "execution_count": 408,
   "id": "52ce309d-13d4-461b-b09a-bcea419667f8",
   "metadata": {},
   "outputs": [
    {
     "data": {
      "text/plain": [
       "{0: 3, 1: 2, 2: 2, 3: 5, 4: 0, 5: 1, 6: 2, 7: 1, 8: 5, 9: 3}"
      ]
     },
     "execution_count": 408,
     "metadata": {},
     "output_type": "execute_result"
    }
   ],
   "source": [
    "# node centrality \n",
    "import networkx as nx\n",
    "G = nx.erdos_renyi_graph(10,0.3)\n",
    "degree_centrality={node: value for node, value in G.degree()}\n",
    "degree_centrality"
   ]
  },
  {
   "cell_type": "code",
   "execution_count": 412,
   "id": "76916516-1e36-468b-b6e8-ca62ba229615",
   "metadata": {},
   "outputs": [
    {
     "name": "stdout",
     "output_type": "stream",
     "text": [
      "Collecting node2vec\n",
      "  Downloading node2vec-0.5.0-py3-none-any.whl.metadata (849 bytes)\n",
      "Requirement already satisfied: gensim<5.0.0,>=4.3.0 in c:\\users\\theeba\\anaconda3\\lib\\site-packages (from node2vec) (4.3.2)\n",
      "Requirement already satisfied: joblib<2.0.0,>=1.4.0 in c:\\users\\theeba\\anaconda3\\lib\\site-packages (from node2vec) (1.4.2)\n",
      "Requirement already satisfied: networkx<4.0.0,>=3.1.0 in c:\\users\\theeba\\anaconda3\\lib\\site-packages (from node2vec) (3.2.1)\n",
      "Requirement already satisfied: numpy<2.0.0,>=1.24.0 in c:\\users\\theeba\\anaconda3\\lib\\site-packages (from node2vec) (1.26.4)\n",
      "Requirement already satisfied: tqdm<5.0.0,>=4.66.1 in c:\\users\\theeba\\anaconda3\\lib\\site-packages (from node2vec) (4.66.4)\n",
      "Requirement already satisfied: scipy>=1.7.0 in c:\\users\\theeba\\anaconda3\\lib\\site-packages (from gensim<5.0.0,>=4.3.0->node2vec) (1.15.1)\n",
      "Requirement already satisfied: smart-open>=1.8.1 in c:\\users\\theeba\\anaconda3\\lib\\site-packages (from gensim<5.0.0,>=4.3.0->node2vec) (5.2.1)\n",
      "Requirement already satisfied: colorama in c:\\users\\theeba\\anaconda3\\lib\\site-packages (from tqdm<5.0.0,>=4.66.1->node2vec) (0.4.6)\n",
      "Downloading node2vec-0.5.0-py3-none-any.whl (7.2 kB)\n",
      "Installing collected packages: node2vec\n",
      "Successfully installed node2vec-0.5.0\n"
     ]
    }
   ],
   "source": [
    "!pip install node2vec"
   ]
  },
  {
   "cell_type": "code",
   "execution_count": 416,
   "id": "191e43f5-b338-4483-89c1-3b7c699d588a",
   "metadata": {},
   "outputs": [
    {
     "ename": "ImportError",
     "evalue": "cannot import name 'triu' from 'scipy.linalg' (C:\\Users\\theeba\\anaconda3\\Lib\\site-packages\\scipy\\linalg\\__init__.py)",
     "output_type": "error",
     "traceback": [
      "\u001b[1;31m---------------------------------------------------------------------------\u001b[0m",
      "\u001b[1;31mImportError\u001b[0m                               Traceback (most recent call last)",
      "Cell \u001b[1;32mIn[416], line 1\u001b[0m\n\u001b[1;32m----> 1\u001b[0m \u001b[38;5;28;01mfrom\u001b[39;00m \u001b[38;5;21;01mnode2vec\u001b[39;00m \u001b[38;5;28;01mimport\u001b[39;00m Node2Vec\n\u001b[0;32m      2\u001b[0m node2vec \u001b[38;5;241m=\u001b[39m Node2Vec(G,dimension\u001b[38;5;241m=\u001b[39m\u001b[38;5;241m64\u001b[39m,walk_length\u001b[38;5;241m=\u001b[39m\u001b[38;5;241m30\u001b[39m,num_walk\u001b[38;5;241m=\u001b[39m\u001b[38;5;241m200\u001b[39m)\n\u001b[0;32m      3\u001b[0m model \u001b[38;5;241m=\u001b[39m node2vec\u001b[38;5;241m.\u001b[39mfit()\n",
      "File \u001b[1;32m~\\anaconda3\\Lib\\site-packages\\node2vec\\__init__.py:1\u001b[0m\n\u001b[1;32m----> 1\u001b[0m \u001b[38;5;28;01mfrom\u001b[39;00m \u001b[38;5;21;01m.\u001b[39;00m \u001b[38;5;28;01mimport\u001b[39;00m edges\n\u001b[0;32m      2\u001b[0m \u001b[38;5;28;01mfrom\u001b[39;00m \u001b[38;5;21;01m.\u001b[39;00m\u001b[38;5;21;01mnode2vec\u001b[39;00m \u001b[38;5;28;01mimport\u001b[39;00m Node2Vec\n\u001b[0;32m      3\u001b[0m \u001b[38;5;28;01mfrom\u001b[39;00m \u001b[38;5;21;01mimportlib\u001b[39;00m \u001b[38;5;28;01mimport\u001b[39;00m metadata\n",
      "File \u001b[1;32m~\\anaconda3\\Lib\\site-packages\\node2vec\\edges.py:7\u001b[0m\n\u001b[0;32m      5\u001b[0m \u001b[38;5;28;01mimport\u001b[39;00m \u001b[38;5;21;01mnumpy\u001b[39;00m \u001b[38;5;28;01mas\u001b[39;00m \u001b[38;5;21;01mnp\u001b[39;00m\n\u001b[0;32m      6\u001b[0m \u001b[38;5;28;01mfrom\u001b[39;00m \u001b[38;5;21;01m.\u001b[39;00m\u001b[38;5;21;01mcheck_gensim\u001b[39;00m \u001b[38;5;28;01mimport\u001b[39;00m is_dated_gensim_version\n\u001b[1;32m----> 7\u001b[0m \u001b[38;5;28;01mfrom\u001b[39;00m \u001b[38;5;21;01mgensim\u001b[39;00m\u001b[38;5;21;01m.\u001b[39;00m\u001b[38;5;21;01mmodels\u001b[39;00m \u001b[38;5;28;01mimport\u001b[39;00m KeyedVectors\n\u001b[0;32m      8\u001b[0m \u001b[38;5;28;01mfrom\u001b[39;00m \u001b[38;5;21;01mtqdm\u001b[39;00m \u001b[38;5;28;01mimport\u001b[39;00m tqdm\n\u001b[0;32m     10\u001b[0m \u001b[38;5;28;01mclass\u001b[39;00m \u001b[38;5;21;01mEdgeEmbedder\u001b[39;00m(ABC):\n",
      "File \u001b[1;32m~\\anaconda3\\Lib\\site-packages\\gensim\\__init__.py:11\u001b[0m\n\u001b[0;32m      7\u001b[0m __version__ \u001b[38;5;241m=\u001b[39m \u001b[38;5;124m'\u001b[39m\u001b[38;5;124m4.3.2\u001b[39m\u001b[38;5;124m'\u001b[39m\n\u001b[0;32m      9\u001b[0m \u001b[38;5;28;01mimport\u001b[39;00m \u001b[38;5;21;01mlogging\u001b[39;00m\n\u001b[1;32m---> 11\u001b[0m \u001b[38;5;28;01mfrom\u001b[39;00m \u001b[38;5;21;01mgensim\u001b[39;00m \u001b[38;5;28;01mimport\u001b[39;00m parsing, corpora, matutils, interfaces, models, similarities, utils  \u001b[38;5;66;03m# noqa:F401\u001b[39;00m\n\u001b[0;32m     14\u001b[0m logger \u001b[38;5;241m=\u001b[39m logging\u001b[38;5;241m.\u001b[39mgetLogger(\u001b[38;5;124m'\u001b[39m\u001b[38;5;124mgensim\u001b[39m\u001b[38;5;124m'\u001b[39m)\n\u001b[0;32m     15\u001b[0m \u001b[38;5;28;01mif\u001b[39;00m \u001b[38;5;129;01mnot\u001b[39;00m logger\u001b[38;5;241m.\u001b[39mhandlers:  \u001b[38;5;66;03m# To ensure reload() doesn't add another one\u001b[39;00m\n",
      "File \u001b[1;32m~\\anaconda3\\Lib\\site-packages\\gensim\\corpora\\__init__.py:6\u001b[0m\n\u001b[0;32m      1\u001b[0m \u001b[38;5;124;03m\"\"\"\u001b[39;00m\n\u001b[0;32m      2\u001b[0m \u001b[38;5;124;03mThis package contains implementations of various streaming corpus I/O format.\u001b[39;00m\n\u001b[0;32m      3\u001b[0m \u001b[38;5;124;03m\"\"\"\u001b[39;00m\n\u001b[0;32m      5\u001b[0m \u001b[38;5;66;03m# bring corpus classes directly into package namespace, to save some typing\u001b[39;00m\n\u001b[1;32m----> 6\u001b[0m \u001b[38;5;28;01mfrom\u001b[39;00m \u001b[38;5;21;01m.\u001b[39;00m\u001b[38;5;21;01mindexedcorpus\u001b[39;00m \u001b[38;5;28;01mimport\u001b[39;00m IndexedCorpus  \u001b[38;5;66;03m# noqa:F401 must appear before the other classes\u001b[39;00m\n\u001b[0;32m      8\u001b[0m \u001b[38;5;28;01mfrom\u001b[39;00m \u001b[38;5;21;01m.\u001b[39;00m\u001b[38;5;21;01mmmcorpus\u001b[39;00m \u001b[38;5;28;01mimport\u001b[39;00m MmCorpus  \u001b[38;5;66;03m# noqa:F401\u001b[39;00m\n\u001b[0;32m      9\u001b[0m \u001b[38;5;28;01mfrom\u001b[39;00m \u001b[38;5;21;01m.\u001b[39;00m\u001b[38;5;21;01mbleicorpus\u001b[39;00m \u001b[38;5;28;01mimport\u001b[39;00m BleiCorpus  \u001b[38;5;66;03m# noqa:F401\u001b[39;00m\n",
      "File \u001b[1;32m~\\anaconda3\\Lib\\site-packages\\gensim\\corpora\\indexedcorpus.py:14\u001b[0m\n\u001b[0;32m     10\u001b[0m \u001b[38;5;28;01mimport\u001b[39;00m \u001b[38;5;21;01mlogging\u001b[39;00m\n\u001b[0;32m     12\u001b[0m \u001b[38;5;28;01mimport\u001b[39;00m \u001b[38;5;21;01mnumpy\u001b[39;00m\n\u001b[1;32m---> 14\u001b[0m \u001b[38;5;28;01mfrom\u001b[39;00m \u001b[38;5;21;01mgensim\u001b[39;00m \u001b[38;5;28;01mimport\u001b[39;00m interfaces, utils\n\u001b[0;32m     16\u001b[0m logger \u001b[38;5;241m=\u001b[39m logging\u001b[38;5;241m.\u001b[39mgetLogger(\u001b[38;5;18m__name__\u001b[39m)\n\u001b[0;32m     19\u001b[0m \u001b[38;5;28;01mclass\u001b[39;00m \u001b[38;5;21;01mIndexedCorpus\u001b[39;00m(interfaces\u001b[38;5;241m.\u001b[39mCorpusABC):\n",
      "File \u001b[1;32m~\\anaconda3\\Lib\\site-packages\\gensim\\interfaces.py:19\u001b[0m\n\u001b[0;32m      7\u001b[0m \u001b[38;5;124;03m\"\"\"Basic interfaces used across the whole Gensim package.\u001b[39;00m\n\u001b[0;32m      8\u001b[0m \n\u001b[0;32m      9\u001b[0m \u001b[38;5;124;03mThese interfaces are used for building corpora, model transformation and similarity queries.\u001b[39;00m\n\u001b[1;32m   (...)\u001b[0m\n\u001b[0;32m     14\u001b[0m \n\u001b[0;32m     15\u001b[0m \u001b[38;5;124;03m\"\"\"\u001b[39;00m\n\u001b[0;32m     17\u001b[0m \u001b[38;5;28;01mimport\u001b[39;00m \u001b[38;5;21;01mlogging\u001b[39;00m\n\u001b[1;32m---> 19\u001b[0m \u001b[38;5;28;01mfrom\u001b[39;00m \u001b[38;5;21;01mgensim\u001b[39;00m \u001b[38;5;28;01mimport\u001b[39;00m utils, matutils\n\u001b[0;32m     22\u001b[0m logger \u001b[38;5;241m=\u001b[39m logging\u001b[38;5;241m.\u001b[39mgetLogger(\u001b[38;5;18m__name__\u001b[39m)\n\u001b[0;32m     25\u001b[0m \u001b[38;5;28;01mclass\u001b[39;00m \u001b[38;5;21;01mCorpusABC\u001b[39;00m(utils\u001b[38;5;241m.\u001b[39mSaveLoad):\n",
      "File \u001b[1;32m~\\anaconda3\\Lib\\site-packages\\gensim\\matutils.py:20\u001b[0m\n\u001b[0;32m     18\u001b[0m \u001b[38;5;28;01mimport\u001b[39;00m \u001b[38;5;21;01mscipy\u001b[39;00m\u001b[38;5;21;01m.\u001b[39;00m\u001b[38;5;21;01msparse\u001b[39;00m\n\u001b[0;32m     19\u001b[0m \u001b[38;5;28;01mfrom\u001b[39;00m \u001b[38;5;21;01mscipy\u001b[39;00m\u001b[38;5;21;01m.\u001b[39;00m\u001b[38;5;21;01mstats\u001b[39;00m \u001b[38;5;28;01mimport\u001b[39;00m entropy\n\u001b[1;32m---> 20\u001b[0m \u001b[38;5;28;01mfrom\u001b[39;00m \u001b[38;5;21;01mscipy\u001b[39;00m\u001b[38;5;21;01m.\u001b[39;00m\u001b[38;5;21;01mlinalg\u001b[39;00m \u001b[38;5;28;01mimport\u001b[39;00m get_blas_funcs, triu\n\u001b[0;32m     21\u001b[0m \u001b[38;5;28;01mfrom\u001b[39;00m \u001b[38;5;21;01mscipy\u001b[39;00m\u001b[38;5;21;01m.\u001b[39;00m\u001b[38;5;21;01mlinalg\u001b[39;00m\u001b[38;5;21;01m.\u001b[39;00m\u001b[38;5;21;01mlapack\u001b[39;00m \u001b[38;5;28;01mimport\u001b[39;00m get_lapack_funcs\n\u001b[0;32m     22\u001b[0m \u001b[38;5;28;01mfrom\u001b[39;00m \u001b[38;5;21;01mscipy\u001b[39;00m\u001b[38;5;21;01m.\u001b[39;00m\u001b[38;5;21;01mspecial\u001b[39;00m \u001b[38;5;28;01mimport\u001b[39;00m psi  \u001b[38;5;66;03m# gamma function utils\u001b[39;00m\n",
      "\u001b[1;31mImportError\u001b[0m: cannot import name 'triu' from 'scipy.linalg' (C:\\Users\\theeba\\anaconda3\\Lib\\site-packages\\scipy\\linalg\\__init__.py)"
     ]
    }
   ],
   "source": [
    "from node2vec import Node2Vec\n",
    "node2vec = Node2Vec(G,dimension=64,walk_length=30,num_walk=200)\n",
    "model = node2vec.fit()\n",
    "model"
   ]
  },
  {
   "cell_type": "code",
   "execution_count": null,
   "id": "6e78142d-f028-4303-a2a9-723b5dcef016",
   "metadata": {},
   "outputs": [],
   "source": [
    "vec(king)   [2.1,4.1,0.6]\n",
    "\n",
    "vec(queen)  [-1.9,2.6,1.5]\n",
    "\n",
    "vec(man)    [2.0,3.9,0.3]\n",
    "\n",
    "vec(woman)  [-1.8,2.6,1.1]\n",
    "# consine similarity\n",
    "\n",
    "Input   project  output\n",
    "[]       \n",
    "[]      [sum] --->[wt]      \n",
    "[]\n",
    "[] \n",
    "################CBOW\n",
    "\n",
    "\n",
    "Input    project   output\n",
    "[]                   []\n",
    "    --<-- [] --<--   []\n",
    "                     []\n",
    "########################## Skip-gram\n",
    "\n",
    "( the )----(train)----(was)---(late)-\n",
    "   (0)-----(1)------(2)-------(3)\n",
    "# sentence - graph"
   ]
  },
  {
   "cell_type": "code",
   "execution_count": null,
   "id": "ba371575-58cd-40ef-98b9-0b8a58aea40c",
   "metadata": {},
   "outputs": [],
   "source": [
    "PyTorch\n",
    "data ->tensors ->pretrained model ->fit the model ->evaluate ->deployment"
   ]
  },
  {
   "cell_type": "code",
   "execution_count": 420,
   "id": "54427d0e-db17-4414-824b-5ba4317e98e8",
   "metadata": {},
   "outputs": [
    {
     "data": {
      "text/plain": [
       "tensor([[1., 2.],\n",
       "        [3., 4.]])"
      ]
     },
     "execution_count": 420,
     "metadata": {},
     "output_type": "execute_result"
    }
   ],
   "source": [
    "import torch\n",
    "arr = [[1,2],[3,4]]\n",
    "torch.Tensor(arr)"
   ]
  },
  {
   "cell_type": "code",
   "execution_count": 422,
   "id": "95267cc3-ee66-4386-bef9-6ed76c85a6ff",
   "metadata": {},
   "outputs": [
    {
     "data": {
      "text/plain": [
       "tensor([[0.8613, 0.9899, 0.1231],\n",
       "        [0.2510, 0.6173, 0.9653],\n",
       "        [0.2314, 0.5224, 0.6649]])"
      ]
     },
     "execution_count": 422,
     "metadata": {},
     "output_type": "execute_result"
    }
   ],
   "source": [
    "torch.rand(3,3)"
   ]
  },
  {
   "cell_type": "code",
   "execution_count": 428,
   "id": "8329a8eb-7385-4b6d-b2c3-a75593229a23",
   "metadata": {},
   "outputs": [],
   "source": [
    "import torch\n",
    "#import torchvision\n",
    "import torch.nn as nn\n",
    "#import torchvision.transforms as transforms"
   ]
  },
  {
   "cell_type": "code",
   "execution_count": null,
   "id": "565fd39f-beec-4ea1-90a8-a86704d5a658",
   "metadata": {},
   "outputs": [],
   "source": [
    "#GPU "
   ]
  },
  {
   "cell_type": "code",
   "execution_count": 430,
   "id": "8756f76e-4ea7-443e-b131-6117a73a24a9",
   "metadata": {},
   "outputs": [
    {
     "data": {
      "text/plain": [
       "'2.5.1+cpu'"
      ]
     },
     "execution_count": 430,
     "metadata": {},
     "output_type": "execute_result"
    }
   ],
   "source": [
    "torch.__version__"
   ]
  },
  {
   "cell_type": "code",
   "execution_count": 432,
   "id": "48ab0006-c314-4eec-a8ba-c64e28f9c945",
   "metadata": {},
   "outputs": [
    {
     "data": {
      "text/plain": [
       "tensor([0.0000, 0.2000, 0.4000, 0.6000, 0.8000])"
      ]
     },
     "execution_count": 432,
     "metadata": {},
     "output_type": "execute_result"
    }
   ],
   "source": [
    "torch.arange(0,1,0.2)"
   ]
  },
  {
   "cell_type": "code",
   "execution_count": 434,
   "id": "226f7fcb-3ab8-4a38-8a3f-516d531e53d1",
   "metadata": {},
   "outputs": [
    {
     "data": {
      "text/plain": [
       "tensor([0.3000, 0.4400, 0.5800, 0.7200, 0.8600])"
      ]
     },
     "execution_count": 434,
     "metadata": {},
     "output_type": "execute_result"
    }
   ],
   "source": [
    "x = torch.arange(0,1,0.2)\n",
    "y = 0.7 * x + 0.3\n",
    "y"
   ]
  },
  {
   "cell_type": "code",
   "execution_count": 436,
   "id": "dcc155ae-2afe-48ca-aeaf-bf6bfc2e5efe",
   "metadata": {},
   "outputs": [
    {
     "data": {
      "text/plain": [
       "(4, 4, 26, 1)"
      ]
     },
     "execution_count": 436,
     "metadata": {},
     "output_type": "execute_result"
    }
   ],
   "source": [
    "train_split = int(0.8 * len(x)) # 80% data for traiining ; 20% test\n",
    "X_train,y_train = X[:train_split],y[:train_split]\n",
    "X_test,y_test = X[train_split:],y[train_split:]\n",
    "len(X_train),len(y_train),len(X_test),len(y_test)"
   ]
  },
  {
   "cell_type": "code",
   "execution_count": null,
   "id": "3d801349-a21e-46d9-8083-2d428a8f218e",
   "metadata": {},
   "outputs": [],
   "source": [
    "import networkx as nx\n",
    "import random\n",
    "import numpy as np\n",
    "from typing import List\n",
    "from tqdm import tqdm\n",
    "from gensim.models.word2vec import Word2Vec\n",
    "\n",
    "\n",
    "class DeepWalk:\n",
    "    def __init__(self, window_size: int, embedding_size: int, walk_length: int, walks_per_node: int):\n",
    "        \"\"\"\n",
    "        :param window_size: window size for the Word2Vec model\n",
    "        :param embedding_size: size of the final embedding\n",
    "        :param walk_length: length of the walk\n",
    "        :param walks_per_node: number of walks per node\n",
    "        \"\"\"\n",
    "        self.window_size = window_size\n",
    "        self.embedding_size = embedding_size\n",
    "        self.walk_length = walk_length\n",
    "        self.walk_per_node = walks_per_node\n",
    "\n",
    "    def random_walk(self, g: nx.Graph, start: str, use_probabilities: bool = False) -> List[str]:\n",
    "        \"\"\"\n",
    "        Generate a random walk starting on start\n",
    "        :param g: Graph\n",
    "        :param start: starting node for the random walk\n",
    "        :param use_probabilities: if True take into account the weights assigned to each edge to select the next candidate\n",
    "        :return:\n",
    "        \"\"\"\n",
    "        walk = [start]\n",
    "        for i in range(self.walk_length):\n",
    "            neighbours = g.neighbors(walk[i])\n",
    "            neighs = list(neighbours)\n",
    "            if use_probabilities:\n",
    "                probabilities = [g.get_edge_data(walk[i], neig)[\"weight\"] for neig in neighs]\n",
    "                sum_probabilities = sum(probabilities)\n",
    "                probabilities = list(map(lambda t: t / sum_probabilities, probabilities))\n",
    "                p = np.random.choice(neighs, p=probabilities)\n",
    "            else:\n",
    "                p = random.choice(neighs)\n",
    "            walk.append(p)\n",
    "        return walk\n",
    "\n",
    "    def get_walks(self, g: nx.Graph, use_probabilities: bool = False) -> List[List[str]]:\n",
    "        \"\"\"\n",
    "        Generate all the random walks\n",
    "        :param g: Graph\n",
    "        :param use_probabilities:\n",
    "        :return:\n",
    "        \"\"\"\n",
    "        random_walks = []\n",
    "        for _ in range(self.walk_per_node):\n",
    "            random_nodes = list(g.nodes)\n",
    "            random.shuffle(random_nodes)\n",
    "            for node in tqdm(random_nodes):\n",
    "                random_walks.append(self.random_walk(g=g, start=node, use_probabilities=use_probabilities))\n",
    "        return random_walks\n",
    "\n",
    "    def compute_embeddings(self, walks: List[List[str]]):\n",
    "        \"\"\"\n",
    "        Compute the node embeddings for the generated walks\n",
    "        :param walks: List of walks\n",
    "        :return:\n",
    "        \"\"\"\n",
    "        model = Word2Vec(sentences=walks, window=self.window_size, vector_size=self.embedding_size)\n",
    "        return model.wv"
   ]
  },
  {
   "cell_type": "code",
   "execution_count": null,
   "id": "36c2505b-9689-4559-8b5a-8e581c777a7f",
   "metadata": {},
   "outputs": [],
   "source": [
    "from torch_geometric.nn import Node2Vec\n",
    "import os.path as osp\n",
    "import torch\n",
    "from torch_geometric.datasets import Planetoid\n",
    "from tqdm.notebook import tqdm\n",
    "\n",
    "dataset = 'Cora'\n",
    "path = osp.join('.', 'data', dataset)\n",
    "dataset = Planetoid(path, dataset)  # dowload or load the Cora dataset\n",
    "data = dataset[0]\n",
    "device = 'cuda' if torch.cuda.is_available() else 'cpu'  # check if cuda is available to send the model and tensors to the GPU\n",
    "model = Node2Vec(data.edge_index, embedding_dim=128, walk_length=20,\n",
    "                 context_size=10, walks_per_node=10,\n",
    "                 num_negative_samples=1, p=1, q=1, sparse=True).to(device)\n",
    "\n",
    "loader = model.loader(batch_size=128, shuffle=True, num_workers=4)  # data loader to speed the train \n",
    "optimizer = torch.optim.SparseAdam(list(model.parameters()), lr=0.01)  # initzialize the optimizer \n",
    "\n",
    "\n",
    "def train():\n",
    "    model.train()  # put model in train model\n",
    "    total_loss = 0\n",
    "    for pos_rw, neg_rw in tqdm(loader):\n",
    "        optimizer.zero_grad()  # set the gradients to 0\n",
    "        loss = model.loss(pos_rw.to(device), neg_rw.to(device))  # compute the loss for the batch\n",
    "        loss.backward()\n",
    "        optimizer.step()  # optimize the parameters\n",
    "        total_loss += loss.item()\n",
    "    return total_loss / len(loader)\n",
    "\n",
    "\n",
    "for epoch in range(1, 100):\n",
    "    loss = train()\n",
    "    print(f'Epoch: {epoch:02d}, Loss: {loss:.4f}')\n",
    "\n",
    "all_vectors = \"\"\n",
    "for tensor in model(torch.arange(data.num_nodes, device=device)):\n",
    "    s = \"\\t\".join([str(value) for value in tensor.detach().cpu().numpy()])\n",
    "    all_vectors += s + \"\\n\"\n",
    "# save the vectors\n",
    "with open(\"vectors.txt\", \"w\") as f:\n",
    "    f.write(all_vectors)\n",
    "# save the labels\n",
    "with open(\"labels.txt\", \"w\") as f:\n",
    "    f.write(\"\\n\".join([str(label) for label in data.y.numpy()]))"
   ]
  },
  {
   "cell_type": "code",
   "execution_count": null,
   "id": "732ede15-f0db-410d-8400-48f512ee43b6",
   "metadata": {},
   "outputs": [],
   "source": [
    "#####  End of the GML ###"
   ]
  },
  {
   "cell_type": "code",
   "execution_count": null,
   "id": "e2c8f331-faf5-49a5-ba74-e81b891afadb",
   "metadata": {},
   "outputs": [],
   "source": [
    "## Activity Answer- discussed usedcars.csv - dataset\n",
    "##    "
   ]
  },
  {
   "cell_type": "code",
   "execution_count": null,
   "id": "82657b2e-9478-4072-972a-749b8201fac3",
   "metadata": {},
   "outputs": [],
   "source": [
    "load_data = pd.read_csv('used_cars_data.csv')\n",
    "load_data.shape\n"
   ]
  },
  {
   "cell_type": "code",
   "execution_count": null,
   "id": "490b1543-0ea2-4e94-abc5-d53886015465",
   "metadata": {},
   "outputs": [],
   "source": [
    "# Apply random sampling \n",
    "\n",
    "df = load_data.sample(n=35)\n",
    "df.shape"
   ]
  },
  {
   "cell_type": "code",
   "execution_count": null,
   "id": "863149fd-25e8-4b00-9458-fc7679697e27",
   "metadata": {},
   "outputs": [],
   "source": [
    "# Getinfo about sample data \n",
    "df.info()"
   ]
  },
  {
   "cell_type": "code",
   "execution_count": null,
   "id": "f6a77727-b66d-4318-8164-4b88ee8e8248",
   "metadata": {},
   "outputs": [],
   "source": [
    "# to get list of columns\n",
    "df.columns"
   ]
  },
  {
   "cell_type": "code",
   "execution_count": null,
   "id": "b4e94751-95fb-4e0c-8cd9-651719d83679",
   "metadata": {},
   "outputs": [],
   "source": [
    "# see 1st 5lines/rows \n",
    "df.head()"
   ]
  },
  {
   "cell_type": "code",
   "execution_count": null,
   "id": "40d5cdf1-74a6-4332-ae38-982a6f0b041a",
   "metadata": {},
   "outputs": [],
   "source": [
    "# drop unwanted columns\n",
    "df.drop(columns=['S.No.','Seats','Owner_Type','Power'],inplace=True)"
   ]
  },
  {
   "cell_type": "code",
   "execution_count": null,
   "id": "3ba3c311-250e-425c-9083-4c1cbcba992f",
   "metadata": {},
   "outputs": [],
   "source": [
    "df.shape"
   ]
  },
  {
   "cell_type": "code",
   "execution_count": null,
   "id": "366f579b-8be7-4ac7-8d7b-3374602d4a2a",
   "metadata": {},
   "outputs": [],
   "source": [
    "df.columns"
   ]
  },
  {
   "cell_type": "code",
   "execution_count": null,
   "id": "87192923-16ed-44d7-81bb-10344f716c01",
   "metadata": {},
   "outputs": [],
   "source": [
    "# check any duplicate items are exists\n",
    "df.duplicated().isnull()"
   ]
  },
  {
   "cell_type": "code",
   "execution_count": null,
   "id": "6e6c06c9-4d8b-4a1c-9907-82afe3c8e386",
   "metadata": {},
   "outputs": [],
   "source": [
    "df.duplicated().isnull().sum()"
   ]
  },
  {
   "cell_type": "code",
   "execution_count": null,
   "id": "5ae37e53-6e5b-47ce-be0f-06f59dd6c081",
   "metadata": {},
   "outputs": [],
   "source": [
    "# another way to check \n",
    "df.duplicated().any() # ->True - duplicate item is exists ; False - there is no duplicate item"
   ]
  },
  {
   "cell_type": "code",
   "execution_count": null,
   "id": "7877491a-abe1-43c8-ba24-4f2b6fa85b8d",
   "metadata": {},
   "outputs": [],
   "source": [
    "# check any empty values are exists\n",
    "df.isnull().sum()"
   ]
  },
  {
   "cell_type": "code",
   "execution_count": null,
   "id": "ac3a13b7-1b74-48c3-aa3b-cc23b50ab1b5",
   "metadata": {},
   "outputs": [],
   "source": [
    "df['New_Price']"
   ]
  },
  {
   "cell_type": "code",
   "execution_count": null,
   "id": "2a2a0548-8354-4fe8-9597-ed2535bff363",
   "metadata": {},
   "outputs": [],
   "source": [
    "df['Price']"
   ]
  },
  {
   "cell_type": "code",
   "execution_count": null,
   "id": "f285e884-0efd-41a8-a5cc-921653f676ec",
   "metadata": {},
   "outputs": [],
   "source": [
    "# replace NaN value\n",
    "df.fillna(value=df.isnull().sum()/len(df)*100,inplace=True)"
   ]
  },
  {
   "cell_type": "code",
   "execution_count": null,
   "id": "b63f3cb1-700a-45e9-8813-2e35367b2fa3",
   "metadata": {},
   "outputs": [],
   "source": [
    "# check any empty values are exists\n",
    "df.isnull().sum()"
   ]
  },
  {
   "cell_type": "code",
   "execution_count": null,
   "id": "6f67c080-30f8-4991-a608-1be9eb22582a",
   "metadata": {},
   "outputs": [],
   "source": [
    "# rename the column\n",
    "df.rename(columns={'Kilometers_Driven':'km','Transmission':'trans'},inplace=True)"
   ]
  },
  {
   "cell_type": "code",
   "execution_count": null,
   "id": "7146e313-33ab-4a9d-a32b-3801ab7693d3",
   "metadata": {},
   "outputs": [],
   "source": [
    "df.columns"
   ]
  },
  {
   "cell_type": "code",
   "execution_count": null,
   "id": "5b1f53ef-4a4a-458e-a1ba-553fe43ab2f6",
   "metadata": {},
   "outputs": [],
   "source": [
    "plt.bar(df['Fuel_Type'],df['km'])"
   ]
  },
  {
   "cell_type": "code",
   "execution_count": null,
   "id": "12108569-ec52-4e5d-ae6b-cf6f47a1604e",
   "metadata": {},
   "outputs": [],
   "source": [
    "plt.bar(df['Fuel_Type'],df['km'],width=0.2)"
   ]
  },
  {
   "cell_type": "code",
   "execution_count": null,
   "id": "cfc8be58-9cde-42c8-a857-01b65602306f",
   "metadata": {},
   "outputs": [],
   "source": [
    "mean=np.mean(df['km'])\n",
    "std_dev = np.std(df['km'])\n",
    "z_scores = (df['km'] - mean)/std_dev\n",
    "#print(z_scores)\n",
    "outliers = df['km'][np.abs(z_scores) > 61]\n",
    "outliers"
   ]
  },
  {
   "cell_type": "code",
   "execution_count": null,
   "id": "2f930e50-7a36-450b-a924-7f69bb63b2ad",
   "metadata": {},
   "outputs": [],
   "source": [
    "sns.boxplot(data=df['km'])"
   ]
  },
  {
   "cell_type": "code",
   "execution_count": null,
   "id": "a5a197bd-8794-471e-99d5-c381beab238c",
   "metadata": {},
   "outputs": [],
   "source": [
    "df.describe()"
   ]
  },
  {
   "cell_type": "code",
   "execution_count": null,
   "id": "ffd9599b-1545-4e5b-8871-bf891433c5c9",
   "metadata": {},
   "outputs": [],
   "source": [
    "d = np.random.normal(loc=50,scale=15,size=100)"
   ]
  },
  {
   "cell_type": "code",
   "execution_count": null,
   "id": "64512997-5ced-4b59-903c-a9c62eae9744",
   "metadata": {},
   "outputs": [],
   "source": [
    "d.shape"
   ]
  },
  {
   "cell_type": "code",
   "execution_count": null,
   "id": "24475466-d17d-43cb-b539-de2a7a8a4be6",
   "metadata": {},
   "outputs": [],
   "source": [
    "sns.boxplot(data=d)"
   ]
  },
  {
   "cell_type": "code",
   "execution_count": null,
   "id": "e7340a8c-e28c-4403-89fb-187371737284",
   "metadata": {},
   "outputs": [],
   "source": [
    "d = np.array([50,60,70,80,90])\n",
    "mean = np.mean(d)\n",
    "std_dev = np.std(d)\n",
    "z_score = (d - mean) / std_dev\n",
    "print(z_score)"
   ]
  },
  {
   "cell_type": "code",
   "execution_count": null,
   "id": "33e1254d-cccc-4d75-a6ad-8669e6177ead",
   "metadata": {},
   "outputs": [],
   "source": [
    "df['km'],df['Mileage']"
   ]
  },
  {
   "cell_type": "code",
   "execution_count": null,
   "id": "6f65b7ba-6a73-4a1d-8321-b057fd9cf520",
   "metadata": {},
   "outputs": [],
   "source": [
    "plt.plot(df['Mileage'],df['km'],marker='o')"
   ]
  },
  {
   "cell_type": "code",
   "execution_count": null,
   "id": "960e50ea-0691-4c84-bd48-d0ff46e7197a",
   "metadata": {},
   "outputs": [],
   "source": [
    "plt.scatter(df['Mileage'],df['km'])"
   ]
  },
  {
   "cell_type": "raw",
   "id": "9828798b-c1af-4a59-b863-ce81187d24aa",
   "metadata": {},
   "source": [
    "############################ Done ############"
   ]
  }
 ],
 "metadata": {
  "kernelspec": {
   "display_name": "Python 3 (ipykernel)",
   "language": "python",
   "name": "python3"
  },
  "language_info": {
   "codemirror_mode": {
    "name": "ipython",
    "version": 3
   },
   "file_extension": ".py",
   "mimetype": "text/x-python",
   "name": "python",
   "nbconvert_exporter": "python",
   "pygments_lexer": "ipython3",
   "version": "3.12.3"
  }
 },
 "nbformat": 4,
 "nbformat_minor": 5
}
